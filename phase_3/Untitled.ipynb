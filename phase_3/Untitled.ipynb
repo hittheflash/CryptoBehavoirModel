{
 "cells": [
  {
   "cell_type": "code",
   "execution_count": 1,
   "metadata": {
    "scrolled": true
   },
   "outputs": [
    {
     "name": "stdout",
     "output_type": "stream",
     "text": [
      "Collecting wget\n",
      "  Using cached wget-3.2-py3-none-any.whl\n",
      "Installing collected packages: wget\n",
      "Successfully installed wget-3.2\n",
      "Collecting python-telegram-bot\n",
      "  Downloading python_telegram_bot-13.7-py3-none-any.whl (490 kB)\n",
      "Requirement already satisfied: tornado>=6.1 in c:\\users\\jaimepanchana\\anaconda3\\lib\\site-packages (from python-telegram-bot) (6.1)\n",
      "Collecting cachetools==4.2.2\n",
      "  Downloading cachetools-4.2.2-py3-none-any.whl (11 kB)\n",
      "Requirement already satisfied: certifi in c:\\users\\jaimepanchana\\anaconda3\\lib\\site-packages (from python-telegram-bot) (2020.12.5)\n",
      "Requirement already satisfied: pytz>=2018.6 in c:\\users\\jaimepanchana\\anaconda3\\lib\\site-packages (from python-telegram-bot) (2021.1)\n",
      "Collecting APScheduler==3.6.3\n",
      "  Using cached APScheduler-3.6.3-py2.py3-none-any.whl (58 kB)\n",
      "Requirement already satisfied: six>=1.4.0 in c:\\users\\jaimepanchana\\anaconda3\\lib\\site-packages (from APScheduler==3.6.3->python-telegram-bot) (1.15.0)\n",
      "Collecting tzlocal>=1.2\n",
      "  Downloading tzlocal-3.0-py3-none-any.whl (16 kB)\n",
      "Requirement already satisfied: setuptools>=0.7 in c:\\users\\jaimepanchana\\anaconda3\\lib\\site-packages (from APScheduler==3.6.3->python-telegram-bot) (52.0.0.post20210125)\n",
      "Collecting backports.zoneinfo\n",
      "  Downloading backports.zoneinfo-0.2.1-cp38-cp38-win_amd64.whl (38 kB)\n",
      "Collecting tzdata\n",
      "  Downloading tzdata-2021.2.post0-py2.py3-none-any.whl (339 kB)\n",
      "Installing collected packages: tzdata, backports.zoneinfo, tzlocal, cachetools, APScheduler, python-telegram-bot\n",
      "Successfully installed APScheduler-3.6.3 backports.zoneinfo-0.2.1 cachetools-4.2.2 python-telegram-bot-13.7 tzdata-2021.2.post0 tzlocal-3.0\n",
      "Collecting python-binance\n",
      "  Downloading python_binance-1.0.15-py2.py3-none-any.whl (63 kB)\n",
      "Collecting websockets==9.1\n",
      "  Downloading websockets-9.1-cp38-cp38-win_amd64.whl (90 kB)\n",
      "Collecting dateparser\n",
      "  Using cached dateparser-1.0.0-py2.py3-none-any.whl (279 kB)\n",
      "Requirement already satisfied: requests in c:\\users\\jaimepanchana\\anaconda3\\lib\\site-packages (from python-binance) (2.25.1)\n",
      "Requirement already satisfied: ujson in c:\\users\\jaimepanchana\\anaconda3\\lib\\site-packages (from python-binance) (4.0.2)\n",
      "Requirement already satisfied: six in c:\\users\\jaimepanchana\\anaconda3\\lib\\site-packages (from python-binance) (1.15.0)\n",
      "Collecting aiohttp\n",
      "  Using cached aiohttp-3.7.4.post0-cp38-cp38-win_amd64.whl (635 kB)\n",
      "Collecting yarl<2.0,>=1.0\n",
      "  Using cached yarl-1.6.3-cp38-cp38-win_amd64.whl (125 kB)\n",
      "Collecting multidict<7.0,>=4.5\n",
      "  Using cached multidict-5.1.0-cp38-cp38-win_amd64.whl (48 kB)\n",
      "Requirement already satisfied: chardet<5.0,>=2.0 in c:\\users\\jaimepanchana\\anaconda3\\lib\\site-packages (from aiohttp->python-binance) (4.0.0)\n",
      "Collecting async-timeout<4.0,>=3.0\n",
      "  Using cached async_timeout-3.0.1-py3-none-any.whl (8.2 kB)\n",
      "Requirement already satisfied: typing-extensions>=3.6.5 in c:\\users\\jaimepanchana\\anaconda3\\lib\\site-packages (from aiohttp->python-binance) (3.7.4.3)\n",
      "Requirement already satisfied: attrs>=17.3.0 in c:\\users\\jaimepanchana\\anaconda3\\lib\\site-packages (from aiohttp->python-binance) (20.3.0)\n",
      "Requirement already satisfied: idna>=2.0 in c:\\users\\jaimepanchana\\anaconda3\\lib\\site-packages (from yarl<2.0,>=1.0->aiohttp->python-binance) (2.10)\n",
      "Requirement already satisfied: tzlocal in c:\\users\\jaimepanchana\\anaconda3\\lib\\site-packages (from dateparser->python-binance) (3.0)\n",
      "Requirement already satisfied: python-dateutil in c:\\users\\jaimepanchana\\anaconda3\\lib\\site-packages (from dateparser->python-binance) (2.8.1)\n",
      "Requirement already satisfied: regex!=2019.02.19 in c:\\users\\jaimepanchana\\anaconda3\\lib\\site-packages (from dateparser->python-binance) (2021.4.4)\n",
      "Requirement already satisfied: pytz in c:\\users\\jaimepanchana\\anaconda3\\lib\\site-packages (from dateparser->python-binance) (2021.1)\n",
      "Requirement already satisfied: urllib3<1.27,>=1.21.1 in c:\\users\\jaimepanchana\\anaconda3\\lib\\site-packages (from requests->python-binance) (1.26.4)\n",
      "Requirement already satisfied: certifi>=2017.4.17 in c:\\users\\jaimepanchana\\anaconda3\\lib\\site-packages (from requests->python-binance) (2020.12.5)\n",
      "Requirement already satisfied: tzdata in c:\\users\\jaimepanchana\\anaconda3\\lib\\site-packages (from tzlocal->dateparser->python-binance) (2021.2.post0)\n",
      "Requirement already satisfied: backports.zoneinfo in c:\\users\\jaimepanchana\\anaconda3\\lib\\site-packages (from tzlocal->dateparser->python-binance) (0.2.1)\n",
      "Installing collected packages: multidict, yarl, async-timeout, websockets, dateparser, aiohttp, python-binance\n",
      "Successfully installed aiohttp-3.7.4.post0 async-timeout-3.0.1 dateparser-1.0.0 multidict-5.1.0 python-binance-1.0.15 websockets-9.1 yarl-1.6.3\n",
      "Collecting dataframe-image\n",
      "  Using cached dataframe_image-0.1.1-py3-none-any.whl (32 kB)\n",
      "Requirement already satisfied: nbconvert>=5 in c:\\users\\jaimepanchana\\anaconda3\\lib\\site-packages (from dataframe-image) (6.0.7)\n",
      "Requirement already satisfied: aiohttp in c:\\users\\jaimepanchana\\anaconda3\\lib\\site-packages (from dataframe-image) (3.7.4.post0)\n",
      "Requirement already satisfied: matplotlib>=3.1 in c:\\users\\jaimepanchana\\anaconda3\\lib\\site-packages (from dataframe-image) (3.3.4)\n",
      "Requirement already satisfied: beautifulsoup4 in c:\\users\\jaimepanchana\\anaconda3\\lib\\site-packages (from dataframe-image) (4.9.3)\n",
      "Requirement already satisfied: pandas>=0.24 in c:\\users\\jaimepanchana\\anaconda3\\lib\\site-packages (from dataframe-image) (1.2.4)\n",
      "Requirement already satisfied: requests in c:\\users\\jaimepanchana\\anaconda3\\lib\\site-packages (from dataframe-image) (2.25.1)\n",
      "Requirement already satisfied: pillow>=6.2.0 in c:\\users\\jaimepanchana\\anaconda3\\lib\\site-packages (from matplotlib>=3.1->dataframe-image) (8.2.0)\n",
      "Requirement already satisfied: numpy>=1.15 in c:\\users\\jaimepanchana\\appdata\\roaming\\python\\python38\\site-packages (from matplotlib>=3.1->dataframe-image) (1.21.2)\n",
      "Requirement already satisfied: cycler>=0.10 in c:\\users\\jaimepanchana\\appdata\\roaming\\python\\python38\\site-packages (from matplotlib>=3.1->dataframe-image) (0.10.0)\n",
      "Requirement already satisfied: python-dateutil>=2.1 in c:\\users\\jaimepanchana\\anaconda3\\lib\\site-packages (from matplotlib>=3.1->dataframe-image) (2.8.1)\n",
      "Requirement already satisfied: kiwisolver>=1.0.1 in c:\\users\\jaimepanchana\\appdata\\roaming\\python\\python38\\site-packages (from matplotlib>=3.1->dataframe-image) (1.3.2)\n",
      "Requirement already satisfied: pyparsing!=2.0.4,!=2.1.2,!=2.1.6,>=2.0.3 in c:\\users\\jaimepanchana\\anaconda3\\lib\\site-packages (from matplotlib>=3.1->dataframe-image) (2.4.7)\n",
      "Requirement already satisfied: six in c:\\users\\jaimepanchana\\anaconda3\\lib\\site-packages (from cycler>=0.10->matplotlib>=3.1->dataframe-image) (1.15.0)\n",
      "Requirement already satisfied: nbclient<0.6.0,>=0.5.0 in c:\\users\\jaimepanchana\\anaconda3\\lib\\site-packages (from nbconvert>=5->dataframe-image) (0.5.3)\n",
      "Requirement already satisfied: jupyterlab-pygments in c:\\users\\jaimepanchana\\anaconda3\\lib\\site-packages (from nbconvert>=5->dataframe-image) (0.1.2)\n",
      "Requirement already satisfied: jupyter-core in c:\\users\\jaimepanchana\\anaconda3\\lib\\site-packages (from nbconvert>=5->dataframe-image) (4.7.1)\n",
      "Requirement already satisfied: entrypoints>=0.2.2 in c:\\users\\jaimepanchana\\anaconda3\\lib\\site-packages (from nbconvert>=5->dataframe-image) (0.3)\n",
      "Requirement already satisfied: bleach in c:\\users\\jaimepanchana\\anaconda3\\lib\\site-packages (from nbconvert>=5->dataframe-image) (3.3.0)\n",
      "Requirement already satisfied: traitlets>=4.2 in c:\\users\\jaimepanchana\\anaconda3\\lib\\site-packages (from nbconvert>=5->dataframe-image) (5.0.5)\n",
      "Requirement already satisfied: defusedxml in c:\\users\\jaimepanchana\\anaconda3\\lib\\site-packages (from nbconvert>=5->dataframe-image) (0.7.1)\n",
      "Requirement already satisfied: mistune<2,>=0.8.1 in c:\\users\\jaimepanchana\\anaconda3\\lib\\site-packages (from nbconvert>=5->dataframe-image) (0.8.4)\n",
      "Requirement already satisfied: pandocfilters>=1.4.1 in c:\\users\\jaimepanchana\\anaconda3\\lib\\site-packages (from nbconvert>=5->dataframe-image) (1.4.3)\n",
      "Requirement already satisfied: pygments>=2.4.1 in c:\\users\\jaimepanchana\\anaconda3\\lib\\site-packages (from nbconvert>=5->dataframe-image) (2.8.1)\n",
      "Requirement already satisfied: jinja2>=2.4 in c:\\users\\jaimepanchana\\anaconda3\\lib\\site-packages (from nbconvert>=5->dataframe-image) (2.11.3)\n",
      "Requirement already satisfied: nbformat>=4.4 in c:\\users\\jaimepanchana\\anaconda3\\lib\\site-packages (from nbconvert>=5->dataframe-image) (5.1.3)\n",
      "Requirement already satisfied: testpath in c:\\users\\jaimepanchana\\anaconda3\\lib\\site-packages (from nbconvert>=5->dataframe-image) (0.4.4)\n",
      "Requirement already satisfied: MarkupSafe>=0.23 in c:\\users\\jaimepanchana\\anaconda3\\lib\\site-packages (from jinja2>=2.4->nbconvert>=5->dataframe-image) (1.1.1)\n",
      "Requirement already satisfied: jupyter-client>=6.1.5 in c:\\users\\jaimepanchana\\anaconda3\\lib\\site-packages (from nbclient<0.6.0,>=0.5.0->nbconvert>=5->dataframe-image) (6.1.12)\n",
      "Requirement already satisfied: nest-asyncio in c:\\users\\jaimepanchana\\anaconda3\\lib\\site-packages (from nbclient<0.6.0,>=0.5.0->nbconvert>=5->dataframe-image) (1.5.1)\n",
      "Requirement already satisfied: async-generator in c:\\users\\jaimepanchana\\anaconda3\\lib\\site-packages (from nbclient<0.6.0,>=0.5.0->nbconvert>=5->dataframe-image) (1.10)\n",
      "Requirement already satisfied: tornado>=4.1 in c:\\users\\jaimepanchana\\anaconda3\\lib\\site-packages (from jupyter-client>=6.1.5->nbclient<0.6.0,>=0.5.0->nbconvert>=5->dataframe-image) (6.1)\n",
      "Requirement already satisfied: pyzmq>=13 in c:\\users\\jaimepanchana\\anaconda3\\lib\\site-packages (from jupyter-client>=6.1.5->nbclient<0.6.0,>=0.5.0->nbconvert>=5->dataframe-image) (20.0.0)\n",
      "Requirement already satisfied: pywin32>=1.0 in c:\\users\\jaimepanchana\\anaconda3\\lib\\site-packages (from jupyter-core->nbconvert>=5->dataframe-image) (227)\n",
      "Requirement already satisfied: ipython-genutils in c:\\users\\jaimepanchana\\anaconda3\\lib\\site-packages (from nbformat>=4.4->nbconvert>=5->dataframe-image) (0.2.0)\n",
      "Requirement already satisfied: jsonschema!=2.5.0,>=2.4 in c:\\users\\jaimepanchana\\anaconda3\\lib\\site-packages (from nbformat>=4.4->nbconvert>=5->dataframe-image) (3.2.0)\n",
      "Requirement already satisfied: setuptools in c:\\users\\jaimepanchana\\anaconda3\\lib\\site-packages (from jsonschema!=2.5.0,>=2.4->nbformat>=4.4->nbconvert>=5->dataframe-image) (52.0.0.post20210125)\n",
      "Requirement already satisfied: attrs>=17.4.0 in c:\\users\\jaimepanchana\\anaconda3\\lib\\site-packages (from jsonschema!=2.5.0,>=2.4->nbformat>=4.4->nbconvert>=5->dataframe-image) (20.3.0)\n",
      "Requirement already satisfied: pyrsistent>=0.14.0 in c:\\users\\jaimepanchana\\anaconda3\\lib\\site-packages (from jsonschema!=2.5.0,>=2.4->nbformat>=4.4->nbconvert>=5->dataframe-image) (0.17.3)\n",
      "Requirement already satisfied: pytz>=2017.3 in c:\\users\\jaimepanchana\\anaconda3\\lib\\site-packages (from pandas>=0.24->dataframe-image) (2021.1)\n",
      "Requirement already satisfied: chardet<5.0,>=2.0 in c:\\users\\jaimepanchana\\anaconda3\\lib\\site-packages (from aiohttp->dataframe-image) (4.0.0)\n",
      "Requirement already satisfied: typing-extensions>=3.6.5 in c:\\users\\jaimepanchana\\anaconda3\\lib\\site-packages (from aiohttp->dataframe-image) (3.7.4.3)\n",
      "Requirement already satisfied: async-timeout<4.0,>=3.0 in c:\\users\\jaimepanchana\\anaconda3\\lib\\site-packages (from aiohttp->dataframe-image) (3.0.1)\n",
      "Requirement already satisfied: multidict<7.0,>=4.5 in c:\\users\\jaimepanchana\\anaconda3\\lib\\site-packages (from aiohttp->dataframe-image) (5.1.0)\n",
      "Requirement already satisfied: yarl<2.0,>=1.0 in c:\\users\\jaimepanchana\\anaconda3\\lib\\site-packages (from aiohttp->dataframe-image) (1.6.3)\n",
      "Requirement already satisfied: idna>=2.0 in c:\\users\\jaimepanchana\\anaconda3\\lib\\site-packages (from yarl<2.0,>=1.0->aiohttp->dataframe-image) (2.10)\n",
      "Requirement already satisfied: soupsieve>1.2 in c:\\users\\jaimepanchana\\anaconda3\\lib\\site-packages (from beautifulsoup4->dataframe-image) (2.2.1)\n",
      "Requirement already satisfied: packaging in c:\\users\\jaimepanchana\\anaconda3\\lib\\site-packages (from bleach->nbconvert>=5->dataframe-image) (20.9)\n",
      "Requirement already satisfied: webencodings in c:\\users\\jaimepanchana\\anaconda3\\lib\\site-packages (from bleach->nbconvert>=5->dataframe-image) (0.5.1)\n",
      "Requirement already satisfied: certifi>=2017.4.17 in c:\\users\\jaimepanchana\\anaconda3\\lib\\site-packages (from requests->dataframe-image) (2020.12.5)\n",
      "Requirement already satisfied: urllib3<1.27,>=1.21.1 in c:\\users\\jaimepanchana\\anaconda3\\lib\\site-packages (from requests->dataframe-image) (1.26.4)\n",
      "Installing collected packages: dataframe-image\n",
      "Successfully installed dataframe-image-0.1.1\n"
     ]
    }
   ],
   "source": [
    "!pip install wget\n",
    "!pip install python-telegram-bot\n",
    "!pip install python-binance\n",
    "!pip install dataframe-image"
   ]
  },
  {
   "cell_type": "code",
   "execution_count": 2,
   "metadata": {
    "scrolled": true
   },
   "outputs": [
    {
     "name": "stdout",
     "output_type": "stream",
     "text": [
      "Collecting fitter\n",
      "  Using cached fitter-1.4.0-py3-none-any.whl\n",
      "Collecting easydev\n",
      "  Using cached easydev-0.12.0-py3-none-any.whl\n",
      "Requirement already satisfied: matplotlib in c:\\users\\jaimepanchana\\anaconda3\\lib\\site-packages (from fitter) (3.3.4)\n",
      "Requirement already satisfied: numpy in c:\\users\\jaimepanchana\\appdata\\roaming\\python\\python38\\site-packages (from fitter) (1.21.2)\n",
      "Requirement already satisfied: joblib in c:\\users\\jaimepanchana\\anaconda3\\lib\\site-packages (from fitter) (1.0.1)\n",
      "Requirement already satisfied: click in c:\\users\\jaimepanchana\\anaconda3\\lib\\site-packages (from fitter) (7.1.2)\n",
      "Requirement already satisfied: scipy>=0.18 in c:\\users\\jaimepanchana\\anaconda3\\lib\\site-packages (from fitter) (1.6.2)\n",
      "Requirement already satisfied: pandas in c:\\users\\jaimepanchana\\anaconda3\\lib\\site-packages (from fitter) (1.2.4)\n",
      "Requirement already satisfied: colorama in c:\\users\\jaimepanchana\\anaconda3\\lib\\site-packages (from easydev->fitter) (0.4.4)\n",
      "Requirement already satisfied: pexpect in c:\\users\\jaimepanchana\\anaconda3\\lib\\site-packages (from easydev->fitter) (4.8.0)\n",
      "Collecting colorlog\n",
      "  Using cached colorlog-6.4.1-py2.py3-none-any.whl (11 kB)\n",
      "Requirement already satisfied: pyparsing!=2.0.4,!=2.1.2,!=2.1.6,>=2.0.3 in c:\\users\\jaimepanchana\\anaconda3\\lib\\site-packages (from matplotlib->fitter) (2.4.7)\n",
      "Requirement already satisfied: pillow>=6.2.0 in c:\\users\\jaimepanchana\\anaconda3\\lib\\site-packages (from matplotlib->fitter) (8.2.0)\n",
      "Requirement already satisfied: cycler>=0.10 in c:\\users\\jaimepanchana\\appdata\\roaming\\python\\python38\\site-packages (from matplotlib->fitter) (0.10.0)\n",
      "Requirement already satisfied: python-dateutil>=2.1 in c:\\users\\jaimepanchana\\anaconda3\\lib\\site-packages (from matplotlib->fitter) (2.8.1)\n",
      "Requirement already satisfied: kiwisolver>=1.0.1 in c:\\users\\jaimepanchana\\appdata\\roaming\\python\\python38\\site-packages (from matplotlib->fitter) (1.3.2)\n",
      "Requirement already satisfied: six in c:\\users\\jaimepanchana\\anaconda3\\lib\\site-packages (from cycler>=0.10->matplotlib->fitter) (1.15.0)\n",
      "Requirement already satisfied: pytz>=2017.3 in c:\\users\\jaimepanchana\\anaconda3\\lib\\site-packages (from pandas->fitter) (2021.1)\n",
      "Requirement already satisfied: ptyprocess>=0.5 in c:\\users\\jaimepanchana\\anaconda3\\lib\\site-packages (from pexpect->easydev->fitter) (0.7.0)\n",
      "Installing collected packages: colorlog, easydev, fitter\n",
      "Successfully installed colorlog-6.4.1 easydev-0.12.0 fitter-1.4.0\n"
     ]
    }
   ],
   "source": [
    "!pip install fitter"
   ]
  },
  {
   "cell_type": "code",
   "execution_count": 5,
   "metadata": {},
   "outputs": [
    {
     "ename": "AttributeError",
     "evalue": "module 'matplotlib' has no attribute 'get_data_path'",
     "output_type": "error",
     "traceback": [
      "\u001b[1;31m---------------------------------------------------------------------------\u001b[0m",
      "\u001b[1;31mAttributeError\u001b[0m                            Traceback (most recent call last)",
      "\u001b[1;32m<ipython-input-5-a0d2faabd9e9>\u001b[0m in \u001b[0;36m<module>\u001b[1;34m\u001b[0m\n\u001b[1;32m----> 1\u001b[1;33m \u001b[1;32mimport\u001b[0m \u001b[0mmatplotlib\u001b[0m\u001b[1;33m.\u001b[0m\u001b[0mpyplot\u001b[0m \u001b[1;32mas\u001b[0m \u001b[0mplt\u001b[0m\u001b[1;33m\u001b[0m\u001b[1;33m\u001b[0m\u001b[0m\n\u001b[0m",
      "\u001b[1;32m~\\AppData\\Roaming\\Python\\Python38\\site-packages\\matplotlib\\__init__.py\u001b[0m in \u001b[0;36m<module>\u001b[1;34m\u001b[0m\n\u001b[0;32m    821\u001b[0m \u001b[1;31m# triggering resolution of _auto_backend_sentinel.\u001b[0m\u001b[1;33m\u001b[0m\u001b[1;33m\u001b[0m\u001b[1;33m\u001b[0m\u001b[0m\n\u001b[0;32m    822\u001b[0m rcParamsDefault = _rc_params_in_file(\n\u001b[1;32m--> 823\u001b[1;33m     \u001b[0mcbook\u001b[0m\u001b[1;33m.\u001b[0m\u001b[0m_get_data_path\u001b[0m\u001b[1;33m(\u001b[0m\u001b[1;34m\"matplotlibrc\"\u001b[0m\u001b[1;33m)\u001b[0m\u001b[1;33m,\u001b[0m\u001b[1;33m\u001b[0m\u001b[1;33m\u001b[0m\u001b[0m\n\u001b[0m\u001b[0;32m    824\u001b[0m     \u001b[1;31m# Strip leading comment.\u001b[0m\u001b[1;33m\u001b[0m\u001b[1;33m\u001b[0m\u001b[1;33m\u001b[0m\u001b[0m\n\u001b[0;32m    825\u001b[0m     \u001b[0mtransform\u001b[0m\u001b[1;33m=\u001b[0m\u001b[1;32mlambda\u001b[0m \u001b[0mline\u001b[0m\u001b[1;33m:\u001b[0m \u001b[0mline\u001b[0m\u001b[1;33m[\u001b[0m\u001b[1;36m1\u001b[0m\u001b[1;33m:\u001b[0m\u001b[1;33m]\u001b[0m \u001b[1;32mif\u001b[0m \u001b[0mline\u001b[0m\u001b[1;33m.\u001b[0m\u001b[0mstartswith\u001b[0m\u001b[1;33m(\u001b[0m\u001b[1;34m\"#\"\u001b[0m\u001b[1;33m)\u001b[0m \u001b[1;32melse\u001b[0m \u001b[0mline\u001b[0m\u001b[1;33m,\u001b[0m\u001b[1;33m\u001b[0m\u001b[1;33m\u001b[0m\u001b[0m\n",
      "\u001b[1;32m~\\AppData\\Roaming\\Python\\Python38\\site-packages\\matplotlib\\cbook\\__init__.py\u001b[0m in \u001b[0;36m_get_data_path\u001b[1;34m(*args)\u001b[0m\n\u001b[0;32m    532\u001b[0m     \u001b[0;31m`\u001b[0m\u001b[0;31m`\u001b[0m\u001b[1;33m*\u001b[0m\u001b[0margs\u001b[0m\u001b[0;31m`\u001b[0m\u001b[0;31m`\u001b[0m \u001b[0mspecify\u001b[0m \u001b[0ma\u001b[0m \u001b[0mpath\u001b[0m \u001b[0mrelative\u001b[0m \u001b[0mto\u001b[0m \u001b[0mthe\u001b[0m \u001b[0mbase\u001b[0m \u001b[0mdata\u001b[0m \u001b[0mpath\u001b[0m\u001b[1;33m.\u001b[0m\u001b[1;33m\u001b[0m\u001b[1;33m\u001b[0m\u001b[0m\n\u001b[0;32m    533\u001b[0m     \"\"\"\n\u001b[1;32m--> 534\u001b[1;33m     \u001b[1;32mreturn\u001b[0m \u001b[0mPath\u001b[0m\u001b[1;33m(\u001b[0m\u001b[0mmatplotlib\u001b[0m\u001b[1;33m.\u001b[0m\u001b[0mget_data_path\u001b[0m\u001b[1;33m(\u001b[0m\u001b[1;33m)\u001b[0m\u001b[1;33m,\u001b[0m \u001b[1;33m*\u001b[0m\u001b[0margs\u001b[0m\u001b[1;33m)\u001b[0m\u001b[1;33m\u001b[0m\u001b[1;33m\u001b[0m\u001b[0m\n\u001b[0m\u001b[0;32m    535\u001b[0m \u001b[1;33m\u001b[0m\u001b[0m\n\u001b[0;32m    536\u001b[0m \u001b[1;33m\u001b[0m\u001b[0m\n",
      "\u001b[1;31mAttributeError\u001b[0m: module 'matplotlib' has no attribute 'get_data_path'"
     ]
    }
   ],
   "source": [
    "import matplotlib.pyplot as plt"
   ]
  },
  {
   "cell_type": "code",
   "execution_count": 3,
   "metadata": {},
   "outputs": [
    {
     "name": "stdout",
     "output_type": "stream",
     "text": [
      "Collecting matplotlib\n",
      "  Using cached matplotlib-3.4.3-cp38-cp38-win_amd64.whl (7.1 MB)\n",
      "Collecting pillow>=6.2.0\n",
      "  Using cached Pillow-8.3.2-cp38-cp38-win_amd64.whl (3.2 MB)\n",
      "Collecting cycler>=0.10\n",
      "  Using cached cycler-0.10.0-py2.py3-none-any.whl (6.5 kB)\n",
      "Collecting numpy>=1.16\n",
      "  Using cached numpy-1.21.2-cp38-cp38-win_amd64.whl (14.0 MB)\n",
      "Collecting python-dateutil>=2.7\n",
      "  Using cached python_dateutil-2.8.2-py2.py3-none-any.whl (247 kB)\n",
      "Collecting pyparsing>=2.2.1\n",
      "  Using cached pyparsing-2.4.7-py2.py3-none-any.whl (67 kB)\n",
      "Collecting kiwisolver>=1.0.1\n",
      "  Using cached kiwisolver-1.3.2-cp38-cp38-win_amd64.whl (52 kB)\n",
      "Collecting six\n",
      "  Using cached six-1.16.0-py2.py3-none-any.whl (11 kB)\n",
      "Installing collected packages: pillow, six, cycler, numpy, python-dateutil, pyparsing, kiwisolver, matplotlib\n",
      "Successfully installed cycler-0.10.0 kiwisolver-1.3.2 matplotlib-3.4.3 numpy-1.21.2 pillow-8.3.2 pyparsing-2.4.7 python-dateutil-2.8.2 six-1.16.0\n"
     ]
    },
    {
     "name": "stderr",
     "output_type": "stream",
     "text": [
      "  WARNING: The script f2py.exe is installed in 'C:\\Users\\JaimePanchana\\AppData\\Roaming\\Python\\Python38\\Scripts' which is not on PATH.\n",
      "  Consider adding this directory to PATH or, if you prefer to suppress this warning, use --no-warn-script-location.\n"
     ]
    }
   ],
   "source": [
    "!pip install matplotlib --force-reinstall --user"
   ]
  },
  {
   "cell_type": "code",
   "execution_count": null,
   "metadata": {},
   "outputs": [],
   "source": []
  }
 ],
 "metadata": {
  "kernelspec": {
   "display_name": "Python 3",
   "language": "python",
   "name": "python3"
  },
  "language_info": {
   "codemirror_mode": {
    "name": "ipython",
    "version": 3
   },
   "file_extension": ".py",
   "mimetype": "text/x-python",
   "name": "python",
   "nbconvert_exporter": "python",
   "pygments_lexer": "ipython3",
   "version": "3.8.5"
  }
 },
 "nbformat": 4,
 "nbformat_minor": 5
}
