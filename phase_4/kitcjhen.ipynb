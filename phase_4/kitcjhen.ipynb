{
 "cells": [
  {
   "cell_type": "code",
   "execution_count": 1,
   "metadata": {},
   "outputs": [],
   "source": [
    "from glob import glob\n",
    "import os\n",
    "\n",
    "import random\n",
    "import numpy as np\n",
    "import pandas as pd\n",
    "import matplotlib.pyplot as plt\n",
    "import seaborn as sns\n",
    "import datetime\n",
    "\n",
    "from sklearn.metrics import classification_report, confusion_matrix"
   ]
  },
  {
   "cell_type": "code",
   "execution_count": 2,
   "metadata": {},
   "outputs": [
    {
     "data": {
      "text/plain": [
       "('15_12_2021_13_33_46', '14_12_2021_13_33_46')"
      ]
     },
     "execution_count": 2,
     "metadata": {},
     "output_type": "execute_result"
    }
   ],
   "source": [
    "m = 1\n",
    "diff1 = datetime.datetime.today() - datetime.timedelta(hours=5) - datetime.timedelta(days=m-1)\n",
    "now1 = diff1.strftime(\"%d_%m_%Y_%H_%M_%S\")\n",
    "diff2 = datetime.datetime.today() - datetime.timedelta(hours=5) - datetime.timedelta(days=m)\n",
    "now2 = diff2.strftime(\"%d_%m_%Y_%H_%M_%S\")\n",
    "now1, now2"
   ]
  },
  {
   "cell_type": "code",
   "execution_count": 70,
   "metadata": {},
   "outputs": [
    {
     "name": "stdout",
     "output_type": "stream",
     "text": [
      "target,n,diff1,diff2,media_rb_10,media_ra_10,media_rb_25,media_ra_25,media_rb_50,media_ra_50,media_rb_100,media_ra_100,media_rb_250,media_ra_250,intro_rb_10,intro_ra_10,intro_rb_25,intro_ra_25,intro_rb_50,intro_ra_50,intro_rb_100,intro_ra_100,intro_rb_250,intro_ra_250,adagio_rb_10,adagio_ra_10,adagio_rb_25,adagio_ra_25,adagio_rb_50,adagio_ra_50,adagio_rb_100,adagio_ra_100,adagio_rb_250,adagio_ra_250,scherzo_rb_10,scherzo_ra_10,scherzo_rb_25,scherzo_ra_25,scherzo_rb_50,scherzo_ra_50,scherzo_rb_100,scherzo_ra_100,scherzo_rb_250,scherzo_ra_250,outro_rb_10,outro_ra_10,outro_rb_25,outro_ra_25,outro_rb_50,outro_ra_50,outro_rb_100,outro_ra_100,outro_rb_250,outro_ra_250\n"
     ]
    }
   ],
   "source": [
    "header = 'target,n,diff1,diff2,media_rb_10,media_ra_10,media_rb_25,media_ra_25,media_rb_50,media_ra_50,media_rb_100,media_ra_100,media_rb_250,media_ra_250,intro_rb_10,intro_ra_10,intro_rb_25,intro_ra_25,intro_rb_50,intro_ra_50,intro_rb_100,intro_ra_100,intro_rb_250,intro_ra_250,adagio_rb_10,adagio_ra_10,adagio_rb_25,adagio_ra_25,adagio_rb_50,adagio_ra_50,adagio_rb_100,adagio_ra_100,adagio_rb_250,adagio_ra_250,scherzo_rb_10,scherzo_ra_10,scherzo_rb_25,scherzo_ra_25,scherzo_rb_50,scherzo_ra_50,scherzo_rb_100,scherzo_ra_100,scherzo_rb_250,scherzo_ra_250,outro_rb_10,outro_ra_10,outro_rb_25,outro_ra_25,outro_rb_50,outro_ra_50,outro_rb_100,outro_ra_100,outro_rb_250,outro_ra_250'\n",
    "print(header)"
   ]
  },
  {
   "cell_type": "code",
   "execution_count": 1114,
   "metadata": {},
   "outputs": [
    {
     "name": "stdout",
     "output_type": "stream",
     "text": [
      "['Xs/round2\\\\ada.csv', 'Xs/round2\\\\bch.csv', 'Xs/round2\\\\btc.csv', 'Xs/round2\\\\doge.csv', 'Xs/round2\\\\dot.csv', 'Xs/round2\\\\eos.csv', 'Xs/round2\\\\etc.csv', 'Xs/round2\\\\eth.csv', 'Xs/round2\\\\link.csv', 'Xs/round2\\\\ltc.csv', 'Xs/round2\\\\sol.csv', 'Xs/round2\\\\uni.csv', 'Xs/round2\\\\xlm.csv', 'Xs/round2\\\\xrp.csv']\n"
     ]
    }
   ],
   "source": [
    "csvs = [i for i in glob(\"Xs/round2/*\") if \"_\" not in i]\n",
    "print(csvs)"
   ]
  },
  {
   "cell_type": "code",
   "execution_count": 1116,
   "metadata": {},
   "outputs": [
    {
     "name": "stdout",
     "output_type": "stream",
     "text": [
      "['ada', 'bch', 'btc', 'doge', 'dot', 'eos', 'etc', 'eth', 'link', 'ltc', 'sol', 'uni', 'xlm', 'xrp']\n"
     ]
    },
    {
     "data": {
      "text/plain": [
       "14"
      ]
     },
     "execution_count": 1116,
     "metadata": {},
     "output_type": "execute_result"
    }
   ],
   "source": [
    "coins = [i.split(\".\")[0].split(\"\\\\\")[-1] for i in glob(\"Xs/round2/*\") if \"_\" not in i]\n",
    "# ### drop general acc\n",
    "# coins.remove('sol')\n",
    "# ### drop acc 90\n",
    "# coins.remove('doge')\n",
    "# coins.remove('eth')\n",
    "# coins.remove('uni')\n",
    "# coins.remove('xlm')\n",
    "# ### drop acc 92\n",
    "# coins.remove('etc')\n",
    "# coins.remove('ltc')\n",
    "# ### drop %\n",
    "# coins.remove('egld')\n",
    "# coins.remove('bnb')\n",
    "# coins.remove('fil')\n",
    "# coins.remove('luna')\n",
    "# coins.remove('theta')\n",
    "print(coins)\n",
    "len(coins)"
   ]
  },
  {
   "cell_type": "code",
   "execution_count": null,
   "metadata": {},
   "outputs": [],
   "source": []
  },
  {
   "cell_type": "code",
   "execution_count": 1137,
   "metadata": {},
   "outputs": [],
   "source": [
    "T1 = []\n",
    "total = 0\n",
    "for i in coins:\n",
    "    ds = pd.read_csv(f'Xs/round2/{i}.csv')\n",
    "    ds = ds.drop_duplicates().dropna()\n",
    "    # print(i, str(round(ds.shape[0]/3373, 2))+\"%\")\n",
    "    # print(i, str(round(ds.shape[0]/7719, 2))+\"%\") ### all\n",
    "    # print(i, str(round(ds.shape[0]/2896, 2))+\"%\")\n",
    "    # total+=ds.shape[0]\n",
    "    T1.append(ds)\n",
    "coin = 'all'"
   ]
  },
  {
   "cell_type": "code",
   "execution_count": 1138,
   "metadata": {},
   "outputs": [],
   "source": [
    "T2 = []\n",
    "total = 0\n",
    "for i in coins:\n",
    "    ds = pd.read_csv(f'Xs/round1/{i}.csv')\n",
    "    ds = ds.drop_duplicates().dropna()\n",
    "    # print(i, str(round(ds.shape[0]/3373, 2))+\"%\")\n",
    "    # print(i, str(round(ds.shape[0]/7719, 2))+\"%\") ### all\n",
    "    # print(i, str(round(ds.shape[0]/2896, 2))+\"%\")\n",
    "    # total+=ds.shape[0]\n",
    "    T2.append(ds)\n",
    "coin = 'all'"
   ]
  },
  {
   "cell_type": "code",
   "execution_count": 1118,
   "metadata": {},
   "outputs": [
    {
     "data": {
      "text/plain": [
       "2896"
      ]
     },
     "execution_count": 1118,
     "metadata": {},
     "output_type": "execute_result"
    }
   ],
   "source": [
    "total"
   ]
  },
  {
   "cell_type": "code",
   "execution_count": 1141,
   "metadata": {},
   "outputs": [
    {
     "name": "stdout",
     "output_type": "stream",
     "text": [
      "(8592, 54)\n"
     ]
    },
    {
     "data": {
      "text/html": [
       "<div>\n",
       "<style scoped>\n",
       "    .dataframe tbody tr th:only-of-type {\n",
       "        vertical-align: middle;\n",
       "    }\n",
       "\n",
       "    .dataframe tbody tr th {\n",
       "        vertical-align: top;\n",
       "    }\n",
       "\n",
       "    .dataframe thead th {\n",
       "        text-align: right;\n",
       "    }\n",
       "</style>\n",
       "<table border=\"1\" class=\"dataframe\">\n",
       "  <thead>\n",
       "    <tr style=\"text-align: right;\">\n",
       "      <th></th>\n",
       "      <th>target</th>\n",
       "      <th>n</th>\n",
       "      <th>diff1</th>\n",
       "      <th>diff2</th>\n",
       "      <th>media_rb_10</th>\n",
       "      <th>media_ra_10</th>\n",
       "      <th>media_rb_25</th>\n",
       "      <th>media_ra_25</th>\n",
       "      <th>media_rb_50</th>\n",
       "      <th>media_ra_50</th>\n",
       "      <th>...</th>\n",
       "      <th>outro_rb_10</th>\n",
       "      <th>outro_ra_10</th>\n",
       "      <th>outro_rb_25</th>\n",
       "      <th>outro_ra_25</th>\n",
       "      <th>outro_rb_50</th>\n",
       "      <th>outro_ra_50</th>\n",
       "      <th>outro_rb_100</th>\n",
       "      <th>outro_ra_100</th>\n",
       "      <th>outro_rb_250</th>\n",
       "      <th>outro_ra_250</th>\n",
       "    </tr>\n",
       "  </thead>\n",
       "  <tbody>\n",
       "    <tr>\n",
       "      <th>0</th>\n",
       "      <td>1.0</td>\n",
       "      <td>5.0</td>\n",
       "      <td>0.685687</td>\n",
       "      <td>1.001049</td>\n",
       "      <td>0.470480</td>\n",
       "      <td>0.529520</td>\n",
       "      <td>0.519650</td>\n",
       "      <td>0.480350</td>\n",
       "      <td>0.493376</td>\n",
       "      <td>0.506624</td>\n",
       "      <td>...</td>\n",
       "      <td>0.449218</td>\n",
       "      <td>0.550782</td>\n",
       "      <td>0.509957</td>\n",
       "      <td>0.490043</td>\n",
       "      <td>0.524450</td>\n",
       "      <td>0.475550</td>\n",
       "      <td>0.489591</td>\n",
       "      <td>0.510409</td>\n",
       "      <td>0.472838</td>\n",
       "      <td>0.527162</td>\n",
       "    </tr>\n",
       "    <tr>\n",
       "      <th>1</th>\n",
       "      <td>0.0</td>\n",
       "      <td>4.0</td>\n",
       "      <td>0.128506</td>\n",
       "      <td>0.451285</td>\n",
       "      <td>0.486180</td>\n",
       "      <td>0.513820</td>\n",
       "      <td>0.477848</td>\n",
       "      <td>0.522152</td>\n",
       "      <td>0.521652</td>\n",
       "      <td>0.478348</td>\n",
       "      <td>...</td>\n",
       "      <td>0.425607</td>\n",
       "      <td>0.574393</td>\n",
       "      <td>0.484575</td>\n",
       "      <td>0.515425</td>\n",
       "      <td>0.523329</td>\n",
       "      <td>0.476671</td>\n",
       "      <td>0.513296</td>\n",
       "      <td>0.486704</td>\n",
       "      <td>0.481504</td>\n",
       "      <td>0.518496</td>\n",
       "    </tr>\n",
       "    <tr>\n",
       "      <th>2</th>\n",
       "      <td>1.0</td>\n",
       "      <td>6.0</td>\n",
       "      <td>0.209147</td>\n",
       "      <td>0.515755</td>\n",
       "      <td>0.443569</td>\n",
       "      <td>0.556431</td>\n",
       "      <td>0.471258</td>\n",
       "      <td>0.528742</td>\n",
       "      <td>0.504821</td>\n",
       "      <td>0.495179</td>\n",
       "      <td>...</td>\n",
       "      <td>0.511948</td>\n",
       "      <td>0.488052</td>\n",
       "      <td>0.501723</td>\n",
       "      <td>0.498277</td>\n",
       "      <td>0.505666</td>\n",
       "      <td>0.494334</td>\n",
       "      <td>0.487643</td>\n",
       "      <td>0.512357</td>\n",
       "      <td>0.469902</td>\n",
       "      <td>0.530098</td>\n",
       "    </tr>\n",
       "  </tbody>\n",
       "</table>\n",
       "<p>3 rows × 54 columns</p>\n",
       "</div>"
      ],
      "text/plain": [
       "   target    n     diff1     diff2  media_rb_10  media_ra_10  media_rb_25  \\\n",
       "0     1.0  5.0  0.685687  1.001049     0.470480     0.529520     0.519650   \n",
       "1     0.0  4.0  0.128506  0.451285     0.486180     0.513820     0.477848   \n",
       "2     1.0  6.0  0.209147  0.515755     0.443569     0.556431     0.471258   \n",
       "\n",
       "   media_ra_25  media_rb_50  media_ra_50  ...  outro_rb_10  outro_ra_10  \\\n",
       "0     0.480350     0.493376     0.506624  ...     0.449218     0.550782   \n",
       "1     0.522152     0.521652     0.478348  ...     0.425607     0.574393   \n",
       "2     0.528742     0.504821     0.495179  ...     0.511948     0.488052   \n",
       "\n",
       "   outro_rb_25  outro_ra_25  outro_rb_50  outro_ra_50  outro_rb_100  \\\n",
       "0     0.509957     0.490043     0.524450     0.475550      0.489591   \n",
       "1     0.484575     0.515425     0.523329     0.476671      0.513296   \n",
       "2     0.501723     0.498277     0.505666     0.494334      0.487643   \n",
       "\n",
       "   outro_ra_100  outro_rb_250  outro_ra_250  \n",
       "0      0.510409      0.472838      0.527162  \n",
       "1      0.486704      0.481504      0.518496  \n",
       "2      0.512357      0.469902      0.530098  \n",
       "\n",
       "[3 rows x 54 columns]"
      ]
     },
     "execution_count": 1141,
     "metadata": {},
     "output_type": "execute_result"
    }
   ],
   "source": [
    "# # Cs = [\"media_rb_25\",\"media_ra_25\",\"media_rb_50\",\"media_ra_50\",\"intro_rb_25\",\"intro_ra_25\",\"intro_rb_50\",\"intro_ra_50\",\"adagio_rb_10\",\"adagio_ra_10\",\"adagio_rb_25\",\"adagio_ra_25\",\"adagio_rb_50\",\"adagio_ra_50\",\"scherzo_rb_25\",\"scherzo_ra_25\",\"scherzo_rb_50\",\"scherzo_ra_50\"]\n",
    "# mini = ['target', 'n', 'diff1', 'diff2']\n",
    "# Cs = mini + [\"media_rb_25\",\"media_ra_25\",\"intro_rb_25\",\"intro_ra_25\",\"intro_rb_50\",\"intro_ra_50\",\"adagio_rb_10\",\"adagio_ra_10\",\"adagio_rb_25\",\"adagio_ra_25\",\"adagio_rb_50\",\"adagio_ra_50\",\"scherzo_rb_10\",\"scherzo_ra_10\",\"scherzo_rb_25\",\"scherzo_ra_25\",\"scherzo_rb_50\",\"scherzo_ra_50\"]\n",
    "# print(Cs)\n",
    "# # Cx = ['target', 'n', 'diff1', 'diff2', 'media_rb_25', 'media_ra_25', 'media_rb_50', 'media_ra_50', 'media_rb_100', 'media_ra_100', 'intro_rb_25', 'intro_ra_25', 'intro_rb_50', 'intro_ra_50', 'intro_rb_100', 'intro_ra_100', 'adagio_rb_10', 'adagio_ra_10', 'adagio_rb_25', 'adagio_ra_25', 'adagio_rb_50', 'adagio_ra_50', 'adagio_rb_100', 'adagio_ra_100', 'scherzo_rb_25', 'scherzo_ra_25', 'scherzo_rb_50', 'scherzo_ra_50', 'scherzo_rb_100', 'scherzo_ra_100']\n",
    "# # print(Cx)\n",
    "\n",
    "ds = pd.concat(T1+T2, axis=0).drop_duplicates()# [Cs]\n",
    "print(ds.shape)\n",
    "ds.head(3)"
   ]
  },
  {
   "cell_type": "code",
   "execution_count": 1154,
   "metadata": {},
   "outputs": [
    {
     "data": {
      "text/plain": [
       "(8592, 54)"
      ]
     },
     "execution_count": 1154,
     "metadata": {},
     "output_type": "execute_result"
    }
   ],
   "source": [
    "pd.concat(T1+T2, axis=0).drop_duplicates().dropna().shape# [Cs]"
   ]
  },
  {
   "cell_type": "code",
   "execution_count": 1122,
   "metadata": {
    "scrolled": true
   },
   "outputs": [],
   "source": [
    "# mini = ['target', 'n', 'diff1', 'diff2']\n",
    "# cs = [\"media_rb_25\",\"media_ra_25\",\"media_rb_50\",\"media_ra_50\",\"intro_rb_10\",\"intro_ra_10\",\"intro_rb_25\",\"intro_ra_25\",\"intro_rb_50\",\"intro_ra_50\",\"adagio_rb_10\",\"adagio_ra_10\",\"adagio_rb_25\",\"adagio_ra_25\",\"adagio_rb_50\",\"adagio_ra_50\",\"scherzo_rb_10\",\"scherzo_ra_10\",\"scherzo_rb_25\",\"scherzo_ra_25\",\"scherzo_rb_50\",\"scherzo_ra_50\"]\n",
    "# cm = mini + cs\n",
    "# print(cm)"
   ]
  },
  {
   "cell_type": "code",
   "execution_count": 1123,
   "metadata": {},
   "outputs": [],
   "source": [
    "# coin = coins[18]\n",
    "# coin = 'ltc'.upper()\n",
    "# ds = pd.read_csv(f'Xs/round2/{coin}.csv')\n",
    "# print(ds.shape)\n",
    "# ds = ds.drop_duplicates().dropna()#[cm]\n",
    "# print(ds.shape)\n",
    "# ds.head(3)"
   ]
  },
  {
   "cell_type": "code",
   "execution_count": 1101,
   "metadata": {
    "scrolled": true
   },
   "outputs": [],
   "source": [
    "# ds.isna().sum()"
   ]
  },
  {
   "cell_type": "code",
   "execution_count": 1142,
   "metadata": {
    "scrolled": true
   },
   "outputs": [
    {
     "data": {
      "text/plain": [
       "target\n",
       "0.0    4180\n",
       "1.0    4412\n",
       "dtype: int64"
      ]
     },
     "execution_count": 1142,
     "metadata": {},
     "output_type": "execute_result"
    }
   ],
   "source": [
    "ds.groupby('target').size()"
   ]
  },
  {
   "cell_type": "code",
   "execution_count": 1143,
   "metadata": {
    "scrolled": true
   },
   "outputs": [
    {
     "data": {
      "text/plain": [
       "array([1., 0., 1., ..., 0., 1., 0.])"
      ]
     },
     "execution_count": 1143,
     "metadata": {},
     "output_type": "execute_result"
    }
   ],
   "source": [
    "# ds = df[da.coin!='ETH'].iloc[:]\n",
    "X = ds.drop(columns=['target']).values\n",
    "Y = ds.target.values\n",
    "Y"
   ]
  },
  {
   "cell_type": "code",
   "execution_count": 1186,
   "metadata": {},
   "outputs": [
    {
     "data": {
      "text/plain": [
       "((6444, 53), (2148, 53), (6444,), (2148,))"
      ]
     },
     "execution_count": 1186,
     "metadata": {},
     "output_type": "execute_result"
    }
   ],
   "source": [
    "from sklearn.model_selection import train_test_split\n",
    "#x_train, x_test, y_train, y_test = train_test_split(Xe, Ye, test_size = 0.25, random_state=42)\n",
    "# x_train, x_test, y_train, y_test = train_test_split(Xl, Yl, test_size = 0.25, random_state=42)\n",
    "x_train, x_test, y_train, y_test = train_test_split(X.astype(np.float64), Y, test_size = 0.25, random_state=42)\n",
    "x_train.shape, x_test.shape, y_train.shape, y_test.shape"
   ]
  },
  {
   "cell_type": "code",
   "execution_count": 1187,
   "metadata": {},
   "outputs": [
    {
     "name": "stdout",
     "output_type": "stream",
     "text": [
      "test accuracy 0.8985102420856611\n"
     ]
    }
   ],
   "source": [
    "# Build Linear Regression Algorithm\n",
    "from sklearn.linear_model import LogisticRegression\n",
    "lr = LogisticRegression(max_iter=1000)\n",
    "lr.fit(x_train,y_train)\n",
    "# Here lr.score first predict the y_test and then gives the accuracy\n",
    "print(\"test accuracy {}\".format(lr.score(x_test,y_test)))\n",
    "lr_score=lr.score(x_test,y_test)"
   ]
  },
  {
   "cell_type": "code",
   "execution_count": 1188,
   "metadata": {},
   "outputs": [
    {
     "name": "stdout",
     "output_type": "stream",
     "text": [
      "              precision    recall  f1-score   support\n",
      "\n",
      "           1       0.90      0.89      0.90      1065\n",
      "           2       0.90      0.90      0.90      1083\n",
      "\n",
      "    accuracy                           0.90      2148\n",
      "   macro avg       0.90      0.90      0.90      2148\n",
      "weighted avg       0.90      0.90      0.90      2148\n",
      "\n"
     ]
    },
    {
     "data": {
      "image/png": "[encoded data removed]",
      "text/plain": [
       "<Figure size 360x360 with 2 Axes>"
      ]
     },
     "metadata": {
      "needs_background": "light"
     },
     "output_type": "display_data"
    }
   ],
   "source": [
    "# Here we use confusion matrix to evaluate the linear regression algorithm\n",
    "from sklearn.metrics import confusion_matrix\n",
    "import matplotlib.pyplot as plt\n",
    "import seaborn as sns\n",
    "\n",
    "y_prediction = lr.predict(x_test)\n",
    "y_actual=y_test\n",
    "cm = confusion_matrix(y_actual,y_prediction)\n",
    "texto = classification_report(y_test, y_prediction, target_names=['1', '2'])\n",
    "# texto = classification_report(y_test, y_prediction, target_names=['0', '1', '2'])\n",
    "print(texto)\n",
    "# Heatmap visualization of cunfusion matrix of Linear regression model\n",
    "f, ax = plt.subplots(figsize=(5,5))\n",
    "sns.heatmap(cm,annot = True,linewidths=0.5,linecolor=\"red\",fmt = \".0f\",ax=ax)\n",
    "plt.xlabel(\"y_prediction\")\n",
    "plt.ylabel(\"y_actual\")\n",
    "plt.show()"
   ]
  },
  {
   "cell_type": "code",
   "execution_count": 1189,
   "metadata": {},
   "outputs": [
    {
     "name": "stdout",
     "output_type": "stream",
     "text": [
      "2 nn score: 0.8766294227188082\n",
      "0.8766294227188082\n"
     ]
    },
    {
     "data": {
      "image/png": "[encoded data removed]",
      "text/plain": [
       "<Figure size 360x360 with 1 Axes>"
      ]
     },
     "metadata": {
      "needs_background": "light"
     },
     "output_type": "display_data"
    },
    {
     "name": "stdout",
     "output_type": "stream",
     "text": [
      "              precision    recall  f1-score   support\n",
      "\n",
      "           1       0.83      0.95      0.88      1065\n",
      "           2       0.94      0.81      0.87      1083\n",
      "\n",
      "    accuracy                           0.88      2148\n",
      "   macro avg       0.88      0.88      0.88      2148\n",
      "weighted avg       0.88      0.88      0.88      2148\n",
      "\n"
     ]
    },
    {
     "data": {
      "image/png": "[encoded data removed]",
      "text/plain": [
       "<Figure size 360x360 with 2 Axes>"
      ]
     },
     "metadata": {
      "needs_background": "light"
     },
     "output_type": "display_data"
    }
   ],
   "source": [
    "# KNN Classification Model\n",
    "from sklearn.neighbors import KNeighborsClassifier\n",
    "k = 2\n",
    "knn = KNeighborsClassifier(n_neighbors = k)\n",
    "knn.fit(x_train,y_train)\n",
    "prediction = knn.predict(x_test)\n",
    "print(\"{} nn score: {}\".format(k,knn.score(x_test,y_test)))\n",
    "\n",
    "knn_score = knn.score(x_test,y_test)\n",
    "print(knn_score)\n",
    "# We can determine best k values with plotting k values versus accuracy\n",
    "# Here we give values to k from 1 to 15 and calculate the accuracy each time,then plot them.\n",
    "score_list = []\n",
    "for each in range(1,15):\n",
    "    knn2 = KNeighborsClassifier(n_neighbors = each)\n",
    "    knn2.fit(x_train,y_train)\n",
    "    score_list.append(knn2.score(x_test,y_test))\n",
    "\n",
    "plt.figure(figsize=(5, 5))\n",
    "plt.plot(range(1,15),score_list)\n",
    "plt.xlabel(\"k values\")\n",
    "plt.ylabel(\"accuracy\")\n",
    "plt.grid()\n",
    "plt.show()\n",
    "\n",
    "y_prediction = knn.predict(x_test)\n",
    "y_actual=y_test\n",
    "cm = confusion_matrix(y_actual,y_prediction)\n",
    "texto = classification_report(y_test, y_prediction, target_names=['1', '2'])\n",
    "# texto = classification_report(y_test, y_prediction, target_names=['0', '1', '2'])\n",
    "print(texto)\n",
    "# Heatmap visualization of cunfusion matrix of Linear regression model\n",
    "f, ax = plt.subplots(figsize=(5,5))\n",
    "sns.heatmap(cm,annot = True,linewidths=0.5,linecolor=\"red\",fmt = \".0f\",ax=ax)\n",
    "plt.xlabel(\"y_prediction\")\n",
    "plt.ylabel(\"y_actual\")\n",
    "plt.show()"
   ]
  },
  {
   "cell_type": "code",
   "execution_count": 1190,
   "metadata": {},
   "outputs": [
    {
     "name": "stdout",
     "output_type": "stream",
     "text": [
      "score:  0.8663873370577281\n",
      "              precision    recall  f1-score   support\n",
      "\n",
      "           1       0.86      0.87      0.87      1065\n",
      "           2       0.87      0.86      0.87      1083\n",
      "\n",
      "    accuracy                           0.87      2148\n",
      "   macro avg       0.87      0.87      0.87      2148\n",
      "weighted avg       0.87      0.87      0.87      2148\n",
      "\n"
     ]
    },
    {
     "data": {
      "image/png": "[encoded data removed]",
      "text/plain": [
       "<Figure size 360x360 with 2 Axes>"
      ]
     },
     "metadata": {
      "needs_background": "light"
     },
     "output_type": "display_data"
    }
   ],
   "source": [
    "# Build Decision Tree Classification Model\n",
    "from sklearn.tree import DecisionTreeClassifier\n",
    "dt = DecisionTreeClassifier(random_state = 42)\n",
    "dt.fit(x_train,y_train)\n",
    "\n",
    "print(\"score: \", dt.score(x_test,y_test))\n",
    "\n",
    "dt_score=dt.score(x_test,y_test)\n",
    "from sklearn.metrics import confusion_matrix\n",
    "y_prediction = dt.predict(x_test)\n",
    "y_actual = y_test\n",
    "cm = confusion_matrix(y_actual,y_prediction)\n",
    "texto = classification_report(y_test, y_prediction, target_names=['1', '2'])\n",
    "# texto = classification_report(y_test, y_prediction, target_names=['0', '1', '2'])\n",
    "print(texto)\n",
    "# Heatmap visualization of cunfusion matrix of the Decision Tree Classification Model\n",
    "f, ax = plt.subplots(figsize =(5,5))\n",
    "sns.heatmap(cm,annot = True,linewidths=0.5,linecolor=\"red\",fmt = \".0f\",ax=ax)\n",
    "plt.xlabel(\"y_prediction\")\n",
    "plt.ylabel(\"y_actual\")\n",
    "plt.show()"
   ]
  },
  {
   "cell_type": "code",
   "execution_count": 1191,
   "metadata": {},
   "outputs": [
    {
     "name": "stdout",
     "output_type": "stream",
     "text": [
      "random forest algo result:  0.9185288640595903\n",
      "              precision    recall  f1-score   support\n",
      "\n",
      "           1       0.93      0.91      0.92      1065\n",
      "           2       0.91      0.93      0.92      1083\n",
      "\n",
      "    accuracy                           0.92      2148\n",
      "   macro avg       0.92      0.92      0.92      2148\n",
      "weighted avg       0.92      0.92      0.92      2148\n",
      "\n"
     ]
    },
    {
     "data": {
      "image/png": "[encoded data removed]",
      "text/plain": [
       "<Figure size 360x360 with 2 Axes>"
      ]
     },
     "metadata": {
      "needs_background": "light"
     },
     "output_type": "display_data"
    }
   ],
   "source": [
    "# Build Random Forest Classification Model\n",
    "from sklearn.ensemble import RandomForestClassifier\n",
    "# n_estimators = 100 means this model will use 100 subsets.\n",
    "rf = RandomForestClassifier(n_estimators = 100, random_state = 42)\n",
    "rf.fit(x_train,y_train)\n",
    "print(\"random forest algo result: \", rf.score(x_test,y_test))\n",
    "\n",
    "rf_score = rf.score(x_test,y_test)\n",
    "# Here we use confusion matrix to evaluate the Random Forest Classification Model\n",
    "from sklearn.metrics import confusion_matrix\n",
    "y_prediction = rf.predict(x_test)\n",
    "y_actual = y_test\n",
    "cm = confusion_matrix(y_actual,y_prediction)\n",
    "texto = classification_report(y_test, y_prediction, target_names=['1', '2'])\n",
    "# texto = classification_report(y_test, y_prediction, target_names=['0', '1', '2'])\n",
    "print(texto)\n",
    "# Heatmap visualization of cunfusion matrix of the Random Forest Classification Model\n",
    "f, ax = plt.subplots(figsize=(5,5))\n",
    "sns.heatmap(cm,annot = True,linewidths=0.5,linecolor=\"red\",fmt = \".0f\",ax=ax)\n",
    "plt.xlabel(\"y_prediction\")\n",
    "plt.ylabel(\"y_actual\")\n",
    "plt.show()"
   ]
  },
  {
   "cell_type": "code",
   "execution_count": 1192,
   "metadata": {},
   "outputs": [],
   "source": [
    "# import pickle\n",
    "# diff1 = datetime.datetime.today()# - datetime.timedelta(hours=5) - datetime.timedelta(days=m-1)\n",
    "# now = diff1.strftime(\"%d_%m_%Y_%H_%M_%S\")\n",
    "# filename = f'random_forest_model_kaboom_{now}.sav'\n",
    "# pickle.dump(rf, open(filename, 'wb'))\n",
    "\n",
    "# # some time later...\n",
    "\n",
    "# # load the model from disk\n",
    "# loaded_model = pickle.load(open(filename, 'rb'))\n",
    "# result = loaded_model.score(x_test, y_test)\n",
    "# print(result)"
   ]
  },
  {
   "cell_type": "code",
   "execution_count": 1193,
   "metadata": {},
   "outputs": [
    {
     "name": "stdout",
     "output_type": "stream",
     "text": [
      "print accuracy of svm algo:  0.9087523277467412\n",
      "              precision    recall  f1-score   support\n",
      "\n",
      "           1       0.91      0.91      0.91      1065\n",
      "           2       0.91      0.91      0.91      1083\n",
      "\n",
      "    accuracy                           0.91      2148\n",
      "   macro avg       0.91      0.91      0.91      2148\n",
      "weighted avg       0.91      0.91      0.91      2148\n",
      "\n"
     ]
    },
    {
     "data": {
      "image/png": "[encoded data removed]",
      "text/plain": [
       "<Figure size 360x360 with 2 Axes>"
      ]
     },
     "metadata": {
      "needs_background": "light"
     },
     "output_type": "display_data"
    }
   ],
   "source": [
    "# Build Support Vector Machine Model\n",
    "from sklearn.svm import SVC\n",
    "svm = SVC(kernel ='rbf', random_state = 42)\n",
    "svm.fit(x_train,y_train)\n",
    "# prediction and accuracy \n",
    "print(\"print accuracy of svm algo: \",svm.score(x_test,y_test))\n",
    "\n",
    "svm_score = svm.score(x_test,y_test)\n",
    "# Here we use confusion matrix to evaluate the Support Vector Machine Model\n",
    "from sklearn.metrics import confusion_matrix\n",
    "y_prediction = svm.predict(x_test)\n",
    "y_actual = y_test\n",
    "cm = confusion_matrix(y_actual,y_prediction)\n",
    "texto = classification_report(y_test, y_prediction, target_names=['1', '2'])\n",
    "# texto = classification_report(y_test, y_prediction, target_names=['0', '1', '2'])\n",
    "print(texto)\n",
    "# Heatmap visualization of cunfusion matrix of the Support Vector Machine Model\n",
    "f, ax = plt.subplots(figsize =(5,5))\n",
    "sns.heatmap(cm,annot = True,linewidths=0.5,linecolor=\"red\",fmt = \".0f\",ax=ax)\n",
    "plt.xlabel(\"y_prediction\")\n",
    "plt.ylabel(\"y_actual\")\n",
    "plt.show()"
   ]
  },
  {
   "cell_type": "code",
   "execution_count": 1194,
   "metadata": {},
   "outputs": [
    {
     "name": "stdout",
     "output_type": "stream",
     "text": [
      "print accuracy of naive bayes algo:  0.7271880819366853\n",
      "              precision    recall  f1-score   support\n",
      "\n",
      "           1       0.72      0.73      0.73      1065\n",
      "           2       0.73      0.73      0.73      1083\n",
      "\n",
      "    accuracy                           0.73      2148\n",
      "   macro avg       0.73      0.73      0.73      2148\n",
      "weighted avg       0.73      0.73      0.73      2148\n",
      "\n"
     ]
    },
    {
     "data": {
      "image/png": "[encoded data removed]",
      "text/plain": [
       "<Figure size 360x360 with 2 Axes>"
      ]
     },
     "metadata": {
      "needs_background": "light"
     },
     "output_type": "display_data"
    }
   ],
   "source": [
    "# Build Naive Bayes Classification Model\n",
    "from sklearn.naive_bayes import GaussianNB\n",
    "nb = GaussianNB()\n",
    "nb.fit(x_train,y_train)\n",
    " \n",
    "print(\"print accuracy of naive bayes algo: \",nb.score(x_test,y_test))\n",
    "\n",
    "nb_score = nb.score(x_test,y_test)\n",
    "# Here we use confusion matrix to evaluate the Support Vector Machine Model\n",
    "from sklearn.metrics import confusion_matrix\n",
    "y_prediction = nb.predict(x_test)\n",
    "y_actual = y_test\n",
    "cm = confusion_matrix(y_actual,y_prediction)\n",
    "texto = classification_report(y_test, y_prediction, target_names=['1', '2'])\n",
    "# texto = classification_report(y_test, y_prediction, target_names=['0', '1', '2'])\n",
    "print(texto)\n",
    "# Heatmap visualization of cunfusion matrix of the Support Vector Machine Model\n",
    "f, ax = plt.subplots(figsize =(5,5))\n",
    "sns.heatmap(cm,annot = True,linewidths=0.5,linecolor=\"red\",fmt = \".0f\",ax=ax)\n",
    "plt.xlabel(\"y_prediction\")\n",
    "plt.ylabel(\"y_actual\")\n",
    "plt.show()"
   ]
  },
  {
   "cell_type": "code",
   "execution_count": 1195,
   "metadata": {},
   "outputs": [
    {
     "name": "stdout",
     "output_type": "stream",
     "text": [
      "(0.8985102420856611, 0.8766294227188082, 0.8663873370577281, 0.9185288640595903, 0.9087523277467412, 0.7271880819366853)\n"
     ]
    },
    {
     "data": {
      "image/png": "[encoded data removed]",
      "text/plain": [
       "<Figure size 1080x576 with 1 Axes>"
      ]
     },
     "metadata": {
      "needs_background": "light"
     },
     "output_type": "display_data"
    }
   ],
   "source": [
    "class_name = (\"Logistic Regression\",\"KNN\",\"Decision Tree\",\"Random Forest\",\"SVM\",\"Naive Bayes\")\n",
    "class_score = (lr_score,knn_score,dt_score,rf_score,svm_score,nb_score)\n",
    "print(class_score)\n",
    "y_pos= np.arange(len(class_score))\n",
    "colors = (\"red\",\"gray\",\"purple\",\"green\",\"orange\",\"blue\")\n",
    "plt.figure(figsize=(15,8))\n",
    "plt.bar(y_pos,class_score,color=colors)\n",
    "plt.xticks(y_pos,class_name,fontsize=14)\n",
    "plt.yticks(np.arange(0.00, 1.05, step=0.05))\n",
    "plt.ylabel('Accuracy')\n",
    "plt.grid()\n",
    "plt.title(\" Confusion Matrix Comparision of the Classes\",fontsize=15)\n",
    "plt.savefig(f'acc_{coin}_{now1}.png')\n",
    "plt.show()"
   ]
  },
  {
   "cell_type": "code",
   "execution_count": 1196,
   "metadata": {},
   "outputs": [
    {
     "name": "stdout",
     "output_type": "stream",
     "text": [
      "0.9185288640595903\n"
     ]
    }
   ],
   "source": [
    "# load the model from disk\n",
    "loaded_model = pickle.load(open('random_forest_model_kaboom_16_12_2021_08_34_46.sav', 'rb'))\n",
    "result = loaded_model.score(x_test, y_test)\n",
    "print(result)"
   ]
  },
  {
   "cell_type": "code",
   "execution_count": 1205,
   "metadata": {},
   "outputs": [
    {
     "name": "stdout",
     "output_type": "stream",
     "text": [
      "54.1 ms ± 2.1 ms per loop (mean ± std. dev. of 7 runs, 10 loops each)\n"
     ]
    }
   ],
   "source": [
    "%%timeit\n",
    "loaded_model.predict(x_test)"
   ]
  },
  {
   "cell_type": "code",
   "execution_count": 1206,
   "metadata": {},
   "outputs": [
    {
     "name": "stdout",
     "output_type": "stream",
     "text": [
      "9.84 ms ± 315 µs per loop (mean ± std. dev. of 7 runs, 100 loops each)\n"
     ]
    }
   ],
   "source": [
    "%%timeit\n",
    "loaded_model.predict(x_test[0].reshape(1, 53))"
   ]
  },
  {
   "cell_type": "code",
   "execution_count": null,
   "metadata": {},
   "outputs": [],
   "source": []
  },
  {
   "cell_type": "code",
   "execution_count": null,
   "metadata": {},
   "outputs": [],
   "source": []
  },
  {
   "cell_type": "code",
   "execution_count": 824,
   "metadata": {},
   "outputs": [
    {
     "name": "stdout",
     "output_type": "stream",
     "text": [
      "target,n,diff1,diff2,media_rb_10,media_ra_10,media_rb_25,media_ra_25,media_rb_50,media_ra_50,media_rb_100,media_ra_100,media_rb_250,media_ra_250,intro_rb_10,intro_ra_10,intro_rb_25,intro_ra_25,intro_rb_50,intro_ra_50,intro_rb_100,intro_ra_100,intro_rb_250,intro_ra_250,adagio_rb_10,adagio_ra_10,adagio_rb_25,adagio_ra_25,adagio_rb_50,adagio_ra_50,adagio_rb_100,adagio_ra_100,adagio_rb_250,adagio_ra_250,scherzo_rb_10,scherzo_ra_10,scherzo_rb_25,scherzo_ra_25,scherzo_rb_50,scherzo_ra_50,scherzo_rb_100,scherzo_ra_100,scherzo_rb_250,scherzo_ra_250,outro_rb_10,outro_ra_10,outro_rb_25,outro_ra_25,outro_rb_50,outro_ra_50,outro_rb_100,outro_ra_100,outro_rb_250,outro_ra_250\n"
     ]
    }
   ],
   "source": [
    "header = 'target,n,diff1,diff2,media_rb_10,media_ra_10,media_rb_25,media_ra_25,media_rb_50,media_ra_50,media_rb_100,media_ra_100,media_rb_250,media_ra_250,intro_rb_10,intro_ra_10,intro_rb_25,intro_ra_25,intro_rb_50,intro_ra_50,intro_rb_100,intro_ra_100,intro_rb_250,intro_ra_250,adagio_rb_10,adagio_ra_10,adagio_rb_25,adagio_ra_25,adagio_rb_50,adagio_ra_50,adagio_rb_100,adagio_ra_100,adagio_rb_250,adagio_ra_250,scherzo_rb_10,scherzo_ra_10,scherzo_rb_25,scherzo_ra_25,scherzo_rb_50,scherzo_ra_50,scherzo_rb_100,scherzo_ra_100,scherzo_rb_250,scherzo_ra_250,outro_rb_10,outro_ra_10,outro_rb_25,outro_ra_25,outro_rb_50,outro_ra_50,outro_rb_100,outro_ra_100,outro_rb_250,outro_ra_250'\n",
    "print(header)"
   ]
  },
  {
   "cell_type": "code",
   "execution_count": null,
   "metadata": {},
   "outputs": [],
   "source": []
  }
 ],
 "metadata": {
  "kernelspec": {
   "display_name": "Python 3",
   "language": "python",
   "name": "python3"
  },
  "language_info": {
   "codemirror_mode": {
    "name": "ipython",
    "version": 3
   },
   "file_extension": ".py",
   "mimetype": "text/x-python",
   "name": "python",
   "nbconvert_exporter": "python",
   "pygments_lexer": "ipython3",
   "version": "3.8.5"
  }
 },
 "nbformat": 4,
 "nbformat_minor": 4
}
