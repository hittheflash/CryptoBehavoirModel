{
 "cells": [
  {
   "cell_type": "code",
   "execution_count": 1,
   "metadata": {},
   "outputs": [],
   "source": [
    "import binance\n",
    "from binance import Client, ThreadedWebsocketManager, ThreadedDepthCacheManager\n",
    "from binance.enums import *\n",
    "\n",
    "from BinanceFuturesPy.futurespy import Client\n",
    "from binance.client import Client as ClientReal\n",
    "\n",
    "import config"
   ]
  },
  {
   "cell_type": "code",
   "execution_count": 7,
   "metadata": {},
   "outputs": [],
   "source": [
    "api_key=config.API_KEY\n",
    "api_secret=config.API_SECRET\n",
    "\n",
    "# client = Client(api_key, api_secret, testnet=True)\n",
    "# clientreal = ClientReal(api_key, api_secret)\n",
    "client = ClientReal(api_key, api_secret)"
   ]
  },
  {
   "cell_type": "code",
   "execution_count": 45,
   "metadata": {
    "scrolled": true
   },
   "outputs": [
    {
     "data": {
      "text/plain": [
       "{'symbol': 'BUSDUSDT',\n",
       " 'priceChange': '-0.00010000',\n",
       " 'priceChangePercent': '-0.010',\n",
       " 'weightedAvgPrice': '0.99998938',\n",
       " 'prevClosePrice': '0.99990000',\n",
       " 'lastPrice': '0.99990000',\n",
       " 'lastQty': '4945.01000000',\n",
       " 'bidPrice': '0.99990000',\n",
       " 'bidQty': '31674286.25000000',\n",
       " 'askPrice': '1.00000000',\n",
       " 'askQty': '17612407.40000000',\n",
       " 'openPrice': '1.00000000',\n",
       " 'highPrice': '1.00010000',\n",
       " 'lowPrice': '0.99990000',\n",
       " 'volume': '789189340.32000000',\n",
       " 'quoteVolume': '789180957.80977700',\n",
       " 'openTime': 1626943178700,\n",
       " 'closeTime': 1627029578700,\n",
       " 'firstId': 151766864,\n",
       " 'lastId': 152047962,\n",
       " 'count': 281099}"
      ]
     },
     "execution_count": 45,
     "metadata": {},
     "output_type": "execute_result"
    }
   ],
   "source": [
    "client.get_ticker(symbol='BUSDUSDT')"
   ]
  },
  {
   "cell_type": "code",
   "execution_count": 7,
   "metadata": {},
   "outputs": [],
   "source": [
    "clientreal.order_limit_buy?"
   ]
  },
  {
   "cell_type": "code",
   "execution_count": 66,
   "metadata": {},
   "outputs": [],
   "source": [
    "clientreal.order_limit_sell?"
   ]
  },
  {
   "cell_type": "code",
   "execution_count": 18,
   "metadata": {
    "collapsed": true
   },
   "outputs": [
    {
     "name": "stdout",
     "output_type": "stream",
     "text": [
      "message type: kline\n",
      "{'e': 'kline', 'E': 1627026027358, 's': 'BNBBTC', 'k': {'t': 1627026000000, 'T': 1627026059999, 's': 'BNBBTC', 'i': '1m', 'f': 154346492, 'L': 154346551, 'o': '0.00914900', 'c': '0.00914400', 'h': '0.00915200', 'l': '0.00914300', 'v': '96.18000000', 'n': 60, 'x': False, 'q': '0.87981468', 'V': '29.13000000', 'Q': '0.26655501', 'B': '0'}}\n",
      "message type: kline\n",
      "{'e': 'kline', 'E': 1627026027358, 's': 'BNBBTC', 'k': {'t': 1627026000000, 'T': 1627026059999, 's': 'BNBBTC', 'i': '1m', 'f': 154346492, 'L': 154346551, 'o': '0.00914900', 'c': '0.00914400', 'h': '0.00915200', 'l': '0.00914300', 'v': '96.18000000', 'n': 60, 'x': False, 'q': '0.87981468', 'V': '29.13000000', 'Q': '0.26655501', 'B': '0'}}\n",
      "message type: kline\n",
      "{'e': 'kline', 'E': 1627026027819, 's': 'BUSDUSDT', 'k': {'t': 1627026000000, 'T': 1627026059999, 's': 'BUSDUSDT', 'i': '1m', 'f': 152033913, 'L': 152034020, 'o': '1.00000000', 'c': '0.99990000', 'h': '1.00000000', 'l': '0.99990000', 'v': '202082.66000000', 'n': 108, 'x': False, 'q': '202076.89956800', 'V': '144478.34000000', 'Q': '144478.34000000', 'B': '0'}}\n",
      "symbol ETHBTC\n",
      "top 5 bids\n",
      "[[0.063432, 4.871], [0.063428, 0.002], [0.063427, 0.036], [0.063426, 0.015], [0.063424, 14.853]]\n",
      "top 5 asks\n",
      "[[0.063433, 25.553], [0.063434, 0.084], [0.063436, 33.433], [0.063443, 4.896], [0.063445, 9.966]]\n",
      "last update time 1627026027974\n",
      "symbol ETHBTC\n",
      "top 5 bids\n",
      "[[0.063428, 13.612], [0.063427, 0.036], [0.063426, 0.015], [0.063424, 14.853], [0.063423, 0.007]]\n",
      "top 5 asks\n",
      "[[0.063429, 7.804], [0.063433, 5.708], [0.063434, 0.084], [0.063436, 33.427], [0.063443, 4.896]]\n",
      "last update time 1627026028974\n",
      "symbol ETHBTC\n",
      "top 5 bids\n",
      "[[0.063428, 25.602], [0.063427, 0.036], [0.063426, 0.015], [0.063424, 14.853], [0.063423, 0.007]]\n",
      "top 5 asks\n",
      "[[0.063429, 0.006], [0.063431, 0.41], [0.063432, 1.647], [0.063434, 1.245], [0.063435, 11.699]]\n",
      "last update time 1627026029975\n",
      "message type: kline\n",
      "{'e': 'kline', 'E': 1627026030031, 's': 'BUSDUSDT', 'k': {'t': 1627026000000, 'T': 1627026059999, 's': 'BUSDUSDT', 'i': '1m', 'f': 152033913, 'L': 152034035, 'o': '1.00000000', 'c': '1.00000000', 'h': '1.00000000', 'l': '0.99990000', 'v': '212493.55000000', 'n': 123, 'x': False, 'q': '212487.02869100', 'V': '147280.46000000', 'Q': '147280.46000000', 'B': '0'}}\n",
      "symbol ETHBTC\n",
      "top 5 bids\n",
      "[[0.063428, 25.602], [0.063427, 0.036], [0.063426, 0.015], [0.063424, 14.853], [0.063423, 0.007]]\n",
      "top 5 asks\n",
      "[[0.063429, 0.006], [0.063433, 0.459], [0.063434, 0.084], [0.063442, 2.615], [0.063443, 4.896]]\n",
      "last update time 1627026030975\n",
      "message type: kline\n",
      "message type: kline\n",
      "{'e': 'kline', 'E': 1627026031379, 's': 'BNBBTC', 'k': {'t': 1627026000000, 'T': 1627026059999, 's': 'BNBBTC', 'i': '1m', 'f': 154346492, 'L': 154346554, 'o': '0.00914900', 'c': '0.00914800', 'h': '0.00915200', 'l': '0.00914300', 'v': '96.94000000', 'n': 63, 'x': False, 'q': '0.88676584', 'V': '29.56000000', 'Q': '0.27048865', 'B': '0'}}\n",
      "{'e': 'kline', 'E': 1627026031379, 's': 'BNBBTC', 'k': {'t': 1627026000000, 'T': 1627026059999, 's': 'BNBBTC', 'i': '1m', 'f': 154346492, 'L': 154346554, 'o': '0.00914900', 'c': '0.00914800', 'h': '0.00915200', 'l': '0.00914300', 'v': '96.94000000', 'n': 63, 'x': False, 'q': '0.88676584', 'V': '29.56000000', 'Q': '0.27048865', 'B': '0'}}\n",
      "symbol ETHBTC\n",
      "top 5 bids\n",
      "[[0.063428, 4.902], [0.063427, 0.036], [0.063426, 0.015], [0.063424, 14.853], [0.063423, 0.007]]\n",
      "top 5 asks\n",
      "[[0.063429, 10.932], [0.063431, 32.513], [0.063433, 0.41], [0.063434, 0.084], [0.063442, 2.615]]\n",
      "last update time 1627026031975\n",
      "message type: kline\n",
      "{'e': 'kline', 'E': 1627026032202, 's': 'BUSDUSDT', 'k': {'t': 1627026000000, 'T': 1627026059999, 's': 'BUSDUSDT', 'i': '1m', 'f': 152033913, 'L': 152034039, 'o': '1.00000000', 'c': '1.00000000', 'h': '1.00000000', 'l': '0.99990000', 'v': '213313.75000000', 'n': 127, 'x': False, 'q': '213307.19557900', 'V': '147769.54000000', 'Q': '147769.54000000', 'B': '0'}}\n",
      "symbol ETHBTC\n",
      "top 5 bids\n",
      "[[0.06343, 35.86], [0.063428, 5.544], [0.063427, 0.036], [0.063426, 0.015], [0.063424, 0.308]]\n",
      "top 5 asks\n",
      "[[0.063431, 13.034], [0.063434, 0.084], [0.063439, 1.753], [0.06344, 3.648], [0.063442, 2.615]]\n",
      "last update time 1627026032975\n",
      "symbol ETHBTC\n",
      "top 5 bids\n",
      "[[0.06343, 36.502], [0.063428, 4.902], [0.063427, 0.036], [0.063426, 0.015], [0.063424, 0.308]]\n",
      "top 5 asks\n",
      "[[0.063431, 8.024], [0.063434, 0.084], [0.063441, 1.857], [0.063442, 2.615], [0.063443, 4.896]]\n",
      "last update time 1627026033975\n",
      "message type: kline\n",
      "{'e': 'kline', 'E': 1627026034313, 's': 'BUSDUSDT', 'k': {'t': 1627026000000, 'T': 1627026059999, 's': 'BUSDUSDT', 'i': '1m', 'f': 152033913, 'L': 152034044, 'o': '1.00000000', 'c': '1.00000000', 'h': '1.00000000', 'l': '0.99990000', 'v': '215656.85000000', 'n': 132, 'x': False, 'q': '215650.21171200', 'V': '149273.97000000', 'Q': '149273.97000000', 'B': '0'}}\n"
     ]
    }
   ],
   "source": [
    "clientreal.create_test_order?"
   ]
  },
  {
   "cell_type": "code",
   "execution_count": 9,
   "metadata": {
    "scrolled": true
   },
   "outputs": [
    {
     "data": {
      "text/plain": [
       "'0.00023'"
      ]
     },
     "execution_count": 9,
     "metadata": {},
     "output_type": "execute_result"
    }
   ],
   "source": [
    "amount = 0.000234234\n",
    "precision = 5\n",
    "amt_str = \"{:0.0{}f}\".format(amount, precision)\n",
    "amt_str"
   ]
  },
  {
   "cell_type": "code",
   "execution_count": 11,
   "metadata": {
    "scrolled": true
   },
   "outputs": [
    {
     "data": {
      "text/plain": [
       "{'symbol': 'BUSDUSDT',\n",
       " 'status': 'TRADING',\n",
       " 'baseAsset': 'BUSD',\n",
       " 'baseAssetPrecision': 8,\n",
       " 'quoteAsset': 'USDT',\n",
       " 'quotePrecision': 8,\n",
       " 'quoteAssetPrecision': 8,\n",
       " 'baseCommissionPrecision': 8,\n",
       " 'quoteCommissionPrecision': 8,\n",
       " 'orderTypes': ['LIMIT',\n",
       "  'LIMIT_MAKER',\n",
       "  'MARKET',\n",
       "  'STOP_LOSS_LIMIT',\n",
       "  'TAKE_PROFIT_LIMIT'],\n",
       " 'icebergAllowed': True,\n",
       " 'ocoAllowed': True,\n",
       " 'quoteOrderQtyMarketAllowed': True,\n",
       " 'isSpotTradingAllowed': True,\n",
       " 'isMarginTradingAllowed': True,\n",
       " 'filters': [{'filterType': 'PRICE_FILTER',\n",
       "   'minPrice': '0.00010000',\n",
       "   'maxPrice': '1000.00000000',\n",
       "   'tickSize': '0.00010000'},\n",
       "  {'filterType': 'PERCENT_PRICE',\n",
       "   'multiplierUp': '5',\n",
       "   'multiplierDown': '0.2',\n",
       "   'avgPriceMins': 5},\n",
       "  {'filterType': 'LOT_SIZE',\n",
       "   'minQty': '0.01000000',\n",
       "   'maxQty': '9000000.00000000',\n",
       "   'stepSize': '0.01000000'},\n",
       "  {'filterType': 'MIN_NOTIONAL',\n",
       "   'minNotional': '10.00000000',\n",
       "   'applyToMarket': True,\n",
       "   'avgPriceMins': 5},\n",
       "  {'filterType': 'ICEBERG_PARTS', 'limit': 10},\n",
       "  {'filterType': 'MARKET_LOT_SIZE',\n",
       "   'minQty': '0.00000000',\n",
       "   'maxQty': '42640945.49600417',\n",
       "   'stepSize': '0.00000000'},\n",
       "  {'filterType': 'MAX_NUM_ORDERS', 'maxNumOrders': 200},\n",
       "  {'filterType': 'MAX_NUM_ALGO_ORDERS', 'maxNumAlgoOrders': 5}],\n",
       " 'permissions': ['SPOT', 'MARGIN']}"
      ]
     },
     "execution_count": 11,
     "metadata": {},
     "output_type": "execute_result"
    }
   ],
   "source": [
    "info = client.get_symbol_info('BUSDUSDT')\n",
    "info"
   ]
  },
  {
   "cell_type": "code",
   "execution_count": 12,
   "metadata": {},
   "outputs": [
    {
     "data": {
      "text/plain": [
       "'0.01000000'"
      ]
     },
     "execution_count": 12,
     "metadata": {},
     "output_type": "execute_result"
    }
   ],
   "source": [
    "info['filters'][2]['minQty']"
   ]
  },
  {
   "cell_type": "code",
   "execution_count": null,
   "metadata": {},
   "outputs": [],
   "source": [
    "client.order_limit_buy"
   ]
  },
  {
   "cell_type": "code",
   "execution_count": 33,
   "metadata": {
    "scrolled": true
   },
   "outputs": [
    {
     "data": {
      "text/plain": [
       "'com'"
      ]
     },
     "execution_count": 33,
     "metadata": {},
     "output_type": "execute_result"
    }
   ],
   "source": [
    "client.tld"
   ]
  },
  {
   "cell_type": "code",
   "execution_count": 141,
   "metadata": {},
   "outputs": [
    {
     "data": {
      "text/plain": [
       "'1.00000000'"
      ]
     },
     "execution_count": 141,
     "metadata": {},
     "output_type": "execute_result"
    }
   ],
   "source": [
    "# %%timeit\n",
    "price = client.get_symbol_ticker(symbol='BUSDUSDT')['price']\n",
    "price"
   ]
  },
  {
   "cell_type": "code",
   "execution_count": 142,
   "metadata": {},
   "outputs": [
    {
     "data": {
      "text/plain": [
       "1.0"
      ]
     },
     "execution_count": 142,
     "metadata": {},
     "output_type": "execute_result"
    }
   ],
   "source": [
    "float(price)"
   ]
  },
  {
   "cell_type": "markdown",
   "metadata": {},
   "source": [
    "### market order"
   ]
  },
  {
   "cell_type": "code",
   "execution_count": null,
   "metadata": {},
   "outputs": [],
   "source": [
    "client.order"
   ]
  },
  {
   "cell_type": "code",
   "execution_count": 163,
   "metadata": {},
   "outputs": [
    {
     "data": {
      "text/plain": [
       "50000000000.0"
      ]
     },
     "execution_count": 163,
     "metadata": {},
     "output_type": "execute_result"
    }
   ],
   "source": [
    "5e10"
   ]
  },
  {
   "cell_type": "code",
   "execution_count": 157,
   "metadata": {},
   "outputs": [
    {
     "name": "stdout",
     "output_type": "stream",
     "text": [
      "{'symbol': 'BUSDUSDT', 'orderId': 224928960, 'orderListId': -1, 'clientOrderId': 'HVwHjwRM9EJqp2gDuPvvWJ', 'transactTime': 1627035440587, 'price': '0.00000000', 'origQty': '15.00000000', 'executedQty': '15.00000000', 'cummulativeQuoteQty': '14.99850000', 'status': 'FILLED', 'timeInForce': 'GTC', 'type': 'MARKET', 'side': 'SELL', 'fills': [{'price': '0.99990000', 'qty': '15.00000000', 'commission': '0.00000000', 'commissionAsset': 'BNB', 'tradeId': 152076701}]}\n"
     ]
    }
   ],
   "source": [
    "price = client.get_symbol_ticker(symbol='BUSDUSDT')['price']\n",
    "if float(price)==1.0:\n",
    "    order = client.order_market_sell(\n",
    "        symbol='BUSDUSDT',\n",
    "        quantity=15)\n",
    "    print(order)"
   ]
  },
  {
   "cell_type": "code",
   "execution_count": null,
   "metadata": {},
   "outputs": [],
   "source": []
  },
  {
   "cell_type": "code",
   "execution_count": 114,
   "metadata": {
    "scrolled": true
   },
   "outputs": [
    {
     "data": {
      "text/plain": [
       "{'symbol': 'BUSDUSDT',\n",
       " 'orderId': 224907204,\n",
       " 'orderListId': -1,\n",
       " 'clientOrderId': 'PIDPqMcMGzocFgveHH42Hb',\n",
       " 'transactTime': 1627033193946,\n",
       " 'price': '0.99990000',\n",
       " 'origQty': '15.00000000',\n",
       " 'executedQty': '0.00000000',\n",
       " 'cummulativeQuoteQty': '0.00000000',\n",
       " 'status': 'NEW',\n",
       " 'timeInForce': 'GTC',\n",
       " 'type': 'LIMIT',\n",
       " 'side': 'BUY',\n",
       " 'fills': []}"
      ]
     },
     "execution_count": 114,
     "metadata": {},
     "output_type": "execute_result"
    }
   ],
   "source": [
    "order = client.create_order(\n",
    "    symbol='BUSDUSDT',\n",
    "    side=SIDE_BUY,\n",
    "    type=ORDER_TYPE_LIMIT,\n",
    "    timeInForce=TIME_IN_FORCE_GTC,\n",
    "    quantity=15,\n",
    "    price='0.99990')\n",
    "order"
   ]
  },
  {
   "cell_type": "code",
   "execution_count": 118,
   "metadata": {
    "scrolled": true
   },
   "outputs": [
    {
     "data": {
      "text/plain": [
       "{'symbol': 'BUSDUSDT',\n",
       " 'orderId': 224909374,\n",
       " 'orderListId': -1,\n",
       " 'clientOrderId': 'i0l3Xq4e1u2hf4vTZZQb7c',\n",
       " 'transactTime': 1627033546711,\n",
       " 'price': '0.99990000',\n",
       " 'origQty': '15.00000000',\n",
       " 'executedQty': '0.00000000',\n",
       " 'cummulativeQuoteQty': '0.00000000',\n",
       " 'status': 'NEW',\n",
       " 'timeInForce': 'GTC',\n",
       " 'type': 'LIMIT',\n",
       " 'side': 'BUY',\n",
       " 'fills': []}"
      ]
     },
     "execution_count": 118,
     "metadata": {},
     "output_type": "execute_result"
    }
   ],
   "source": [
    "order = clientreal.order_limit_buy(\n",
    "    symbol='BUSDUSDT',\n",
    "    quantity=15,\n",
    "    price='0.99990000')\n",
    "order"
   ]
  },
  {
   "cell_type": "code",
   "execution_count": null,
   "metadata": {},
   "outputs": [],
   "source": []
  },
  {
   "cell_type": "code",
   "execution_count": 58,
   "metadata": {},
   "outputs": [
    {
     "data": {
      "text/plain": [
       "{'symbol': 'BUSDUSDT',\n",
       " 'orderId': 224878764,\n",
       " 'orderListId': -1,\n",
       " 'clientOrderId': 'mjCflHB9Vx0EcHbZPDU4Mj',\n",
       " 'price': '0.99990000',\n",
       " 'origQty': '15.00000000',\n",
       " 'executedQty': '0.00000000',\n",
       " 'cummulativeQuoteQty': '0.00000000',\n",
       " 'status': 'NEW',\n",
       " 'timeInForce': 'GTC',\n",
       " 'type': 'LIMIT',\n",
       " 'side': 'BUY',\n",
       " 'stopPrice': '0.00000000',\n",
       " 'icebergQty': '0.00000000',\n",
       " 'time': 1627029631421,\n",
       " 'updateTime': 1627029631421,\n",
       " 'isWorking': True,\n",
       " 'origQuoteOrderQty': '0.00000000'}"
      ]
     },
     "execution_count": 58,
     "metadata": {},
     "output_type": "execute_result"
    }
   ],
   "source": [
    "order = client.get_order(\n",
    "    symbol='BUSDUSDT',\n",
    "    orderId='224878764')\n",
    "order"
   ]
  },
  {
   "cell_type": "code",
   "execution_count": 38,
   "metadata": {
    "scrolled": true
   },
   "outputs": [
    {
     "data": {
      "text/plain": [
       "{'symbol': 'BUSDUSDT',\n",
       " 'orderId': 224875209,\n",
       " 'orderListId': -1,\n",
       " 'clientOrderId': '73ce25F41LYMtzvFIL6ofH',\n",
       " 'transactTime': 1627029127568,\n",
       " 'price': '1.00000000',\n",
       " 'origQty': '15.00000000',\n",
       " 'executedQty': '0.00000000',\n",
       " 'cummulativeQuoteQty': '0.00000000',\n",
       " 'status': 'NEW',\n",
       " 'timeInForce': 'GTC',\n",
       " 'type': 'LIMIT',\n",
       " 'side': 'SELL',\n",
       " 'fills': []}"
      ]
     },
     "execution_count": 38,
     "metadata": {},
     "output_type": "execute_result"
    }
   ],
   "source": [
    "order = client.order_limit_sell(\n",
    "    symbol='BUSDUSDT',\n",
    "    quantity=15,\n",
    "    price='1.0')\n",
    "order"
   ]
  },
  {
   "cell_type": "code",
   "execution_count": 108,
   "metadata": {
    "scrolled": true
   },
   "outputs": [
    {
     "data": {
      "text/plain": [
       "[{'symbol': 'BUSDUSDT',\n",
       "  'orderId': 224900874,\n",
       "  'orderListId': -1,\n",
       "  'clientOrderId': 'uMH9pN61jzOcit4vmShHgc',\n",
       "  'price': '0.99980000',\n",
       "  'origQty': '15.00000000',\n",
       "  'executedQty': '0.00000000',\n",
       "  'cummulativeQuoteQty': '0.00000000',\n",
       "  'status': 'NEW',\n",
       "  'timeInForce': 'GTC',\n",
       "  'type': 'LIMIT',\n",
       "  'side': 'BUY',\n",
       "  'stopPrice': '0.00000000',\n",
       "  'icebergQty': '0.00000000',\n",
       "  'time': 1627032247996,\n",
       "  'updateTime': 1627032247996,\n",
       "  'isWorking': True,\n",
       "  'origQuoteOrderQty': '0.00000000'}]"
      ]
     },
     "execution_count": 108,
     "metadata": {},
     "output_type": "execute_result"
    }
   ],
   "source": [
    "orders = client.get_open_orders(symbol='BUSDUSDT')\n",
    "orders"
   ]
  },
  {
   "cell_type": "code",
   "execution_count": 144,
   "metadata": {},
   "outputs": [
    {
     "data": {
      "text/plain": [
       "[{'symbol': 'BUSDUSDT',\n",
       "  'id': 152074822,\n",
       "  'orderId': 224925715,\n",
       "  'orderListId': -1,\n",
       "  'price': '1.00000000',\n",
       "  'qty': '15.00000000',\n",
       "  'quoteQty': '15.00000000',\n",
       "  'commission': '0.00000000',\n",
       "  'commissionAsset': 'BNB',\n",
       "  'time': 1627035113411,\n",
       "  'isBuyer': True,\n",
       "  'isMaker': False,\n",
       "  'isBestMatch': True}]"
      ]
     },
     "execution_count": 144,
     "metadata": {},
     "output_type": "execute_result"
    }
   ],
   "source": [
    "trades = client.get_my_trades(symbol='BUSDUSDT')\n",
    "trades"
   ]
  },
  {
   "cell_type": "code",
   "execution_count": null,
   "metadata": {},
   "outputs": [],
   "source": []
  },
  {
   "cell_type": "code",
   "execution_count": 116,
   "metadata": {},
   "outputs": [
    {
     "data": {
      "text/plain": [
       "{'lastUpdateId': 295905287,\n",
       " 'bids': [['0.99990000', '40738916.48000000'],\n",
       "  ['0.99980000', '26610363.61000000'],\n",
       "  ['0.99970000', '1903265.36000000'],\n",
       "  ['0.99960000', '1500451.99000000'],\n",
       "  ['0.99950000', '735256.72000000'],\n",
       "  ['0.99940000', '113979.35000000'],\n",
       "  ['0.99930000', '300808.87000000'],\n",
       "  ['0.99920000', '836058.57000000'],\n",
       "  ['0.99910000', '91269.53000000'],\n",
       "  ['0.99900000', '543966.50000000'],\n",
       "  ['0.99890000', '5567.85000000'],\n",
       "  ['0.99880000', '7276.35000000'],\n",
       "  ['0.99870000', '7425.96000000'],\n",
       "  ['0.99860000', '39915.43000000'],\n",
       "  ['0.99850000', '33053.66000000'],\n",
       "  ['0.99840000', '1945.35000000'],\n",
       "  ['0.99830000', '1055.72000000'],\n",
       "  ['0.99820000', '35711.56000000'],\n",
       "  ['0.99810000', '42170.82000000'],\n",
       "  ['0.99800000', '61902.76000000'],\n",
       "  ['0.99790000', '560.38000000'],\n",
       "  ['0.99780000', '43949.10000000'],\n",
       "  ['0.99770000', '5454.82000000'],\n",
       "  ['0.99760000', '220.47000000'],\n",
       "  ['0.99750000', '276473.54000000'],\n",
       "  ['0.99740000', '114.62000000'],\n",
       "  ['0.99730000', '1113.86000000'],\n",
       "  ['0.99720000', '356.70000000'],\n",
       "  ['0.99710000', '146.22000000'],\n",
       "  ['0.99700000', '34620.04000000'],\n",
       "  ['0.99690000', '110.45000000'],\n",
       "  ['0.99680000', '111.21000000'],\n",
       "  ['0.99670000', '209.96000000'],\n",
       "  ['0.99660000', '140.34000000'],\n",
       "  ['0.99650000', '241.69000000'],\n",
       "  ['0.99640000', '100.37000000'],\n",
       "  ['0.99630000', '41094.97000000'],\n",
       "  ['0.99620000', '602.29000000'],\n",
       "  ['0.99610000', '100.40000000'],\n",
       "  ['0.99600000', '2360.71000000'],\n",
       "  ['0.99590000', '100.42000000'],\n",
       "  ['0.99580000', '191.26000000'],\n",
       "  ['0.99570000', '351.51000000'],\n",
       "  ['0.99560000', '1252.21000000'],\n",
       "  ['0.99550000', '233.42000000'],\n",
       "  ['0.99540000', '1083.98000000'],\n",
       "  ['0.99530000', '1066.39000000'],\n",
       "  ['0.99520000', '5125.61000000'],\n",
       "  ['0.99510000', '8200.10000000'],\n",
       "  ['0.99500000', '45660.73000000'],\n",
       "  ['0.99490000', '100.52000000'],\n",
       "  ['0.99470000', '100.54000000'],\n",
       "  ['0.99460000', '100.55000000'],\n",
       "  ['0.99450000', '32.00000000'],\n",
       "  ['0.99440000', '74.91000000'],\n",
       "  ['0.99430000', '1005.73000000'],\n",
       "  ['0.99420000', '100.59000000'],\n",
       "  ['0.99410000', '952.25000000'],\n",
       "  ['0.99400000', '201.22000000'],\n",
       "  ['0.99390000', '201.23000000'],\n",
       "  ['0.99370000', '5000.00000000'],\n",
       "  ['0.99360000', '100.65000000'],\n",
       "  ['0.99350000', '20.00000000'],\n",
       "  ['0.99330000', '1023.86000000'],\n",
       "  ['0.99320000', '59970.00000000'],\n",
       "  ['0.99310000', '503.47000000'],\n",
       "  ['0.99300000', '18547.19000000'],\n",
       "  ['0.99280000', '430.27000000'],\n",
       "  ['0.99270000', '5096.70000000'],\n",
       "  ['0.99260000', '15.12000000'],\n",
       "  ['0.99250000', '36.13000000'],\n",
       "  ['0.99240000', '601.04000000'],\n",
       "  ['0.99230000', '80.23000000'],\n",
       "  ['0.99210000', '30.24000000'],\n",
       "  ['0.99200000', '505.22000000'],\n",
       "  ['0.99180000', '72.61000000'],\n",
       "  ['0.99160000', '52.46000000'],\n",
       "  ['0.99130000', '7888.64000000'],\n",
       "  ['0.99050000', '60.58000000'],\n",
       "  ['0.99040000', '10.10000000'],\n",
       "  ['0.99030000', '8039.48000000'],\n",
       "  ['0.99010000', '10859.32000000'],\n",
       "  ['0.99000000', '142780.70000000'],\n",
       "  ['0.98990000', '86.90000000'],\n",
       "  ['0.98980000', '808.25000000'],\n",
       "  ['0.98970000', '250.00000000'],\n",
       "  ['0.98950000', '20.22000000'],\n",
       "  ['0.98940000', '10.11000000'],\n",
       "  ['0.98930000', '40.44000000'],\n",
       "  ['0.98910000', '15.17000000'],\n",
       "  ['0.98900000', '10114.38000000'],\n",
       "  ['0.98880000', '250.20000000'],\n",
       "  ['0.98870000', '26.56000000'],\n",
       "  ['0.98850000', '1026.40000000'],\n",
       "  ['0.98840000', '101.17000000'],\n",
       "  ['0.98830000', '1775.83000000'],\n",
       "  ['0.98820000', '20.23000000'],\n",
       "  ['0.98810000', '27.50000000'],\n",
       "  ['0.98800000', '10.13000000'],\n",
       "  ['0.98790000', '963.37000000']],\n",
       " 'asks': [['1.00000000', '19904843.00000000'],\n",
       "  ['1.00010000', '13443577.15000000'],\n",
       "  ['1.00020000', '3231791.19000000'],\n",
       "  ['1.00030000', '1336438.54000000'],\n",
       "  ['1.00040000', '1896619.72000000'],\n",
       "  ['1.00050000', '596526.43000000'],\n",
       "  ['1.00060000', '446422.40000000'],\n",
       "  ['1.00070000', '101242.67000000'],\n",
       "  ['1.00080000', '39027.17000000'],\n",
       "  ['1.00090000', '148907.73000000'],\n",
       "  ['1.00100000', '80465.08000000'],\n",
       "  ['1.00110000', '113304.07000000'],\n",
       "  ['1.00120000', '16242.48000000'],\n",
       "  ['1.00130000', '20793.93000000'],\n",
       "  ['1.00140000', '2225.98000000'],\n",
       "  ['1.00150000', '96700.95000000'],\n",
       "  ['1.00160000', '1038.99000000'],\n",
       "  ['1.00170000', '51226.85000000'],\n",
       "  ['1.00180000', '35633.53000000'],\n",
       "  ['1.00190000', '51138.88000000'],\n",
       "  ['1.00200000', '21740.32000000'],\n",
       "  ['1.00210000', '51228.65000000'],\n",
       "  ['1.00220000', '1152.38000000'],\n",
       "  ['1.00230000', '51175.99000000'],\n",
       "  ['1.00240000', '1133.96000000'],\n",
       "  ['1.00250000', '64405.54000000'],\n",
       "  ['1.00260000', '1127.31000000'],\n",
       "  ['1.00270000', '51053.71000000'],\n",
       "  ['1.00280000', '272.80000000'],\n",
       "  ['1.00290000', '54178.60000000'],\n",
       "  ['1.00300000', '11422.75000000'],\n",
       "  ['1.00310000', '50010.10000000'],\n",
       "  ['1.00320000', '70.10000000'],\n",
       "  ['1.00350000', '74.99000000'],\n",
       "  ['1.00370000', '269.70000000'],\n",
       "  ['1.00380000', '100.00000000'],\n",
       "  ['1.00390000', '1919.99000000'],\n",
       "  ['1.00400000', '23970.65000000'],\n",
       "  ['1.00420000', '30.18000000'],\n",
       "  ['1.00430000', '42.96000000'],\n",
       "  ['1.00440000', '31.95000000'],\n",
       "  ['1.00450000', '5471.43000000'],\n",
       "  ['1.00460000', '127.18000000'],\n",
       "  ['1.00490000', '2542.45000000'],\n",
       "  ['1.00500000', '13353.19000000'],\n",
       "  ['1.00510000', '210.44000000'],\n",
       "  ['1.00520000', '22.02000000'],\n",
       "  ['1.00540000', '11.94000000'],\n",
       "  ['1.00550000', '53.26000000'],\n",
       "  ['1.00560000', '60.49000000'],\n",
       "  ['1.00570000', '233.11000000'],\n",
       "  ['1.00590000', '100.77000000'],\n",
       "  ['1.00600000', '30.21000000'],\n",
       "  ['1.00610000', '54.86000000'],\n",
       "  ['1.00620000', '10.10000000'],\n",
       "  ['1.00640000', '24.89000000'],\n",
       "  ['1.00650000', '110.81000000'],\n",
       "  ['1.00660000', '25.00000000'],\n",
       "  ['1.00680000', '27.53000000'],\n",
       "  ['1.00690000', '65.00000000'],\n",
       "  ['1.00700000', '86.68000000'],\n",
       "  ['1.00710000', '203.70000000'],\n",
       "  ['1.00720000', '10.10000000'],\n",
       "  ['1.00730000', '12.96000000'],\n",
       "  ['1.00750000', '3258.00000000'],\n",
       "  ['1.00760000', '50.47000000'],\n",
       "  ['1.00780000', '115.57000000'],\n",
       "  ['1.00800000', '10.41000000'],\n",
       "  ['1.00810000', '20.02000000'],\n",
       "  ['1.00820000', '171.07000000'],\n",
       "  ['1.00840000', '114.57000000'],\n",
       "  ['1.00850000', '11642.84000000'],\n",
       "  ['1.00860000', '1271.67000000'],\n",
       "  ['1.00870000', '81.52000000'],\n",
       "  ['1.00880000', '10.12000000'],\n",
       "  ['1.00890000', '72.99000000'],\n",
       "  ['1.00900000', '76.02000000'],\n",
       "  ['1.00910000', '46.68000000'],\n",
       "  ['1.00920000', '50.00000000'],\n",
       "  ['1.00930000', '15.00000000'],\n",
       "  ['1.00960000', '10.10000000'],\n",
       "  ['1.00970000', '10.12000000'],\n",
       "  ['1.00990000', '10.11000000'],\n",
       "  ['1.01000000', '131859.54000000'],\n",
       "  ['1.01020000', '110.21000000'],\n",
       "  ['1.01030000', '687.74000000'],\n",
       "  ['1.01040000', '67.24000000'],\n",
       "  ['1.01060000', '60.24000000'],\n",
       "  ['1.01070000', '15.01000000'],\n",
       "  ['1.01080000', '100.04000000'],\n",
       "  ['1.01090000', '10.11000000'],\n",
       "  ['1.01100000', '71.95000000'],\n",
       "  ['1.01110000', '180.69000000'],\n",
       "  ['1.01120000', '275.24000000'],\n",
       "  ['1.01130000', '15.00000000'],\n",
       "  ['1.01150000', '31.42000000'],\n",
       "  ['1.01160000', '30.10000000'],\n",
       "  ['1.01200000', '11.76000000'],\n",
       "  ['1.01210000', '21.87000000'],\n",
       "  ['1.01220000', '40.02000000']]}"
      ]
     },
     "execution_count": 116,
     "metadata": {},
     "output_type": "execute_result"
    }
   ],
   "source": [
    "depth = clientreal.get_order_book(symbol='BUSDUSDT')\n",
    "depth"
   ]
  },
  {
   "cell_type": "code",
   "execution_count": 65,
   "metadata": {},
   "outputs": [
    {
     "data": {
      "text/plain": [
       "[{'symbol': 'BUSDUSDT', 'makerCommission': '0', 'takerCommission': '0'}]"
      ]
     },
     "execution_count": 65,
     "metadata": {},
     "output_type": "execute_result"
    }
   ],
   "source": [
    "# get fee for one symbol\n",
    "fees = client.get_trade_fee(symbol='BUSDUSDT')\n",
    "fees"
   ]
  },
  {
   "cell_type": "code",
   "execution_count": null,
   "metadata": {},
   "outputs": [],
   "source": []
  },
  {
   "cell_type": "code",
   "execution_count": 59,
   "metadata": {
    "scrolled": true
   },
   "outputs": [
    {
     "data": {
      "text/plain": [
       "[{'symbol': 'BUSDUSDT',\n",
       "  'orderId': 224874562,\n",
       "  'orderListId': -1,\n",
       "  'clientOrderId': 'drrWPOXXUz40ht7bzAPZjV',\n",
       "  'price': '0.99990000',\n",
       "  'origQty': '15.00000000',\n",
       "  'executedQty': '0.00000000',\n",
       "  'cummulativeQuoteQty': '0.00000000',\n",
       "  'status': 'CANCELED',\n",
       "  'timeInForce': 'GTC',\n",
       "  'type': 'LIMIT',\n",
       "  'side': 'BUY',\n",
       "  'stopPrice': '0.00000000',\n",
       "  'icebergQty': '0.00000000',\n",
       "  'time': 1627029015384,\n",
       "  'updateTime': 1627029354805,\n",
       "  'isWorking': True,\n",
       "  'origQuoteOrderQty': '0.00000000'},\n",
       " {'symbol': 'BUSDUSDT',\n",
       "  'orderId': 224875209,\n",
       "  'orderListId': -1,\n",
       "  'clientOrderId': '73ce25F41LYMtzvFIL6ofH',\n",
       "  'price': '1.00000000',\n",
       "  'origQty': '15.00000000',\n",
       "  'executedQty': '0.00000000',\n",
       "  'cummulativeQuoteQty': '0.00000000',\n",
       "  'status': 'CANCELED',\n",
       "  'timeInForce': 'GTC',\n",
       "  'type': 'LIMIT',\n",
       "  'side': 'SELL',\n",
       "  'stopPrice': '0.00000000',\n",
       "  'icebergQty': '0.00000000',\n",
       "  'time': 1627029127568,\n",
       "  'updateTime': 1627029317708,\n",
       "  'isWorking': True,\n",
       "  'origQuoteOrderQty': '0.00000000'},\n",
       " {'symbol': 'BUSDUSDT',\n",
       "  'orderId': 224878764,\n",
       "  'orderListId': -1,\n",
       "  'clientOrderId': 'mjCflHB9Vx0EcHbZPDU4Mj',\n",
       "  'price': '0.99990000',\n",
       "  'origQty': '15.00000000',\n",
       "  'executedQty': '0.00000000',\n",
       "  'cummulativeQuoteQty': '0.00000000',\n",
       "  'status': 'CANCELED',\n",
       "  'timeInForce': 'GTC',\n",
       "  'type': 'LIMIT',\n",
       "  'side': 'BUY',\n",
       "  'stopPrice': '0.00000000',\n",
       "  'icebergQty': '0.00000000',\n",
       "  'time': 1627029631421,\n",
       "  'updateTime': 1627030962788,\n",
       "  'isWorking': True,\n",
       "  'origQuoteOrderQty': '0.00000000'}]"
      ]
     },
     "execution_count": 59,
     "metadata": {},
     "output_type": "execute_result"
    }
   ],
   "source": [
    "orders = client.get_all_orders(symbol='BUSDUSDT')\n",
    "orders"
   ]
  },
  {
   "cell_type": "code",
   "execution_count": null,
   "metadata": {},
   "outputs": [],
   "source": []
  }
 ],
 "metadata": {
  "kernelspec": {
   "display_name": "Python 3",
   "language": "python",
   "name": "python3"
  },
  "language_info": {
   "codemirror_mode": {
    "name": "ipython",
    "version": 3
   },
   "file_extension": ".py",
   "mimetype": "text/x-python",
   "name": "python",
   "nbconvert_exporter": "python",
   "pygments_lexer": "ipython3",
   "version": "3.8.5"
  }
 },
 "nbformat": 4,
 "nbformat_minor": 4
}
