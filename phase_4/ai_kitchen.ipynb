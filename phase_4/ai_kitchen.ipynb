{
 "cells": [
  {
   "cell_type": "code",
   "execution_count": 5,
   "metadata": {},
   "outputs": [],
   "source": [
    "from glob import glob\n",
    "import os\n",
    "\n",
    "import random\n",
    "import numpy as np\n",
    "import pandas as pd\n",
    "import matplotlib.pyplot as plt\n",
    "import seaborn as sns\n",
    "import datetime\n",
    "\n",
    "from sklearn.metrics import classification_report, confusion_matrix"
   ]
  },
  {
   "cell_type": "code",
   "execution_count": 6,
   "metadata": {},
   "outputs": [
    {
     "data": {
      "text/plain": [
       "('17_12_2021_12_41_33', '16_12_2021_12_41_33')"
      ]
     },
     "execution_count": 6,
     "metadata": {},
     "output_type": "execute_result"
    }
   ],
   "source": [
    "m = 1\n",
    "diff1 = datetime.datetime.today() - datetime.timedelta(hours=5) - datetime.timedelta(days=m-1)\n",
    "now1 = diff1.strftime(\"%d_%m_%Y_%H_%M_%S\")\n",
    "diff2 = datetime.datetime.today() - datetime.timedelta(hours=5) - datetime.timedelta(days=m)\n",
    "now2 = diff2.strftime(\"%d_%m_%Y_%H_%M_%S\")\n",
    "now1, now2"
   ]
  },
  {
   "cell_type": "code",
   "execution_count": 7,
   "metadata": {},
   "outputs": [
    {
     "data": {
      "text/plain": [
       "14"
      ]
     },
     "execution_count": 7,
     "metadata": {},
     "output_type": "execute_result"
    }
   ],
   "source": [
    "coins = ['ada', 'bch', 'btc', 'doge', 'dot', 'eos', 'etc', 'eth', 'link', 'ltc', 'sol', 'uni', 'xlm', 'xrp']\n",
    "len(coins)"
   ]
  },
  {
   "cell_type": "code",
   "execution_count": 8,
   "metadata": {},
   "outputs": [],
   "source": [
    "T1 = []\n",
    "total1 = 0\n",
    "D1 = {}\n",
    "for i in coins:\n",
    "    ds = pd.read_csv(f'Xs/round2/{i}.csv')\n",
    "    ds = ds.drop_duplicates().dropna()\n",
    "    D1[i] = [ds.shape[0]]\n",
    "    T1.append(ds)\n",
    "    total1+=ds.shape[0]\n",
    "coin = 'all'"
   ]
  },
  {
   "cell_type": "code",
   "execution_count": 9,
   "metadata": {},
   "outputs": [],
   "source": [
    "T2 = []\n",
    "total2 = 0\n",
    "for i in coins:\n",
    "    ds = pd.read_csv(f'Xs/round1/{i}.csv')\n",
    "    ds = ds.drop_duplicates().dropna()\n",
    "    if i not in D1:\n",
    "        D1[i] = [ds.shape[0]]\n",
    "    else:\n",
    "        D1[i].append(ds.shape[0])\n",
    "    T2.append(ds)\n",
    "    total2+=ds.shape[0]\n",
    "coin = 'all'"
   ]
  },
  {
   "cell_type": "code",
   "execution_count": 10,
   "metadata": {},
   "outputs": [
    {
     "data": {
      "text/plain": [
       "{'ada': [496, 4.88],\n",
       " 'bch': [506, 4.97],\n",
       " 'btc': [1013, 9.96],\n",
       " 'doge': [1207, 11.87],\n",
       " 'dot': [525, 5.16],\n",
       " 'eos': [561, 5.52],\n",
       " 'etc': [676, 6.65],\n",
       " 'eth': [1438, 14.14],\n",
       " 'link': [472, 4.64],\n",
       " 'ltc': [719, 7.07],\n",
       " 'sol': [599, 5.89],\n",
       " 'uni': [532, 5.23],\n",
       " 'xlm': [645, 6.34],\n",
       " 'xrp': [783, 7.7]}"
      ]
     },
     "execution_count": 10,
     "metadata": {},
     "output_type": "execute_result"
    }
   ],
   "source": [
    "D = {}\n",
    "for i in D1:\n",
    "    D[i] = [sum(D1[i]), round(100*sum(D1[i])/10172, 2)]\n",
    "# D\n",
    "# np.array(list(D.values())).sum()\n",
    "D"
   ]
  },
  {
   "cell_type": "code",
   "execution_count": 11,
   "metadata": {},
   "outputs": [
    {
     "data": {
      "text/plain": [
       "10172"
      ]
     },
     "execution_count": 11,
     "metadata": {},
     "output_type": "execute_result"
    }
   ],
   "source": [
    "total1+total2"
   ]
  },
  {
   "cell_type": "code",
   "execution_count": 12,
   "metadata": {},
   "outputs": [
    {
     "name": "stdout",
     "output_type": "stream",
     "text": [
      "(8592, 54)\n"
     ]
    },
    {
     "data": {
      "text/html": [
       "<div>\n",
       "<style scoped>\n",
       "    .dataframe tbody tr th:only-of-type {\n",
       "        vertical-align: middle;\n",
       "    }\n",
       "\n",
       "    .dataframe tbody tr th {\n",
       "        vertical-align: top;\n",
       "    }\n",
       "\n",
       "    .dataframe thead th {\n",
       "        text-align: right;\n",
       "    }\n",
       "</style>\n",
       "<table border=\"1\" class=\"dataframe\">\n",
       "  <thead>\n",
       "    <tr style=\"text-align: right;\">\n",
       "      <th></th>\n",
       "      <th>target</th>\n",
       "      <th>n</th>\n",
       "      <th>diff1</th>\n",
       "      <th>diff2</th>\n",
       "      <th>media_rb_10</th>\n",
       "      <th>media_ra_10</th>\n",
       "      <th>media_rb_25</th>\n",
       "      <th>media_ra_25</th>\n",
       "      <th>media_rb_50</th>\n",
       "      <th>media_ra_50</th>\n",
       "      <th>...</th>\n",
       "      <th>outro_rb_10</th>\n",
       "      <th>outro_ra_10</th>\n",
       "      <th>outro_rb_25</th>\n",
       "      <th>outro_ra_25</th>\n",
       "      <th>outro_rb_50</th>\n",
       "      <th>outro_ra_50</th>\n",
       "      <th>outro_rb_100</th>\n",
       "      <th>outro_ra_100</th>\n",
       "      <th>outro_rb_250</th>\n",
       "      <th>outro_ra_250</th>\n",
       "    </tr>\n",
       "  </thead>\n",
       "  <tbody>\n",
       "    <tr>\n",
       "      <th>0</th>\n",
       "      <td>1.0</td>\n",
       "      <td>5.0</td>\n",
       "      <td>0.685687</td>\n",
       "      <td>1.001049</td>\n",
       "      <td>0.470480</td>\n",
       "      <td>0.529520</td>\n",
       "      <td>0.519650</td>\n",
       "      <td>0.480350</td>\n",
       "      <td>0.493376</td>\n",
       "      <td>0.506624</td>\n",
       "      <td>...</td>\n",
       "      <td>0.449218</td>\n",
       "      <td>0.550782</td>\n",
       "      <td>0.509957</td>\n",
       "      <td>0.490043</td>\n",
       "      <td>0.524450</td>\n",
       "      <td>0.475550</td>\n",
       "      <td>0.489591</td>\n",
       "      <td>0.510409</td>\n",
       "      <td>0.472838</td>\n",
       "      <td>0.527162</td>\n",
       "    </tr>\n",
       "    <tr>\n",
       "      <th>1</th>\n",
       "      <td>0.0</td>\n",
       "      <td>4.0</td>\n",
       "      <td>0.128506</td>\n",
       "      <td>0.451285</td>\n",
       "      <td>0.486180</td>\n",
       "      <td>0.513820</td>\n",
       "      <td>0.477848</td>\n",
       "      <td>0.522152</td>\n",
       "      <td>0.521652</td>\n",
       "      <td>0.478348</td>\n",
       "      <td>...</td>\n",
       "      <td>0.425607</td>\n",
       "      <td>0.574393</td>\n",
       "      <td>0.484575</td>\n",
       "      <td>0.515425</td>\n",
       "      <td>0.523329</td>\n",
       "      <td>0.476671</td>\n",
       "      <td>0.513296</td>\n",
       "      <td>0.486704</td>\n",
       "      <td>0.481504</td>\n",
       "      <td>0.518496</td>\n",
       "    </tr>\n",
       "    <tr>\n",
       "      <th>2</th>\n",
       "      <td>1.0</td>\n",
       "      <td>6.0</td>\n",
       "      <td>0.209147</td>\n",
       "      <td>0.515755</td>\n",
       "      <td>0.443569</td>\n",
       "      <td>0.556431</td>\n",
       "      <td>0.471258</td>\n",
       "      <td>0.528742</td>\n",
       "      <td>0.504821</td>\n",
       "      <td>0.495179</td>\n",
       "      <td>...</td>\n",
       "      <td>0.511948</td>\n",
       "      <td>0.488052</td>\n",
       "      <td>0.501723</td>\n",
       "      <td>0.498277</td>\n",
       "      <td>0.505666</td>\n",
       "      <td>0.494334</td>\n",
       "      <td>0.487643</td>\n",
       "      <td>0.512357</td>\n",
       "      <td>0.469902</td>\n",
       "      <td>0.530098</td>\n",
       "    </tr>\n",
       "  </tbody>\n",
       "</table>\n",
       "<p>3 rows × 54 columns</p>\n",
       "</div>"
      ],
      "text/plain": [
       "   target    n     diff1     diff2  media_rb_10  media_ra_10  media_rb_25  \\\n",
       "0     1.0  5.0  0.685687  1.001049     0.470480     0.529520     0.519650   \n",
       "1     0.0  4.0  0.128506  0.451285     0.486180     0.513820     0.477848   \n",
       "2     1.0  6.0  0.209147  0.515755     0.443569     0.556431     0.471258   \n",
       "\n",
       "   media_ra_25  media_rb_50  media_ra_50  ...  outro_rb_10  outro_ra_10  \\\n",
       "0     0.480350     0.493376     0.506624  ...     0.449218     0.550782   \n",
       "1     0.522152     0.521652     0.478348  ...     0.425607     0.574393   \n",
       "2     0.528742     0.504821     0.495179  ...     0.511948     0.488052   \n",
       "\n",
       "   outro_rb_25  outro_ra_25  outro_rb_50  outro_ra_50  outro_rb_100  \\\n",
       "0     0.509957     0.490043     0.524450     0.475550      0.489591   \n",
       "1     0.484575     0.515425     0.523329     0.476671      0.513296   \n",
       "2     0.501723     0.498277     0.505666     0.494334      0.487643   \n",
       "\n",
       "   outro_ra_100  outro_rb_250  outro_ra_250  \n",
       "0      0.510409      0.472838      0.527162  \n",
       "1      0.486704      0.481504      0.518496  \n",
       "2      0.512357      0.469902      0.530098  \n",
       "\n",
       "[3 rows x 54 columns]"
      ]
     },
     "execution_count": 12,
     "metadata": {},
     "output_type": "execute_result"
    }
   ],
   "source": [
    "ds = pd.concat(T1+T2, axis=0).drop_duplicates()# [Cs]\n",
    "print(ds.shape)\n",
    "ds.head(3)"
   ]
  },
  {
   "cell_type": "code",
   "execution_count": 13,
   "metadata": {},
   "outputs": [],
   "source": [
    "ds.to_csv('fit.csv', sep=\"|\", index=False)"
   ]
  },
  {
   "cell_type": "code",
   "execution_count": 14,
   "metadata": {},
   "outputs": [
    {
     "name": "stdout",
     "output_type": "stream",
     "text": [
      "^C\n"
     ]
    }
   ],
   "source": [
    "!pip install polars"
   ]
  },
  {
   "cell_type": "code",
   "execution_count": 15,
   "metadata": {},
   "outputs": [],
   "source": [
    "import polars as pl"
   ]
  },
  {
   "cell_type": "code",
   "execution_count": 16,
   "metadata": {},
   "outputs": [
    {
     "data": {
      "text/html": [
       "<div>\n",
       "<style scoped>\n",
       "    .dataframe tbody tr th:only-of-type {\n",
       "        vertical-align: middle;\n",
       "    }\n",
       "\n",
       "    .dataframe tbody tr th {\n",
       "        vertical-align: top;\n",
       "    }\n",
       "\n",
       "    .dataframe thead th {\n",
       "        text-align: right;\n",
       "    }\n",
       "</style>\n",
       "<table border=\"1 \"class=\"dataframe \">\n",
       "<thead>\n",
       "<tr>\n",
       "<th>\n",
       "target\n",
       "</th>\n",
       "<th>\n",
       "n\n",
       "</th>\n",
       "<th>\n",
       "diff1\n",
       "</th>\n",
       "<th>\n",
       "diff2\n",
       "</th>\n",
       "<th>\n",
       "media_rb_10\n",
       "</th>\n",
       "<th>\n",
       "media_ra_10\n",
       "</th>\n",
       "<th>\n",
       "media_rb_25\n",
       "</th>\n",
       "<th>\n",
       "media_ra_25\n",
       "</th>\n",
       "<th>\n",
       "media_rb_50\n",
       "</th>\n",
       "<th>\n",
       "media_ra_50\n",
       "</th>\n",
       "<th>\n",
       "media_rb_100\n",
       "</th>\n",
       "<th>\n",
       "media_ra_100\n",
       "</th>\n",
       "<th>\n",
       "media_rb_250\n",
       "</th>\n",
       "<th>\n",
       "media_ra_250\n",
       "</th>\n",
       "<th>\n",
       "intro_rb_10\n",
       "</th>\n",
       "<th>\n",
       "intro_ra_10\n",
       "</th>\n",
       "<th>\n",
       "intro_rb_25\n",
       "</th>\n",
       "<th>\n",
       "intro_ra_25\n",
       "</th>\n",
       "<th>\n",
       "intro_rb_50\n",
       "</th>\n",
       "<th>\n",
       "intro_ra_50\n",
       "</th>\n",
       "<th>\n",
       "intro_rb_100\n",
       "</th>\n",
       "<th>\n",
       "intro_ra_100\n",
       "</th>\n",
       "<th>\n",
       "intro_rb_250\n",
       "</th>\n",
       "<th>\n",
       "intro_ra_250\n",
       "</th>\n",
       "<th>\n",
       "adagio_rb_10\n",
       "</th>\n",
       "<th>\n",
       "adagio_ra_10\n",
       "</th>\n",
       "<th>\n",
       "adagio_rb_25\n",
       "</th>\n",
       "<th>\n",
       "adagio_ra_25\n",
       "</th>\n",
       "<th>\n",
       "adagio_rb_50\n",
       "</th>\n",
       "<th>\n",
       "adagio_ra_50\n",
       "</th>\n",
       "<th>\n",
       "adagio_rb_100\n",
       "</th>\n",
       "<th>\n",
       "adagio_ra_100\n",
       "</th>\n",
       "<th>\n",
       "adagio_rb_250\n",
       "</th>\n",
       "<th>\n",
       "adagio_ra_250\n",
       "</th>\n",
       "<th>\n",
       "scherzo_rb_10\n",
       "</th>\n",
       "<th>\n",
       "scherzo_ra_10\n",
       "</th>\n",
       "<th>\n",
       "scherzo_rb_25\n",
       "</th>\n",
       "<th>\n",
       "scherzo_ra_25\n",
       "</th>\n",
       "<th>\n",
       "scherzo_rb_50\n",
       "</th>\n",
       "<th>\n",
       "scherzo_ra_50\n",
       "</th>\n",
       "<th>\n",
       "scherzo_rb_100\n",
       "</th>\n",
       "<th>\n",
       "scherzo_ra_100\n",
       "</th>\n",
       "<th>\n",
       "scherzo_rb_250\n",
       "</th>\n",
       "<th>\n",
       "scherzo_ra_250\n",
       "</th>\n",
       "<th>\n",
       "outro_rb_10\n",
       "</th>\n",
       "<th>\n",
       "outro_ra_10\n",
       "</th>\n",
       "<th>\n",
       "outro_rb_25\n",
       "</th>\n",
       "<th>\n",
       "outro_ra_25\n",
       "</th>\n",
       "<th>\n",
       "outro_rb_50\n",
       "</th>\n",
       "<th>\n",
       "outro_ra_50\n",
       "</th>\n",
       "<th>\n",
       "outro_rb_100\n",
       "</th>\n",
       "<th>\n",
       "outro_ra_100\n",
       "</th>\n",
       "<th>\n",
       "outro_rb_250\n",
       "</th>\n",
       "<th>\n",
       "outro_ra_250\n",
       "</th>\n",
       "</tr>\n",
       "<tr>\n",
       "<td>\n",
       "f64\n",
       "</td>\n",
       "<td>\n",
       "f64\n",
       "</td>\n",
       "<td>\n",
       "f64\n",
       "</td>\n",
       "<td>\n",
       "f64\n",
       "</td>\n",
       "<td>\n",
       "f64\n",
       "</td>\n",
       "<td>\n",
       "f64\n",
       "</td>\n",
       "<td>\n",
       "f64\n",
       "</td>\n",
       "<td>\n",
       "f64\n",
       "</td>\n",
       "<td>\n",
       "f64\n",
       "</td>\n",
       "<td>\n",
       "f64\n",
       "</td>\n",
       "<td>\n",
       "f64\n",
       "</td>\n",
       "<td>\n",
       "f64\n",
       "</td>\n",
       "<td>\n",
       "f64\n",
       "</td>\n",
       "<td>\n",
       "f64\n",
       "</td>\n",
       "<td>\n",
       "f64\n",
       "</td>\n",
       "<td>\n",
       "f64\n",
       "</td>\n",
       "<td>\n",
       "f64\n",
       "</td>\n",
       "<td>\n",
       "f64\n",
       "</td>\n",
       "<td>\n",
       "f64\n",
       "</td>\n",
       "<td>\n",
       "f64\n",
       "</td>\n",
       "<td>\n",
       "f64\n",
       "</td>\n",
       "<td>\n",
       "f64\n",
       "</td>\n",
       "<td>\n",
       "f64\n",
       "</td>\n",
       "<td>\n",
       "f64\n",
       "</td>\n",
       "<td>\n",
       "f64\n",
       "</td>\n",
       "<td>\n",
       "f64\n",
       "</td>\n",
       "<td>\n",
       "f64\n",
       "</td>\n",
       "<td>\n",
       "f64\n",
       "</td>\n",
       "<td>\n",
       "f64\n",
       "</td>\n",
       "<td>\n",
       "f64\n",
       "</td>\n",
       "<td>\n",
       "f64\n",
       "</td>\n",
       "<td>\n",
       "f64\n",
       "</td>\n",
       "<td>\n",
       "f64\n",
       "</td>\n",
       "<td>\n",
       "f64\n",
       "</td>\n",
       "<td>\n",
       "f64\n",
       "</td>\n",
       "<td>\n",
       "f64\n",
       "</td>\n",
       "<td>\n",
       "f64\n",
       "</td>\n",
       "<td>\n",
       "f64\n",
       "</td>\n",
       "<td>\n",
       "f64\n",
       "</td>\n",
       "<td>\n",
       "f64\n",
       "</td>\n",
       "<td>\n",
       "f64\n",
       "</td>\n",
       "<td>\n",
       "f64\n",
       "</td>\n",
       "<td>\n",
       "f64\n",
       "</td>\n",
       "<td>\n",
       "f64\n",
       "</td>\n",
       "<td>\n",
       "f64\n",
       "</td>\n",
       "<td>\n",
       "f64\n",
       "</td>\n",
       "<td>\n",
       "f64\n",
       "</td>\n",
       "<td>\n",
       "f64\n",
       "</td>\n",
       "<td>\n",
       "f64\n",
       "</td>\n",
       "<td>\n",
       "f64\n",
       "</td>\n",
       "<td>\n",
       "f64\n",
       "</td>\n",
       "<td>\n",
       "f64\n",
       "</td>\n",
       "<td>\n",
       "f64\n",
       "</td>\n",
       "<td>\n",
       "f64\n",
       "</td>\n",
       "</tr>\n",
       "</thead>\n",
       "<tbody>\n",
       "<tr>\n",
       "<td>\n",
       "1\n",
       "</td>\n",
       "<td>\n",
       "5\n",
       "</td>\n",
       "<td>\n",
       "0.6856869460112844\n",
       "</td>\n",
       "<td>\n",
       "1.001049487365802\n",
       "</td>\n",
       "<td>\n",
       "0.4704796779994834\n",
       "</td>\n",
       "<td>\n",
       "0.5295203220005166\n",
       "</td>\n",
       "<td>\n",
       "0.5196503629768042\n",
       "</td>\n",
       "<td>\n",
       "0.4803496370231959\n",
       "</td>\n",
       "<td>\n",
       "0.4933758135269334\n",
       "</td>\n",
       "<td>\n",
       "0.5066241864730665\n",
       "</td>\n",
       "<td>\n",
       "0.4998428145331887\n",
       "</td>\n",
       "<td>\n",
       "0.5001571854668112\n",
       "</td>\n",
       "<td>\n",
       "0.4793328882307726\n",
       "</td>\n",
       "<td>\n",
       "0.5206671117692273\n",
       "</td>\n",
       "<td>\n",
       "0.4732292428270033\n",
       "</td>\n",
       "<td>\n",
       "0.5267707571729967\n",
       "</td>\n",
       "<td>\n",
       "0.5358615538911147\n",
       "</td>\n",
       "<td>\n",
       "0.4641384461088854\n",
       "</td>\n",
       "<td>\n",
       "0.4942470265424454\n",
       "</td>\n",
       "<td>\n",
       "0.5057529734575547\n",
       "</td>\n",
       "<td>\n",
       "0.5201161640872413\n",
       "</td>\n",
       "<td>\n",
       "0.4798838359127587\n",
       "</td>\n",
       "<td>\n",
       "0.4870317355561229\n",
       "</td>\n",
       "<td>\n",
       "0.512968264443877\n",
       "</td>\n",
       "<td>\n",
       "0.4654431225151827\n",
       "</td>\n",
       "<td>\n",
       "0.5345568774848173\n",
       "</td>\n",
       "<td>\n",
       "0.5321340298559532\n",
       "</td>\n",
       "<td>\n",
       "0.4678659701440469\n",
       "</td>\n",
       "<td>\n",
       "0.4967854193489297\n",
       "</td>\n",
       "<td>\n",
       "0.5032145806510704\n",
       "</td>\n",
       "<td>\n",
       "0.511472616311644\n",
       "</td>\n",
       "<td>\n",
       "0.488527383688356\n",
       "</td>\n",
       "<td>\n",
       "0.4847287766636318\n",
       "</td>\n",
       "<td>\n",
       "0.5152712233363681\n",
       "</td>\n",
       "<td>\n",
       "0.4654898007213599\n",
       "</td>\n",
       "<td>\n",
       "0.5345101992786402\n",
       "</td>\n",
       "<td>\n",
       "0.5253311229659019\n",
       "</td>\n",
       "<td>\n",
       "0.4746688770340982\n",
       "</td>\n",
       "<td>\n",
       "0.4876083003520912\n",
       "</td>\n",
       "<td>\n",
       "0.5123916996479089\n",
       "</td>\n",
       "<td>\n",
       "0.5027038546956154\n",
       "</td>\n",
       "<td>\n",
       "0.4972961453043845\n",
       "</td>\n",
       "<td>\n",
       "0.4818188240151639\n",
       "</td>\n",
       "<td>\n",
       "0.5181811759848362\n",
       "</td>\n",
       "<td>\n",
       "0.4492180156835709\n",
       "</td>\n",
       "<td>\n",
       "0.550781984316429\n",
       "</td>\n",
       "<td>\n",
       "0.5099571028778273\n",
       "</td>\n",
       "<td>\n",
       "0.4900428971221727\n",
       "</td>\n",
       "<td>\n",
       "0.5244503095124202\n",
       "</td>\n",
       "<td>\n",
       "0.4755496904875797\n",
       "</td>\n",
       "<td>\n",
       "0.4895911257489075\n",
       "</td>\n",
       "<td>\n",
       "0.5104088742510926\n",
       "</td>\n",
       "<td>\n",
       "0.4728376791329184\n",
       "</td>\n",
       "<td>\n",
       "0.5271623208670816\n",
       "</td>\n",
       "</tr>\n",
       "<tr>\n",
       "<td>\n",
       "0.0\n",
       "</td>\n",
       "<td>\n",
       "4\n",
       "</td>\n",
       "<td>\n",
       "0.1285062828742299\n",
       "</td>\n",
       "<td>\n",
       "0.4512853574018897\n",
       "</td>\n",
       "<td>\n",
       "0.486180229612886\n",
       "</td>\n",
       "<td>\n",
       "0.513819770387114\n",
       "</td>\n",
       "<td>\n",
       "0.4778482916568053\n",
       "</td>\n",
       "<td>\n",
       "0.5221517083431946\n",
       "</td>\n",
       "<td>\n",
       "0.5216524593892996\n",
       "</td>\n",
       "<td>\n",
       "0.4783475406107005\n",
       "</td>\n",
       "<td>\n",
       "0.5054520225893694\n",
       "</td>\n",
       "<td>\n",
       "0.4945479774106306\n",
       "</td>\n",
       "<td>\n",
       "0.4688374737378573\n",
       "</td>\n",
       "<td>\n",
       "0.5311625262621427\n",
       "</td>\n",
       "<td>\n",
       "0.5578916550372557\n",
       "</td>\n",
       "<td>\n",
       "0.4421083449627443\n",
       "</td>\n",
       "<td>\n",
       "0.545547911850598\n",
       "</td>\n",
       "<td>\n",
       "0.4544520881494019\n",
       "</td>\n",
       "<td>\n",
       "0.5446301669475114\n",
       "</td>\n",
       "<td>\n",
       "0.4553698330524885\n",
       "</td>\n",
       "<td>\n",
       "0.5325044484555062\n",
       "</td>\n",
       "<td>\n",
       "0.4674955515444938\n",
       "</td>\n",
       "<td>\n",
       "0.4783227188638812\n",
       "</td>\n",
       "<td>\n",
       "0.5216772811361188\n",
       "</td>\n",
       "<td>\n",
       "0.5430842743505022\n",
       "</td>\n",
       "<td>\n",
       "0.4569157256494978\n",
       "</td>\n",
       "<td>\n",
       "0.5235614872782894\n",
       "</td>\n",
       "<td>\n",
       "0.4764385127217104\n",
       "</td>\n",
       "<td>\n",
       "0.5416535007306664\n",
       "</td>\n",
       "<td>\n",
       "0.4583464992693337\n",
       "</td>\n",
       "<td>\n",
       "0.5157795255432334\n",
       "</td>\n",
       "<td>\n",
       "0.4842204744567667\n",
       "</td>\n",
       "<td>\n",
       "0.4657797367141432\n",
       "</td>\n",
       "<td>\n",
       "0.5342202632858568\n",
       "</td>\n",
       "<td>\n",
       "0.5430842743505022\n",
       "</td>\n",
       "<td>\n",
       "0.4569157256494978\n",
       "</td>\n",
       "<td>\n",
       "0.5235614872782894\n",
       "</td>\n",
       "<td>\n",
       "0.4764385127217104\n",
       "</td>\n",
       "<td>\n",
       "0.5416535007306664\n",
       "</td>\n",
       "<td>\n",
       "0.4583464992693337\n",
       "</td>\n",
       "<td>\n",
       "0.5157795255432334\n",
       "</td>\n",
       "<td>\n",
       "0.4842204744567667\n",
       "</td>\n",
       "<td>\n",
       "0.4657797367141432\n",
       "</td>\n",
       "<td>\n",
       "0.5342202632858568\n",
       "</td>\n",
       "<td>\n",
       "0.4256069519304032\n",
       "</td>\n",
       "<td>\n",
       "0.5743930480695968\n",
       "</td>\n",
       "<td>\n",
       "0.484574574687253\n",
       "</td>\n",
       "<td>\n",
       "0.5154254253127468\n",
       "</td>\n",
       "<td>\n",
       "0.5233288080122969\n",
       "</td>\n",
       "<td>\n",
       "0.476671191987703\n",
       "</td>\n",
       "<td>\n",
       "0.5132962134638227\n",
       "</td>\n",
       "<td>\n",
       "0.4867037865361774\n",
       "</td>\n",
       "<td>\n",
       "0.481504040583556\n",
       "</td>\n",
       "<td>\n",
       "0.518495959416444\n",
       "</td>\n",
       "</tr>\n",
       "<tr>\n",
       "<td>\n",
       "1\n",
       "</td>\n",
       "<td>\n",
       "6\n",
       "</td>\n",
       "<td>\n",
       "0.2091472500389798\n",
       "</td>\n",
       "<td>\n",
       "0.5157546941735985\n",
       "</td>\n",
       "<td>\n",
       "0.4435691588850381\n",
       "</td>\n",
       "<td>\n",
       "0.5564308411149619\n",
       "</td>\n",
       "<td>\n",
       "0.4712580172489571\n",
       "</td>\n",
       "<td>\n",
       "0.5287419827510428\n",
       "</td>\n",
       "<td>\n",
       "0.504821178031766\n",
       "</td>\n",
       "<td>\n",
       "0.495178821968234\n",
       "</td>\n",
       "<td>\n",
       "0.51391054659404\n",
       "</td>\n",
       "<td>\n",
       "0.4860894534059599\n",
       "</td>\n",
       "<td>\n",
       "0.4763677981084193\n",
       "</td>\n",
       "<td>\n",
       "0.5236322018915808\n",
       "</td>\n",
       "<td>\n",
       "0.521992272489581\n",
       "</td>\n",
       "<td>\n",
       "0.478007727510419\n",
       "</td>\n",
       "<td>\n",
       "0.4609867607252231\n",
       "</td>\n",
       "<td>\n",
       "0.539013239274777\n",
       "</td>\n",
       "<td>\n",
       "0.516420828111342\n",
       "</td>\n",
       "<td>\n",
       "0.4835791718886579\n",
       "</td>\n",
       "<td>\n",
       "0.5039116050028138\n",
       "</td>\n",
       "<td>\n",
       "0.4960883949971861\n",
       "</td>\n",
       "<td>\n",
       "0.4787703130275467\n",
       "</td>\n",
       "<td>\n",
       "0.5212296869724532\n",
       "</td>\n",
       "<td>\n",
       "0.4572876973624026\n",
       "</td>\n",
       "<td>\n",
       "0.5427123026375974\n",
       "</td>\n",
       "<td>\n",
       "0.4608759606757471\n",
       "</td>\n",
       "<td>\n",
       "0.5391240393242529\n",
       "</td>\n",
       "<td>\n",
       "0.5069707574644434\n",
       "</td>\n",
       "<td>\n",
       "0.4930292425355565\n",
       "</td>\n",
       "<td>\n",
       "0.5083635872383463\n",
       "</td>\n",
       "<td>\n",
       "0.4916364127616537\n",
       "</td>\n",
       "<td>\n",
       "0.4767098447171674\n",
       "</td>\n",
       "<td>\n",
       "0.5232901552828326\n",
       "</td>\n",
       "<td>\n",
       "0.4333874001912947\n",
       "</td>\n",
       "<td>\n",
       "0.5666125998087053\n",
       "</td>\n",
       "<td>\n",
       "0.4642278259008756\n",
       "</td>\n",
       "<td>\n",
       "0.5357721740991244\n",
       "</td>\n",
       "<td>\n",
       "0.5060214686759021\n",
       "</td>\n",
       "<td>\n",
       "0.4939785313240978\n",
       "</td>\n",
       "<td>\n",
       "0.5252700808017422\n",
       "</td>\n",
       "<td>\n",
       "0.4747299191982578\n",
       "</td>\n",
       "<td>\n",
       "0.4792996149158197\n",
       "</td>\n",
       "<td>\n",
       "0.5207003850841803\n",
       "</td>\n",
       "<td>\n",
       "0.5119481900139791\n",
       "</td>\n",
       "<td>\n",
       "0.488051809986021\n",
       "</td>\n",
       "<td>\n",
       "0.5017234138928321\n",
       "</td>\n",
       "<td>\n",
       "0.4982765861071679\n",
       "</td>\n",
       "<td>\n",
       "0.5056656323465989\n",
       "</td>\n",
       "<td>\n",
       "0.494334367653401\n",
       "</td>\n",
       "<td>\n",
       "0.4876432328928991\n",
       "</td>\n",
       "<td>\n",
       "0.512356767107101\n",
       "</td>\n",
       "<td>\n",
       "0.4699019862265382\n",
       "</td>\n",
       "<td>\n",
       "0.5300980137734618\n",
       "</td>\n",
       "</tr>\n",
       "</tbody>\n",
       "</table>\n",
       "</div>"
      ],
      "text/plain": [
       "shape: (3, 54)\n",
       "┌────────┬─────┬────────────┬────────────┬─────┬────────────┬────────────┬────────────┬────────────┐\n",
       "│ target ┆ n   ┆ diff1      ┆ diff2      ┆ ... ┆ outro_rb_1 ┆ outro_ra_1 ┆ outro_rb_2 ┆ outro_ra_2 │\n",
       "│ ---    ┆ --- ┆ ---        ┆ ---        ┆     ┆ 00         ┆ 00         ┆ 50         ┆ 50         │\n",
       "│ f64    ┆ f64 ┆ f64        ┆ f64        ┆     ┆ ---        ┆ ---        ┆ ---        ┆ ---        │\n",
       "│        ┆     ┆            ┆            ┆     ┆ f64        ┆ f64        ┆ f64        ┆ f64        │\n",
       "╞════════╪═════╪════════════╪════════════╪═════╪════════════╪════════════╪════════════╪════════════╡\n",
       "│ 1      ┆ 5   ┆ 0.68568694 ┆ 1.00104948 ┆ ... ┆ 0.48959112 ┆ 0.51040887 ┆ 0.47283767 ┆ 0.52716232 │\n",
       "│        ┆     ┆ 60112844   ┆ 7365802    ┆     ┆ 57489075   ┆ 42510926   ┆ 91329184   ┆ 08670816   │\n",
       "├╌╌╌╌╌╌╌╌┼╌╌╌╌╌┼╌╌╌╌╌╌╌╌╌╌╌╌┼╌╌╌╌╌╌╌╌╌╌╌╌┼╌╌╌╌╌┼╌╌╌╌╌╌╌╌╌╌╌╌┼╌╌╌╌╌╌╌╌╌╌╌╌┼╌╌╌╌╌╌╌╌╌╌╌╌┼╌╌╌╌╌╌╌╌╌╌╌╌┤\n",
       "│ 0.0    ┆ 4   ┆ 0.12850628 ┆ 0.45128535 ┆ ... ┆ 0.51329621 ┆ 0.48670378 ┆ 0.48150404 ┆ 0.51849595 │\n",
       "│        ┆     ┆ 28742299   ┆ 74018897   ┆     ┆ 34638227   ┆ 65361774   ┆ 0583556    ┆ 9416444    │\n",
       "├╌╌╌╌╌╌╌╌┼╌╌╌╌╌┼╌╌╌╌╌╌╌╌╌╌╌╌┼╌╌╌╌╌╌╌╌╌╌╌╌┼╌╌╌╌╌┼╌╌╌╌╌╌╌╌╌╌╌╌┼╌╌╌╌╌╌╌╌╌╌╌╌┼╌╌╌╌╌╌╌╌╌╌╌╌┼╌╌╌╌╌╌╌╌╌╌╌╌┤\n",
       "│ 1      ┆ 6   ┆ 0.20914725 ┆ 0.51575469 ┆ ... ┆ 0.48764323 ┆ 0.51235676 ┆ 0.46990198 ┆ 0.53009801 │\n",
       "│        ┆     ┆ 00389798   ┆ 41735985   ┆     ┆ 28928991   ┆ 7107101    ┆ 62265382   ┆ 37734618   │\n",
       "└────────┴─────┴────────────┴────────────┴─────┴────────────┴────────────┴────────────┴────────────┘"
      ]
     },
     "execution_count": 16,
     "metadata": {},
     "output_type": "execute_result"
    }
   ],
   "source": [
    "# %%timeit\n",
    "dff = pl.read_csv('fit.csv', sep=\"|\")\n",
    "dff.head(3)"
   ]
  },
  {
   "cell_type": "code",
   "execution_count": 85,
   "metadata": {},
   "outputs": [
    {
     "name": "stdout",
     "output_type": "stream",
     "text": [
      "154 ms ± 8.27 ms per loop (mean ± std. dev. of 7 runs, 10 loops each)\n"
     ]
    }
   ],
   "source": [
    "%%timeit\n",
    "dff2 = pd.read_csv('fit.csv', sep=\"|\")\n",
    "dff2.head(3)"
   ]
  },
  {
   "cell_type": "code",
   "execution_count": 86,
   "metadata": {},
   "outputs": [
    {
     "name": "stdout",
     "output_type": "stream",
     "text": [
      "17.2 ms ± 821 µs per loop (mean ± std. dev. of 7 runs, 100 loops each)\n"
     ]
    }
   ],
   "source": [
    "%%timeit\n",
    "pl.read_csv('fit.csv', sep=\"|\")"
   ]
  },
  {
   "cell_type": "code",
   "execution_count": 87,
   "metadata": {},
   "outputs": [
    {
     "name": "stdout",
     "output_type": "stream",
     "text": [
      "156 ms ± 10.8 ms per loop (mean ± std. dev. of 7 runs, 10 loops each)\n"
     ]
    }
   ],
   "source": [
    "%%timeit\n",
    "pd.read_csv('fit.csv', sep=\"|\")"
   ]
  },
  {
   "cell_type": "code",
   "execution_count": 92,
   "metadata": {
    "scrolled": true
   },
   "outputs": [
    {
     "data": {
      "text/plain": [
       "(8592, 54)"
      ]
     },
     "execution_count": 92,
     "metadata": {},
     "output_type": "execute_result"
    }
   ],
   "source": [
    "pl.read_csv('fit.csv', sep=\"|\").shape"
   ]
  },
  {
   "cell_type": "code",
   "execution_count": 91,
   "metadata": {},
   "outputs": [
    {
     "data": {
      "text/html": [
       "<div>\n",
       "<style scoped>\n",
       "    .dataframe tbody tr th:only-of-type {\n",
       "        vertical-align: middle;\n",
       "    }\n",
       "\n",
       "    .dataframe tbody tr th {\n",
       "        vertical-align: top;\n",
       "    }\n",
       "\n",
       "    .dataframe thead th {\n",
       "        text-align: right;\n",
       "    }\n",
       "</style>\n",
       "<table border=\"1\" class=\"dataframe\">\n",
       "  <thead>\n",
       "    <tr style=\"text-align: right;\">\n",
       "      <th></th>\n",
       "      <th>target</th>\n",
       "      <th>n</th>\n",
       "      <th>diff1</th>\n",
       "      <th>diff2</th>\n",
       "      <th>media_rb_10</th>\n",
       "      <th>media_ra_10</th>\n",
       "      <th>media_rb_25</th>\n",
       "      <th>media_ra_25</th>\n",
       "      <th>media_rb_50</th>\n",
       "      <th>media_ra_50</th>\n",
       "      <th>...</th>\n",
       "      <th>outro_rb_10</th>\n",
       "      <th>outro_ra_10</th>\n",
       "      <th>outro_rb_25</th>\n",
       "      <th>outro_ra_25</th>\n",
       "      <th>outro_rb_50</th>\n",
       "      <th>outro_ra_50</th>\n",
       "      <th>outro_rb_100</th>\n",
       "      <th>outro_ra_100</th>\n",
       "      <th>outro_rb_250</th>\n",
       "      <th>outro_ra_250</th>\n",
       "    </tr>\n",
       "  </thead>\n",
       "  <tbody>\n",
       "    <tr>\n",
       "      <th>0</th>\n",
       "      <td>1.0</td>\n",
       "      <td>5.0</td>\n",
       "      <td>0.685687</td>\n",
       "      <td>1.001049</td>\n",
       "      <td>0.470480</td>\n",
       "      <td>0.529520</td>\n",
       "      <td>0.519650</td>\n",
       "      <td>0.480350</td>\n",
       "      <td>0.493376</td>\n",
       "      <td>0.506624</td>\n",
       "      <td>...</td>\n",
       "      <td>0.449218</td>\n",
       "      <td>0.550782</td>\n",
       "      <td>0.509957</td>\n",
       "      <td>0.490043</td>\n",
       "      <td>0.524450</td>\n",
       "      <td>0.475550</td>\n",
       "      <td>0.489591</td>\n",
       "      <td>0.510409</td>\n",
       "      <td>0.472838</td>\n",
       "      <td>0.527162</td>\n",
       "    </tr>\n",
       "    <tr>\n",
       "      <th>1</th>\n",
       "      <td>0.0</td>\n",
       "      <td>4.0</td>\n",
       "      <td>0.128506</td>\n",
       "      <td>0.451285</td>\n",
       "      <td>0.486180</td>\n",
       "      <td>0.513820</td>\n",
       "      <td>0.477848</td>\n",
       "      <td>0.522152</td>\n",
       "      <td>0.521652</td>\n",
       "      <td>0.478348</td>\n",
       "      <td>...</td>\n",
       "      <td>0.425607</td>\n",
       "      <td>0.574393</td>\n",
       "      <td>0.484575</td>\n",
       "      <td>0.515425</td>\n",
       "      <td>0.523329</td>\n",
       "      <td>0.476671</td>\n",
       "      <td>0.513296</td>\n",
       "      <td>0.486704</td>\n",
       "      <td>0.481504</td>\n",
       "      <td>0.518496</td>\n",
       "    </tr>\n",
       "    <tr>\n",
       "      <th>2</th>\n",
       "      <td>1.0</td>\n",
       "      <td>6.0</td>\n",
       "      <td>0.209147</td>\n",
       "      <td>0.515755</td>\n",
       "      <td>0.443569</td>\n",
       "      <td>0.556431</td>\n",
       "      <td>0.471258</td>\n",
       "      <td>0.528742</td>\n",
       "      <td>0.504821</td>\n",
       "      <td>0.495179</td>\n",
       "      <td>...</td>\n",
       "      <td>0.511948</td>\n",
       "      <td>0.488052</td>\n",
       "      <td>0.501723</td>\n",
       "      <td>0.498277</td>\n",
       "      <td>0.505666</td>\n",
       "      <td>0.494334</td>\n",
       "      <td>0.487643</td>\n",
       "      <td>0.512357</td>\n",
       "      <td>0.469902</td>\n",
       "      <td>0.530098</td>\n",
       "    </tr>\n",
       "    <tr>\n",
       "      <th>3</th>\n",
       "      <td>0.0</td>\n",
       "      <td>12.0</td>\n",
       "      <td>0.599657</td>\n",
       "      <td>0.861375</td>\n",
       "      <td>0.508034</td>\n",
       "      <td>0.491966</td>\n",
       "      <td>0.529698</td>\n",
       "      <td>0.470302</td>\n",
       "      <td>0.530942</td>\n",
       "      <td>0.469058</td>\n",
       "      <td>...</td>\n",
       "      <td>0.495487</td>\n",
       "      <td>0.504513</td>\n",
       "      <td>0.541184</td>\n",
       "      <td>0.458816</td>\n",
       "      <td>0.526720</td>\n",
       "      <td>0.473280</td>\n",
       "      <td>0.521646</td>\n",
       "      <td>0.478354</td>\n",
       "      <td>0.484501</td>\n",
       "      <td>0.515499</td>\n",
       "    </tr>\n",
       "    <tr>\n",
       "      <th>4</th>\n",
       "      <td>0.0</td>\n",
       "      <td>8.0</td>\n",
       "      <td>0.317459</td>\n",
       "      <td>0.895475</td>\n",
       "      <td>0.500690</td>\n",
       "      <td>0.499310</td>\n",
       "      <td>0.522533</td>\n",
       "      <td>0.477467</td>\n",
       "      <td>0.500027</td>\n",
       "      <td>0.499973</td>\n",
       "      <td>...</td>\n",
       "      <td>0.552423</td>\n",
       "      <td>0.447577</td>\n",
       "      <td>0.535508</td>\n",
       "      <td>0.464492</td>\n",
       "      <td>0.516472</td>\n",
       "      <td>0.483528</td>\n",
       "      <td>0.463820</td>\n",
       "      <td>0.536180</td>\n",
       "      <td>0.494962</td>\n",
       "      <td>0.505038</td>\n",
       "    </tr>\n",
       "    <tr>\n",
       "      <th>...</th>\n",
       "      <td>...</td>\n",
       "      <td>...</td>\n",
       "      <td>...</td>\n",
       "      <td>...</td>\n",
       "      <td>...</td>\n",
       "      <td>...</td>\n",
       "      <td>...</td>\n",
       "      <td>...</td>\n",
       "      <td>...</td>\n",
       "      <td>...</td>\n",
       "      <td>...</td>\n",
       "      <td>...</td>\n",
       "      <td>...</td>\n",
       "      <td>...</td>\n",
       "      <td>...</td>\n",
       "      <td>...</td>\n",
       "      <td>...</td>\n",
       "      <td>...</td>\n",
       "      <td>...</td>\n",
       "      <td>...</td>\n",
       "      <td>...</td>\n",
       "    </tr>\n",
       "    <tr>\n",
       "      <th>8587</th>\n",
       "      <td>0.0</td>\n",
       "      <td>6.0</td>\n",
       "      <td>0.248768</td>\n",
       "      <td>0.501108</td>\n",
       "      <td>0.489939</td>\n",
       "      <td>0.510061</td>\n",
       "      <td>0.474301</td>\n",
       "      <td>0.525699</td>\n",
       "      <td>0.449590</td>\n",
       "      <td>0.550410</td>\n",
       "      <td>...</td>\n",
       "      <td>0.490054</td>\n",
       "      <td>0.509946</td>\n",
       "      <td>0.476735</td>\n",
       "      <td>0.523265</td>\n",
       "      <td>0.495415</td>\n",
       "      <td>0.504585</td>\n",
       "      <td>0.497075</td>\n",
       "      <td>0.502925</td>\n",
       "      <td>0.543453</td>\n",
       "      <td>0.456547</td>\n",
       "    </tr>\n",
       "    <tr>\n",
       "      <th>8588</th>\n",
       "      <td>0.0</td>\n",
       "      <td>6.0</td>\n",
       "      <td>0.170283</td>\n",
       "      <td>0.484590</td>\n",
       "      <td>0.495778</td>\n",
       "      <td>0.504222</td>\n",
       "      <td>0.502561</td>\n",
       "      <td>0.497439</td>\n",
       "      <td>0.480863</td>\n",
       "      <td>0.519137</td>\n",
       "      <td>...</td>\n",
       "      <td>0.539080</td>\n",
       "      <td>0.460920</td>\n",
       "      <td>0.502883</td>\n",
       "      <td>0.497117</td>\n",
       "      <td>0.502738</td>\n",
       "      <td>0.497262</td>\n",
       "      <td>0.508028</td>\n",
       "      <td>0.491972</td>\n",
       "      <td>0.540492</td>\n",
       "      <td>0.459508</td>\n",
       "    </tr>\n",
       "    <tr>\n",
       "      <th>8589</th>\n",
       "      <td>0.0</td>\n",
       "      <td>4.0</td>\n",
       "      <td>0.158410</td>\n",
       "      <td>0.514713</td>\n",
       "      <td>0.506404</td>\n",
       "      <td>0.493596</td>\n",
       "      <td>0.480440</td>\n",
       "      <td>0.519560</td>\n",
       "      <td>0.453908</td>\n",
       "      <td>0.546092</td>\n",
       "      <td>...</td>\n",
       "      <td>0.443461</td>\n",
       "      <td>0.556539</td>\n",
       "      <td>0.539887</td>\n",
       "      <td>0.460113</td>\n",
       "      <td>0.504427</td>\n",
       "      <td>0.495573</td>\n",
       "      <td>0.504975</td>\n",
       "      <td>0.495025</td>\n",
       "      <td>0.562710</td>\n",
       "      <td>0.437290</td>\n",
       "    </tr>\n",
       "    <tr>\n",
       "      <th>8590</th>\n",
       "      <td>1.0</td>\n",
       "      <td>5.0</td>\n",
       "      <td>0.287708</td>\n",
       "      <td>0.448780</td>\n",
       "      <td>0.494068</td>\n",
       "      <td>0.505932</td>\n",
       "      <td>0.526214</td>\n",
       "      <td>0.473786</td>\n",
       "      <td>0.556506</td>\n",
       "      <td>0.443494</td>\n",
       "      <td>...</td>\n",
       "      <td>0.470386</td>\n",
       "      <td>0.529614</td>\n",
       "      <td>0.512193</td>\n",
       "      <td>0.487807</td>\n",
       "      <td>0.560276</td>\n",
       "      <td>0.439724</td>\n",
       "      <td>0.528938</td>\n",
       "      <td>0.471062</td>\n",
       "      <td>0.571375</td>\n",
       "      <td>0.428625</td>\n",
       "    </tr>\n",
       "    <tr>\n",
       "      <th>8591</th>\n",
       "      <td>0.0</td>\n",
       "      <td>6.0</td>\n",
       "      <td>0.100614</td>\n",
       "      <td>0.419389</td>\n",
       "      <td>0.497039</td>\n",
       "      <td>0.502961</td>\n",
       "      <td>0.491293</td>\n",
       "      <td>0.508707</td>\n",
       "      <td>0.485460</td>\n",
       "      <td>0.514540</td>\n",
       "      <td>...</td>\n",
       "      <td>0.490693</td>\n",
       "      <td>0.509307</td>\n",
       "      <td>0.475637</td>\n",
       "      <td>0.524363</td>\n",
       "      <td>0.454938</td>\n",
       "      <td>0.545062</td>\n",
       "      <td>0.514879</td>\n",
       "      <td>0.485121</td>\n",
       "      <td>0.567359</td>\n",
       "      <td>0.432641</td>\n",
       "    </tr>\n",
       "  </tbody>\n",
       "</table>\n",
       "<p>8592 rows × 54 columns</p>\n",
       "</div>"
      ],
      "text/plain": [
       "      target     n     diff1     diff2  media_rb_10  media_ra_10  media_rb_25  \\\n",
       "0        1.0   5.0  0.685687  1.001049     0.470480     0.529520     0.519650   \n",
       "1        0.0   4.0  0.128506  0.451285     0.486180     0.513820     0.477848   \n",
       "2        1.0   6.0  0.209147  0.515755     0.443569     0.556431     0.471258   \n",
       "3        0.0  12.0  0.599657  0.861375     0.508034     0.491966     0.529698   \n",
       "4        0.0   8.0  0.317459  0.895475     0.500690     0.499310     0.522533   \n",
       "...      ...   ...       ...       ...          ...          ...          ...   \n",
       "8587     0.0   6.0  0.248768  0.501108     0.489939     0.510061     0.474301   \n",
       "8588     0.0   6.0  0.170283  0.484590     0.495778     0.504222     0.502561   \n",
       "8589     0.0   4.0  0.158410  0.514713     0.506404     0.493596     0.480440   \n",
       "8590     1.0   5.0  0.287708  0.448780     0.494068     0.505932     0.526214   \n",
       "8591     0.0   6.0  0.100614  0.419389     0.497039     0.502961     0.491293   \n",
       "\n",
       "      media_ra_25  media_rb_50  media_ra_50  ...  outro_rb_10  outro_ra_10  \\\n",
       "0        0.480350     0.493376     0.506624  ...     0.449218     0.550782   \n",
       "1        0.522152     0.521652     0.478348  ...     0.425607     0.574393   \n",
       "2        0.528742     0.504821     0.495179  ...     0.511948     0.488052   \n",
       "3        0.470302     0.530942     0.469058  ...     0.495487     0.504513   \n",
       "4        0.477467     0.500027     0.499973  ...     0.552423     0.447577   \n",
       "...           ...          ...          ...  ...          ...          ...   \n",
       "8587     0.525699     0.449590     0.550410  ...     0.490054     0.509946   \n",
       "8588     0.497439     0.480863     0.519137  ...     0.539080     0.460920   \n",
       "8589     0.519560     0.453908     0.546092  ...     0.443461     0.556539   \n",
       "8590     0.473786     0.556506     0.443494  ...     0.470386     0.529614   \n",
       "8591     0.508707     0.485460     0.514540  ...     0.490693     0.509307   \n",
       "\n",
       "      outro_rb_25  outro_ra_25  outro_rb_50  outro_ra_50  outro_rb_100  \\\n",
       "0        0.509957     0.490043     0.524450     0.475550      0.489591   \n",
       "1        0.484575     0.515425     0.523329     0.476671      0.513296   \n",
       "2        0.501723     0.498277     0.505666     0.494334      0.487643   \n",
       "3        0.541184     0.458816     0.526720     0.473280      0.521646   \n",
       "4        0.535508     0.464492     0.516472     0.483528      0.463820   \n",
       "...           ...          ...          ...          ...           ...   \n",
       "8587     0.476735     0.523265     0.495415     0.504585      0.497075   \n",
       "8588     0.502883     0.497117     0.502738     0.497262      0.508028   \n",
       "8589     0.539887     0.460113     0.504427     0.495573      0.504975   \n",
       "8590     0.512193     0.487807     0.560276     0.439724      0.528938   \n",
       "8591     0.475637     0.524363     0.454938     0.545062      0.514879   \n",
       "\n",
       "      outro_ra_100  outro_rb_250  outro_ra_250  \n",
       "0         0.510409      0.472838      0.527162  \n",
       "1         0.486704      0.481504      0.518496  \n",
       "2         0.512357      0.469902      0.530098  \n",
       "3         0.478354      0.484501      0.515499  \n",
       "4         0.536180      0.494962      0.505038  \n",
       "...            ...           ...           ...  \n",
       "8587      0.502925      0.543453      0.456547  \n",
       "8588      0.491972      0.540492      0.459508  \n",
       "8589      0.495025      0.562710      0.437290  \n",
       "8590      0.471062      0.571375      0.428625  \n",
       "8591      0.485121      0.567359      0.432641  \n",
       "\n",
       "[8592 rows x 54 columns]"
      ]
     },
     "execution_count": 91,
     "metadata": {},
     "output_type": "execute_result"
    }
   ],
   "source": [
    "pd.read_csv('fit.csv', sep=\"|\")"
   ]
  },
  {
   "cell_type": "code",
   "execution_count": 112,
   "metadata": {},
   "outputs": [
    {
     "data": {
      "text/plain": [
       "(6444, 53)"
      ]
     },
     "execution_count": 112,
     "metadata": {},
     "output_type": "execute_result"
    }
   ],
   "source": [
    "dj = pl.DataFrame(x_train, columns=dff.columns[1:])\n",
    "dj.shape"
   ]
  },
  {
   "cell_type": "code",
   "execution_count": 113,
   "metadata": {},
   "outputs": [],
   "source": [
    "dj.to_csv('scaler.csv', sep=\"|\")"
   ]
  },
  {
   "cell_type": "code",
   "execution_count": null,
   "metadata": {},
   "outputs": [],
   "source": []
  },
  {
   "cell_type": "code",
   "execution_count": 82,
   "metadata": {},
   "outputs": [],
   "source": [
    "dff.to_csv('fit2.txt', sep=\"|\")"
   ]
  },
  {
   "cell_type": "code",
   "execution_count": null,
   "metadata": {},
   "outputs": [],
   "source": []
  },
  {
   "cell_type": "code",
   "execution_count": 41,
   "metadata": {
    "scrolled": true
   },
   "outputs": [
    {
     "data": {
      "text/plain": [
       "n\n",
       "4.0     2128\n",
       "5.0     1707\n",
       "6.0     1392\n",
       "7.0      974\n",
       "8.0      665\n",
       "9.0      535\n",
       "10.0     356\n",
       "11.0     246\n",
       "12.0     179\n",
       "13.0     124\n",
       "14.0      78\n",
       "15.0      65\n",
       "16.0      38\n",
       "17.0      15\n",
       "18.0      35\n",
       "19.0      12\n",
       "20.0      15\n",
       "21.0       5\n",
       "22.0       7\n",
       "23.0       4\n",
       "24.0       4\n",
       "25.0       2\n",
       "26.0       1\n",
       "27.0       1\n",
       "28.0       1\n",
       "29.0       1\n",
       "33.0       1\n",
       "36.0       1\n",
       "dtype: int64"
      ]
     },
     "execution_count": 41,
     "metadata": {},
     "output_type": "execute_result"
    }
   ],
   "source": [
    "ds.groupby('n').size()"
   ]
  },
  {
   "cell_type": "code",
   "execution_count": 148,
   "metadata": {
    "scrolled": true
   },
   "outputs": [
    {
     "data": {
      "text/html": [
       "<div>\n",
       "<style scoped>\n",
       "    .dataframe tbody tr th:only-of-type {\n",
       "        vertical-align: middle;\n",
       "    }\n",
       "\n",
       "    .dataframe tbody tr th {\n",
       "        vertical-align: top;\n",
       "    }\n",
       "\n",
       "    .dataframe thead th {\n",
       "        text-align: right;\n",
       "    }\n",
       "</style>\n",
       "<table border=\"1\" class=\"dataframe\">\n",
       "  <thead>\n",
       "    <tr style=\"text-align: right;\">\n",
       "      <th>n</th>\n",
       "      <th>4.0</th>\n",
       "      <th>5.0</th>\n",
       "      <th>6.0</th>\n",
       "      <th>7.0</th>\n",
       "      <th>8.0</th>\n",
       "      <th>9.0</th>\n",
       "      <th>10.0</th>\n",
       "      <th>11.0</th>\n",
       "      <th>12.0</th>\n",
       "      <th>13.0</th>\n",
       "      <th>...</th>\n",
       "      <th>22.0</th>\n",
       "      <th>23.0</th>\n",
       "      <th>24.0</th>\n",
       "      <th>25.0</th>\n",
       "      <th>26.0</th>\n",
       "      <th>27.0</th>\n",
       "      <th>28.0</th>\n",
       "      <th>29.0</th>\n",
       "      <th>33.0</th>\n",
       "      <th>36.0</th>\n",
       "    </tr>\n",
       "  </thead>\n",
       "  <tbody>\n",
       "    <tr>\n",
       "      <th>0</th>\n",
       "      <td>1069</td>\n",
       "      <td>822</td>\n",
       "      <td>683</td>\n",
       "      <td>449</td>\n",
       "      <td>362</td>\n",
       "      <td>238</td>\n",
       "      <td>178</td>\n",
       "      <td>117</td>\n",
       "      <td>84</td>\n",
       "      <td>39</td>\n",
       "      <td>...</td>\n",
       "      <td>2</td>\n",
       "      <td>4</td>\n",
       "      <td>2</td>\n",
       "      <td>1</td>\n",
       "      <td>1</td>\n",
       "      <td>1</td>\n",
       "      <td>1</td>\n",
       "      <td>1</td>\n",
       "      <td>1</td>\n",
       "      <td>1</td>\n",
       "    </tr>\n",
       "  </tbody>\n",
       "</table>\n",
       "<p>1 rows × 28 columns</p>\n",
       "</div>"
      ],
      "text/plain": [
       "n  4.0   5.0   6.0   7.0   8.0   9.0   10.0  11.0  12.0  13.0  ...  22.0  \\\n",
       "0  1069   822   683   449   362   238   178   117    84    39  ...     2   \n",
       "\n",
       "n  23.0  24.0  25.0  26.0  27.0  28.0  29.0  33.0  36.0  \n",
       "0     4     2     1     1     1     1     1     1     1  \n",
       "\n",
       "[1 rows x 28 columns]"
      ]
     },
     "execution_count": 148,
     "metadata": {},
     "output_type": "execute_result"
    }
   ],
   "source": [
    "t0.groupby('n').size().to_frame().T"
   ]
  },
  {
   "cell_type": "code",
   "execution_count": 149,
   "metadata": {
    "scrolled": true
   },
   "outputs": [
    {
     "data": {
      "text/html": [
       "<div>\n",
       "<style scoped>\n",
       "    .dataframe tbody tr th:only-of-type {\n",
       "        vertical-align: middle;\n",
       "    }\n",
       "\n",
       "    .dataframe tbody tr th {\n",
       "        vertical-align: top;\n",
       "    }\n",
       "\n",
       "    .dataframe thead th {\n",
       "        text-align: right;\n",
       "    }\n",
       "</style>\n",
       "<table border=\"1\" class=\"dataframe\">\n",
       "  <thead>\n",
       "    <tr style=\"text-align: right;\">\n",
       "      <th>n</th>\n",
       "      <th>4.0</th>\n",
       "      <th>5.0</th>\n",
       "      <th>6.0</th>\n",
       "      <th>7.0</th>\n",
       "      <th>8.0</th>\n",
       "      <th>9.0</th>\n",
       "      <th>10.0</th>\n",
       "      <th>11.0</th>\n",
       "      <th>12.0</th>\n",
       "      <th>13.0</th>\n",
       "      <th>...</th>\n",
       "      <th>15.0</th>\n",
       "      <th>16.0</th>\n",
       "      <th>17.0</th>\n",
       "      <th>18.0</th>\n",
       "      <th>19.0</th>\n",
       "      <th>20.0</th>\n",
       "      <th>21.0</th>\n",
       "      <th>22.0</th>\n",
       "      <th>24.0</th>\n",
       "      <th>25.0</th>\n",
       "    </tr>\n",
       "  </thead>\n",
       "  <tbody>\n",
       "    <tr>\n",
       "      <th>0</th>\n",
       "      <td>1059</td>\n",
       "      <td>885</td>\n",
       "      <td>709</td>\n",
       "      <td>525</td>\n",
       "      <td>303</td>\n",
       "      <td>297</td>\n",
       "      <td>178</td>\n",
       "      <td>129</td>\n",
       "      <td>95</td>\n",
       "      <td>85</td>\n",
       "      <td>...</td>\n",
       "      <td>35</td>\n",
       "      <td>17</td>\n",
       "      <td>10</td>\n",
       "      <td>22</td>\n",
       "      <td>5</td>\n",
       "      <td>10</td>\n",
       "      <td>2</td>\n",
       "      <td>5</td>\n",
       "      <td>2</td>\n",
       "      <td>1</td>\n",
       "    </tr>\n",
       "  </tbody>\n",
       "</table>\n",
       "<p>1 rows × 21 columns</p>\n",
       "</div>"
      ],
      "text/plain": [
       "n  4.0   5.0   6.0   7.0   8.0   9.0   10.0  11.0  12.0  13.0  ...  15.0  \\\n",
       "0  1059   885   709   525   303   297   178   129    95    85  ...    35   \n",
       "\n",
       "n  16.0  17.0  18.0  19.0  20.0  21.0  22.0  24.0  25.0  \n",
       "0    17    10    22     5    10     2     5     2     1  \n",
       "\n",
       "[1 rows x 21 columns]"
      ]
     },
     "execution_count": 149,
     "metadata": {},
     "output_type": "execute_result"
    }
   ],
   "source": [
    "t1.groupby('n').size().to_frame().T"
   ]
  },
  {
   "cell_type": "code",
   "execution_count": 43,
   "metadata": {},
   "outputs": [],
   "source": [
    "t1 = ds[ds.target==1]\n",
    "t0 = ds[ds.target==0]"
   ]
  },
  {
   "cell_type": "code",
   "execution_count": 144,
   "metadata": {},
   "outputs": [
    {
     "data": {
      "image/png": "[encoded data removed]",
      "text/plain": [
       "<Figure size 1080x288 with 1 Axes>"
      ]
     },
     "metadata": {
      "needs_background": "light"
     },
     "output_type": "display_data"
    }
   ],
   "source": [
    "t0.groupby('n').size().plot(kind='bar', figsize=(15, 4), color='red')\n",
    "plt.ylim(0, 1100)\n",
    "plt.grid()"
   ]
  },
  {
   "cell_type": "code",
   "execution_count": 145,
   "metadata": {
    "scrolled": false
   },
   "outputs": [
    {
     "data": {
      "image/png": "[encoded data removed]",
      "text/plain": [
       "<Figure size 1080x288 with 1 Axes>"
      ]
     },
     "metadata": {
      "needs_background": "light"
     },
     "output_type": "display_data"
    }
   ],
   "source": [
    "t1.groupby('n').size().plot(kind='bar', figsize=(15, 4), color='green')\n",
    "plt.ylim(0, 1100)\n",
    "plt.grid()"
   ]
  },
  {
   "cell_type": "code",
   "execution_count": null,
   "metadata": {},
   "outputs": [],
   "source": []
  },
  {
   "cell_type": "code",
   "execution_count": 19,
   "metadata": {},
   "outputs": [
    {
     "name": "stdout",
     "output_type": "stream",
     "text": [
      "Requirement already satisfied: polars in c:\\users\\jaimepanchana\\anaconda3\\lib\\site-packages (0.11.1)\n",
      "Requirement already satisfied: numpy>=1.16.0 in c:\\users\\jaimepanchana\\anaconda3\\lib\\site-packages (from polars) (1.21.4)\n"
     ]
    },
    {
     "data": {
      "text/plain": [
       "array([1., 0., 1., ..., 0., 1., 0.])"
      ]
     },
     "execution_count": 19,
     "metadata": {},
     "output_type": "execute_result"
    }
   ],
   "source": [
    "X = ds.drop(columns=['target']).values\n",
    "Y = ds.target.values\n",
    "Y"
   ]
  },
  {
   "cell_type": "code",
   "execution_count": 20,
   "metadata": {
    "scrolled": true
   },
   "outputs": [
    {
     "data": {
      "text/plain": [
       "((6444, 53), (2148, 53), (6444,), (2148,))"
      ]
     },
     "execution_count": 20,
     "metadata": {},
     "output_type": "execute_result"
    }
   ],
   "source": [
    "from sklearn.model_selection import train_test_split\n",
    "x_train, x_test, y_train, y_test = train_test_split(X.astype(np.float64), Y, test_size = 0.25, random_state=42)\n",
    "x_train.shape, x_test.shape, y_train.shape, y_test.shape"
   ]
  },
  {
   "cell_type": "code",
   "execution_count": 21,
   "metadata": {},
   "outputs": [
    {
     "data": {
      "text/plain": [
       "(6444, 53)"
      ]
     },
     "execution_count": 21,
     "metadata": {},
     "output_type": "execute_result"
    }
   ],
   "source": [
    "x_train.shape"
   ]
  },
  {
   "cell_type": "code",
   "execution_count": 23,
   "metadata": {},
   "outputs": [],
   "source": [
    "from sklearn.preprocessing import StandardScaler\n",
    "\n",
    "scaler = StandardScaler().fit(x_train)\n",
    "x_train = scaler.transform(x_train)\n",
    "x_test = scaler.transform(x_test)  "
   ]
  },
  {
   "cell_type": "code",
   "execution_count": 24,
   "metadata": {
    "scrolled": true
   },
   "outputs": [
    {
     "data": {
      "text/plain": [
       "(6444, 53)"
      ]
     },
     "execution_count": 24,
     "metadata": {},
     "output_type": "execute_result"
    }
   ],
   "source": [
    "x_train.shape"
   ]
  },
  {
   "cell_type": "code",
   "execution_count": 25,
   "metadata": {},
   "outputs": [
    {
     "data": {
      "text/plain": [
       "array([[-0.22211645, -0.06824178, -0.24778077, ..., -0.27821533,\n",
       "        -0.05584324,  0.05584324],\n",
       "       [-0.22211645, -0.76926734, -0.87002869, ..., -0.86623909,\n",
       "         0.67087831, -0.67087831],\n",
       "       [-0.90143225,  0.06807145,  1.31517579, ...,  0.90645155,\n",
       "         0.56101188, -0.56101188],\n",
       "       ...,\n",
       "       [ 0.45719936, -0.34470234, -0.2523365 , ...,  0.10337937,\n",
       "         0.92829624, -0.92829624],\n",
       "       [ 0.79685726, -0.14828412, -0.20266747, ...,  1.617231  ,\n",
       "        -0.20057682,  0.20057682],\n",
       "       [ 1.13651516,  0.3276959 ,  0.58811713, ...,  0.15466184,\n",
       "        -0.42653171,  0.42653171]])"
      ]
     },
     "execution_count": 25,
     "metadata": {},
     "output_type": "execute_result"
    }
   ],
   "source": [
    "x_train"
   ]
  },
  {
   "cell_type": "code",
   "execution_count": 94,
   "metadata": {},
   "outputs": [
    {
     "data": {
      "text/plain": [
       "(6444, 53)"
      ]
     },
     "execution_count": 94,
     "metadata": {},
     "output_type": "execute_result"
    }
   ],
   "source": [
    "x_train.shape"
   ]
  },
  {
   "cell_type": "code",
   "execution_count": 71,
   "metadata": {},
   "outputs": [
    {
     "data": {
      "text/plain": [
       "array([[-0.22211645, -0.06824178, -0.24778077, ..., -0.27821533,\n",
       "        -0.05584324,  0.05584324],\n",
       "       [-0.22211645, -0.76926734, -0.87002869, ..., -0.86623909,\n",
       "         0.67087831, -0.67087831],\n",
       "       [-0.90143225,  0.06807145,  1.31517579, ...,  0.90645155,\n",
       "         0.56101188, -0.56101188],\n",
       "       ...,\n",
       "       [ 0.45719936, -0.34470234, -0.2523365 , ...,  0.10337937,\n",
       "         0.92829624, -0.92829624],\n",
       "       [ 0.79685726, -0.14828412, -0.20266747, ...,  1.617231  ,\n",
       "        -0.20057682,  0.20057682],\n",
       "       [ 1.13651516,  0.3276959 ,  0.58811713, ...,  0.15466184,\n",
       "        -0.42653171,  0.42653171]])"
      ]
     },
     "execution_count": 71,
     "metadata": {},
     "output_type": "execute_result"
    }
   ],
   "source": [
    "x_train"
   ]
  },
  {
   "cell_type": "code",
   "execution_count": null,
   "metadata": {},
   "outputs": [],
   "source": []
  },
  {
   "cell_type": "code",
   "execution_count": 58,
   "metadata": {},
   "outputs": [
    {
     "data": {
      "text/plain": [
       "array([[-0.22211645, -0.06824178, -0.24778077, ..., -0.27821533,\n",
       "        -0.05584324,  0.05584324],\n",
       "       [-0.22211645, -0.76926734, -0.87002869, ..., -0.86623909,\n",
       "         0.67087831, -0.67087831],\n",
       "       [-0.90143225,  0.06807145,  1.31517579, ...,  0.90645155,\n",
       "         0.56101188, -0.56101188],\n",
       "       ...,\n",
       "       [ 0.45719936, -0.34470234, -0.2523365 , ...,  0.10337937,\n",
       "         0.92829624, -0.92829624],\n",
       "       [ 0.79685726, -0.14828412, -0.20266747, ...,  1.617231  ,\n",
       "        -0.20057682,  0.20057682],\n",
       "       [ 1.13651516,  0.3276959 ,  0.58811713, ...,  0.15466184,\n",
       "        -0.42653171,  0.42653171]])"
      ]
     },
     "execution_count": 58,
     "metadata": {},
     "output_type": "execute_result"
    }
   ],
   "source": [
    "x_train"
   ]
  },
  {
   "cell_type": "code",
   "execution_count": 59,
   "metadata": {
    "scrolled": true
   },
   "outputs": [
    {
     "data": {
      "text/plain": [
       "644.4000000000001"
      ]
     },
     "execution_count": 59,
     "metadata": {},
     "output_type": "execute_result"
    }
   ],
   "source": [
    "x_train.shape[0]*0.1"
   ]
  },
  {
   "cell_type": "code",
   "execution_count": 13,
   "metadata": {},
   "outputs": [],
   "source": [
    "from tensorflow.keras import activations"
   ]
  },
  {
   "cell_type": "code",
   "execution_count": 30,
   "metadata": {
    "scrolled": true
   },
   "outputs": [],
   "source": [
    "# activations.hard_sigmoid([1])"
   ]
  },
  {
   "cell_type": "code",
   "execution_count": 2,
   "metadata": {},
   "outputs": [
    {
     "name": "stdout",
     "output_type": "stream",
     "text": [
      "Model: \"sequential_1\"\n",
      "_________________________________________________________________\n",
      "Layer (type)                 Output Shape              Param #   \n",
      "=================================================================\n",
      "dense_6 (Dense)              (None, 112)               12656     \n",
      "_________________________________________________________________\n",
      "dense_7 (Dense)              (None, 112)               12656     \n",
      "_________________________________________________________________\n",
      "dense_8 (Dense)              (None, 112)               12656     \n",
      "_________________________________________________________________\n",
      "dense_9 (Dense)              (None, 112)               12656     \n",
      "_________________________________________________________________\n",
      "dense_10 (Dense)             (None, 112)               12656     \n",
      "_________________________________________________________________\n",
      "dense_11 (Dense)             (None, 1)                 113       \n",
      "=================================================================\n",
      "Total params: 63,393\n",
      "Trainable params: 63,393\n",
      "Non-trainable params: 0\n",
      "_________________________________________________________________\n"
     ]
    }
   ],
   "source": [
    "from keras.models import Sequential\n",
    "from keras.layers import Dense\n",
    "\n",
    "model = Sequential()\n",
    "\n",
    "model.add(Dense(53, activation='hard_sigmoid', input_shape=(53,)))\n",
    "model.add(Dense(53, activation='sigmoid'))\n",
    "model.add(Dense(53, activation='tanh'))\n",
    "model.add(Dense(53, activation='linear'))\n",
    "model.add(Dense(53, activation='relu'))\n",
    "\n",
    "# model.add(Dense(106, activation='hard_sigmoid'))\n",
    "# model.add(Dense(159, activation='hard_sigmoid'))\n",
    "# model.add(Dense(212, activation='hard_sigmoid'))\n",
    "# model.add(Dense(2, activation='hard_sigmoid'))\n",
    "\n",
    "model.add(Dense(1, activation='sigmoid'))\n",
    "model.summary()"
   ]
  },
  {
   "cell_type": "code",
   "execution_count": 19,
   "metadata": {
    "scrolled": true
   },
   "outputs": [
    {
     "name": "stdout",
     "output_type": "stream",
     "text": [
      "Epoch 1/50\n",
      "202/202 [==============================] - 3s 5ms/step - loss: 0.6959 - accuracy: 0.5005 - val_loss: 0.6909 - val_accuracy: 0.5042\n",
      "Epoch 2/50\n",
      "202/202 [==============================] - 1s 3ms/step - loss: 0.6878 - accuracy: 0.5386 - val_loss: 0.6693 - val_accuracy: 0.5102\n",
      "Epoch 3/50\n",
      "202/202 [==============================] - 1s 3ms/step - loss: 0.4985 - accuracy: 0.7588 - val_loss: 0.3290 - val_accuracy: 0.8580\n",
      "Epoch 4/50\n",
      "202/202 [==============================] - 0s 2ms/step - loss: 0.3093 - accuracy: 0.8681 - val_loss: 0.2599 - val_accuracy: 0.8929\n",
      "Epoch 5/50\n",
      "202/202 [==============================] - 1s 3ms/step - loss: 0.2728 - accuracy: 0.8866 - val_loss: 0.2399 - val_accuracy: 0.9069\n",
      "Epoch 6/50\n",
      "202/202 [==============================] - 1s 3ms/step - loss: 0.2682 - accuracy: 0.8876 - val_loss: 0.2468 - val_accuracy: 0.8957\n",
      "Epoch 7/50\n",
      "202/202 [==============================] - 1s 3ms/step - loss: 0.2369 - accuracy: 0.9077 - val_loss: 0.2235 - val_accuracy: 0.9125\n",
      "Epoch 8/50\n",
      "202/202 [==============================] - 0s 2ms/step - loss: 0.2381 - accuracy: 0.9095 - val_loss: 0.2274 - val_accuracy: 0.9097\n",
      "Epoch 9/50\n",
      "202/202 [==============================] - 0s 2ms/step - loss: 0.2192 - accuracy: 0.9156 - val_loss: 0.2136 - val_accuracy: 0.9143\n",
      "Epoch 10/50\n",
      "202/202 [==============================] - 1s 3ms/step - loss: 0.2275 - accuracy: 0.9097 - val_loss: 0.2921 - val_accuracy: 0.8790\n",
      "Epoch 11/50\n",
      "202/202 [==============================] - 0s 2ms/step - loss: 0.2090 - accuracy: 0.9167 - val_loss: 0.2134 - val_accuracy: 0.9101\n",
      "Epoch 12/50\n",
      "202/202 [==============================] - 0s 2ms/step - loss: 0.2175 - accuracy: 0.9142 - val_loss: 0.2066 - val_accuracy: 0.9148\n",
      "Epoch 13/50\n",
      "202/202 [==============================] - 0s 2ms/step - loss: 0.2177 - accuracy: 0.9164 - val_loss: 0.2031 - val_accuracy: 0.9190\n",
      "Epoch 14/50\n",
      "202/202 [==============================] - 0s 2ms/step - loss: 0.2003 - accuracy: 0.9190 - val_loss: 0.3544 - val_accuracy: 0.8459\n",
      "Epoch 15/50\n",
      "202/202 [==============================] - 1s 2ms/step - loss: 0.2266 - accuracy: 0.9080 - val_loss: 0.1961 - val_accuracy: 0.9185\n",
      "Epoch 16/50\n",
      "202/202 [==============================] - 0s 2ms/step - loss: 0.2007 - accuracy: 0.9218 - val_loss: 0.2332 - val_accuracy: 0.9050\n",
      "Epoch 17/50\n",
      "202/202 [==============================] - 1s 3ms/step - loss: 0.2085 - accuracy: 0.9170 - val_loss: 0.2449 - val_accuracy: 0.8976\n",
      "Epoch 18/50\n",
      "202/202 [==============================] - 0s 2ms/step - loss: 0.2115 - accuracy: 0.9139 - val_loss: 0.2119 - val_accuracy: 0.9129\n",
      "Epoch 19/50\n",
      "202/202 [==============================] - 0s 2ms/step - loss: 0.1910 - accuracy: 0.9250 - val_loss: 0.2095 - val_accuracy: 0.9106\n",
      "Epoch 20/50\n",
      "202/202 [==============================] - 0s 2ms/step - loss: 0.2236 - accuracy: 0.9098 - val_loss: 0.2028 - val_accuracy: 0.9185\n",
      "Epoch 21/50\n",
      "202/202 [==============================] - 0s 2ms/step - loss: 0.1942 - accuracy: 0.9250 - val_loss: 0.2018 - val_accuracy: 0.9157\n",
      "Epoch 22/50\n",
      "202/202 [==============================] - 0s 2ms/step - loss: 0.1890 - accuracy: 0.9264 - val_loss: 0.1889 - val_accuracy: 0.9236\n",
      "Epoch 23/50\n",
      "202/202 [==============================] - 0s 2ms/step - loss: 0.2090 - accuracy: 0.9146 - val_loss: 0.1908 - val_accuracy: 0.9227\n",
      "Epoch 24/50\n",
      "202/202 [==============================] - 0s 2ms/step - loss: 0.1899 - accuracy: 0.9254 - val_loss: 0.1980 - val_accuracy: 0.9213\n",
      "Epoch 25/50\n",
      "202/202 [==============================] - 1s 3ms/step - loss: 0.1877 - accuracy: 0.9254 - val_loss: 0.1995 - val_accuracy: 0.9162\n",
      "Epoch 26/50\n",
      "202/202 [==============================] - 1s 3ms/step - loss: 0.1892 - accuracy: 0.9263 - val_loss: 0.1987 - val_accuracy: 0.9195\n",
      "Epoch 27/50\n",
      "202/202 [==============================] - 1s 3ms/step - loss: 0.1908 - accuracy: 0.9247 - val_loss: 0.2023 - val_accuracy: 0.9176\n",
      "Epoch 28/50\n",
      "202/202 [==============================] - 0s 2ms/step - loss: 0.1962 - accuracy: 0.9199 - val_loss: 0.2075 - val_accuracy: 0.9134\n",
      "Epoch 29/50\n",
      "202/202 [==============================] - 0s 2ms/step - loss: 0.1912 - accuracy: 0.9247 - val_loss: 0.1834 - val_accuracy: 0.9250\n",
      "Epoch 30/50\n",
      "202/202 [==============================] - 0s 2ms/step - loss: 0.1903 - accuracy: 0.9250 - val_loss: 0.2239 - val_accuracy: 0.9055\n",
      "Epoch 31/50\n",
      "202/202 [==============================] - 1s 3ms/step - loss: 0.2037 - accuracy: 0.9190 - val_loss: 0.1887 - val_accuracy: 0.9246\n",
      "Epoch 32/50\n",
      "202/202 [==============================] - 0s 2ms/step - loss: 0.1812 - accuracy: 0.9282 - val_loss: 0.1959 - val_accuracy: 0.9190\n",
      "Epoch 33/50\n",
      "202/202 [==============================] - 0s 2ms/step - loss: 0.1825 - accuracy: 0.9275 - val_loss: 0.1808 - val_accuracy: 0.9255\n",
      "Epoch 34/50\n",
      "202/202 [==============================] - 0s 2ms/step - loss: 0.1953 - accuracy: 0.9209 - val_loss: 0.1874 - val_accuracy: 0.9213\n",
      "Epoch 35/50\n",
      "202/202 [==============================] - 0s 2ms/step - loss: 0.1811 - accuracy: 0.9288 - val_loss: 0.2208 - val_accuracy: 0.9069\n",
      "Epoch 36/50\n",
      "202/202 [==============================] - 0s 2ms/step - loss: 0.1910 - accuracy: 0.9226 - val_loss: 0.1988 - val_accuracy: 0.9129\n",
      "Epoch 37/50\n",
      "202/202 [==============================] - 0s 2ms/step - loss: 0.1912 - accuracy: 0.9264 - val_loss: 0.2072 - val_accuracy: 0.9162\n",
      "Epoch 38/50\n",
      "202/202 [==============================] - 0s 2ms/step - loss: 0.1958 - accuracy: 0.9182 - val_loss: 0.2102 - val_accuracy: 0.9134\n",
      "Epoch 39/50\n",
      "202/202 [==============================] - 0s 2ms/step - loss: 0.1792 - accuracy: 0.9269 - val_loss: 0.1747 - val_accuracy: 0.9232\n",
      "Epoch 40/50\n",
      "202/202 [==============================] - 0s 2ms/step - loss: 0.1805 - accuracy: 0.9297 - val_loss: 0.1837 - val_accuracy: 0.9213\n",
      "Epoch 41/50\n",
      "202/202 [==============================] - 1s 3ms/step - loss: 0.1886 - accuracy: 0.9261 - val_loss: 0.2008 - val_accuracy: 0.9171\n",
      "Epoch 42/50\n",
      "202/202 [==============================] - 1s 3ms/step - loss: 0.1756 - accuracy: 0.9302 - val_loss: 0.1795 - val_accuracy: 0.9260\n",
      "Epoch 43/50\n",
      "202/202 [==============================] - 1s 3ms/step - loss: 0.1775 - accuracy: 0.9311 - val_loss: 0.2038 - val_accuracy: 0.9153\n",
      "Epoch 44/50\n",
      "202/202 [==============================] - 1s 3ms/step - loss: 0.1804 - accuracy: 0.9282 - val_loss: 0.1923 - val_accuracy: 0.9171\n",
      "Epoch 45/50\n",
      "202/202 [==============================] - 1s 3ms/step - loss: 0.1751 - accuracy: 0.9313 - val_loss: 0.1966 - val_accuracy: 0.9162\n",
      "Epoch 46/50\n",
      "202/202 [==============================] - 1s 3ms/step - loss: 0.1869 - accuracy: 0.9229 - val_loss: 0.2566 - val_accuracy: 0.8911\n",
      "Epoch 47/50\n",
      "202/202 [==============================] - 1s 3ms/step - loss: 0.1829 - accuracy: 0.9269 - val_loss: 0.2047 - val_accuracy: 0.9120\n",
      "Epoch 48/50\n",
      "202/202 [==============================] - 1s 3ms/step - loss: 0.1838 - accuracy: 0.9274 - val_loss: 0.1805 - val_accuracy: 0.9236\n",
      "Epoch 49/50\n",
      "202/202 [==============================] - 0s 2ms/step - loss: 0.1746 - accuracy: 0.9288 - val_loss: 0.1746 - val_accuracy: 0.9274\n",
      "Epoch 50/50\n",
      "202/202 [==============================] - 0s 2ms/step - loss: 0.1773 - accuracy: 0.9278 - val_loss: 0.2069 - val_accuracy: 0.9139\n"
     ]
    }
   ],
   "source": [
    "model.compile(loss='binary_crossentropy',\n",
    "              optimizer='adam',\n",
    "              metrics=['accuracy'])\n",
    "                   \n",
    "hist = model.fit(x_train, y_train,\n",
    "          epochs=50,\n",
    "          validation_data=(x_test, y_test),\n",
    "          verbose=1)"
   ]
  },
  {
   "cell_type": "code",
   "execution_count": 20,
   "metadata": {},
   "outputs": [
    {
     "data": {
      "image/png": "[encoded data removed]",
      "text/plain": [
       "<Figure size 1296x432 with 1 Axes>"
      ]
     },
     "metadata": {
      "needs_background": "light"
     },
     "output_type": "display_data"
    }
   ],
   "source": [
    "plt.figure(figsize=(18, 6))\n",
    "plt.plot(hist.history['loss'])\n",
    "plt.plot(hist.history['val_loss'])\n",
    "plt.legend(['loss', 'val_loss'])\n",
    "plt.grid()"
   ]
  },
  {
   "cell_type": "code",
   "execution_count": 22,
   "metadata": {
    "scrolled": true
   },
   "outputs": [
    {
     "name": "stdout",
     "output_type": "stream",
     "text": [
      "68/68 [==============================] - 0s 1ms/step - loss: 0.2069 - accuracy: 0.9139\n",
      "[0.20689238607883453, 0.9138733744621277]\n"
     ]
    }
   ],
   "source": [
    "score = model.evaluate(x_test, y_test,verbose=1)\n",
    "print(score)"
   ]
  },
  {
   "cell_type": "code",
   "execution_count": null,
   "metadata": {},
   "outputs": [],
   "source": []
  },
  {
   "cell_type": "code",
   "execution_count": 21,
   "metadata": {},
   "outputs": [
    {
     "data": {
      "image/png": "[encoded data removed]",
      "text/plain": [
       "<Figure size 1296x432 with 1 Axes>"
      ]
     },
     "metadata": {
      "needs_background": "light"
     },
     "output_type": "display_data"
    }
   ],
   "source": [
    "plt.figure(figsize=(18, 6))\n",
    "plt.plot(hist.history['accuracy'])\n",
    "plt.plot(hist.history['val_accuracy'])\n",
    "plt.legend(['accuracy', 'val_accuracy'])\n",
    "plt.yticks([i/20 for i in range(0, 21)])\n",
    "plt.ylim([0.5, 1.04])\n",
    "plt.grid()"
   ]
  },
  {
   "cell_type": "code",
   "execution_count": 3,
   "metadata": {},
   "outputs": [],
   "source": [
    "from keras.models import load_model\n",
    "loaded_model = load_model('model.h5')"
   ]
  },
  {
   "cell_type": "code",
   "execution_count": null,
   "metadata": {},
   "outputs": [],
   "source": []
  },
  {
   "cell_type": "code",
   "execution_count": 70,
   "metadata": {},
   "outputs": [
    {
     "name": "stdout",
     "output_type": "stream",
     "text": [
      "68/68 [==============================] - 0s 2ms/step - loss: 0.1762 - accuracy: 0.9344\n",
      "[0.17624033987522125, 0.9343575239181519]\n"
     ]
    }
   ],
   "source": [
    "score = loaded_model.evaluate(x_test, y_test,verbose=1)\n",
    "print(score)"
   ]
  },
  {
   "cell_type": "code",
   "execution_count": null,
   "metadata": {},
   "outputs": [],
   "source": []
  },
  {
   "cell_type": "code",
   "execution_count": null,
   "metadata": {},
   "outputs": [],
   "source": []
  },
  {
   "cell_type": "code",
   "execution_count": 163,
   "metadata": {},
   "outputs": [
    {
     "data": {
      "image/png": "[encoded data removed]",
      "text/plain": [
       "<Figure size 1296x432 with 1 Axes>"
      ]
     },
     "metadata": {
      "needs_background": "light"
     },
     "output_type": "display_data"
    }
   ],
   "source": [
    "plt.figure(figsize=(18, 6))\n",
    "plt.plot(hist.history['loss'])\n",
    "plt.plot(hist.history['val_loss'])\n",
    "plt.legend(['loss', 'val_loss'])\n",
    "plt.grid()"
   ]
  },
  {
   "cell_type": "code",
   "execution_count": 178,
   "metadata": {},
   "outputs": [
    {
     "name": "stdout",
     "output_type": "stream",
     "text": [
      "68/68 [==============================] - 0s 1ms/step - loss: 0.1762 - accuracy: 0.9344\n",
      "[0.17624033987522125, 0.9343575239181519]\n"
     ]
    }
   ],
   "source": [
    "score = model.evaluate(x_test, y_test,verbose=1)\n",
    "print(score)"
   ]
  },
  {
   "cell_type": "code",
   "execution_count": null,
   "metadata": {},
   "outputs": [],
   "source": []
  },
  {
   "cell_type": "code",
   "execution_count": null,
   "metadata": {},
   "outputs": [],
   "source": []
  },
  {
   "cell_type": "code",
   "execution_count": null,
   "metadata": {},
   "outputs": [],
   "source": []
  },
  {
   "cell_type": "code",
   "execution_count": 177,
   "metadata": {},
   "outputs": [
    {
     "data": {
      "image/png": "[encoded data removed]",
      "text/plain": [
       "<Figure size 1296x432 with 1 Axes>"
      ]
     },
     "metadata": {
      "needs_background": "light"
     },
     "output_type": "display_data"
    }
   ],
   "source": [
    "plt.figure(figsize=(18, 6))\n",
    "plt.plot(hist.history['accuracy'])\n",
    "plt.plot(hist.history['val_accuracy'])\n",
    "plt.legend(['accuracy', 'val_accuracy'])\n",
    "plt.yticks([i/20 for i in range(0, 21)])\n",
    "plt.ylim([0.5, 1.04])\n",
    "plt.grid()"
   ]
  },
  {
   "cell_type": "code",
   "execution_count": null,
   "metadata": {},
   "outputs": [],
   "source": []
  },
  {
   "cell_type": "code",
   "execution_count": null,
   "metadata": {},
   "outputs": [],
   "source": []
  },
  {
   "cell_type": "code",
   "execution_count": null,
   "metadata": {},
   "outputs": [],
   "source": []
  },
  {
   "cell_type": "code",
   "execution_count": 178,
   "metadata": {},
   "outputs": [
    {
     "name": "stdout",
     "output_type": "stream",
     "text": [
      "68/68 [==============================] - 0s 1ms/step - loss: 0.1762 - accuracy: 0.9344\n",
      "[0.17624033987522125, 0.9343575239181519]\n"
     ]
    }
   ],
   "source": [
    "score = model.evaluate(x_test, y_test,verbose=1)\n",
    "print(score)"
   ]
  },
  {
   "cell_type": "code",
   "execution_count": null,
   "metadata": {},
   "outputs": [],
   "source": []
  },
  {
   "cell_type": "code",
   "execution_count": null,
   "metadata": {},
   "outputs": [],
   "source": []
  },
  {
   "cell_type": "code",
   "execution_count": null,
   "metadata": {},
   "outputs": [],
   "source": []
  },
  {
   "cell_type": "code",
   "execution_count": null,
   "metadata": {},
   "outputs": [],
   "source": []
  },
  {
   "cell_type": "code",
   "execution_count": 4,
   "metadata": {},
   "outputs": [
    {
     "ename": "NameError",
     "evalue": "name 'x_test' is not defined",
     "output_type": "error",
     "traceback": [
      "\u001b[1;31m---------------------------------------------------------------------------\u001b[0m",
      "\u001b[1;31mNameError\u001b[0m                                 Traceback (most recent call last)",
      "\u001b[1;32m<ipython-input-4-a74fa4059f6b>\u001b[0m in \u001b[0;36m<module>\u001b[1;34m\u001b[0m\n\u001b[1;32m----> 1\u001b[1;33m \u001b[0my_pred\u001b[0m \u001b[1;33m=\u001b[0m \u001b[0mloaded_model\u001b[0m\u001b[1;33m.\u001b[0m\u001b[0mpredict\u001b[0m\u001b[1;33m(\u001b[0m\u001b[0mx_test\u001b[0m\u001b[1;33m)\u001b[0m\u001b[1;33m\u001b[0m\u001b[1;33m\u001b[0m\u001b[0m\n\u001b[0m\u001b[0;32m      2\u001b[0m \u001b[0my_pred\u001b[0m\u001b[1;33m\u001b[0m\u001b[1;33m\u001b[0m\u001b[0m\n",
      "\u001b[1;31mNameError\u001b[0m: name 'x_test' is not defined"
     ]
    }
   ],
   "source": [
    "y_pred = loaded_model.predict(x_test)\n",
    "y_pred"
   ]
  },
  {
   "cell_type": "code",
   "execution_count": 2,
   "metadata": {},
   "outputs": [
    {
     "ename": "NameError",
     "evalue": "name 'loaded_model' is not defined",
     "output_type": "error",
     "traceback": [
      "\u001b[1;31m---------------------------------------------------------------------------\u001b[0m",
      "\u001b[1;31mNameError\u001b[0m                                 Traceback (most recent call last)",
      "\u001b[1;32m<ipython-input-2-a74fa4059f6b>\u001b[0m in \u001b[0;36m<module>\u001b[1;34m\u001b[0m\n\u001b[1;32m----> 1\u001b[1;33m \u001b[0my_pred\u001b[0m \u001b[1;33m=\u001b[0m \u001b[0mloaded_model\u001b[0m\u001b[1;33m.\u001b[0m\u001b[0mpredict\u001b[0m\u001b[1;33m(\u001b[0m\u001b[0mx_test\u001b[0m\u001b[1;33m)\u001b[0m\u001b[1;33m\u001b[0m\u001b[1;33m\u001b[0m\u001b[0m\n\u001b[0m\u001b[0;32m      2\u001b[0m \u001b[0my_pred\u001b[0m\u001b[1;33m\u001b[0m\u001b[1;33m\u001b[0m\u001b[0m\n",
      "\u001b[1;31mNameError\u001b[0m: name 'loaded_model' is not defined"
     ]
    }
   ],
   "source": [
    "y_pred = loaded_model.predict(x_test)\n",
    "y_pred"
   ]
  },
  {
   "cell_type": "code",
   "execution_count": 64,
   "metadata": {},
   "outputs": [
    {
     "data": {
      "text/plain": [
       "array([[-0.22211645, -0.26224382, -0.44752124, ..., -0.1216477 ,\n",
       "        -0.62519231,  0.62519231],\n",
       "       [-0.56177435, -0.61992345, -0.5852763 , ...,  0.06726921,\n",
       "        -0.56575693,  0.56575693],\n",
       "       [-0.22211645, -0.39060675, -0.66820686, ..., -1.1586178 ,\n",
       "        -0.41976637,  0.41976637],\n",
       "       ...,\n",
       "       [-0.90143225, -0.64194132, -0.79043057, ..., -0.24518458,\n",
       "         0.19522531, -0.19522531],\n",
       "       [-0.56177435,  0.00824858, -0.26819601, ..., -0.69667398,\n",
       "        -0.36106043,  0.36106043],\n",
       "       [ 1.47617306, -0.28099843, -0.59507453, ..., -1.4825182 ,\n",
       "         1.7195725 , -1.7195725 ]])"
      ]
     },
     "execution_count": 64,
     "metadata": {},
     "output_type": "execute_result"
    }
   ],
   "source": [
    "x_test"
   ]
  },
  {
   "cell_type": "code",
   "execution_count": null,
   "metadata": {},
   "outputs": [],
   "source": []
  },
  {
   "cell_type": "code",
   "execution_count": 184,
   "metadata": {},
   "outputs": [
    {
     "data": {
      "text/plain": [
       "array([0.98543155, 0.9958172 , 0.9999998 , 0.99948716, 0.9596305 ,\n",
       "       0.82390845, 0.9816687 , 0.91542995, 0.9999989 , 0.999756  ,\n",
       "       0.9907592 , 1.        , 0.9998847 , 0.81942844, 0.99977005,\n",
       "       0.99974823, 0.9999909 , 0.9999928 , 0.999568  , 0.9974463 ,\n",
       "       0.9239893 , 0.9999993 , 0.9997288 , 0.99999905, 0.9771321 ,\n",
       "       1.        , 0.99918425, 0.9997686 , 0.99936813, 0.99930716,\n",
       "       0.9998728 , 0.91941684, 0.99198675, 0.99999666, 0.999671  ,\n",
       "       0.9999988 , 0.98346126, 0.9999994 , 0.9999908 , 0.9992434 ,\n",
       "       0.9998606 , 0.9999243 , 0.9999929 , 0.82809126, 0.99985886,\n",
       "       0.98314816, 0.9986522 , 0.97375476, 0.9989716 , 0.9959314 ,\n",
       "       0.9998936 , 0.9999625 , 0.9271519 , 0.99885714, 0.999194  ,\n",
       "       0.98327315, 0.99990296, 0.99782455, 0.9988439 , 0.9999983 ,\n",
       "       0.9977509 , 0.9999968 , 0.98851204, 0.9995245 , 0.99905926,\n",
       "       0.99999976, 0.99999166, 0.98798835, 0.99999475, 0.98850054,\n",
       "       0.9994979 , 0.9919682 , 0.99910045, 0.99966884, 0.99134505,\n",
       "       0.9999914 , 0.9996842 , 0.803702  , 0.9999987 , 0.99810183,\n",
       "       0.99704623, 0.9930919 , 0.94721967, 0.9999387 , 0.99998224,\n",
       "       0.9907241 , 0.99978054, 0.9997679 , 0.99999917, 0.9480332 ,\n",
       "       0.99997854, 0.9999908 , 0.99889976, 0.99762285, 0.9999389 ,\n",
       "       0.9998896 , 0.91689897, 0.9993453 , 0.9999987 , 0.9997325 ,\n",
       "       0.9806571 , 0.9993578 , 0.9994182 , 0.9999995 , 0.8841033 ,\n",
       "       0.99999976, 0.9165549 , 0.98861885, 0.9999747 , 0.9999698 ,\n",
       "       0.99994546, 0.9979782 , 0.9995884 , 0.99999195, 0.841473  ,\n",
       "       0.9999988 , 0.9387171 , 0.9999997 , 0.99999964, 0.9737948 ,\n",
       "       0.99998176, 0.9990548 , 0.9357892 , 0.9999995 , 0.985597  ,\n",
       "       0.99994314, 0.9950601 , 0.9500338 , 0.9999747 , 0.94694555,\n",
       "       0.9999967 , 0.9985881 , 0.9113968 , 0.9314438 , 0.99968666,\n",
       "       0.9998896 , 0.9998796 , 0.9998314 , 0.99984574, 0.99988437,\n",
       "       0.999455  , 0.96059424, 0.8951857 , 0.998544  , 0.9999957 ,\n",
       "       0.999997  , 0.9998917 , 0.9878664 , 0.9299313 , 0.9999957 ,\n",
       "       0.99811876, 0.99975234, 0.99999946, 0.99285656, 0.9998044 ,\n",
       "       0.9999744 , 0.99999976, 0.99297965, 0.9999924 , 0.9992618 ,\n",
       "       0.99999666, 0.9999654 , 0.99963975, 0.9999993 , 0.99467343,\n",
       "       0.9999778 , 0.9936849 , 0.93055147, 0.9908098 , 0.9999989 ,\n",
       "       0.9983753 , 0.99998873, 1.        , 0.99502254, 0.96834505,\n",
       "       0.99814117, 0.9999963 , 0.9999257 , 0.9983305 , 0.9995097 ,\n",
       "       0.9767393 , 0.99998593, 0.99428284, 0.99985933, 0.9999037 ,\n",
       "       0.9983013 , 0.9991818 , 0.99972975, 0.99999195, 0.99998885,\n",
       "       0.99984986, 0.99985325, 0.96993023, 0.9999609 , 0.9999975 ,\n",
       "       0.9493401 , 0.90540934, 0.86959356, 0.976472  , 0.99945474,\n",
       "       0.9966725 , 0.9522601 , 0.99992704, 0.9993268 , 0.9999999 ,\n",
       "       0.9999831 , 0.999052  , 0.999996  , 0.99998826, 0.9999925 ,\n",
       "       0.90038294, 0.9040954 , 0.80087495, 0.99992347, 0.9999995 ,\n",
       "       0.99730414, 0.95662975, 0.99906266, 0.99885035, 0.99974644,\n",
       "       0.99999905, 0.99914545, 0.8235887 , 0.9998975 , 0.99999976,\n",
       "       0.982899  , 0.99999595, 0.9554104 , 0.8799337 , 0.99995184,\n",
       "       0.9000522 , 0.9995927 , 0.9993275 , 0.99981296, 0.9986883 ,\n",
       "       0.99950504, 0.99999964, 0.8463688 , 0.988624  , 0.99999976,\n",
       "       0.97038096, 0.98302984, 0.9921789 , 0.9997621 , 0.9998528 ,\n",
       "       0.9916322 , 0.99926364, 1.        , 0.999998  , 0.99696827,\n",
       "       0.99998415, 0.99933815, 0.9997823 , 0.9999864 , 0.99291277,\n",
       "       0.99640095, 0.99958557, 0.9999993 , 0.98205745, 0.99916303,\n",
       "       0.99986875, 0.9999341 , 1.        , 0.99999654, 0.9823185 ,\n",
       "       0.9967202 , 0.9999966 , 0.99055535, 0.99999416, 0.999726  ,\n",
       "       0.999997  , 0.9964877 , 0.9996637 , 0.9999006 , 0.9910425 ,\n",
       "       0.96258175, 0.9993488 , 0.99996364, 0.900323  , 0.99560857,\n",
       "       0.9995502 , 1.        , 0.9999993 , 0.9999763 , 0.8896286 ,\n",
       "       0.8320006 , 0.9956627 , 0.9994879 , 0.9998801 , 0.99591714,\n",
       "       0.9900954 , 0.9999386 , 0.9972204 , 0.86593544, 0.9999987 ,\n",
       "       0.99999404, 0.9999745 , 0.99997413, 0.99368095, 0.9704415 ,\n",
       "       0.9998506 , 0.9999995 , 0.9864775 , 0.9614589 , 0.9988123 ,\n",
       "       0.99998266, 0.9992525 , 0.99826103, 0.99680567, 0.9745991 ,\n",
       "       0.8221843 , 0.94620025, 0.9953547 , 0.9999984 , 0.9921752 ,\n",
       "       0.9430833 , 0.9999865 , 0.9985709 , 0.998613  , 0.94945395,\n",
       "       0.9361404 , 0.9999994 , 0.995492  , 0.9981746 , 0.97230434,\n",
       "       0.9998225 , 0.99543893, 0.99800086, 0.99999774, 0.99692905,\n",
       "       0.9997083 , 0.99198556, 0.9955627 , 0.999969  , 0.9999902 ,\n",
       "       0.89148283, 0.9999567 , 0.99955   , 0.999999  , 0.9997407 ,\n",
       "       0.9999875 , 0.91019684, 1.        , 0.99989545, 0.95021725,\n",
       "       0.9999538 , 0.9999995 , 0.999995  , 0.999999  , 0.9983803 ,\n",
       "       0.99988973, 0.94163316, 0.99853015, 0.9848401 , 0.99668616,\n",
       "       0.9999995 , 0.9999933 , 0.996474  , 0.9999877 , 0.98530364,\n",
       "       0.9999956 , 0.9999628 , 1.        , 0.9996959 , 0.99578774,\n",
       "       0.9117626 , 0.9993152 , 0.99998456, 0.97153413, 0.84978354,\n",
       "       0.99687135, 0.9997978 , 0.99998534, 0.9357066 , 0.9999997 ,\n",
       "       0.8182554 , 0.9999863 , 0.99760604, 0.9967747 , 0.9999602 ,\n",
       "       0.9998093 , 0.9741016 , 1.        , 0.999962  , 0.9991051 ,\n",
       "       0.9069501 , 0.9999114 , 0.99998176, 0.9444115 , 0.9999625 ,\n",
       "       0.9996902 , 0.99763066, 0.9413552 , 0.9997082 , 0.99944174,\n",
       "       0.99250764, 0.9999955 , 0.9998842 , 0.9988091 , 0.99985385,\n",
       "       0.99820924, 0.999954  , 0.93518025, 0.9988705 , 0.9999998 ,\n",
       "       0.9997028 , 1.        , 0.9997768 , 0.98960495, 0.9999749 ,\n",
       "       0.802281  , 0.9606501 , 0.99337804, 0.8600918 , 0.9995278 ,\n",
       "       0.9946668 , 0.99997866, 0.9999854 , 0.99999845, 0.9999769 ,\n",
       "       1.        , 0.99999666, 0.9984865 , 0.999993  , 0.9999164 ,\n",
       "       0.99995476, 0.99716854, 0.99999946, 0.9854267 , 0.9720501 ,\n",
       "       0.82509226, 0.9999988 , 0.99798757, 0.9895516 , 0.99877185,\n",
       "       0.99863636, 0.8094413 , 0.9999951 , 0.8072201 , 0.99591255,\n",
       "       0.99997497, 0.89016867, 0.9766474 , 0.85222054, 0.99987245,\n",
       "       0.9962512 , 0.983029  , 1.        , 0.9737849 , 0.97855437,\n",
       "       0.99997103, 0.99377763, 0.99999356, 0.9998763 , 0.9999542 ,\n",
       "       0.995509  , 0.99904525, 0.99999964, 0.9999739 , 0.99747735,\n",
       "       0.9999994 , 0.9996305 , 0.99998724, 0.9999956 , 0.99703336,\n",
       "       0.9912145 , 0.9999713 , 0.9991244 , 0.99330366, 0.9986412 ,\n",
       "       0.99426395, 0.95689356, 0.9997748 , 0.99996513, 0.99999964,\n",
       "       0.9997332 , 0.99184775, 0.9907862 , 0.9987606 , 0.9999825 ,\n",
       "       0.9939577 , 0.99969536, 0.99997056, 0.9999595 , 0.9996054 ,\n",
       "       0.9874282 , 0.9766097 , 0.998973  , 0.9998768 , 0.9999877 ,\n",
       "       0.99875283, 0.90351   , 1.        , 0.999966  , 0.99853355,\n",
       "       0.99762166, 0.99974936, 0.99822927, 0.98703253, 0.99819124,\n",
       "       0.9854299 , 0.9999225 , 0.9999621 , 0.99995476, 0.98624945,\n",
       "       0.96415114, 0.99859476, 0.99998766, 0.9783083 , 0.99998015,\n",
       "       0.90910006, 0.9999114 , 0.9912163 , 0.99818504, 0.99999976,\n",
       "       0.9990604 , 0.9997994 , 0.9993354 , 0.97753   , 0.9999215 ,\n",
       "       0.99921304, 0.999998  , 0.99995816, 0.99996877, 0.99980605,\n",
       "       0.9840338 , 0.99999964, 0.98347425, 0.94591373, 0.99998856,\n",
       "       0.99509656, 0.9999012 , 0.99994946, 0.9958724 , 0.9997947 ,\n",
       "       0.9548812 , 0.99972904, 0.9998709 , 0.99999857, 0.99988127,\n",
       "       0.9998729 , 0.9999764 , 0.99999875, 0.8726374 , 0.962579  ,\n",
       "       0.9999954 , 0.98934793, 0.9958947 , 0.989252  , 0.99983853,\n",
       "       0.99262   , 0.99999976, 0.9999136 , 0.82038546, 0.99928606,\n",
       "       0.9965482 , 0.92638516, 0.9998935 , 0.99980265, 0.9971416 ,\n",
       "       0.9995758 , 0.9985067 , 0.9999795 , 1.        , 0.99999976,\n",
       "       0.99988127, 0.9964738 , 0.99958026, 0.94131166, 0.99805963,\n",
       "       0.9829619 , 0.9999239 , 0.9991659 , 0.99181557, 0.9999995 ,\n",
       "       0.99994075, 0.9999812 , 1.        , 0.99998283, 0.99998486,\n",
       "       0.9999928 , 0.99660325, 0.9617332 , 0.9807095 , 0.9999602 ,\n",
       "       0.8019888 , 0.9998193 , 0.999999  , 0.9976493 , 0.99905694,\n",
       "       0.8584187 , 0.99945706, 0.9825492 , 0.99662185, 0.999705  ,\n",
       "       0.9993769 , 0.9999074 , 0.9995475 , 1.        , 0.8398504 ,\n",
       "       0.8723453 , 0.99759567, 0.9998995 , 0.9995514 , 0.99366647,\n",
       "       0.9999511 , 0.9996923 , 0.99999714, 0.9531778 , 0.9966681 ,\n",
       "       0.971787  , 0.99703926, 0.9452368 , 0.8485291 , 0.9999573 ,\n",
       "       0.999998  , 0.99999607, 0.99999857, 0.9993368 , 0.999999  ,\n",
       "       0.9999996 , 0.99663574, 0.9999218 , 0.9998654 , 0.9973535 ,\n",
       "       0.9991466 , 0.9943001 , 0.99999774, 0.99996763, 0.9999993 ,\n",
       "       0.9995783 , 0.9999236 , 0.99997497, 0.9998703 , 0.99971396,\n",
       "       0.99588853, 0.99999785, 0.99999166, 0.9999982 , 0.9997552 ,\n",
       "       0.9677521 , 0.832135  , 0.9999877 , 0.9999875 , 0.9999976 ,\n",
       "       0.9999985 , 0.99998194, 0.9999797 , 0.9998529 , 0.9994779 ,\n",
       "       0.9925952 , 0.99998456, 0.99999535, 0.9999984 , 0.9999523 ,\n",
       "       1.        , 0.99501824, 0.9277755 , 0.9999993 , 0.999975  ,\n",
       "       0.999946  , 0.99999774, 0.9999293 , 0.9969046 , 0.9998683 ,\n",
       "       0.9650267 , 0.9988611 , 0.9997133 , 0.9999443 , 1.        ,\n",
       "       0.9985103 , 0.9999058 , 0.99911785, 1.        , 0.999997  ,\n",
       "       0.99998784, 0.99992704, 0.86927557, 0.9816248 , 0.9999995 ,\n",
       "       0.9984173 , 0.99998754, 0.9999824 , 0.99999976, 0.92254233,\n",
       "       0.99999654, 0.99892163, 0.99986756, 0.9999927 , 0.99966395,\n",
       "       0.99999976, 0.9561881 , 0.9999993 , 0.9997    , 0.99930036,\n",
       "       0.9998722 , 0.944716  , 0.9995568 , 0.988716  , 0.99858946,\n",
       "       0.99999714, 0.9999775 , 0.9354563 , 0.99995637, 0.9966792 ,\n",
       "       0.8009342 , 0.9999924 , 0.9999944 , 0.9967351 , 0.9999919 ,\n",
       "       0.84186137, 0.9999759 , 0.9999999 , 0.9999629 , 0.99994755,\n",
       "       0.9999961 , 1.        , 0.9939537 , 0.9998918 , 0.99999595,\n",
       "       0.99999   , 0.99441504, 0.9998858 , 0.99999344, 0.95290947,\n",
       "       0.9999097 , 1.        , 0.99987626, 0.99385774, 0.99999905,\n",
       "       0.99994636, 0.9999998 , 1.        , 0.99899197, 0.9659051 ,\n",
       "       0.99712884, 0.9923017 , 0.9987309 , 0.9998541 , 0.98257476,\n",
       "       0.9999996 , 0.95302826, 0.82656693, 0.99890876, 0.9999778 ,\n",
       "       0.9896412 , 0.99988455, 0.9975796 , 0.99995387, 0.99998987,\n",
       "       0.9984461 , 0.86202705, 0.9999264 , 0.99998415, 0.8249943 ,\n",
       "       0.9998832 , 0.9999945 , 0.9984219 , 0.9999088 , 0.9999918 ,\n",
       "       0.9996234 , 0.99999857, 0.99988365, 0.8356769 , 0.99999976,\n",
       "       0.9884907 , 0.94346005, 0.9999706 , 0.9964782 , 0.9999992 ,\n",
       "       0.98505354, 0.9988616 , 0.8967397 , 0.9999985 , 0.9862456 ,\n",
       "       0.9760783 , 0.9993049 , 0.9999479 , 0.9999977 , 1.        ,\n",
       "       0.9999964 , 0.99929035, 0.99994934, 0.87406886, 0.99999833,\n",
       "       0.9994554 , 0.9986173 , 0.80522513, 0.96466947, 0.9999927 ,\n",
       "       0.99859524, 0.99995005, 1.        , 1.        , 0.9999951 ,\n",
       "       0.999997  , 0.9811636 , 0.99999696, 0.9986869 , 0.9999988 ,\n",
       "       0.99253285, 0.9619961 , 0.9999988 , 0.99884593, 0.99964356,\n",
       "       0.9507694 , 1.        , 0.998994  , 0.99999595, 0.99999905,\n",
       "       0.99215883, 0.97462165, 0.99032843, 0.9896063 , 0.8171866 ,\n",
       "       0.9997467 , 0.99325943, 0.9096564 , 0.999986  , 0.99960446,\n",
       "       0.9997865 , 0.9714824 , 0.94157434, 1.        , 0.99942625,\n",
       "       0.99914706, 0.9993818 , 0.9999987 , 0.999997  , 0.99682325,\n",
       "       0.9928029 , 0.9988195 , 0.99861836, 0.9800999 , 0.9998521 ,\n",
       "       0.9715778 , 0.99908525, 0.99993575, 0.9999995 , 0.9884676 ,\n",
       "       1.        , 0.9945533 , 0.92979276, 0.9998492 , 0.99999714,\n",
       "       0.98096234, 0.99999726, 0.9999995 , 0.99999833, 0.9997368 ,\n",
       "       0.99886215, 0.9975445 , 0.9998459 , 0.99998224, 0.9996559 ,\n",
       "       0.8633983 , 0.99999744, 0.99551296, 0.98313916, 0.9999989 ,\n",
       "       0.9999987 , 0.9999373 , 0.99985766, 0.9999798 , 0.9999927 ,\n",
       "       0.99966097, 0.99793625, 0.9999807 , 0.99995524, 0.9999997 ,\n",
       "       0.9995126 , 0.8335054 , 0.9973849 , 0.9989178 , 0.9999891 ,\n",
       "       0.9984928 , 0.9999718 , 0.99996144, 0.9998789 , 0.9947187 ,\n",
       "       0.8623091 , 0.9999809 , 0.99257386, 0.99999917, 0.9989654 ,\n",
       "       0.96493065, 0.99999523, 0.9999954 , 0.9992169 , 0.983992  ,\n",
       "       0.99987125, 0.8509613 , 0.85791266, 1.        , 0.9999845 ,\n",
       "       0.9995568 , 0.9999879 , 0.99906695, 0.99994457, 0.99945354,\n",
       "       0.99999964, 0.99800515, 0.9999981 , 0.99996746, 0.9996518 ,\n",
       "       0.99979544, 0.99999976, 0.99887127, 0.944539  , 0.99770594,\n",
       "       0.99997544, 0.9999976 , 0.9977603 , 0.999969  , 0.99943733,\n",
       "       0.9999799 , 0.82920724, 0.9992509 , 0.99764264, 0.9510553 ,\n",
       "       0.9420632 , 0.99984217, 0.99992937, 0.8004604 , 0.9996518 ,\n",
       "       0.99560916, 0.99970615, 0.808617  , 0.999956  , 0.99443936,\n",
       "       0.9985834 , 0.98783594, 0.9999853 , 0.99964225, 0.9999994 ,\n",
       "       0.8550049 , 0.9999764 , 1.        , 0.99998575, 0.99984604,\n",
       "       0.98004735, 0.99999857, 0.9995711 , 0.99999535, 0.98057723,\n",
       "       1.        , 0.9999786 , 0.9997115 , 0.99999857, 0.99397063,\n",
       "       0.99998176, 0.9943794 , 0.9995533 , 0.99642956, 0.9999195 ,\n",
       "       0.9990931 , 1.        , 0.9844545 , 0.9800073 , 0.9994507 ,\n",
       "       0.9990487 , 0.9971262 , 0.9999889 , 0.98482096, 0.9804766 ,\n",
       "       0.99999565, 0.99979126, 0.9999874 , 0.99994826, 0.9992713 ,\n",
       "       0.99992245, 0.9999331 , 0.93750405, 0.9998679 , 0.9999741 ,\n",
       "       1.        , 0.98880994, 0.99965847, 0.9996543 , 0.99323213,\n",
       "       0.99999666, 0.99989617, 0.99991584, 0.99999917, 1.        ,\n",
       "       1.        , 0.96510315, 0.9999164 , 0.99999976, 0.9999999 ,\n",
       "       0.99999857, 0.99777865, 0.99999505, 0.99984884], dtype=float32)"
      ]
     },
     "execution_count": 184,
     "metadata": {},
     "output_type": "execute_result"
    }
   ],
   "source": [
    "y_pred[y_pred>.8]"
   ]
  },
  {
   "cell_type": "code",
   "execution_count": 187,
   "metadata": {},
   "outputs": [
    {
     "data": {
      "text/plain": [
       "array(['0.00033670664', '0.012603968', '0.028663069', '0.06542584',\n",
       "       '0.04782158', '0.003060311', '0.0039706826', '0.10986549',\n",
       "       '0.0034625232', '0.034770012', '0.113627285', '0.06737241',\n",
       "       '0.1672048', '0.06357378', '0.011994988', '0.0465298',\n",
       "       '0.060948968', '0.011098176', '0.0387699', '0.011106074',\n",
       "       '0.001793623', '0.015811116', '0.049483955', '0.007883638',\n",
       "       '0.07257146', '0.059329122', '0.059126467', '0.011505187',\n",
       "       '0.0021202266', '0.038913578', '0.007192999', '0.077563316',\n",
       "       '0.007987171', '0.0062491596', '0.00955531', '0.00031891465',\n",
       "       '0.010849595', '0.02548173', '0.0026882887', '0.00047641993',\n",
       "       '0.023228228', '0.03330949', '0.10633269', '0.16591504',\n",
       "       '0.008866608', '0.00023663044', '0.010852337', '0.0115760565',\n",
       "       '0.00073093176', '0.0029508173', '0.06459075', '0.0044564903',\n",
       "       '0.020943373', '0.010932028', '0.04352534', '0.015317649',\n",
       "       '0.0017820895', '0.110985965', '0.01927033', '0.03366816',\n",
       "       '0.015170693', '0.027105212', '0.001712054', '0.0011900961',\n",
       "       '0.0064568818', '0.021684647', '0.021761477', '0.0011408627',\n",
       "       '0.05618149', '0.007942855', '0.18916145', '0.014368236',\n",
       "       '0.04694608', '0.0054377317', '0.0016766787', '0.002437085',\n",
       "       '0.003884256', '0.032619894', '0.0020231307', '0.020264298',\n",
       "       '0.049438715', '0.12014192', '0.0004994571', '0.029898912',\n",
       "       '0.0012314916', '0.15139171', '0.07592112', '0.013785809',\n",
       "       '0.14293054', '0.02792126', '0.00096684694', '0.0016769171',\n",
       "       '0.02586928', '0.1496673', '0.0006247759', '0.19581994',\n",
       "       '0.0840348', '0.0015750825', '0.00035703182', '2.5193624e-05',\n",
       "       '0.00030478835', '0.09364146', '0.055401564', '0.009376764',\n",
       "       '0.18944085', '0.024661392', '0.004630059', '0.00052532554',\n",
       "       '0.007098913', '0.00046509504', '0.0010863543', '0.0014870763',\n",
       "       '0.006050557', '0.0016035736', '0.07117745', '0.0052094758',\n",
       "       '0.011004716', '0.043036193', '3.8244612e-05', '0.0074228644',\n",
       "       '0.0051354766', '0.0048285425', '0.023042798', '0.06317395',\n",
       "       '0.011152953', '0.0017647743', '0.08478147', '0.009547591',\n",
       "       '0.007293135', '0.00012088281', '0.02389592', '0.0010197163',\n",
       "       '0.016581267', '0.0076651275', '0.024719745', '0.014263868',\n",
       "       '0.00047248602', '0.0022657812', '0.00068071485', '0.07239604',\n",
       "       '0.00687927', '0.0008855164', '0.0034601688', '0.005947888',\n",
       "       '0.0016107857', '0.13833109', '0.0039693117', '0.00059485435',\n",
       "       '0.048932344', '0.0011965632', '0.00037270784', '0.0029640496',\n",
       "       '0.016888976', '0.00325796', '0.00059089065', '0.18607292',\n",
       "       '0.011043161', '0.008287758', '0.1636321', '0.0078365505',\n",
       "       '0.0023705065', '0.0037901103', '0.06890112', '0.0049830377',\n",
       "       '0.021731645', '0.004657924', '0.028025359', '0.094938606',\n",
       "       '0.0016049147', '0.012781858', '0.009098947', '0.028198153',\n",
       "       '0.000646919', '0.11348015', '0.061791062', '0.010576516',\n",
       "       '0.013552636', '9.873566e-05', '0.001845628', '0.0021263957',\n",
       "       '0.037824124', '0.00022408366', '0.08939913', '0.025632381',\n",
       "       '0.017511517', '0.000300169', '0.0052212477', '0.0127092',\n",
       "       '0.0105469525', '0.0018679202', '0.021632403', '0.010503471',\n",
       "       '0.017003328', '0.036254823', '0.02498892', '0.029599398',\n",
       "       '0.02459094', '0.009714097', '0.0011567175', '0.00027808547',\n",
       "       '0.00034466386', '0.003863871', '0.08354053', '0.0016928315',\n",
       "       '0.0040177405', '0.006743163', '0.0038641393', '0.00043827295',\n",
       "       '0.015912056', '0.044023782', '0.019197792', '0.006467074',\n",
       "       '0.016516834', '0.031134397', '0.07457331', '0.00416258',\n",
       "       '0.044273257', '0.0035802126', '0.060555726', '0.03571886',\n",
       "       '0.043608367', '0.046700567', '0.0020295382', '0.0071421564',\n",
       "       '0.17541799', '0.0010769963', '0.020459443', '0.005064875',\n",
       "       '0.0004388094', '0.12258938', '0.027929842', '0.02957812',\n",
       "       '0.012288004', '0.0028018355', '0.0033133328', '0.001765281',\n",
       "       '0.022567451', '0.008324981', '0.038315415', '0.015430719',\n",
       "       '0.013767898', '0.0026637018', '0.015613556', '7.9774174e-05',\n",
       "       '0.017885536', '0.095158935', '0.008818507', '0.00953126',\n",
       "       '0.0026409626', '0.0015664697', '0.0018744767', '0.008827418',\n",
       "       '0.00041496754', '0.0007581711', '0.044900417', '0.013093382',\n",
       "       '0.01869613', '0.009827971', '0.014130652', '0.072784305',\n",
       "       '0.002387017', '0.00055626035', '0.00944218', '0.048095345',\n",
       "       '0.041644216', '0.0012983978', '0.0012074113', '0.021877378',\n",
       "       '0.14574772', '0.03932926', '0.16969526', '0.00025513768',\n",
       "       '0.0002630353', '0.14493185', '0.14178249', '0.0009798408',\n",
       "       '0.0035253167', '0.005731076', '0.0075805783', '0.17495537',\n",
       "       '0.0063858926', '0.13885212', '0.00061255693', '4.5636123e-05',\n",
       "       '0.05633247', '0.014484197', '0.0076184273', '0.026711255',\n",
       "       '0.03507045', '0.0018757284', '0.0010328591', '0.018469512',\n",
       "       '0.025892466', '0.008728564', '0.003871441', '0.014262766',\n",
       "       '0.060545832', '0.0042960346', '0.01577583', '0.0024359524',\n",
       "       '0.0013300478', '0.0032483041', '0.033244014', '0.0024889112',\n",
       "       '0.018993735', '0.011889905', '0.0004875958', '0.00012949109',\n",
       "       '0.030828595', '0.014668822', '0.0024787486', '0.018002748',\n",
       "       '0.031184375', '0.016814142', '0.039269775', '0.014437407',\n",
       "       '0.021231472', '0.07413638', '0.007188946', '0.00040963292',\n",
       "       '0.041708052', '0.0068329573', '0.030466586', '0.0010282993',\n",
       "       '0.00049209595', '0.050399423', '0.11543393', '0.05663705',\n",
       "       '0.1780704', '0.006106913', '0.002452433', '0.071249336',\n",
       "       '0.00010602351', '0.0650228', '0.0043967664', '0.115551025',\n",
       "       '0.0010163188', '0.0040818453', '0.06736794', '0.0022037923',\n",
       "       '0.0069321394', '0.009126455', '0.043349296', '0.0010776818',\n",
       "       '0.0017053485', '0.010747075', '8.022216e-05', '0.0043365657',\n",
       "       '0.0011541247', '0.035833925', '0.0050035715', '0.007041514',\n",
       "       '0.035884976', '0.0006297827', '6.383784e-05', '0.0061661005',\n",
       "       '0.050073475', '2.6807145e-05', '0.004668027', '0.06668469',\n",
       "       '0.07429433', '0.19726264', '0.0033876896', '0.045898736',\n",
       "       '0.006254971', '0.0027443767', '0.0010795295', '0.0023106933',\n",
       "       '0.025869489', '0.0037142634', '0.00030755997', '0.18944371',\n",
       "       '0.0093946755', '0.0062817633', '0.1488384', '0.060599536',\n",
       "       '0.19541901', '0.018244892', '0.034537524', '0.00086155534',\n",
       "       '0.04993865', '0.052500963', '0.013442546', '0.012513578',\n",
       "       '0.039209157', '0.0012828708', '0.00044566393', '0.0017620325',\n",
       "       '0.022620589', '0.00050503016', '6.493938e-05', '0.04976839',\n",
       "       '0.119968355', '0.0077617764', '0.0014359057', '0.0011331439',\n",
       "       '0.050272256', '0.031343877', '0.00068962574', '0.00034561753',\n",
       "       '0.0013197064', '0.016731858', '0.002230972', '0.006690383',\n",
       "       '0.003034234', '0.010552645', '0.006735772', '0.0003632605',\n",
       "       '0.0150535405', '0.00042244792', '0.045297146', '0.052221835',\n",
       "       '0.005542755', '0.014889419', '0.027884334', '0.027101904',\n",
       "       '0.0150337815', '0.002071172', '0.03331223', '0.13296288',\n",
       "       '0.0017884672', '0.002242446', '0.0011319816', '0.031732112',\n",
       "       '0.008041561', '0.0054116547', '0.006158173', '0.0007509291',\n",
       "       '0.07138619', '0.0123800635', '0.034070402', '0.04438123',\n",
       "       '0.0019325614', '0.0053597093', '0.0051756203', '0.008500606',\n",
       "       '0.01387167', '0.0039508045', '0.0051745176', '0.00981912',\n",
       "       '0.0075063407', '0.013066381', '0.00026974082', '0.026303858',\n",
       "       '0.0028613806', '0.015856922', '0.028186798', '0.017820925',\n",
       "       '0.107988805', '0.048689812', '0.19097558', '0.004241556',\n",
       "       '0.17031583', '0.0006813407', '0.0011073947', '0.02703023',\n",
       "       '0.0011362135', '0.014264107', '0.0008203387', '0.0028476715',\n",
       "       '0.06801215', '0.11220634', '0.017123729', '0.020993114',\n",
       "       '0.02393645', '0.085950136', '0.0020930767', '0.023972988',\n",
       "       '0.0055015087', '0.00040769577', '0.001298219', '0.0002360642',\n",
       "       '0.041841745', '0.0905579', '0.019048274', '0.01385802',\n",
       "       '0.10189888', '0.0006940663', '0.079802185', '0.024604619',\n",
       "       '0.001732111', '0.027775645', '0.0040038526', '0.0025146008',\n",
       "       '0.0051858425', '0.018220723', '0.013660729', '0.05931467',\n",
       "       '0.00069049', '0.005070746', '0.08584863', '0.0137474835',\n",
       "       '0.052643955', '0.0022082329', '0.064082414', '0.0014404953',\n",
       "       '0.00028148293', '0.09650141', '0.025280684', '0.014118969',\n",
       "       '0.16463783', '0.10111976', '0.003062725', '0.007943988',\n",
       "       '0.044599622', '0.0021622777', '0.015232772', '0.0016671419',\n",
       "       '0.022896975', '0.0065496266', '0.00026264787', '0.0015821457',\n",
       "       '0.005097747', '0.0016556084', '0.0011965632', '0.0025868118',\n",
       "       '0.028802305', '0.002080083', '0.03665203', '0.004082054',\n",
       "       '0.02335', '0.0038000047', '0.003304571', '0.00049197674',\n",
       "       '0.00871551', '0.0006458461', '0.18177044', '0.003591925',\n",
       "       '0.0003451705', '0.08783415', '0.0068339705', '0.0026638806',\n",
       "       '0.0059188902', '0.0023852289', '0.008582383', '7.4812866e-05',\n",
       "       '0.02184248', '0.053920835', '0.026542634', '0.00068312883',\n",
       "       '0.040216', '0.0022510588', '0.02416274', '0.062883526',\n",
       "       '0.000700295', '0.068611085', '0.002473414', '0.00072073936',\n",
       "       '0.004093617', '0.1918444', '0.07843417', '0.06985986',\n",
       "       '0.00829795', '0.0024748445', '0.00793007', '0.13523403',\n",
       "       '0.0032284558', '0.01191929', '0.0003465414', '0.027520686',\n",
       "       '0.059294343', '0.025695562', '0.0055101216', '0.025073439',\n",
       "       '0.0058231354', '0.060291827', '0.009599894', '0.17990077',\n",
       "       '0.073064', '0.08457863', '0.0036611557', '0.001490593',\n",
       "       '0.0015386045', '0.015281677', '0.00038790703', '0.0015107095',\n",
       "       '0.022739917', '0.0031679273', '0.17334417', '0.03055495',\n",
       "       '0.025456578', '0.0019249618', '0.0034139752', '0.17711088',\n",
       "       '0.015081584', '0.0068467855', '0.0031815171', '0.007716775',\n",
       "       '0.006164789', '0.013482332', '0.0070129335', '0.0023590028',\n",
       "       '0.022532552', '0.020865023', '0.045697153', '0.003975421',\n",
       "       '0.0046560466', '0.012887716', '0.0050139427', '0.000113561924',\n",
       "       '0.07643485', '0.0030800402', '0.030525863', '0.025649399',\n",
       "       '0.008405119', '0.009397209', '0.09904593', '0.030048907',\n",
       "       '0.09108436', '0.00026458502', '0.19291058', '0.013046712',\n",
       "       '0.0017746389', '0.06079781', '0.0016859472', '0.006044477',\n",
       "       '0.020929724', '0.020627737', '0.019425511', '0.0066548586',\n",
       "       '0.005577266', '0.006554693', '0.007196218', '0.11341676',\n",
       "       '0.1400938', '7.207869e-05', '0.103289336', '0.0014224946',\n",
       "       '0.0050677657', '0.05167699', '0.17992014', '0.00060912967',\n",
       "       '0.008260876', '0.019575119', '0.007552296', '0.00055775046',\n",
       "       '0.0020866394', '0.10685605', '0.17628178', '0.15574148',\n",
       "       '0.012777537', '0.004776895', '0.0017457604', '0.010220081',\n",
       "       '0.08659217', '0.00022655725', '0.0017043948', '0.014696658',\n",
       "       '0.000892818', '0.10242033', '0.00015243888', '0.03802514',\n",
       "       '0.0044174194', '0.003931731', '0.0049355626', '0.07937199',\n",
       "       '0.00011562219', '0.0014643371', '0.0018243194', '0.022171646',\n",
       "       '0.01424396', '0.00031271577', '0.055706024', '0.00031271577',\n",
       "       '0.14160386', '0.037065744', '0.17175922', '0.06564346',\n",
       "       '0.069879115', '0.000859499', '0.0020044446', '0.00064232945',\n",
       "       '0.15672523', '0.07221165', '0.036911875', '0.014243454',\n",
       "       '0.02654323', '0.014056742', '0.0046622157', '0.18452454',\n",
       "       '0.00020900369', '0.0047531426', '0.0033482313', '0.07604784',\n",
       "       '0.0003427863', '0.10295305', '0.19159585', '0.030562282',\n",
       "       '0.15273127', '0.0074987113', '0.0013765097', '0.05396679',\n",
       "       '0.08949253', '0.0010505319', '0.015264899', '0.081623256',\n",
       "       '0.00023525953', '0.093167275', '0.112838596', '0.11486828',\n",
       "       '0.007275641', '0.0013435483', '0.00116238', '0.0057323575',\n",
       "       '0.0058805645', '0.00010794577', '0.000569731', '0.001505822',\n",
       "       '0.011667132', '0.00299111', '0.030186772', '0.013032407',\n",
       "       '0.009290576', '0.0001706481', '0.0047210753', '0.00583899',\n",
       "       '0.0015336871', '0.12403408', '0.0011129975', '0.0175246',\n",
       "       '0.058622062', '0.051462024', '0.0035801828', '0.012904853',\n",
       "       '0.002124101', '0.04640916', '0.008148789', '0.010906249',\n",
       "       '0.00277552', '0.008217126', '0.005207509', '0.00047808886',\n",
       "       '0.112687916', '0.00391528', '0.0067224503', '0.0269323',\n",
       "       '0.14541635', '0.0012026131', '0.043615878', '0.0002938211',\n",
       "       '0.09803063', '0.079958916', '0.075567216', '0.00053590536',\n",
       "       '0.102151334', '0.00080546737', '0.13842309', '0.042210728',\n",
       "       '0.026068926', '0.016141266', '8.416953e-06', '0.08850518',\n",
       "       '0.0070852935', '0.0013353229', '0.00083068013', '0.0041402876',\n",
       "       '0.00029060245', '0.01166293', '0.0026738644', '0.036862314',\n",
       "       '0.0015936494', '0.0936504', '0.099249005', '0.07517892',\n",
       "       '0.0009550452', '0.0009178221', '0.19527689', '0.04770717',\n",
       "       '0.039080113', '0.00051909685', '0.00053322315', '0.00028330088',\n",
       "       '0.16154674', '0.040315926', '0.0023362637', '0.019924015',\n",
       "       '0.0023298562', '0.006804973', '0.17018539', '0.006846994',\n",
       "       '0.13866106', '0.00016120076', '0.1585004', '0.04394877',\n",
       "       '0.008244187', '0.10519922', '0.007389784', '0.0013787746',\n",
       "       '0.0004387796', '0.10508081', '0.011825383', '0.015773058',\n",
       "       '0.0042684376', '0.013475001', '0.059365362', '0.15633905',\n",
       "       '0.055188835', '0.007326573', '0.0014442205', '0.005886078',\n",
       "       '3.3897977e-05', '0.027561158', '0.0005019009', '0.0006621778',\n",
       "       '0.18841591', '0.10117781', '3.4667475e-05', '0.015810192',\n",
       "       '0.17043641', '0.0012682378', '0.0032040179', '0.0041241646',\n",
       "       '0.04414344', '0.06420845', '0.008200914', '0.029789686',\n",
       "       '0.021073818', '0.0051962137', '0.0064997673', '0.02617532',\n",
       "       '0.0058352053', '0.004642755', '0.041068584', '0.037011445',\n",
       "       '0.07281381', '0.001971215', '0.025121689', '0.0014218688',\n",
       "       '0.032796234', '0.010872364', '0.040712744', '0.05273956',\n",
       "       '0.0048338473', '0.15258938', '0.0045592487', '0.16957632',\n",
       "       '0.07541075', '0.1668314', '0.15060836', '0.010692298',\n",
       "       '0.00017148256', '0.00019541383', '0.02245617', '0.012333423',\n",
       "       '0.038427502', '0.16723362', '0.00041171908', '0.11235508',\n",
       "       '0.03278157', '0.0051234365', '0.005997479', '0.02970767',\n",
       "       '0.016747922', '0.18311948', '0.18524212', '0.014375448',\n",
       "       '0.0019012988', '0.00054103136', '0.0063284934', '0.01483348',\n",
       "       '0.008484036', '0.007804543', '0.00528422', '0.0029933453',\n",
       "       '0.015784502', '0.033664733', '0.08724931', '0.054846913',\n",
       "       '0.14639944', '0.023750156', '0.0065518618', '0.052550554',\n",
       "       '0.17940784', '0.009696007', '0.0022068024', '0.17777225',\n",
       "       '0.02641967', '1.36549e-05', '0.0035464764', '0.028515369',\n",
       "       '0.029908061', '0.009359568', '0.0013438761', '0.05269593',\n",
       "       '0.0038947463', '0.03289655', '0.003487438', '0.036647856',\n",
       "       '0.01859811', '0.0038616657', '0.0008685291', '0.016158938',\n",
       "       '0.00037929416', '0.0001164023', '0.0021739602', '0.008653551',\n",
       "       '0.03259307', '0.048672915', '0.00073352456', '0.05696109',\n",
       "       '0.0011804104', '0.002060324', '0.08960679', '5.5950335e-05',\n",
       "       '0.00041413307', '0.005810082', '0.005466044', '0.006499499',\n",
       "       '0.025140435', '0.047309697', '0.060662687', '0.12170097',\n",
       "       '0.0014308989', '0.00051283836', '0.013700664', '0.009154081',\n",
       "       '0.014702648', '0.008940399', '0.0119950175', '0.00031533837',\n",
       "       '0.013501912', '0.014417946', '0.006114602', '0.008119106',\n",
       "       '0.0006311536', '0.014892817', '0.00046244264', '0.0062261224',\n",
       "       '0.1689547', '0.0020643175', '0.0008260906'], dtype='<U32')"
      ]
     },
     "execution_count": 187,
     "metadata": {},
     "output_type": "execute_result"
    }
   ],
   "source": [
    "y_pred[y_pred<.2].astype(np.str_)"
   ]
  },
  {
   "cell_type": "code",
   "execution_count": 228,
   "metadata": {},
   "outputs": [
    {
     "data": {
      "image/png": "[encoded data removed]",
      "text/plain": [
       "<Figure size 1080x432 with 1 Axes>"
      ]
     },
     "metadata": {
      "needs_background": "light"
     },
     "output_type": "display_data"
    }
   ],
   "source": [
    "plt.figure(figsize=(15, 6))\n",
    "plt.plot(y_pred[y_pred>=.5], \"^\", c='g', markersize=3.5)\n",
    "plt.plot(y_pred[y_pred<.5], \"v\", c='r', markersize=3.5)\n",
    "plt.yticks([i/20 for i in range(0, 21)])\n",
    "plt.legend(['buy', 'sell'])\n",
    "plt.grid()"
   ]
  },
  {
   "cell_type": "code",
   "execution_count": 181,
   "metadata": {},
   "outputs": [
    {
     "data": {
      "text/plain": [
       "array([1., 1., 1., ..., 1., 1., 1.])"
      ]
     },
     "execution_count": 181,
     "metadata": {},
     "output_type": "execute_result"
    }
   ],
   "source": [
    "y_test"
   ]
  },
  {
   "cell_type": "code",
   "execution_count": 179,
   "metadata": {},
   "outputs": [],
   "source": [
    "model.save('model.h5')"
   ]
  },
  {
   "cell_type": "code",
   "execution_count": 26,
   "metadata": {},
   "outputs": [],
   "source": [
    "from keras.models import load_model, Model"
   ]
  },
  {
   "cell_type": "code",
   "execution_count": 27,
   "metadata": {},
   "outputs": [],
   "source": [
    "loaded_model = load_model('model.h5')"
   ]
  },
  {
   "cell_type": "code",
   "execution_count": 217,
   "metadata": {},
   "outputs": [
    {
     "name": "stdout",
     "output_type": "stream",
     "text": [
      "92.9 ms ± 8.51 ms per loop (mean ± std. dev. of 7 runs, 10 loops each)\n"
     ]
    }
   ],
   "source": [
    "%%timeit\n",
    "loaded_model.predict(x_test)"
   ]
  },
  {
   "cell_type": "code",
   "execution_count": 42,
   "metadata": {
    "scrolled": true
   },
   "outputs": [
    {
     "name": "stdout",
     "output_type": "stream",
     "text": [
      "40.5 ms ± 1.89 ms per loop (mean ± std. dev. of 7 runs, 10 loops each)\n"
     ]
    }
   ],
   "source": [
    "%%timeit\n",
    "loaded_model.predict(x_test[0].reshape(1, 53))"
   ]
  },
  {
   "cell_type": "code",
   "execution_count": 44,
   "metadata": {
    "scrolled": true
   },
   "outputs": [
    {
     "name": "stdout",
     "output_type": "stream",
     "text": [
      "83.7 ms ± 9.61 ms per loop (mean ± std. dev. of 7 runs, 10 loops each)\n"
     ]
    }
   ],
   "source": [
    "%%timeit\n",
    "loaded_model.predict(x_test[0].reshape(1, 53)), loaded_model.predict(x_test[0].reshape(1, 53))"
   ]
  },
  {
   "cell_type": "code",
   "execution_count": null,
   "metadata": {},
   "outputs": [],
   "source": []
  },
  {
   "cell_type": "code",
   "execution_count": 39,
   "metadata": {
    "scrolled": true
   },
   "outputs": [
    {
     "data": {
      "text/plain": [
       "array([[0.98543155]], dtype=float32)"
      ]
     },
     "execution_count": 39,
     "metadata": {},
     "output_type": "execute_result"
    }
   ],
   "source": [
    "loaded_model.predict(x_test[0].reshape(1, 53))"
   ]
  },
  {
   "cell_type": "code",
   "execution_count": null,
   "metadata": {},
   "outputs": [],
   "source": []
  },
  {
   "cell_type": "code",
   "execution_count": 206,
   "metadata": {},
   "outputs": [
    {
     "data": {
      "text/plain": [
       "(2148, 53)"
      ]
     },
     "execution_count": 206,
     "metadata": {},
     "output_type": "execute_result"
    }
   ],
   "source": [
    "x_test.shape"
   ]
  },
  {
   "cell_type": "code",
   "execution_count": 207,
   "metadata": {},
   "outputs": [
    {
     "data": {
      "text/plain": [
       "(53,)"
      ]
     },
     "execution_count": 207,
     "metadata": {},
     "output_type": "execute_result"
    }
   ],
   "source": [
    "x_test[0].shape"
   ]
  },
  {
   "cell_type": "code",
   "execution_count": 210,
   "metadata": {},
   "outputs": [
    {
     "data": {
      "text/plain": [
       "(53,)"
      ]
     },
     "execution_count": 210,
     "metadata": {},
     "output_type": "execute_result"
    }
   ],
   "source": [
    "np.array(x_test[0]).shape"
   ]
  },
  {
   "cell_type": "code",
   "execution_count": 229,
   "metadata": {},
   "outputs": [
    {
     "data": {
      "text/plain": [
       "'2.6.0'"
      ]
     },
     "execution_count": 229,
     "metadata": {},
     "output_type": "execute_result"
    }
   ],
   "source": [
    "import keras\n",
    "keras.__version__"
   ]
  },
  {
   "cell_type": "code",
   "execution_count": null,
   "metadata": {},
   "outputs": [],
   "source": []
  }
 ],
 "metadata": {
  "kernelspec": {
   "display_name": "Python 3",
   "language": "python",
   "name": "python3"
  },
  "language_info": {
   "codemirror_mode": {
    "name": "ipython",
    "version": 3
   },
   "file_extension": ".py",
   "mimetype": "text/x-python",
   "name": "python",
   "nbconvert_exporter": "python",
   "pygments_lexer": "ipython3",
   "version": "3.8.5"
  }
 },
 "nbformat": 4,
 "nbformat_minor": 4
}
