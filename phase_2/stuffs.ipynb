{
 "cells": [
  {
   "cell_type": "code",
   "execution_count": 1,
   "metadata": {},
   "outputs": [],
   "source": [
    "from binance.client import Client\n",
    "from BinanceFuturesPy.futurespy import Client as cf\n",
    "from config import *"
   ]
  },
  {
   "cell_type": "code",
   "execution_count": 2,
   "metadata": {},
   "outputs": [],
   "source": [
    "import numpy as np\n",
    "import matplotlib.pyplot as plt"
   ]
  },
  {
   "cell_type": "code",
   "execution_count": 3,
   "metadata": {},
   "outputs": [],
   "source": [
    "client = Client(api_key, api_secret)\n",
    "clientf = cf(api_key, api_secret)# , testnet=True)"
   ]
  },
  {
   "cell_type": "code",
   "execution_count": null,
   "metadata": {},
   "outputs": [],
   "source": []
  },
  {
   "cell_type": "code",
   "execution_count": 26,
   "metadata": {},
   "outputs": [
    {
     "data": {
      "text/plain": [
       "'-0.06219863'"
      ]
     },
     "execution_count": 26,
     "metadata": {},
     "output_type": "execute_result"
    }
   ],
   "source": [
    "acc = client.futures_account()['assets'][2]['unrealizedProfit']\n",
    "acc"
   ]
  },
  {
   "cell_type": "code",
   "execution_count": null,
   "metadata": {},
   "outputs": [],
   "source": []
  },
  {
   "cell_type": "code",
   "execution_count": 7,
   "metadata": {},
   "outputs": [
    {
     "data": {
      "text/plain": [
       "'0.02925374'"
      ]
     },
     "execution_count": 7,
     "metadata": {},
     "output_type": "execute_result"
    }
   ],
   "source": [
    "acc = client.futures_account()['assets'][2]['unrealizedProfit']\n",
    "acc"
   ]
  },
  {
   "cell_type": "code",
   "execution_count": 9,
   "metadata": {},
   "outputs": [
    {
     "data": {
      "text/plain": [
       "'-0.01541830'"
      ]
     },
     "execution_count": 9,
     "metadata": {},
     "output_type": "execute_result"
    }
   ],
   "source": [
    "acc = client.futures_account()['assets'][2]['unrealizedProfit']\n",
    "acc"
   ]
  },
  {
   "cell_type": "code",
   "execution_count": null,
   "metadata": {},
   "outputs": [],
   "source": []
  },
  {
   "cell_type": "code",
   "execution_count": 208,
   "metadata": {},
   "outputs": [],
   "source": [
    "depth = client.futures_coin_order_book(symbol='BTCUSD_PERP', pair=\"BTCBUSD\")\n",
    "bid = np.array(depth['bids']).astype(np.float64)\n",
    "# bid_sum = bid.sum(axis=0) # t_value | orders\n",
    "\n",
    "ask = np.array(depth['asks']).astype(np.float64)\n",
    "# ask_sum = ask.sum(axis=0) # t_value | orders\n",
    "\n",
    "# b_price = bid[:, 0][0]\n",
    "# a_price = ask[:, 0][0]\n",
    "# price = (b_price+a_price)/2\n",
    "# print(b_price, a_price, price)"
   ]
  },
  {
   "cell_type": "code",
   "execution_count": 221,
   "metadata": {},
   "outputs": [
    {
     "data": {
      "image/png": "[encoded data removed]",
      "text/plain": [
       "<Figure size 864x288 with 1 Axes>"
      ]
     },
     "metadata": {
      "needs_background": "light"
     },
     "output_type": "display_data"
    }
   ],
   "source": [
    "plt.figure(figsize=(12, 4))\n",
    "ax = plt.subplot(111)\n",
    "ax.plot(bid[:, 1], bid[:, 0], color='g')\n",
    "ax.plot(ask[:, 1], ask[:, 0], color='r')\n",
    "# ax.xaxis_date()\n",
    "plt.show()"
   ]
  },
  {
   "cell_type": "code",
   "execution_count": 267,
   "metadata": {},
   "outputs": [
    {
     "data": {
      "text/plain": [
       "(500, 2)"
      ]
     },
     "execution_count": 267,
     "metadata": {},
     "output_type": "execute_result"
    }
   ],
   "source": [
    "ask.shape"
   ]
  },
  {
   "cell_type": "code",
   "execution_count": 269,
   "metadata": {
    "scrolled": true
   },
   "outputs": [
    {
     "data": {
      "text/plain": [
       "array([47947.4, 47947. , 47946.9, 47946.7, 47946.3, 47946.2, 47946. ,\n",
       "       47945.9, 47945.1, 47944.5, 47944.3, 47943.9, 47943.2, 47943.1,\n",
       "       47942.4, 47942.1, 47941.9, 47941.4, 47941.2, 47941.1, 47941. ,\n",
       "       47940.9, 47940.4, 47939.9, 47939.5, 47939.2, 47938.8, 47938.7,\n",
       "       47938.6, 47938.5, 47938.3, 47938.2, 47938. , 47937.8, 47937.7,\n",
       "       47937.5, 47937.3, 47936.7, 47936.6, 47936.5, 47936.4, 47936.3,\n",
       "       47936.2, 47935.8, 47935.1, 47935. , 47934.9, 47934.6, 47934.5,\n",
       "       47934.4, 47933.5, 47933.1, 47933. , 47932.9, 47932.7, 47932.6,\n",
       "       47932.4, 47931.8, 47931.7, 47931.5, 47931. , 47930.7, 47930.5,\n",
       "       47930.3, 47930.1, 47929.8, 47929.7, 47929.5, 47929.1, 47928.8,\n",
       "       47928.3, 47928.2, 47928. , 47927.8, 47927.6, 47927.3, 47927.1,\n",
       "       47926.8, 47926.6, 47926.5, 47926.2, 47926.1, 47925.7, 47925.3,\n",
       "       47925.2, 47925.1, 47925. , 47924.9, 47924.2, 47922.9, 47922.4,\n",
       "       47922.3, 47922. , 47921.9, 47921.6, 47921. , 47920.9, 47920.5,\n",
       "       47920.2, 47920.1, 47920. , 47919.4, 47918.5, 47918.2, 47917.9,\n",
       "       47917.7, 47917.5, 47917.3, 47917.2, 47916.7, 47916. , 47914.8,\n",
       "       47914.6, 47914.5, 47914.3, 47914.1, 47913.7, 47913.5, 47913.4,\n",
       "       47913. , 47912.4, 47911.9, 47911.4, 47910.9, 47910.7, 47910.3,\n",
       "       47908.3, 47908. , 47907.6, 47907.3, 47907.2, 47907.1, 47906.8,\n",
       "       47906.6, 47906.2, 47905.7, 47905.4, 47905.2, 47904.6, 47904.1,\n",
       "       47903.9, 47903.7, 47903.6, 47903.5, 47902.8, 47902.3, 47901.9,\n",
       "       47901.7, 47901.2, 47901. , 47900.8, 47900.5, 47900. , 47899.6,\n",
       "       47899.3, 47899.2, 47898.2, 47898.1, 47898. , 47897.9, 47897.8,\n",
       "       47897.7, 47897.3, 47897.1, 47895.9, 47895.7, 47894.4, 47894.2,\n",
       "       47893.7, 47893.5, 47893.4, 47893.2, 47893.1, 47892.4, 47892. ,\n",
       "       47891.9, 47891.5, 47891.4, 47891. , 47890.6, 47890.3, 47889.7,\n",
       "       47889.3, 47888.4, 47888.2, 47888. , 47887.6, 47887.4, 47886.9,\n",
       "       47886.8, 47886.4, 47885.8, 47885.4, 47884.4, 47884.3, 47884.2,\n",
       "       47884. , 47883.9, 47883.7, 47883.6, 47883.5, 47883.3, 47882.7,\n",
       "       47882.2, 47880.8, 47880.3, 47880.1, 47880. , 47879.1, 47878.8,\n",
       "       47878.6, 47878.3, 47878.2, 47878. , 47877.4, 47877.2, 47876.7,\n",
       "       47876.3, 47876. , 47875.6, 47874.9, 47874.1, 47874. , 47873.6,\n",
       "       47873.5, 47873.3, 47872.1, 47871.4, 47870.6, 47870.2, 47869.9,\n",
       "       47869.2, 47868.8, 47868.7, 47868.5, 47868.3, 47868.1, 47867.3,\n",
       "       47867.2, 47867.1, 47866.7, 47866.6, 47866.5, 47866.3, 47866.1,\n",
       "       47865.6, 47865.1, 47865. , 47864.8, 47864.4])"
      ]
     },
     "execution_count": 269,
     "metadata": {},
     "output_type": "execute_result"
    }
   ],
   "source": [
    "bid[:, 0][:250]"
   ]
  },
  {
   "cell_type": "code",
   "execution_count": 268,
   "metadata": {
    "scrolled": true
   },
   "outputs": [
    {
     "data": {
      "text/plain": [
       "array([47947.5, 47948. , 47948.7, 47949.2, 47950. , 47950.1, 47950.2,\n",
       "       47950.3, 47950.4, 47950.5, 47951.4, 47951.9, 47952. , 47952.1,\n",
       "       47952.3, 47952.5, 47952.6, 47952.7, 47953.4, 47954. , 47954.1,\n",
       "       47954.8, 47955.1, 47955.5, 47955.6, 47956.1, 47956.4, 47956.6,\n",
       "       47957. , 47957.6, 47958. , 47958.1, 47958.2, 47958.6, 47958.8,\n",
       "       47958.9, 47959. , 47959.4, 47959.7, 47959.8, 47960. , 47960.2,\n",
       "       47960.4, 47961. , 47961.2, 47961.3, 47961.4, 47961.6, 47961.7,\n",
       "       47961.9, 47962. , 47962.2, 47962.3, 47962.7, 47962.8, 47962.9,\n",
       "       47963.2, 47963.9, 47964.2, 47964.3, 47964.5, 47965. , 47965.1,\n",
       "       47965.6, 47965.7, 47966.1, 47966.2, 47967.1, 47967.6, 47967.7,\n",
       "       47967.8, 47968.4, 47968.6, 47968.8, 47968.9, 47969.1, 47969.2,\n",
       "       47969.3, 47969.8, 47970.3, 47970.4, 47971. , 47971.2, 47971.3,\n",
       "       47971.5, 47971.7, 47971.8, 47972.1, 47972.3, 47972.5, 47972.9,\n",
       "       47973. , 47973.9, 47974.1, 47974.2, 47974.3, 47974.7, 47974.8,\n",
       "       47975.1, 47975.3, 47975.5, 47975.9, 47976.1, 47976.8, 47977. ,\n",
       "       47977.2, 47977.3, 47977.6, 47977.8, 47978.1, 47978.4, 47978.6,\n",
       "       47978.7, 47979. , 47979.2, 47979.3, 47979.4, 47979.7, 47980.1,\n",
       "       47980.2, 47980.5, 47980.7, 47981.1, 47981.5, 47981.7, 47981.9,\n",
       "       47982. , 47982.2, 47982.4, 47982.5, 47982.7, 47982.8, 47982.9,\n",
       "       47983.3, 47984.2, 47985. , 47985.2, 47986. , 47987.3, 47987.6,\n",
       "       47987.7, 47988. , 47988.5, 47988.9, 47989.1, 47989.2, 47989.3,\n",
       "       47990.1, 47990.7, 47991.6, 47991.8, 47992. , 47992.2, 47992.3,\n",
       "       47992.7, 47993.4, 47994.3, 47995. , 47995.1, 47995.2, 47996. ,\n",
       "       47996.1, 47996.3, 47996.9, 47997. , 47997.4, 47997.9, 47998. ,\n",
       "       47998.2, 47998.3, 47998.4, 47998.8, 47999.3, 47999.6, 47999.8,\n",
       "       48000. , 48000.1, 48000.2, 48000.4, 48001.1, 48001.2, 48001.6,\n",
       "       48001.7, 48001.8, 48002.1, 48002.2, 48002.6, 48003.2, 48003.7,\n",
       "       48004. , 48004.1, 48004.8, 48005. , 48005.6, 48005.9, 48006.2,\n",
       "       48006.6, 48006.9, 48007.1, 48007.7, 48008.2, 48008.3, 48008.6,\n",
       "       48009. , 48009.2, 48009.6, 48009.8, 48009.9, 48010.1, 48011.4,\n",
       "       48011.6, 48011.7, 48012.5, 48012.8, 48013.4, 48014.1, 48014.4,\n",
       "       48014.5, 48014.9, 48015.8, 48016.4, 48016.5, 48016.7, 48017.1,\n",
       "       48017.3, 48018.2, 48019.1, 48019.3, 48019.4, 48019.5, 48019.8,\n",
       "       48019.9, 48020. , 48020.4, 48020.5, 48021.2, 48021.3, 48021.5,\n",
       "       48021.7, 48021.8, 48021.9, 48022.2, 48022.4, 48022.5, 48024.7,\n",
       "       48024.8, 48025.3, 48025.7, 48026.1, 48026.3])"
      ]
     },
     "execution_count": 268,
     "metadata": {},
     "output_type": "execute_result"
    }
   ],
   "source": [
    "ask[:, 0][:250]"
   ]
  },
  {
   "cell_type": "code",
   "execution_count": null,
   "metadata": {},
   "outputs": [],
   "source": []
  },
  {
   "cell_type": "code",
   "execution_count": 247,
   "metadata": {
    "scrolled": true
   },
   "outputs": [],
   "source": [
    "arr_b_prc = bid[:, 1].astype(np.float64)\n",
    "arr_b_ord = bid[:, 1].astype(np.float64)"
   ]
  },
  {
   "cell_type": "code",
   "execution_count": 256,
   "metadata": {
    "scrolled": true
   },
   "outputs": [
    {
     "data": {
      "text/plain": [
       "array([2.6154e+04, 1.0200e+02, 2.7700e+02, 1.0510e+03, 4.0100e+02,\n",
       "       1.3300e+02, 9.5000e+01, 6.6000e+01, 2.0000e+00, 4.5400e+02,\n",
       "       1.6800e+02, 1.4400e+02, 2.5200e+02, 2.0300e+02, 1.0000e+01,\n",
       "       2.5100e+02, 9.1000e+01, 1.0000e+02, 3.1000e+02, 5.0000e+01,\n",
       "       1.3830e+03, 1.0800e+02, 1.0000e+02, 4.2000e+01, 4.0000e+01,\n",
       "       4.0000e+01, 4.2000e+01, 8.2000e+01, 6.6000e+01, 4.0000e+01,\n",
       "       3.6200e+02, 7.1200e+02, 1.6500e+02, 1.5100e+02, 1.0000e+02,\n",
       "       1.2000e+02, 2.0000e+02, 1.0000e+02, 9.6000e+01, 9.3000e+01,\n",
       "       2.9300e+02, 4.6790e+03, 8.0000e+00, 2.8000e+02, 4.5600e+02,\n",
       "       4.0000e+02, 1.0000e+00, 2.3000e+02, 3.2600e+02, 1.9500e+02,\n",
       "       2.8700e+02, 5.3800e+02, 7.4300e+02, 1.1610e+03, 1.0000e+02,\n",
       "       1.5000e+02, 1.0000e+02, 2.5000e+01, 4.0000e+01, 9.0000e+00,\n",
       "       1.5000e+02, 8.0200e+02, 1.0000e+02, 1.2100e+03, 1.0000e+00,\n",
       "       1.5000e+01, 5.6000e+02, 1.9200e+02, 4.4000e+01, 1.5290e+03,\n",
       "       4.0000e+01, 1.0000e+00, 5.0000e+02, 5.0000e+02, 1.5000e+02,\n",
       "       1.2000e+02, 5.0000e+01, 8.0000e+00, 1.5000e+02, 2.9700e+02,\n",
       "       1.0000e+00, 1.0000e+00, 1.0000e+02, 2.0100e+02, 2.5000e+02,\n",
       "       3.0000e+01, 9.9900e+02, 4.0000e+01, 1.5000e+02, 1.9300e+02,\n",
       "       1.0000e+02, 1.2400e+02, 8.0000e+00, 1.0000e+00, 4.0000e+01,\n",
       "       1.0000e+02, 1.5000e+02, 9.4300e+02, 1.5000e+02, 1.9200e+02,\n",
       "       5.2000e+02, 1.0000e+02, 1.2900e+03, 4.1000e+01, 6.5500e+02,\n",
       "       1.2000e+01, 1.5000e+02, 1.8000e+03, 8.0000e+00, 1.4000e+01,\n",
       "       1.0900e+02, 1.4000e+02, 1.5000e+02, 4.4000e+01, 1.0000e+00,\n",
       "       1.5000e+02, 6.6000e+01, 1.2100e+02, 6.4300e+02, 2.2900e+02,\n",
       "       8.0000e+00, 5.0000e+01, 4.0000e+01, 2.9000e+02, 1.5000e+02,\n",
       "       9.8500e+02, 2.0000e+00, 4.0000e+01, 8.0000e+00, 9.0400e+02,\n",
       "       1.0000e+02, 1.0000e+01, 5.6000e+02, 4.1100e+02, 1.0000e+00,\n",
       "       1.0000e+00, 1.0060e+03, 1.2450e+03, 8.5000e+01, 1.2080e+03,\n",
       "       1.5000e+02, 1.0000e+00, 1.0000e+00, 8.5000e+01, 8.0000e+00,\n",
       "       1.0000e+00, 1.0000e+01, 9.5400e+02, 4.0000e+01, 2.0000e+00,\n",
       "       3.1000e+01, 1.5000e+02, 1.1600e+02, 1.1200e+02, 2.1000e+01,\n",
       "       1.0000e+02, 1.1000e+03, 5.4500e+02, 1.0000e+01, 4.4000e+01,\n",
       "       4.0000e+01, 4.9300e+02, 4.0000e+00, 1.5000e+02, 4.1000e+02,\n",
       "       4.8100e+02, 4.0000e+01, 1.0000e+00, 1.5000e+02, 2.2700e+02,\n",
       "       6.6000e+01, 2.0000e+01, 5.0000e+01, 3.7800e+02, 5.0000e+00,\n",
       "       4.4000e+02, 4.0000e+00, 1.6810e+03, 4.0000e+01, 4.4000e+01,\n",
       "       1.5100e+02, 1.3900e+03, 1.7240e+03, 8.0000e+00, 6.1600e+02,\n",
       "       3.0000e+02, 4.0000e+01, 1.0000e+00, 1.5000e+02, 6.6000e+01,\n",
       "       1.0000e+00, 1.0180e+03, 1.0000e+00, 1.0000e+00, 1.0000e+00,\n",
       "       4.0000e+01, 1.0000e+02, 5.6200e+02, 1.5850e+03, 8.0000e+00,\n",
       "       1.5000e+02, 4.5000e+01, 6.5100e+02, 1.0000e+00, 1.5700e+02,\n",
       "       1.2000e+01, 1.5000e+02, 1.0400e+03, 5.0600e+02, 8.0000e+00,\n",
       "       2.3230e+03, 1.0000e+00, 1.0000e+02, 5.0000e+02, 1.3800e+03,\n",
       "       3.4030e+03, 1.5000e+02, 2.5200e+02, 1.4400e+02, 2.5200e+02,\n",
       "       9.8600e+02, 2.0500e+03, 4.9000e+01, 5.0000e+02, 2.5900e+02,\n",
       "       1.5000e+02, 6.5000e+01, 5.0000e+01, 4.0000e+01, 1.0000e+00,\n",
       "       3.5300e+02, 8.0000e+00, 1.2000e+01, 4.5000e+01, 1.2000e+01,\n",
       "       3.0000e+01, 1.0000e+00, 1.0000e+02, 4.0000e+01, 1.0000e+00,\n",
       "       1.0000e+02, 3.0000e+02, 1.5000e+02, 1.1440e+03, 1.0000e+00,\n",
       "       1.0000e+02, 2.5100e+02, 1.0000e+00, 1.3205e+04, 8.0000e+00,\n",
       "       4.0000e+01, 2.0000e+02, 1.5000e+02, 8.0000e+00, 5.0000e+02,\n",
       "       1.7300e+02, 2.3800e+02, 5.0000e+02, 4.0000e+01, 1.0000e+02,\n",
       "       2.2730e+03, 1.5000e+02, 2.4600e+02, 2.0000e+00, 3.0000e+02,\n",
       "       2.3800e+02, 1.0000e+00, 5.0000e+02, 2.3800e+02, 4.0000e+01,\n",
       "       1.5000e+02, 2.4000e+01, 2.4400e+02, 2.9000e+01, 5.1500e+02,\n",
       "       1.5000e+01, 8.0000e+00, 1.0000e+00, 1.6300e+02, 2.0000e+00,\n",
       "       4.0000e+01, 4.0700e+02, 1.5000e+02, 2.4960e+03, 2.3900e+02,\n",
       "       3.0000e+02, 2.0000e+02, 2.2600e+02, 2.4000e+01, 4.0000e+01,\n",
       "       1.8400e+02, 1.5000e+02, 1.0300e+03, 1.1900e+02, 1.0700e+02,\n",
       "       2.7800e+02, 4.4000e+01, 4.0000e+01, 1.0490e+03, 1.0000e+00,\n",
       "       1.5000e+02, 1.6000e+01, 8.0000e+00, 1.2000e+01, 1.2000e+02,\n",
       "       4.0000e+01, 7.5000e+02, 1.0000e+00, 3.3000e+02, 8.0000e+00,\n",
       "       4.0500e+02, 3.2000e+01, 1.2100e+02, 1.5000e+02, 2.0000e+00,\n",
       "       7.6570e+03, 5.0000e+02, 5.9300e+02, 5.0000e+02, 4.0000e+01,\n",
       "       1.5000e+02, 7.5100e+02, 9.0000e+00, 7.5900e+02, 1.2100e+02,\n",
       "       2.0000e+01, 1.0000e+00, 4.0000e+01, 1.0000e+01, 1.5000e+02,\n",
       "       8.9000e+01, 3.0000e+02, 2.0000e+00, 8.0000e+00, 1.0000e+00,\n",
       "       6.0000e+00, 4.0000e+01, 1.5000e+02, 8.0000e+00, 2.0000e+00,\n",
       "       4.0000e+01, 8.0000e+00, 1.0000e+00, 1.5000e+02, 4.5000e+01,\n",
       "       1.0000e+00, 4.0000e+01, 1.2000e+01, 1.5000e+02, 1.0000e+00,\n",
       "       5.0000e+01, 8.0000e+00, 1.2000e+01, 1.0000e+02, 4.0000e+01,\n",
       "       6.4300e+02, 1.5000e+02, 7.0000e+00, 1.0000e+00, 1.6000e+01,\n",
       "       8.0000e+00, 4.0000e+01, 2.0000e+00, 1.5000e+02, 2.0000e+02,\n",
       "       4.0000e+01, 1.5000e+02, 1.0000e+00, 6.0000e+01, 8.0000e+00,\n",
       "       1.2000e+01, 3.3400e+02, 1.0000e+00, 4.0000e+01, 1.5000e+02,\n",
       "       2.0000e+02, 1.0000e+00, 2.0000e+00, 8.0000e+00, 1.0000e+00,\n",
       "       4.0000e+01, 1.5000e+02, 8.0000e+00, 4.0000e+01, 4.2000e+02,\n",
       "       8.0000e+00, 1.5000e+02, 5.0000e+02, 1.0000e+02, 4.2000e+02,\n",
       "       1.9400e+02, 1.2000e+01, 4.0000e+01, 1.1000e+01, 1.5000e+02,\n",
       "       1.0000e+00, 6.0000e+00, 8.0000e+00, 5.0000e+02, 4.0000e+01,\n",
       "       5.0000e+02, 1.3000e+01, 1.5000e+02, 7.0000e+00, 1.0000e+00,\n",
       "       1.6000e+01, 4.9000e+01, 1.4000e+01, 1.5000e+02, 5.4000e+01,\n",
       "       1.8370e+03, 1.1700e+02, 5.0000e+02, 5.0000e+02, 1.5000e+02,\n",
       "       1.2000e+01, 8.0000e+00, 1.0000e+00, 4.0000e+01, 1.5000e+02,\n",
       "       1.9000e+01, 1.0000e+00, 3.0000e+00, 8.0000e+00, 1.0000e+00,\n",
       "       4.0000e+01, 1.6000e+01, 1.5000e+02, 2.0000e+00, 1.0000e+01,\n",
       "       1.2300e+02, 4.0000e+01, 1.0000e+03, 8.0000e+00, 5.0000e+02,\n",
       "       6.6330e+03, 1.6000e+01, 8.0000e+00, 5.0000e+01, 1.0000e+00,\n",
       "       1.1000e+01, 1.0000e+02, 1.0000e+00, 4.0000e+00, 8.0000e+00,\n",
       "       5.0000e+00, 1.5880e+03, 5.0000e+00, 1.6000e+01, 1.0000e+00,\n",
       "       3.1000e+01, 8.0000e+00, 1.0000e+00, 3.9660e+03, 7.0000e+00,\n",
       "       1.0000e+02, 2.7000e+01, 1.2000e+01, 8.0000e+00, 3.0000e+00,\n",
       "       1.0000e+00, 4.0000e+00, 5.0000e+00, 1.4000e+01, 1.3200e+02,\n",
       "       2.0000e+00, 9.6000e+01, 5.2200e+02, 1.0000e+00, 1.2000e+01,\n",
       "       8.0000e+00, 1.0000e+00, 7.1000e+01, 1.0000e+00, 3.0000e+00,\n",
       "       1.3000e+01, 2.3000e+01, 1.0000e+01, 8.0000e+00, 4.0000e+01,\n",
       "       1.2000e+01, 4.7700e+02, 1.0000e+01, 5.5000e+01, 5.0000e+00,\n",
       "       1.0000e+00, 1.0000e+00, 1.2140e+03, 8.0000e+00, 3.9800e+02,\n",
       "       9.0000e+00, 1.2000e+01, 1.0000e+00, 1.0000e+00, 4.2900e+02,\n",
       "       1.0000e+00, 8.0000e+00, 5.9000e+02, 2.0000e+00, 7.8600e+02])"
      ]
     },
     "execution_count": 256,
     "metadata": {},
     "output_type": "execute_result"
    }
   ],
   "source": [
    "arr_b_prc"
   ]
  },
  {
   "cell_type": "code",
   "execution_count": 241,
   "metadata": {},
   "outputs": [
    {
     "data": {
      "text/plain": [
       "500"
      ]
     },
     "execution_count": 241,
     "metadata": {},
     "output_type": "execute_result"
    }
   ],
   "source": [
    "len(arr_b)"
   ]
  },
  {
   "cell_type": "code",
   "execution_count": 242,
   "metadata": {},
   "outputs": [
    {
     "data": {
      "text/plain": [
       "172853.0"
      ]
     },
     "execution_count": 242,
     "metadata": {},
     "output_type": "execute_result"
    }
   ],
   "source": [
    "arr_b.sum()"
   ]
  },
  {
   "cell_type": "code",
   "execution_count": 243,
   "metadata": {
    "scrolled": true
   },
   "outputs": [
    {
     "data": {
      "text/plain": [
       "345.706"
      ]
     },
     "execution_count": 243,
     "metadata": {},
     "output_type": "execute_result"
    }
   ],
   "source": [
    "arr_b.mean()"
   ]
  },
  {
   "cell_type": "code",
   "execution_count": 259,
   "metadata": {
    "scrolled": true
   },
   "outputs": [
    {
     "data": {
      "text/plain": [
       "array([2.6154e+04, 1.0200e+02, 2.7700e+02, 1.0510e+03, 4.0100e+02,\n",
       "       1.3300e+02, 9.5000e+01, 6.6000e+01, 2.0000e+00, 4.5400e+02,\n",
       "       1.6800e+02, 1.4400e+02, 2.5200e+02, 2.0300e+02, 1.0000e+01,\n",
       "       2.5100e+02, 9.1000e+01, 1.0000e+02, 3.1000e+02, 5.0000e+01,\n",
       "       1.3830e+03, 1.0800e+02, 1.0000e+02, 4.2000e+01, 4.0000e+01,\n",
       "       4.0000e+01, 4.2000e+01, 8.2000e+01, 6.6000e+01, 4.0000e+01,\n",
       "       3.6200e+02, 7.1200e+02, 1.6500e+02, 1.5100e+02, 1.0000e+02,\n",
       "       1.2000e+02, 2.0000e+02, 1.0000e+02, 9.6000e+01, 9.3000e+01,\n",
       "       2.9300e+02, 4.6790e+03, 8.0000e+00, 2.8000e+02, 4.5600e+02,\n",
       "       4.0000e+02, 1.0000e+00, 2.3000e+02, 3.2600e+02, 1.9500e+02,\n",
       "       2.8700e+02, 5.3800e+02, 7.4300e+02, 1.1610e+03, 1.0000e+02,\n",
       "       1.5000e+02, 1.0000e+02, 2.5000e+01, 4.0000e+01, 9.0000e+00,\n",
       "       1.5000e+02, 8.0200e+02, 1.0000e+02, 1.2100e+03, 1.0000e+00,\n",
       "       1.5000e+01, 5.6000e+02, 1.9200e+02, 4.4000e+01, 1.5290e+03,\n",
       "       4.0000e+01, 1.0000e+00, 5.0000e+02, 5.0000e+02, 1.5000e+02,\n",
       "       1.2000e+02, 5.0000e+01, 8.0000e+00, 1.5000e+02, 2.9700e+02,\n",
       "       1.0000e+00, 1.0000e+00, 1.0000e+02, 2.0100e+02, 2.5000e+02,\n",
       "       3.0000e+01, 9.9900e+02, 4.0000e+01, 1.5000e+02, 1.9300e+02,\n",
       "       1.0000e+02, 1.2400e+02, 8.0000e+00, 1.0000e+00, 4.0000e+01,\n",
       "       1.0000e+02, 1.5000e+02, 9.4300e+02, 1.5000e+02, 1.9200e+02,\n",
       "       5.2000e+02, 1.0000e+02, 1.2900e+03, 4.1000e+01, 6.5500e+02,\n",
       "       1.2000e+01, 1.5000e+02, 1.8000e+03, 8.0000e+00, 1.4000e+01,\n",
       "       1.0900e+02, 1.4000e+02, 1.5000e+02, 4.4000e+01, 1.0000e+00,\n",
       "       1.5000e+02, 6.6000e+01, 1.2100e+02, 6.4300e+02, 2.2900e+02,\n",
       "       8.0000e+00, 5.0000e+01, 4.0000e+01, 2.9000e+02, 1.5000e+02,\n",
       "       9.8500e+02, 2.0000e+00, 4.0000e+01, 8.0000e+00, 9.0400e+02,\n",
       "       1.0000e+02, 1.0000e+01, 5.6000e+02, 4.1100e+02, 1.0000e+00,\n",
       "       1.0000e+00, 1.0060e+03, 1.2450e+03, 8.5000e+01, 1.2080e+03,\n",
       "       1.5000e+02, 1.0000e+00, 1.0000e+00, 8.5000e+01, 8.0000e+00,\n",
       "       1.0000e+00, 1.0000e+01, 9.5400e+02, 4.0000e+01, 2.0000e+00,\n",
       "       3.1000e+01, 1.5000e+02, 1.1600e+02, 1.1200e+02, 2.1000e+01,\n",
       "       1.0000e+02, 1.1000e+03, 5.4500e+02, 1.0000e+01, 4.4000e+01,\n",
       "       4.0000e+01, 4.9300e+02, 4.0000e+00, 1.5000e+02, 4.1000e+02,\n",
       "       4.8100e+02, 4.0000e+01, 1.0000e+00, 1.5000e+02, 2.2700e+02,\n",
       "       6.6000e+01, 2.0000e+01, 5.0000e+01, 3.7800e+02, 5.0000e+00,\n",
       "       4.4000e+02, 4.0000e+00, 1.6810e+03, 4.0000e+01, 4.4000e+01,\n",
       "       1.5100e+02, 1.3900e+03, 1.7240e+03, 8.0000e+00, 6.1600e+02,\n",
       "       3.0000e+02, 4.0000e+01, 1.0000e+00, 1.5000e+02, 6.6000e+01,\n",
       "       1.0000e+00, 1.0180e+03, 1.0000e+00, 1.0000e+00, 1.0000e+00,\n",
       "       4.0000e+01, 1.0000e+02, 5.6200e+02, 1.5850e+03, 8.0000e+00,\n",
       "       1.5000e+02, 4.5000e+01, 6.5100e+02, 1.0000e+00, 1.5700e+02,\n",
       "       1.2000e+01, 1.5000e+02, 1.0400e+03, 5.0600e+02, 8.0000e+00,\n",
       "       2.3230e+03, 1.0000e+00, 1.0000e+02, 5.0000e+02, 1.3800e+03,\n",
       "       3.4030e+03, 1.5000e+02, 2.5200e+02, 1.4400e+02, 2.5200e+02,\n",
       "       9.8600e+02, 2.0500e+03, 4.9000e+01, 5.0000e+02, 2.5900e+02,\n",
       "       1.5000e+02, 6.5000e+01, 5.0000e+01, 4.0000e+01, 1.0000e+00,\n",
       "       3.5300e+02, 8.0000e+00, 1.2000e+01, 4.5000e+01, 1.2000e+01,\n",
       "       3.0000e+01, 1.0000e+00, 1.0000e+02, 4.0000e+01, 1.0000e+00,\n",
       "       1.0000e+02, 3.0000e+02, 1.5000e+02, 1.1440e+03, 1.0000e+00,\n",
       "       1.0000e+02, 2.5100e+02, 1.0000e+00, 1.3205e+04, 8.0000e+00,\n",
       "       4.0000e+01, 2.0000e+02, 1.5000e+02, 8.0000e+00, 5.0000e+02,\n",
       "       1.7300e+02, 2.3800e+02, 5.0000e+02, 4.0000e+01, 1.0000e+02,\n",
       "       2.2730e+03, 1.5000e+02, 2.4600e+02, 2.0000e+00, 3.0000e+02,\n",
       "       2.3800e+02, 1.0000e+00, 5.0000e+02, 2.3800e+02, 4.0000e+01,\n",
       "       1.5000e+02, 2.4000e+01, 2.4400e+02, 2.9000e+01, 5.1500e+02,\n",
       "       1.5000e+01, 8.0000e+00, 1.0000e+00, 1.6300e+02, 2.0000e+00,\n",
       "       4.0000e+01, 4.0700e+02, 1.5000e+02, 2.4960e+03, 2.3900e+02,\n",
       "       3.0000e+02, 2.0000e+02, 2.2600e+02, 2.4000e+01, 4.0000e+01,\n",
       "       1.8400e+02, 1.5000e+02, 1.0300e+03, 1.1900e+02, 1.0700e+02,\n",
       "       2.7800e+02, 4.4000e+01, 4.0000e+01, 1.0490e+03, 1.0000e+00,\n",
       "       1.5000e+02, 1.6000e+01, 8.0000e+00, 1.2000e+01, 1.2000e+02,\n",
       "       4.0000e+01, 7.5000e+02, 1.0000e+00, 3.3000e+02, 8.0000e+00,\n",
       "       4.0500e+02, 3.2000e+01, 1.2100e+02, 1.5000e+02, 2.0000e+00,\n",
       "       7.6570e+03, 5.0000e+02, 5.9300e+02, 5.0000e+02, 4.0000e+01,\n",
       "       1.5000e+02, 7.5100e+02, 9.0000e+00, 7.5900e+02, 1.2100e+02,\n",
       "       2.0000e+01, 1.0000e+00, 4.0000e+01, 1.0000e+01, 1.5000e+02,\n",
       "       8.9000e+01, 3.0000e+02, 2.0000e+00, 8.0000e+00, 1.0000e+00,\n",
       "       6.0000e+00, 4.0000e+01, 1.5000e+02, 8.0000e+00, 2.0000e+00,\n",
       "       4.0000e+01, 8.0000e+00, 1.0000e+00, 1.5000e+02, 4.5000e+01,\n",
       "       1.0000e+00, 4.0000e+01, 1.2000e+01, 1.5000e+02, 1.0000e+00,\n",
       "       5.0000e+01, 8.0000e+00, 1.2000e+01, 1.0000e+02, 4.0000e+01,\n",
       "       6.4300e+02, 1.5000e+02, 7.0000e+00, 1.0000e+00, 1.6000e+01,\n",
       "       8.0000e+00, 4.0000e+01, 2.0000e+00, 1.5000e+02, 2.0000e+02,\n",
       "       4.0000e+01, 1.5000e+02, 1.0000e+00, 6.0000e+01, 8.0000e+00,\n",
       "       1.2000e+01, 3.3400e+02, 1.0000e+00, 4.0000e+01, 1.5000e+02,\n",
       "       2.0000e+02, 1.0000e+00, 2.0000e+00, 8.0000e+00, 1.0000e+00,\n",
       "       4.0000e+01, 1.5000e+02, 8.0000e+00, 4.0000e+01, 4.2000e+02,\n",
       "       8.0000e+00, 1.5000e+02, 5.0000e+02, 1.0000e+02, 4.2000e+02,\n",
       "       1.9400e+02, 1.2000e+01, 4.0000e+01, 1.1000e+01, 1.5000e+02,\n",
       "       1.0000e+00, 6.0000e+00, 8.0000e+00, 5.0000e+02, 4.0000e+01,\n",
       "       5.0000e+02, 1.3000e+01, 1.5000e+02, 7.0000e+00, 1.0000e+00,\n",
       "       1.6000e+01, 4.9000e+01, 1.4000e+01, 1.5000e+02, 5.4000e+01,\n",
       "       1.8370e+03, 1.1700e+02, 5.0000e+02, 5.0000e+02, 1.5000e+02,\n",
       "       1.2000e+01, 8.0000e+00, 1.0000e+00, 4.0000e+01, 1.5000e+02,\n",
       "       1.9000e+01, 1.0000e+00, 3.0000e+00, 8.0000e+00, 1.0000e+00,\n",
       "       4.0000e+01, 1.6000e+01, 1.5000e+02, 2.0000e+00, 1.0000e+01,\n",
       "       1.2300e+02, 4.0000e+01, 1.0000e+03, 8.0000e+00, 5.0000e+02,\n",
       "       6.6330e+03, 1.6000e+01, 8.0000e+00, 5.0000e+01, 1.0000e+00,\n",
       "       1.1000e+01, 1.0000e+02, 1.0000e+00, 4.0000e+00, 8.0000e+00,\n",
       "       5.0000e+00, 1.5880e+03, 5.0000e+00, 1.6000e+01, 1.0000e+00,\n",
       "       3.1000e+01, 8.0000e+00, 1.0000e+00, 3.9660e+03, 7.0000e+00,\n",
       "       1.0000e+02, 2.7000e+01, 1.2000e+01, 8.0000e+00, 3.0000e+00,\n",
       "       1.0000e+00, 4.0000e+00, 5.0000e+00, 1.4000e+01, 1.3200e+02,\n",
       "       2.0000e+00, 9.6000e+01, 5.2200e+02, 1.0000e+00, 1.2000e+01,\n",
       "       8.0000e+00, 1.0000e+00, 7.1000e+01, 1.0000e+00, 3.0000e+00,\n",
       "       1.3000e+01, 2.3000e+01, 1.0000e+01, 8.0000e+00, 4.0000e+01,\n",
       "       1.2000e+01, 4.7700e+02, 1.0000e+01, 5.5000e+01, 5.0000e+00,\n",
       "       1.0000e+00, 1.0000e+00, 1.2140e+03, 8.0000e+00, 3.9800e+02,\n",
       "       9.0000e+00, 1.2000e+01, 1.0000e+00, 1.0000e+00, 4.2900e+02,\n",
       "       1.0000e+00, 8.0000e+00, 5.9000e+02, 2.0000e+00, 7.8600e+02])"
      ]
     },
     "execution_count": 259,
     "metadata": {},
     "output_type": "execute_result"
    }
   ],
   "source": [
    "arr_b"
   ]
  },
  {
   "cell_type": "code",
   "execution_count": 261,
   "metadata": {},
   "outputs": [
    {
     "data": {
      "text/plain": [
       "345.706"
      ]
     },
     "execution_count": 261,
     "metadata": {},
     "output_type": "execute_result"
    }
   ],
   "source": [
    "arr_b.mean()"
   ]
  },
  {
   "cell_type": "code",
   "execution_count": 245,
   "metadata": {},
   "outputs": [
    {
     "data": {
      "text/plain": [
       "99"
      ]
     },
     "execution_count": 245,
     "metadata": {},
     "output_type": "execute_result"
    }
   ],
   "source": [
    "cond = arr_b>arr_b.mean()\n",
    "cond.sum()"
   ]
  },
  {
   "cell_type": "code",
   "execution_count": 251,
   "metadata": {},
   "outputs": [
    {
     "data": {
      "text/plain": [
       "array([26154.,  1051.,   401.,   454.,  1383.,   362.,   712.,  4679.,\n",
       "         456.,   400.,   538.,   743.,  1161.,   802.,  1210.,   560.,\n",
       "        1529.,   500.,   500.,   999.,   943.,   520.,  1290.,   655.,\n",
       "        1800.,   643.,   985.,   904.,   560.,   411.,  1006.,  1245.,\n",
       "        1208.,   954.,  1100.,   545.,   493.,   410.,   481.,   378.,\n",
       "         440.,  1681.,  1390.,  1724.,   616.,  1018.,   562.,  1585.,\n",
       "         651.,  1040.,   506.,  2323.,   500.,  1380.,  3403.,   986.,\n",
       "        2050.,   500.,   353.,  1144., 13205.,   500.,   500.,  2273.,\n",
       "         500.,   515.,   407.,  2496.,  1030.,  1049.,   750.,   405.,\n",
       "        7657.,   500.,   593.,   500.,   751.,   759.,   643.,   420.,\n",
       "         500.,   420.,   500.,   500.,  1837.,   500.,   500.,  1000.,\n",
       "         500.,  6633.,  1588.,  3966.,   522.,   477.,  1214.,   398.,\n",
       "         429.,   590.,   786.])"
      ]
     },
     "execution_count": 251,
     "metadata": {},
     "output_type": "execute_result"
    }
   ],
   "source": [
    "pr = arr_b_prc[cond]\n",
    "pr"
   ]
  },
  {
   "cell_type": "code",
   "execution_count": 254,
   "metadata": {
    "scrolled": true
   },
   "outputs": [
    {
     "data": {
      "text/plain": [
       "(array([92,  3,  2,  0,  1,  0,  0,  0,  0,  1], dtype=int64),\n",
       " array([  353. ,  2933.1,  5513.2,  8093.3, 10673.4, 13253.5, 15833.6,\n",
       "        18413.7, 20993.8, 23573.9, 26154. ]))"
      ]
     },
     "execution_count": 254,
     "metadata": {},
     "output_type": "execute_result"
    }
   ],
   "source": [
    "pr_hist = np.histogram(pr)\n",
    "pr_hist"
   ]
  },
  {
   "cell_type": "code",
   "execution_count": 258,
   "metadata": {},
   "outputs": [
    {
     "data": {
      "text/plain": [
       "27.384"
      ]
     },
     "execution_count": 258,
     "metadata": {},
     "output_type": "execute_result"
    }
   ],
   "source": [
    "round(np.std(np.histogram(pr)[0]), 3)"
   ]
  },
  {
   "cell_type": "code",
   "execution_count": 257,
   "metadata": {},
   "outputs": [
    {
     "data": {
      "text/plain": [
       "(11.942, 28.05)"
      ]
     },
     "execution_count": 257,
     "metadata": {},
     "output_type": "execute_result"
    }
   ],
   "source": [
    "bid_hist = np.histogram(bid[:, 0])\n",
    "ask_hist = np.histogram(ask[:, 0])\n",
    "\n",
    "# std num orders\n",
    "std_order_bid = round(np.std(bid_hist[0]), 3)\n",
    "std_order_ask = round(np.std(ask_hist[0]), 3)\n",
    "std_order_bid, std_order_ask"
   ]
  },
  {
   "cell_type": "code",
   "execution_count": null,
   "metadata": {},
   "outputs": [],
   "source": []
  },
  {
   "cell_type": "code",
   "execution_count": 250,
   "metadata": {},
   "outputs": [
    {
     "data": {
      "image/png": "[encoded data removed]",
      "text/plain": [
       "<Figure size 720x432 with 1 Axes>"
      ]
     },
     "metadata": {
      "needs_background": "light"
     },
     "output_type": "display_data"
    }
   ],
   "source": [
    "fig = plt.figure(figsize=(10, 6))\n",
    "plt.plot(bid[:, 0], bid[:, 1], \"x\", c='g')\n",
    "# plt.plot(ask[:, 0], ask[:, 1], \"o\", c='r')\n",
    "plt.grid()"
   ]
  },
  {
   "cell_type": "code",
   "execution_count": null,
   "metadata": {},
   "outputs": [],
   "source": [
    "np.histogram"
   ]
  },
  {
   "cell_type": "code",
   "execution_count": null,
   "metadata": {},
   "outputs": [],
   "source": []
  },
  {
   "cell_type": "code",
   "execution_count": null,
   "metadata": {},
   "outputs": [],
   "source": []
  },
  {
   "cell_type": "code",
   "execution_count": null,
   "metadata": {},
   "outputs": [],
   "source": []
  },
  {
   "cell_type": "code",
   "execution_count": 11,
   "metadata": {},
   "outputs": [
    {
     "name": "stdout",
     "output_type": "stream",
     "text": [
      "The slowest run took 6.13 times longer than the fastest. This could mean that an intermediate result is being cached.\n",
      "771 ms ± 467 ms per loop (mean ± std. dev. of 7 runs, 1 loop each)\n"
     ]
    }
   ],
   "source": [
    "%%timeit\n",
    "acc = client.futures_account()\n",
    "del acc['assets']\n",
    "del acc['positions']\n",
    "acc"
   ]
  },
  {
   "cell_type": "code",
   "execution_count": 55,
   "metadata": {},
   "outputs": [
    {
     "name": "stdout",
     "output_type": "stream",
     "text": [
      "The slowest run took 5.43 times longer than the fastest. This could mean that an intermediate result is being cached.\n",
      "1.01 s ± 475 ms per loop (mean ± std. dev. of 7 runs, 1 loop each)\n"
     ]
    }
   ],
   "source": [
    "%%timeit\n",
    "acc = client.futures_account()['totalUnrealizedProfit']\n",
    "acc"
   ]
  },
  {
   "cell_type": "code",
   "execution_count": 73,
   "metadata": {},
   "outputs": [
    {
     "data": {
      "text/plain": [
       "'0.01396655'"
      ]
     },
     "execution_count": 73,
     "metadata": {},
     "output_type": "execute_result"
    }
   ],
   "source": [
    "acc = client.futures_account()['assets'][2]['unrealizedProfit']\n",
    "acc"
   ]
  },
  {
   "cell_type": "code",
   "execution_count": 91,
   "metadata": {},
   "outputs": [
    {
     "data": {
      "text/plain": [
       "'0.01490000'"
      ]
     },
     "execution_count": 91,
     "metadata": {},
     "output_type": "execute_result"
    }
   ],
   "source": [
    "acc = client.futures_account()['assets'][2]['unrealizedProfit']\n",
    "acc"
   ]
  },
  {
   "cell_type": "code",
   "execution_count": 114,
   "metadata": {},
   "outputs": [
    {
     "data": {
      "text/plain": [
       "'-0.00072634'"
      ]
     },
     "execution_count": 114,
     "metadata": {},
     "output_type": "execute_result"
    }
   ],
   "source": [
    "acc = client.futures_account()['assets'][2]['unrealizedProfit']\n",
    "acc"
   ]
  },
  {
   "cell_type": "code",
   "execution_count": 115,
   "metadata": {},
   "outputs": [
    {
     "data": {
      "text/plain": [
       "'-0.00230000'"
      ]
     },
     "execution_count": 115,
     "metadata": {},
     "output_type": "execute_result"
    }
   ],
   "source": [
    "acc = client.futures_account()['assets'][2]['unrealizedProfit']\n",
    "acc"
   ]
  },
  {
   "cell_type": "code",
   "execution_count": 133,
   "metadata": {},
   "outputs": [
    {
     "data": {
      "text/plain": [
       "'-0.00730000'"
      ]
     },
     "execution_count": 133,
     "metadata": {},
     "output_type": "execute_result"
    }
   ],
   "source": [
    "acc = client.futures_account()['assets'][2]['unrealizedProfit']\n",
    "acc"
   ]
  },
  {
   "cell_type": "code",
   "execution_count": 138,
   "metadata": {},
   "outputs": [
    {
     "data": {
      "text/plain": [
       "'0.00366874'"
      ]
     },
     "execution_count": 138,
     "metadata": {},
     "output_type": "execute_result"
    }
   ],
   "source": [
    "acc = client.futures_account()['assets'][2]['unrealizedProfit']\n",
    "acc"
   ]
  },
  {
   "cell_type": "code",
   "execution_count": 140,
   "metadata": {},
   "outputs": [
    {
     "data": {
      "text/plain": [
       "'0.00190000'"
      ]
     },
     "execution_count": 140,
     "metadata": {},
     "output_type": "execute_result"
    }
   ],
   "source": [
    "acc = client.futures_account()['assets'][2]['unrealizedProfit']\n",
    "acc"
   ]
  },
  {
   "cell_type": "code",
   "execution_count": 175,
   "metadata": {},
   "outputs": [
    {
     "data": {
      "text/plain": [
       "'0.00000000'"
      ]
     },
     "execution_count": 175,
     "metadata": {},
     "output_type": "execute_result"
    }
   ],
   "source": [
    "acc = client.futures_account()['assets'][2]['unrealizedProfit']\n",
    "acc"
   ]
  },
  {
   "cell_type": "code",
   "execution_count": 148,
   "metadata": {},
   "outputs": [
    {
     "data": {
      "text/plain": [
       "'-0.00024795'"
      ]
     },
     "execution_count": 148,
     "metadata": {},
     "output_type": "execute_result"
    }
   ],
   "source": [
    "acc = client.futures_account()['assets'][2]['unrealizedProfit']\n",
    "acc"
   ]
  },
  {
   "cell_type": "code",
   "execution_count": 2,
   "metadata": {},
   "outputs": [
    {
     "data": {
      "text/plain": [
       "2.673"
      ]
     },
     "execution_count": 2,
     "metadata": {},
     "output_type": "execute_result"
    }
   ],
   "source": [
    "2.7*.99"
   ]
  },
  {
   "cell_type": "code",
   "execution_count": 149,
   "metadata": {},
   "outputs": [
    {
     "data": {
      "text/plain": [
       "'-0.00420000'"
      ]
     },
     "execution_count": 149,
     "metadata": {},
     "output_type": "execute_result"
    }
   ],
   "source": [
    "acc = client.futures_account()['assets'][2]['unrealizedProfit']\n",
    "acc"
   ]
  },
  {
   "cell_type": "code",
   "execution_count": 174,
   "metadata": {},
   "outputs": [
    {
     "data": {
      "text/plain": [
       "'-0.01683749'"
      ]
     },
     "execution_count": 174,
     "metadata": {},
     "output_type": "execute_result"
    }
   ],
   "source": [
    "acc = client.futures_account()['assets'][2]['unrealizedProfit']\n",
    "acc"
   ]
  },
  {
   "cell_type": "code",
   "execution_count": 177,
   "metadata": {},
   "outputs": [
    {
     "data": {
      "text/plain": [
       "'-0.01159854'"
      ]
     },
     "execution_count": 177,
     "metadata": {},
     "output_type": "execute_result"
    }
   ],
   "source": [
    "acc = client.futures_account()['assets'][2]['unrealizedProfit']\n",
    "acc"
   ]
  },
  {
   "cell_type": "code",
   "execution_count": 178,
   "metadata": {},
   "outputs": [
    {
     "data": {
      "text/plain": [
       "'0.00000000'"
      ]
     },
     "execution_count": 178,
     "metadata": {},
     "output_type": "execute_result"
    }
   ],
   "source": [
    "acc = client.futures_account()['assets'][2]['unrealizedProfit']\n",
    "acc"
   ]
  },
  {
   "cell_type": "code",
   "execution_count": 151,
   "metadata": {},
   "outputs": [
    {
     "ename": "ValueError",
     "evalue": "max() arg is an empty sequence",
     "output_type": "error",
     "traceback": [
      "\u001b[1;31m---------------------------------------------------------------------------\u001b[0m",
      "\u001b[1;31mValueError\u001b[0m                                Traceback (most recent call last)",
      "\u001b[1;32m<ipython-input-151-a48d8f8c12de>\u001b[0m in \u001b[0;36m<module>\u001b[1;34m\u001b[0m\n\u001b[1;32m----> 1\u001b[1;33m \u001b[0mmax\u001b[0m\u001b[1;33m(\u001b[0m\u001b[1;33m[\u001b[0m\u001b[1;33m]\u001b[0m\u001b[1;33m)\u001b[0m\u001b[1;33m\u001b[0m\u001b[1;33m\u001b[0m\u001b[0m\n\u001b[0m",
      "\u001b[1;31mValueError\u001b[0m: max() arg is an empty sequence"
     ]
    }
   ],
   "source": [
    "max([])"
   ]
  },
  {
   "cell_type": "code",
   "execution_count": 154,
   "metadata": {},
   "outputs": [
    {
     "data": {
      "text/plain": [
       "{'symbol': 'BTCUSDT', 'leverage': 2, 'maxNotionalValue': '300000000'}"
      ]
     },
     "execution_count": 154,
     "metadata": {},
     "output_type": "execute_result"
    }
   ],
   "source": [
    "clientf.change_leverage(2)"
   ]
  },
  {
   "cell_type": "code",
   "execution_count": 150,
   "metadata": {},
   "outputs": [
    {
     "data": {
      "text/plain": [
       "'-0.00362811'"
      ]
     },
     "execution_count": 150,
     "metadata": {},
     "output_type": "execute_result"
    }
   ],
   "source": [
    "acc = client.futures_account()['assets'][2]['unrealizedProfit']\n",
    "acc"
   ]
  },
  {
   "cell_type": "code",
   "execution_count": 207,
   "metadata": {},
   "outputs": [
    {
     "data": {
      "text/plain": [
       "'12'"
      ]
     },
     "execution_count": 207,
     "metadata": {},
     "output_type": "execute_result"
    }
   ],
   "source": [
    "\"{:.0f}\".format(12)"
   ]
  },
  {
   "cell_type": "code",
   "execution_count": 85,
   "metadata": {},
   "outputs": [
    {
     "data": {
      "text/plain": [
       "0.012569895"
      ]
     },
     "execution_count": 85,
     "metadata": {},
     "output_type": "execute_result"
    }
   ],
   "source": [
    "float('0.01396655')*.9"
   ]
  },
  {
   "cell_type": "code",
   "execution_count": 78,
   "metadata": {},
   "outputs": [
    {
     "data": {
      "text/plain": [
       "'-0.00247803'"
      ]
     },
     "execution_count": 78,
     "metadata": {},
     "output_type": "execute_result"
    }
   ],
   "source": [
    "acc = client.futures_account()['assets'][2]['unrealizedProfit']\n",
    "acc"
   ]
  },
  {
   "cell_type": "code",
   "execution_count": 153,
   "metadata": {},
   "outputs": [
    {
     "data": {
      "text/plain": [
       "True"
      ]
     },
     "execution_count": 153,
     "metadata": {},
     "output_type": "execute_result"
    }
   ],
   "source": [
    "float('-0.00247803')<-0.001"
   ]
  },
  {
   "cell_type": "code",
   "execution_count": 79,
   "metadata": {},
   "outputs": [
    {
     "data": {
      "text/plain": [
       "'0.00000000'"
      ]
     },
     "execution_count": 79,
     "metadata": {},
     "output_type": "execute_result"
    }
   ],
   "source": [
    "acc = client.futures_account()['assets'][2]['unrealizedProfit']\n",
    "acc"
   ]
  },
  {
   "cell_type": "code",
   "execution_count": 71,
   "metadata": {},
   "outputs": [
    {
     "data": {
      "text/plain": [
       "{'asset': 'BUSD',\n",
       " 'walletBalance': '47.72603578',\n",
       " 'unrealizedProfit': '0.00417965',\n",
       " 'marginBalance': '47.73021543',\n",
       " 'maintMargin': '0.19340831',\n",
       " 'initialMargin': '16.11736020',\n",
       " 'positionInitialMargin': '16.11736020',\n",
       " 'openOrderInitialMargin': '0.00000000',\n",
       " 'maxWithdrawAmount': '31.59408794',\n",
       " 'crossWalletBalance': '31.59408794',\n",
       " 'crossUnPnl': '0.00000000',\n",
       " 'availableBalance': '31.59408794',\n",
       " 'marginAvailable': True,\n",
       " 'updateTime': 1631942147591}"
      ]
     },
     "execution_count": 71,
     "metadata": {},
     "output_type": "execute_result"
    }
   ],
   "source": [
    "acc = client.futures_account()['assets'][2]\n",
    "acc"
   ]
  },
  {
   "cell_type": "code",
   "execution_count": 52,
   "metadata": {},
   "outputs": [],
   "source": [
    "L = [[27.236, 21.288], [27.9, 22.154], [28.365, 22.186], [27.814, 22.19], [30.437, 17.983], [30.206, 18.281], [30.087, 18.199], [30.285, 19.839], [30.285, 19.277], [30.516, 19.105], [29.99, 16.223], [30.358, 17.771], [30.656, 17.652], [30.958, 17.709], [30.659, 17.395], [29.923, 16.834], [30.126, 17.652], [31.203, 17.286], [30.816, 17.669], [31.215, 19.915], [29.776, 17.838], [29.213, 19.298], [29.557, 19.173], [30.007, 19.053], [24.544, 19.042], [24.121, 20.0], [23.58, 19.126], [24.731, 17.821], [23.533, 17.624], [24.69, 19.677], [24.519, 19.657], [29.421, 20.616], [24.29, 16.971], [24.245, 19.975], [26.612, 21.312], [26.623, 20.298], [27.968, 19.662], [28.182, 19.774], [28.057, 19.416], [25.052, 21.767], [25.263, 21.157], [24.739, 21.014], [23.854, 21.024], [28.646, 23.186], [25.632, 20.659], [26.104, 18.122], [25.946, 19.94], [27.514, 16.733], [26.773, 17.933], [27.885, 16.254], [27.745, 15.975], [30.013, 17.395], [30.64, 16.081], [29.96, 16.26], [30.961, 16.395], [28.622, 16.559], [28.962, 17.17], [28.921, 16.703], [28.114, 18.569], [28.834, 19.396], [28.376, 18.401], [28.439, 18.989], [28.824, 18.466], [27.59, 18.281], [29.103, 18.687], [29.028, 18.639], [22.79, 12.562], [21.735, 12.091], [22.226, 12.442], [22.952, 12.767], [22.325, 13.015], [15.582, 19.396]]"
   ]
  },
  {
   "cell_type": "code",
   "execution_count": 36,
   "metadata": {},
   "outputs": [],
   "source": [
    "M = np.array(L)\n",
    "# M"
   ]
  },
  {
   "cell_type": "code",
   "execution_count": 37,
   "metadata": {},
   "outputs": [
    {
     "data": {
      "image/png": "[encoded data removed]",
      "text/plain": [
       "<Figure size 576x288 with 1 Axes>"
      ]
     },
     "metadata": {
      "needs_background": "light"
     },
     "output_type": "display_data"
    }
   ],
   "source": [
    "fig = plt.figure(figsize=(8, 4))\n",
    "plt.plot(M[:, 0])\n",
    "plt.plot(M[:, 1])\n",
    "plt.grid()\n",
    "plt.show()"
   ]
  },
  {
   "cell_type": "code",
   "execution_count": 38,
   "metadata": {},
   "outputs": [],
   "source": [
    "L = [ [16.236, 19.37], [16.965, 18.434], [19.339, 19.458], [23.388, 13.491], [23.592, 13.259], [24.236, 12.402], [25.187, 12.712], [26.657, 13.061], [25.144, 11.296], [25.718, 11.584], [25.624, 11.95], [25.318, 12.017], [23.605, 12.704], [23.362, 11.48], [23.048, 10.257], [23.186, 10.119], [22.343, 12.554], [18.078, 12.498], [17.989, 12.264], [22.186, 15.126], [19.047, 13.936], [18.942, 14.987], [19.147, 14.744], [24.083, 18.083], [18.21, 13.849], [17.793, 14.846], [18.358, 14.866], [18.596, 14.772], [18.815, 14.128], [17.164, 12.915], [17.395, 11.983], [17.499, 12.353], [16.643, 11.653], [17.216, 13.038], [17.499, 12.058], [17.669, 14.014], [17.81, 14.014], [17.355, 14.429], [16.679, 14.199], [17.9, 14.608], [17.43, 13.856], [17.641, 14.873], [17.866, 14.498], [18.963, 14.704], [17.0, 14.859], [16.242, 15.264], [16.093, 15.395], [17.68, 14.67], [18.298, 14.184], [17.95, 14.085], [17.578, 13.176], [17.544, 13.168], [17.793, 14.064], [16.976, 13.52], [17.407, 15.284], [17.251, 13.77], [17.176, 14.325], [16.715, 13.964], [16.069, 14.1], [17.006, 13.653], [16.407, 13.394], [15.824, 13.828], [17.228, 12.992], [16.031, 12.931], [21.656, 16.619], [16.069, 13.061], [16.994, 13.342], [17.618, 13.579], [15.919, 13.799], [24.071, 18.05], [23.715, 18.407], [24.054, 18.127], [24.154, 17.418], [23.812, 17.573], [24.944, 18.714], [23.85, 17.989], [23.946, 17.539], [24.145, 17.916], [23.397, 17.436], [23.879, 17.158], [23.452, 17.894], [24.249, 17.499], [23.787, 17.994], [24.722, 23.887], [27.495, 23.904], [23.512, 19.955], [22.19, 21.545], [21.9, 21.568], [22.588, 19.96], [22.405, 21.364], [22.145, 18.762], [21.689, 18.542], [22.338, 20.857], [21.105, 20.789], [21.048, 19.199], [22.891, 22.027], [16.186, 21.284], [28.411, 18.111], [26.48, 15.906], [26.638, 16.685], [27.295, 17.205], [27.615, 17.877], [28.876, 15.893], [28.492, 14.332], [28.499, 15.271], [28.305, 15.543], [29.254, 18.682], [25.195, 14.505], [26.008, 14.206], [26.833, 14.121], [26.807, 13.579], [27.07, 13.387], [22.113, 18.958], [20.12, 20.288], [20.756, 19.799], [20.828, 19.708], [20.924, 19.769], [19.416, 19.682], [22.472, 19.642], [22.396, 19.9], [22.782, 18.989], [22.65, 19.142]]"
   ]
  },
  {
   "cell_type": "code",
   "execution_count": 39,
   "metadata": {},
   "outputs": [],
   "source": [
    "M = np.array(L)"
   ]
  },
  {
   "cell_type": "code",
   "execution_count": 41,
   "metadata": {},
   "outputs": [
    {
     "data": {
      "image/png": "[encoded data removed]",
      "text/plain": [
       "<Figure size 576x288 with 1 Axes>"
      ]
     },
     "metadata": {
      "needs_background": "light"
     },
     "output_type": "display_data"
    }
   ],
   "source": [
    "fig = plt.figure(figsize=(8, 4))\n",
    "plt.plot(M[:, 0])\n",
    "plt.plot(M[:, 1])\n",
    "plt.grid()\n",
    "plt.show()"
   ]
  },
  {
   "cell_type": "code",
   "execution_count": null,
   "metadata": {},
   "outputs": [],
   "source": []
  }
 ],
 "metadata": {
  "kernelspec": {
   "display_name": "Python 3",
   "language": "python",
   "name": "python3"
  },
  "language_info": {
   "codemirror_mode": {
    "name": "ipython",
    "version": 3
   },
   "file_extension": ".py",
   "mimetype": "text/x-python",
   "name": "python",
   "nbconvert_exporter": "python",
   "pygments_lexer": "ipython3",
   "version": "3.8.5"
  }
 },
 "nbformat": 4,
 "nbformat_minor": 4
}
