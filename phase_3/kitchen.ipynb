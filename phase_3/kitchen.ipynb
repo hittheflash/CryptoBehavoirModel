{
 "cells": [
  {
   "cell_type": "code",
   "execution_count": 1,
   "metadata": {},
   "outputs": [],
   "source": [
    "from glob import glob\n",
    "import os\n",
    "\n",
    "import random\n",
    "import numpy as np\n",
    "import pandas as pd\n",
    "import matplotlib.pyplot as plt\n",
    "import seaborn as sns\n",
    "import datetime\n",
    "\n",
    "from sklearn.metrics import classification_report, confusion_matrix"
   ]
  },
  {
   "cell_type": "code",
   "execution_count": 2,
   "metadata": {},
   "outputs": [
    {
     "data": {
      "text/plain": [
       "('11_12_2021_21_14_28', '10_12_2021_21_14_28')"
      ]
     },
     "execution_count": 2,
     "metadata": {},
     "output_type": "execute_result"
    }
   ],
   "source": [
    "m = 1\n",
    "diff1 = datetime.datetime.today() - datetime.timedelta(hours=5) - datetime.timedelta(days=m-1)\n",
    "now1 = diff1.strftime(\"%d_%m_%Y_%H_%M_%S\")\n",
    "diff2 = datetime.datetime.today() - datetime.timedelta(hours=5) - datetime.timedelta(days=m)\n",
    "now2 = diff2.strftime(\"%d_%m_%Y_%H_%M_%S\")\n",
    "now1, now2"
   ]
  },
  {
   "cell_type": "code",
   "execution_count": 22,
   "metadata": {
    "scrolled": false
   },
   "outputs": [
    {
     "name": "stdout",
     "output_type": "stream",
     "text": [
      "(80, 52)\n"
     ]
    },
    {
     "data": {
      "text/plain": [
       "Index(['target', 'lenght', 'rb_10_50', 'ra_10_50', 'rb_25_50', 'ra_25_50',\n",
       "       'rb_50_50', 'ra_50_50', 'rb_100_50', 'ra_100_50', 'rb_250_50',\n",
       "       'ra_250_50', 'rb_10_25', 'ra_10_25', 'rb_25_25', 'ra_25_25', 'rb_50_25',\n",
       "       'ra_50_25', 'rb_100_25', 'ra_100_25', 'rb_250_25', 'ra_250_25',\n",
       "       'rb_10_15', 'ra_10_15', 'rb_25_15', 'ra_25_15', 'rb_50_15', 'ra_50_15',\n",
       "       'rb_100_15', 'ra_100_15', 'rb_250_15', 'ra_250_15', 'rb_10_10',\n",
       "       'ra_10_10', 'rb_25_10', 'ra_25_10', 'rb_50_10', 'ra_50_10', 'rb_100_10',\n",
       "       'ra_100_10', 'rb_250_10', 'ra_250_10', 'rb_10_5', 'ra_10_5', 'rb_25_5',\n",
       "       'ra_25_5', 'rb_50_5', 'ra_50_5', 'rb_100_5', 'ra_100_5', 'rb_250_5',\n",
       "       'ra_250_5'],\n",
       "      dtype='object')"
      ]
     },
     "execution_count": 22,
     "metadata": {},
     "output_type": "execute_result"
    }
   ],
   "source": [
    "df = pd.read_csv('lol3.csv').drop(columns=['coin', 'inicio', 'fin'])\n",
    "da = pd.read_csv('lol3.csv').drop(columns=['inicio', 'fin'])\n",
    "print(df.shape)\n",
    "df.columns"
   ]
  },
  {
   "cell_type": "code",
   "execution_count": 4,
   "metadata": {},
   "outputs": [],
   "source": [
    "# to_hist = df[df.target==0].lenght\n",
    "# plt.plot(to_hist, 'x')\n",
    "# plt.grid()\n",
    "# # to_hist.mean()"
   ]
  },
  {
   "cell_type": "code",
   "execution_count": 5,
   "metadata": {},
   "outputs": [],
   "source": [
    "# plt.figure(figsize=(20, 7))\n",
    "# plt.hist(to_hist)\n",
    "# plt.grid()"
   ]
  },
  {
   "cell_type": "code",
   "execution_count": 24,
   "metadata": {},
   "outputs": [
    {
     "data": {
      "text/plain": [
       "0      True\n",
       "1      True\n",
       "2      True\n",
       "3      True\n",
       "4      True\n",
       "      ...  \n",
       "75    False\n",
       "76    False\n",
       "77    False\n",
       "78    False\n",
       "79    False\n",
       "Name: coin, Length: 80, dtype: bool"
      ]
     },
     "execution_count": 24,
     "metadata": {},
     "output_type": "execute_result"
    }
   ],
   "source": [
    "da.coin!='ETH'"
   ]
  },
  {
   "cell_type": "code",
   "execution_count": 25,
   "metadata": {},
   "outputs": [
    {
     "data": {
      "text/plain": [
       "array([1, 1, 0, 0, 1, 0, 1, 0, 1, 1, 0, 0, 1, 1, 0, 0, 1, 1, 0, 0, 1, 1,\n",
       "       0, 0, 1, 1, 0, 0, 1, 1, 0, 0, 1, 1, 0, 0, 1, 1, 0, 0, 1, 1, 0, 0,\n",
       "       1, 1, 0, 0, 1, 1, 0, 0, 1, 1, 0, 0, 1, 1, 0, 0], dtype=int64)"
      ]
     },
     "execution_count": 25,
     "metadata": {},
     "output_type": "execute_result"
    }
   ],
   "source": [
    "ds = df[da.coin!='ETH'].iloc[:]\n",
    "X = ds.drop(columns=['target']).values\n",
    "Y = ds.target.values\n",
    "Y"
   ]
  },
  {
   "cell_type": "code",
   "execution_count": 26,
   "metadata": {},
   "outputs": [
    {
     "data": {
      "text/plain": [
       "((45, 51), (15, 51), (45,), (15,))"
      ]
     },
     "execution_count": 26,
     "metadata": {},
     "output_type": "execute_result"
    }
   ],
   "source": [
    "from sklearn.model_selection import train_test_split\n",
    "#x_train, x_test, y_train, y_test = train_test_split(Xe, Ye, test_size = 0.25, random_state=42)\n",
    "# x_train, x_test, y_train, y_test = train_test_split(Xl, Yl, test_size = 0.25, random_state=42)\n",
    "x_train, x_test, y_train, y_test = train_test_split(X.astype(np.float64), Y, test_size = 0.25, random_state=42)\n",
    "x_train.shape, x_test.shape, y_train.shape, y_test.shape"
   ]
  },
  {
   "cell_type": "code",
   "execution_count": 27,
   "metadata": {},
   "outputs": [
    {
     "name": "stdout",
     "output_type": "stream",
     "text": [
      "test accuracy 0.6666666666666666\n"
     ]
    }
   ],
   "source": [
    "# Build Linear Regression Algorithm\n",
    "from sklearn.linear_model import LogisticRegression\n",
    "lr = LogisticRegression(max_iter=1000)\n",
    "lr.fit(x_train,y_train)\n",
    "# Here lr.score first predict the y_test and then gives the accuracy\n",
    "print(\"test accuracy {}\".format(lr.score(x_test,y_test)))\n",
    "lr_score=lr.score(x_test,y_test)"
   ]
  },
  {
   "cell_type": "code",
   "execution_count": 28,
   "metadata": {},
   "outputs": [
    {
     "name": "stdout",
     "output_type": "stream",
     "text": [
      "              precision    recall  f1-score   support\n",
      "\n",
      "           1       0.57      0.67      0.62         6\n",
      "           2       0.75      0.67      0.71         9\n",
      "\n",
      "    accuracy                           0.67        15\n",
      "   macro avg       0.66      0.67      0.66        15\n",
      "weighted avg       0.68      0.67      0.67        15\n",
      "\n"
     ]
    },
    {
     "data": {
      "image/png": "[encoded data removed]",
      "text/plain": [
       "<Figure size 360x360 with 2 Axes>"
      ]
     },
     "metadata": {
      "needs_background": "light"
     },
     "output_type": "display_data"
    }
   ],
   "source": [
    "# Here we use confusion matrix to evaluate the linear regression algorithm\n",
    "from sklearn.metrics import confusion_matrix\n",
    "import matplotlib.pyplot as plt\n",
    "import seaborn as sns\n",
    "\n",
    "y_prediction = lr.predict(x_test)\n",
    "y_actual=y_test\n",
    "cm = confusion_matrix(y_actual,y_prediction)\n",
    "texto = classification_report(y_test, y_prediction, target_names=['1', '2'])\n",
    "# texto = classification_report(y_test, y_prediction, target_names=['0', '1', '2'])\n",
    "print(texto)\n",
    "# Heatmap visualization of cunfusion matrix of Linear regression model\n",
    "f, ax = plt.subplots(figsize=(5,5))\n",
    "sns.heatmap(cm,annot = True,linewidths=0.5,linecolor=\"red\",fmt = \".0f\",ax=ax)\n",
    "plt.xlabel(\"y_prediction\")\n",
    "plt.ylabel(\"y_actual\")\n",
    "plt.show()"
   ]
  },
  {
   "cell_type": "code",
   "execution_count": 29,
   "metadata": {},
   "outputs": [
    {
     "name": "stdout",
     "output_type": "stream",
     "text": [
      "2 nn score: 0.5333333333333333\n",
      "0.5333333333333333\n"
     ]
    },
    {
     "data": {
      "image/png": "[encoded data removed]",
      "text/plain": [
       "<Figure size 360x360 with 1 Axes>"
      ]
     },
     "metadata": {
      "needs_background": "light"
     },
     "output_type": "display_data"
    },
    {
     "name": "stdout",
     "output_type": "stream",
     "text": [
      "              precision    recall  f1-score   support\n",
      "\n",
      "           1       0.46      1.00      0.63         6\n",
      "           2       1.00      0.22      0.36         9\n",
      "\n",
      "    accuracy                           0.53        15\n",
      "   macro avg       0.73      0.61      0.50        15\n",
      "weighted avg       0.78      0.53      0.47        15\n",
      "\n"
     ]
    },
    {
     "data": {
      "image/png": "[encoded data removed]",
      "text/plain": [
       "<Figure size 360x360 with 2 Axes>"
      ]
     },
     "metadata": {
      "needs_background": "light"
     },
     "output_type": "display_data"
    }
   ],
   "source": [
    "# KNN Classification Model\n",
    "from sklearn.neighbors import KNeighborsClassifier\n",
    "k = 2\n",
    "knn = KNeighborsClassifier(n_neighbors = k)\n",
    "knn.fit(x_train,y_train)\n",
    "prediction = knn.predict(x_test)\n",
    "print(\"{} nn score: {}\".format(k,knn.score(x_test,y_test)))\n",
    "\n",
    "knn_score = knn.score(x_test,y_test)\n",
    "print(knn_score)\n",
    "# We can determine best k values with plotting k values versus accuracy\n",
    "# Here we give values to k from 1 to 15 and calculate the accuracy each time,then plot them.\n",
    "score_list = []\n",
    "for each in range(1,15):\n",
    "    knn2 = KNeighborsClassifier(n_neighbors = each)\n",
    "    knn2.fit(x_train,y_train)\n",
    "    score_list.append(knn2.score(x_test,y_test))\n",
    "\n",
    "plt.figure(figsize=(5, 5))\n",
    "plt.plot(range(1,15),score_list)\n",
    "plt.xlabel(\"k values\")\n",
    "plt.ylabel(\"accuracy\")\n",
    "plt.grid()\n",
    "plt.show()\n",
    "\n",
    "y_prediction = knn.predict(x_test)\n",
    "y_actual=y_test\n",
    "cm = confusion_matrix(y_actual,y_prediction)\n",
    "texto = classification_report(y_test, y_prediction, target_names=['1', '2'])\n",
    "# texto = classification_report(y_test, y_prediction, target_names=['0', '1', '2'])\n",
    "print(texto)\n",
    "# Heatmap visualization of cunfusion matrix of Linear regression model\n",
    "f, ax = plt.subplots(figsize=(5,5))\n",
    "sns.heatmap(cm,annot = True,linewidths=0.5,linecolor=\"red\",fmt = \".0f\",ax=ax)\n",
    "plt.xlabel(\"y_prediction\")\n",
    "plt.ylabel(\"y_actual\")\n",
    "plt.show()"
   ]
  },
  {
   "cell_type": "code",
   "execution_count": 30,
   "metadata": {},
   "outputs": [
    {
     "name": "stdout",
     "output_type": "stream",
     "text": [
      "score:  1.0\n",
      "              precision    recall  f1-score   support\n",
      "\n",
      "           1       1.00      1.00      1.00         6\n",
      "           2       1.00      1.00      1.00         9\n",
      "\n",
      "    accuracy                           1.00        15\n",
      "   macro avg       1.00      1.00      1.00        15\n",
      "weighted avg       1.00      1.00      1.00        15\n",
      "\n"
     ]
    },
    {
     "data": {
      "image/png": "[encoded data removed]",
      "text/plain": [
       "<Figure size 360x360 with 2 Axes>"
      ]
     },
     "metadata": {
      "needs_background": "light"
     },
     "output_type": "display_data"
    }
   ],
   "source": [
    "# Build Decision Tree Classification Model\n",
    "from sklearn.tree import DecisionTreeClassifier\n",
    "dt = DecisionTreeClassifier(random_state = 42)\n",
    "dt.fit(x_train,y_train)\n",
    "\n",
    "print(\"score: \", dt.score(x_test,y_test))\n",
    "\n",
    "dt_score=dt.score(x_test,y_test)\n",
    "from sklearn.metrics import confusion_matrix\n",
    "y_prediction = dt.predict(x_test)\n",
    "y_actual = y_test\n",
    "cm = confusion_matrix(y_actual,y_prediction)\n",
    "texto = classification_report(y_test, y_prediction, target_names=['1', '2'])\n",
    "# texto = classification_report(y_test, y_prediction, target_names=['0', '1', '2'])\n",
    "print(texto)\n",
    "# Heatmap visualization of cunfusion matrix of the Decision Tree Classification Model\n",
    "f, ax = plt.subplots(figsize =(5,5))\n",
    "sns.heatmap(cm,annot = True,linewidths=0.5,linecolor=\"red\",fmt = \".0f\",ax=ax)\n",
    "plt.xlabel(\"y_prediction\")\n",
    "plt.ylabel(\"y_actual\")\n",
    "plt.show()"
   ]
  },
  {
   "cell_type": "code",
   "execution_count": 31,
   "metadata": {},
   "outputs": [
    {
     "name": "stdout",
     "output_type": "stream",
     "text": [
      "random forest algo result:  1.0\n",
      "              precision    recall  f1-score   support\n",
      "\n",
      "           1       1.00      1.00      1.00         6\n",
      "           2       1.00      1.00      1.00         9\n",
      "\n",
      "    accuracy                           1.00        15\n",
      "   macro avg       1.00      1.00      1.00        15\n",
      "weighted avg       1.00      1.00      1.00        15\n",
      "\n"
     ]
    },
    {
     "data": {
      "image/png": "[encoded data removed]",
      "text/plain": [
       "<Figure size 360x360 with 2 Axes>"
      ]
     },
     "metadata": {
      "needs_background": "light"
     },
     "output_type": "display_data"
    }
   ],
   "source": [
    "# Build Random Forest Classification Model\n",
    "from sklearn.ensemble import RandomForestClassifier\n",
    "# n_estimators = 100 means this model will use 100 subsets.\n",
    "rf = RandomForestClassifier(n_estimators = 100, random_state = 42)\n",
    "rf.fit(x_train,y_train)\n",
    "print(\"random forest algo result: \", rf.score(x_test,y_test))\n",
    "\n",
    "rf_score = rf.score(x_test,y_test)\n",
    "# Here we use confusion matrix to evaluate the Random Forest Classification Model\n",
    "from sklearn.metrics import confusion_matrix\n",
    "y_prediction = rf.predict(x_test)\n",
    "y_actual = y_test\n",
    "cm = confusion_matrix(y_actual,y_prediction)\n",
    "texto = classification_report(y_test, y_prediction, target_names=['1', '2'])\n",
    "# texto = classification_report(y_test, y_prediction, target_names=['0', '1', '2'])\n",
    "print(texto)\n",
    "# Heatmap visualization of cunfusion matrix of the Random Forest Classification Model\n",
    "f, ax = plt.subplots(figsize=(5,5))\n",
    "sns.heatmap(cm,annot = True,linewidths=0.5,linecolor=\"red\",fmt = \".0f\",ax=ax)\n",
    "plt.xlabel(\"y_prediction\")\n",
    "plt.ylabel(\"y_actual\")\n",
    "plt.show()"
   ]
  },
  {
   "cell_type": "code",
   "execution_count": 32,
   "metadata": {},
   "outputs": [],
   "source": [
    "import pickle\n",
    "diff1 = datetime.datetime.today()# - datetime.timedelta(hours=5) - datetime.timedelta(days=m-1)\n",
    "now = diff1.strftime(\"%d_%m_%Y_%H_%M_%S\")\n",
    "filename = f'random_forest_model_kaboom_{now}.sav'\n",
    "pickle.dump(rf, open(filename, 'wb'))\n",
    "\n",
    "# # some time later...\n",
    "\n",
    "# # load the model from disk\n",
    "# loaded_model = pickle.load(open(filename, 'rb'))\n",
    "# result = loaded_model.score(x_test, y_test)\n",
    "# print(result)"
   ]
  },
  {
   "cell_type": "code",
   "execution_count": 33,
   "metadata": {},
   "outputs": [
    {
     "name": "stdout",
     "output_type": "stream",
     "text": [
      "print accuracy of svm algo:  0.6666666666666666\n",
      "              precision    recall  f1-score   support\n",
      "\n",
      "           1       0.57      0.67      0.62         6\n",
      "           2       0.75      0.67      0.71         9\n",
      "\n",
      "    accuracy                           0.67        15\n",
      "   macro avg       0.66      0.67      0.66        15\n",
      "weighted avg       0.68      0.67      0.67        15\n",
      "\n"
     ]
    },
    {
     "data": {
      "image/png": "[encoded data removed]",
      "text/plain": [
       "<Figure size 360x360 with 2 Axes>"
      ]
     },
     "metadata": {
      "needs_background": "light"
     },
     "output_type": "display_data"
    }
   ],
   "source": [
    "# Build Support Vector Machine Model\n",
    "from sklearn.svm import SVC\n",
    "svm = SVC(kernel ='rbf', random_state = 42)\n",
    "svm.fit(x_train,y_train)\n",
    "# prediction and accuracy \n",
    "print(\"print accuracy of svm algo: \",svm.score(x_test,y_test))\n",
    "\n",
    "svm_score = svm.score(x_test,y_test)\n",
    "# Here we use confusion matrix to evaluate the Support Vector Machine Model\n",
    "from sklearn.metrics import confusion_matrix\n",
    "y_prediction = svm.predict(x_test)\n",
    "y_actual = y_test\n",
    "cm = confusion_matrix(y_actual,y_prediction)\n",
    "texto = classification_report(y_test, y_prediction, target_names=['1', '2'])\n",
    "# texto = classification_report(y_test, y_prediction, target_names=['0', '1', '2'])\n",
    "print(texto)\n",
    "# Heatmap visualization of cunfusion matrix of the Support Vector Machine Model\n",
    "f, ax = plt.subplots(figsize =(5,5))\n",
    "sns.heatmap(cm,annot = True,linewidths=0.5,linecolor=\"red\",fmt = \".0f\",ax=ax)\n",
    "plt.xlabel(\"y_prediction\")\n",
    "plt.ylabel(\"y_actual\")\n",
    "plt.show()"
   ]
  },
  {
   "cell_type": "code",
   "execution_count": 34,
   "metadata": {},
   "outputs": [
    {
     "name": "stdout",
     "output_type": "stream",
     "text": [
      "print accuracy of naive bayes algo:  0.7333333333333333\n",
      "              precision    recall  f1-score   support\n",
      "\n",
      "           1       0.67      0.67      0.67         6\n",
      "           2       0.78      0.78      0.78         9\n",
      "\n",
      "    accuracy                           0.73        15\n",
      "   macro avg       0.72      0.72      0.72        15\n",
      "weighted avg       0.73      0.73      0.73        15\n",
      "\n"
     ]
    },
    {
     "data": {
      "image/png": "[encoded data removed]",
      "text/plain": [
       "<Figure size 360x360 with 2 Axes>"
      ]
     },
     "metadata": {
      "needs_background": "light"
     },
     "output_type": "display_data"
    }
   ],
   "source": [
    "# Build Naive Bayes Classification Model\n",
    "from sklearn.naive_bayes import GaussianNB\n",
    "nb = GaussianNB()\n",
    "nb.fit(x_train,y_train)\n",
    " \n",
    "print(\"print accuracy of naive bayes algo: \",nb.score(x_test,y_test))\n",
    "\n",
    "nb_score = nb.score(x_test,y_test)\n",
    "# Here we use confusion matrix to evaluate the Support Vector Machine Model\n",
    "from sklearn.metrics import confusion_matrix\n",
    "y_prediction = nb.predict(x_test)\n",
    "y_actual = y_test\n",
    "cm = confusion_matrix(y_actual,y_prediction)\n",
    "texto = classification_report(y_test, y_prediction, target_names=['1', '2'])\n",
    "# texto = classification_report(y_test, y_prediction, target_names=['0', '1', '2'])\n",
    "print(texto)\n",
    "# Heatmap visualization of cunfusion matrix of the Support Vector Machine Model\n",
    "f, ax = plt.subplots(figsize =(5,5))\n",
    "sns.heatmap(cm,annot = True,linewidths=0.5,linecolor=\"red\",fmt = \".0f\",ax=ax)\n",
    "plt.xlabel(\"y_prediction\")\n",
    "plt.ylabel(\"y_actual\")\n",
    "plt.show()"
   ]
  },
  {
   "cell_type": "code",
   "execution_count": 35,
   "metadata": {},
   "outputs": [
    {
     "name": "stdout",
     "output_type": "stream",
     "text": [
      "(0.6666666666666666, 0.5333333333333333, 1.0, 1.0, 0.6666666666666666, 0.7333333333333333)\n"
     ]
    },
    {
     "data": {
      "image/png": "[encoded data removed]",
      "text/plain": [
       "<Figure size 1080x576 with 1 Axes>"
      ]
     },
     "metadata": {
      "needs_background": "light"
     },
     "output_type": "display_data"
    }
   ],
   "source": [
    "class_name = (\"Logistic Regression\",\"KNN\",\"Decision Tree\",\"Random Forest\",\"SVM\",\"Naive Bayes\")\n",
    "class_score = (lr_score,knn_score,dt_score,rf_score,svm_score,nb_score)\n",
    "print(class_score)\n",
    "y_pos= np.arange(len(class_score))\n",
    "colors = (\"red\",\"gray\",\"purple\",\"green\",\"orange\",\"blue\")\n",
    "plt.figure(figsize=(15,8))\n",
    "plt.bar(y_pos,class_score,color=colors)\n",
    "plt.xticks(y_pos,class_name,fontsize=14)\n",
    "plt.yticks(np.arange(0.00, 1.05, step=0.05))\n",
    "plt.ylabel('Accuracy')\n",
    "plt.grid()\n",
    "plt.title(\" Confusion Matrix Comparision of the Classes\",fontsize=15)\n",
    "plt.savefig(f'graph_{now1}.png')\n",
    "plt.show()"
   ]
  },
  {
   "cell_type": "code",
   "execution_count": null,
   "metadata": {},
   "outputs": [],
   "source": []
  }
 ],
 "metadata": {
  "kernelspec": {
   "display_name": "Python 3",
   "language": "python",
   "name": "python3"
  },
  "language_info": {
   "codemirror_mode": {
    "name": "ipython",
    "version": 3
   },
   "file_extension": ".py",
   "mimetype": "text/x-python",
   "name": "python",
   "nbconvert_exporter": "python",
   "pygments_lexer": "ipython3",
   "version": "3.8.5"
  }
 },
 "nbformat": 4,
 "nbformat_minor": 4
}
