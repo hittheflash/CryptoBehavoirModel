{
 "cells": [
  {
   "cell_type": "code",
   "execution_count": 3,
   "metadata": {
    "collapsed": true
   },
   "outputs": [
    {
     "name": "stdout",
     "output_type": "stream",
     "text": [
      "Collecting python-binance\n",
      "  Using cached python_binance-1.0.15-py2.py3-none-any.whl (63 kB)\n",
      "Collecting aiohttp\n",
      "  Downloading aiohttp-3.8.1-cp38-cp38-win_amd64.whl (555 kB)\n",
      "Requirement already satisfied: ujson in c:\\users\\jaimepanchana\\anaconda3\\lib\\site-packages (from python-binance) (4.0.1)\n",
      "Collecting dateparser\n",
      "  Downloading dateparser-1.1.0-py2.py3-none-any.whl (288 kB)\n",
      "Collecting websockets==9.1\n",
      "  Using cached websockets-9.1-cp38-cp38-win_amd64.whl (90 kB)\n",
      "Requirement already satisfied: requests in c:\\users\\jaimepanchana\\anaconda3\\lib\\site-packages (from python-binance) (2.24.0)\n",
      "Requirement already satisfied: six in c:\\users\\jaimepanchana\\anaconda3\\lib\\site-packages (from python-binance) (1.15.0)\n",
      "Collecting charset-normalizer<3.0,>=2.0\n",
      "  Downloading charset_normalizer-2.0.9-py3-none-any.whl (39 kB)\n",
      "Collecting async-timeout<5.0,>=4.0.0a3\n",
      "  Downloading async_timeout-4.0.1-py3-none-any.whl (5.7 kB)\n",
      "Collecting multidict<7.0,>=4.5\n",
      "  Downloading multidict-5.2.0-cp38-cp38-win_amd64.whl (45 kB)\n",
      "Requirement already satisfied: attrs>=17.3.0 in c:\\users\\jaimepanchana\\anaconda3\\lib\\site-packages (from aiohttp->python-binance) (20.3.0)\n",
      "Collecting yarl<2.0,>=1.0\n",
      "  Downloading yarl-1.7.2-cp38-cp38-win_amd64.whl (122 kB)\n",
      "Collecting aiosignal>=1.1.2\n",
      "  Downloading aiosignal-1.2.0-py3-none-any.whl (8.2 kB)\n",
      "Collecting frozenlist>=1.1.1\n",
      "  Downloading frozenlist-1.2.0-cp38-cp38-win_amd64.whl (83 kB)\n",
      "Requirement already satisfied: python-dateutil in c:\\users\\jaimepanchana\\appdata\\roaming\\python\\python38\\site-packages (from dateparser->python-binance) (2.8.2)\n",
      "Requirement already satisfied: regex!=2019.02.19,!=2021.8.27 in c:\\users\\jaimepanchana\\anaconda3\\lib\\site-packages (from dateparser->python-binance) (2020.10.15)\n",
      "Requirement already satisfied: pytz in c:\\users\\jaimepanchana\\anaconda3\\lib\\site-packages (from dateparser->python-binance) (2020.1)\n",
      "Requirement already satisfied: tzlocal in c:\\users\\jaimepanchana\\appdata\\roaming\\python\\python38\\site-packages (from dateparser->python-binance) (4.1)\n",
      "Requirement already satisfied: urllib3!=1.25.0,!=1.25.1,<1.26,>=1.21.1 in c:\\users\\jaimepanchana\\anaconda3\\lib\\site-packages (from requests->python-binance) (1.25.11)\n",
      "Requirement already satisfied: chardet<4,>=3.0.2 in c:\\users\\jaimepanchana\\anaconda3\\lib\\site-packages (from requests->python-binance) (3.0.4)\n",
      "Requirement already satisfied: certifi>=2017.4.17 in c:\\users\\jaimepanchana\\anaconda3\\lib\\site-packages (from requests->python-binance) (2020.6.20)\n",
      "Requirement already satisfied: idna<3,>=2.5 in c:\\users\\jaimepanchana\\anaconda3\\lib\\site-packages (from requests->python-binance) (2.10)\n",
      "Requirement already satisfied: typing-extensions>=3.6.5 in c:\\users\\jaimepanchana\\anaconda3\\lib\\site-packages (from async-timeout<5.0,>=4.0.0a3->aiohttp->python-binance) (3.7.4.3)\n",
      "Requirement already satisfied: pytz-deprecation-shim in c:\\users\\jaimepanchana\\appdata\\roaming\\python\\python38\\site-packages (from tzlocal->dateparser->python-binance) (0.1.0.post0)\n",
      "Requirement already satisfied: backports.zoneinfo; python_version < \"3.9\" in c:\\users\\jaimepanchana\\appdata\\roaming\\python\\python38\\site-packages (from tzlocal->dateparser->python-binance) (0.2.1)\n",
      "Requirement already satisfied: tzdata; platform_system == \"Windows\" in c:\\users\\jaimepanchana\\appdata\\roaming\\python\\python38\\site-packages (from tzlocal->dateparser->python-binance) (2021.5)\n",
      "Installing collected packages: charset-normalizer, async-timeout, multidict, yarl, frozenlist, aiosignal, aiohttp, dateparser, websockets, python-binance\n",
      "Successfully installed aiohttp-3.8.1 aiosignal-1.2.0 async-timeout-4.0.1 charset-normalizer-2.0.9 dateparser-1.1.0 frozenlist-1.2.0 multidict-5.2.0 python-binance-1.0.15 websockets-9.1 yarl-1.7.2\n"
     ]
    }
   ],
   "source": [
    "!pip install python-binance"
   ]
  },
  {
   "cell_type": "code",
   "execution_count": 1,
   "metadata": {},
   "outputs": [],
   "source": [
    "import numpy as np\n",
    "import pandas as pd\n",
    "import datetime\n",
    "import matplotlib.pyplot as plt"
   ]
  },
  {
   "cell_type": "code",
   "execution_count": 2,
   "metadata": {},
   "outputs": [],
   "source": [
    "from binance.client import Client\n",
    "from config import *"
   ]
  },
  {
   "cell_type": "code",
   "execution_count": 3,
   "metadata": {},
   "outputs": [],
   "source": [
    "client = Client(api_key, api_secret)"
   ]
  },
  {
   "cell_type": "code",
   "execution_count": 106,
   "metadata": {},
   "outputs": [],
   "source": [
    "client.futures_historical_klines?"
   ]
  },
  {
   "cell_type": "code",
   "execution_count": 95,
   "metadata": {},
   "outputs": [],
   "source": [
    "def test_serie(S):\n",
    "    # ext_mean = np.mean([S[0], S[-1]])\n",
    "    ext_mean = float(S[-1])\n",
    "    min_vals = S[S<ext_mean]\n",
    "    max_vals = S[S>ext_mean]\n",
    "    balance = [min_vals.shape[0], max_vals.shape[0]]\n",
    "    evaluar = f\"{min_vals.shape[0]}/{S.shape[0]}\"\n",
    "    metrica = eval(evaluar)\n",
    "    print(balance, evaluar, metrica)\n",
    "    \n",
    "    khe = ''\n",
    "    if balance[0]>balance[1]:\n",
    "        khe = 'down'\n",
    "    else:\n",
    "        khe = 'up'\n",
    "    \n",
    "    pasa = 0\n",
    "    # S, pasa = test_dist(S, khe)\n",
    "        \n",
    "    # if metrica<.11 and pasa==1: ### para entrenar el modelo\n",
    "    if metrica<.105:               ### para emplear en campo\n",
    "        return 1, S, khe\n",
    "    else:\n",
    "        return 0, S, khe"
   ]
  },
  {
   "cell_type": "code",
   "execution_count": null,
   "metadata": {},
   "outputs": [],
   "source": []
  },
  {
   "cell_type": "code",
   "execution_count": 8,
   "metadata": {},
   "outputs": [
    {
     "name": "stdout",
     "output_type": "stream",
     "text": [
      "1.29 s ± 253 ms per loop (mean ± std. dev. of 7 runs, 1 loop each)\n"
     ]
    }
   ],
   "source": [
    "%%timeit\n",
    "L3m = client.futures_historical_klines(\n",
    "    symbol='DOGEUSDT',\n",
    "    interval='1m',\n",
    "    start_str='12-02-2021 20:15:00',\n",
    "    end_str='12-02-2021 23:35:00',\n",
    "    # limit=40\n",
    ")"
   ]
  },
  {
   "cell_type": "code",
   "execution_count": 9,
   "metadata": {},
   "outputs": [
    {
     "name": "stdout",
     "output_type": "stream",
     "text": [
      "725 ms ± 253 ms per loop (mean ± std. dev. of 7 runs, 1 loop each)\n"
     ]
    }
   ],
   "source": [
    "%%timeit\n",
    "L3m = client.futures_historical_klines(\n",
    "    symbol='DOGEUSDT',\n",
    "    interval='3m',\n",
    "    start_str='12-02-2021 20:15:00',\n",
    "    end_str='12-02-2021 23:35:00',\n",
    "    # limit=40\n",
    ")"
   ]
  },
  {
   "cell_type": "code",
   "execution_count": 50,
   "metadata": {
    "scrolled": true
   },
   "outputs": [
    {
     "name": "stdout",
     "output_type": "stream",
     "text": [
      "1.08 s ± 332 ms per loop (mean ± std. dev. of 7 runs, 1 loop each)\n"
     ]
    }
   ],
   "source": [
    "%%timeit\n",
    "L3m = client.futures_historical_klines(\n",
    "    symbol='DOGEUSDT',\n",
    "    interval='5m',\n",
    "    start_str='12-02-2021 20:15:00',\n",
    "    end_str='12-02-2021 23:35:00',\n",
    "    # limit=40\n",
    ")"
   ]
  },
  {
   "cell_type": "code",
   "execution_count": null,
   "metadata": {},
   "outputs": [],
   "source": []
  },
  {
   "cell_type": "code",
   "execution_count": null,
   "metadata": {},
   "outputs": [],
   "source": []
  },
  {
   "cell_type": "code",
   "execution_count": 105,
   "metadata": {
    "scrolled": true
   },
   "outputs": [],
   "source": [
    "L3m = client.futures_historical_klines(\n",
    "    symbol='DOGEUSDT',\n",
    "    interval='5m',\n",
    "    start_str='12-02-2021 20:00:00',\n",
    "    end_str='12-02-2021 23:18:00',\n",
    "    # limit=40\n",
    "                                       )\n",
    "arr = np.array(L3m).astype(np.float64)\n",
    "index = pd.DatetimeIndex(pd.to_datetime(arr[:, 0], unit='ms'))#.tz_localize('UTC')#.tz_convert('America/Lima')\n",
    "df_serie = pd.DataFrame(arr[:, 4], index=index)\n",
    "S = np.array(df_serie[0])"
   ]
  },
  {
   "cell_type": "code",
   "execution_count": 106,
   "metadata": {},
   "outputs": [
    {
     "data": {
      "text/plain": [
       "(40, 0.562581141510797)"
      ]
     },
     "execution_count": 106,
     "metadata": {},
     "output_type": "execute_result"
    }
   ],
   "source": [
    "len(L3m), 100*(S[-1]-S[0])/S[0]"
   ]
  },
  {
   "cell_type": "code",
   "execution_count": 3,
   "metadata": {},
   "outputs": [
    {
     "data": {
      "text/plain": [
       "'[[1, 2, 3],[1, 2, 3]]'"
      ]
     },
     "execution_count": 3,
     "metadata": {},
     "output_type": "execute_result"
    }
   ],
   "source": [
    "import json\n",
    "L = [1, 2, 3]\n",
    "jL = str(L)\n",
    "jL = '['+jL+','+jL+']'\n",
    "jL"
   ]
  },
  {
   "cell_type": "code",
   "execution_count": null,
   "metadata": {},
   "outputs": [],
   "source": []
  },
  {
   "cell_type": "code",
   "execution_count": null,
   "metadata": {},
   "outputs": [],
   "source": [
    "def actualizar_lista_json(nombre, new_list):\n",
    "    data = open(nombre)\n",
    "    info = data.readlines()[0].replace('\"', '')\n",
    "    data.close()\n",
    "    lista_values = json.loads(info)\n",
    "    lista_values.append(new_list)\n",
    "    return lista_values"
   ]
  },
  {
   "cell_type": "code",
   "execution_count": null,
   "metadata": {},
   "outputs": [],
   "source": []
  },
  {
   "cell_type": "code",
   "execution_count": 189,
   "metadata": {},
   "outputs": [],
   "source": [
    "with open('data.json', 'w') as f:\n",
    "    json.dump(jL, f)\n",
    "f.close()"
   ]
  },
  {
   "cell_type": "code",
   "execution_count": 240,
   "metadata": {
    "scrolled": true
   },
   "outputs": [
    {
     "data": {
      "text/plain": [
       "[]"
      ]
     },
     "execution_count": 240,
     "metadata": {},
     "output_type": "execute_result"
    }
   ],
   "source": [
    "data = open('datas_temp.json')\n",
    "info = data.readlines()#[0].replace('\"', '')\n",
    "data.close()\n",
    "info"
   ]
  },
  {
   "cell_type": "code",
   "execution_count": 205,
   "metadata": {},
   "outputs": [],
   "source": [
    "aList = json.loads(info)\n",
    "aList.append([3, 4, 5])"
   ]
  },
  {
   "cell_type": "code",
   "execution_count": 242,
   "metadata": {},
   "outputs": [
    {
     "data": {
      "text/plain": [
       "'[[1, 2, 3], [1, 2, 3], [3, 4, 5]]'"
      ]
     },
     "execution_count": 242,
     "metadata": {},
     "output_type": "execute_result"
    }
   ],
   "source": [
    "list_str = json.dumps(aList)\n",
    "list_str"
   ]
  },
  {
   "cell_type": "code",
   "execution_count": 207,
   "metadata": {},
   "outputs": [],
   "source": [
    "with open('dataZ.json', 'w') as f:\n",
    "    json.dump(list_str, f)\n",
    "f.close()"
   ]
  },
  {
   "cell_type": "code",
   "execution_count": null,
   "metadata": {},
   "outputs": [],
   "source": [
    "def actualizar_lista_json(nombre, new_list):\n",
    "    data = open(nombre)\n",
    "    info = data.readlines()[0].replace('\"', '')\n",
    "    data.close()\n",
    "    lista_values = json.loads(info)\n",
    "    lista_values.append(new_list)\n",
    "    return lista_values"
   ]
  },
  {
   "cell_type": "code",
   "execution_count": null,
   "metadata": {},
   "outputs": [],
   "source": []
  },
  {
   "cell_type": "code",
   "execution_count": 251,
   "metadata": {},
   "outputs": [
    {
     "data": {
      "text/plain": [
       "'[[1, 2]]'"
      ]
     },
     "execution_count": 251,
     "metadata": {},
     "output_type": "execute_result"
    }
   ],
   "source": [
    "data = open('a.json')\n",
    "info = data.readlines()[0]\n",
    "info"
   ]
  },
  {
   "cell_type": "code",
   "execution_count": 252,
   "metadata": {},
   "outputs": [
    {
     "name": "stdout",
     "output_type": "stream",
     "text": [
      "[[1, 2]]\n"
     ]
    },
    {
     "data": {
      "text/plain": [
       "[[1, 2]]"
      ]
     },
     "execution_count": 252,
     "metadata": {},
     "output_type": "execute_result"
    }
   ],
   "source": [
    "# info = info.replace('\"', '')\n",
    "print(info)\n",
    "data.close()\n",
    "lista_values = json.loads(info)\n",
    "lista_values"
   ]
  },
  {
   "cell_type": "code",
   "execution_count": 215,
   "metadata": {},
   "outputs": [
    {
     "data": {
      "text/plain": [
       "'[[1, 2, 3], [1, 2, 3], [3, 4, 5]]'"
      ]
     },
     "execution_count": 215,
     "metadata": {},
     "output_type": "execute_result"
    }
   ],
   "source": [
    "info"
   ]
  },
  {
   "cell_type": "code",
   "execution_count": 217,
   "metadata": {},
   "outputs": [
    {
     "ename": "TypeError",
     "evalue": "int() can't convert non-string with explicit base",
     "output_type": "error",
     "traceback": [
      "\u001b[1;31m---------------------------------------------------------------------------\u001b[0m",
      "\u001b[1;31mTypeError\u001b[0m                                 Traceback (most recent call last)",
      "\u001b[1;32m<ipython-input-217-8aeb2d5c5c23>\u001b[0m in \u001b[0;36m<module>\u001b[1;34m\u001b[0m\n\u001b[0;32m      1\u001b[0m \u001b[0marr\u001b[0m \u001b[1;33m=\u001b[0m \u001b[1;33m[\u001b[0m\u001b[1;36m1\u001b[0m\u001b[1;33m,\u001b[0m \u001b[1;36m2\u001b[0m\u001b[1;33m,\u001b[0m \u001b[1;36m3\u001b[0m\u001b[1;33m,\u001b[0m \u001b[1;36m4\u001b[0m\u001b[1;33m,\u001b[0m \u001b[1;36m5\u001b[0m\u001b[1;33m,\u001b[0m \u001b[1;36m6\u001b[0m\u001b[1;33m,\u001b[0m \u001b[1;36m7\u001b[0m\u001b[1;33m,\u001b[0m \u001b[1;36m8\u001b[0m\u001b[1;33m,\u001b[0m \u001b[1;36m9\u001b[0m\u001b[1;33m]\u001b[0m\u001b[1;33m\u001b[0m\u001b[1;33m\u001b[0m\u001b[0m\n\u001b[0;32m      2\u001b[0m \u001b[0mp_higher\u001b[0m \u001b[1;33m=\u001b[0m \u001b[1;36m.1\u001b[0m\u001b[1;33m\u001b[0m\u001b[1;33m\u001b[0m\u001b[0m\n\u001b[1;32m----> 3\u001b[1;33m \u001b[0mint\u001b[0m\u001b[1;33m(\u001b[0m\u001b[0mround\u001b[0m\u001b[1;33m(\u001b[0m\u001b[0mlen\u001b[0m\u001b[1;33m(\u001b[0m\u001b[0marr\u001b[0m\u001b[1;33m)\u001b[0m\u001b[1;33m*\u001b[0m\u001b[0mp_higher\u001b[0m\u001b[1;33m)\u001b[0m\u001b[1;33m,\u001b[0m \u001b[1;36m0\u001b[0m\u001b[1;33m)\u001b[0m\u001b[1;33m\u001b[0m\u001b[1;33m\u001b[0m\u001b[0m\n\u001b[0m",
      "\u001b[1;31mTypeError\u001b[0m: int() can't convert non-string with explicit base"
     ]
    }
   ],
   "source": [
    "arr = [1, 2, 3, 4, 5, 6, 7, 8, 9]\n",
    "p_higher = .1\n",
    "int(round(len(arr)*p_higher), 0)"
   ]
  },
  {
   "cell_type": "code",
   "execution_count": 218,
   "metadata": {},
   "outputs": [
    {
     "data": {
      "text/plain": [
       "1"
      ]
     },
     "execution_count": 218,
     "metadata": {},
     "output_type": "execute_result"
    }
   ],
   "source": [
    "arr = [1, 2, 3, 4, 5, 6, 7, 8, 9]\n",
    "p_higher = .1\n",
    "int(round(len(arr)*p_higher, 0))"
   ]
  },
  {
   "cell_type": "code",
   "execution_count": null,
   "metadata": {},
   "outputs": [],
   "source": []
  },
  {
   "cell_type": "code",
   "execution_count": 102,
   "metadata": {},
   "outputs": [],
   "source": [
    "from glob import glob\n",
    "import json\n",
    "import os"
   ]
  },
  {
   "cell_type": "code",
   "execution_count": 247,
   "metadata": {},
   "outputs": [],
   "source": [
    "nuevo_json('a.json', [[1, 2]])"
   ]
  },
  {
   "cell_type": "code",
   "execution_count": 136,
   "metadata": {},
   "outputs": [],
   "source": [
    "def gen_json(nombre, lista):\n",
    "    with open(nombre, 'w') as f:\n",
    "        json.dump(lista, f)\n",
    "    f.close()"
   ]
  },
  {
   "cell_type": "code",
   "execution_count": 137,
   "metadata": {},
   "outputs": [],
   "source": [
    "def collect_json(nombre, new_list):\n",
    "    try:\n",
    "        data = open(nombre)\n",
    "        info = data.readlines()[0]#.replace('\"', '')\n",
    "        data.close()\n",
    "        lista_values = json.loads(info)\n",
    "        lista_values.append(new_list)\n",
    "        gen_json(nombre, lista_values)\n",
    "    except:\n",
    "        gen_json(nombre, [new_list])"
   ]
  },
  {
   "cell_type": "code",
   "execution_count": 192,
   "metadata": {},
   "outputs": [],
   "source": [
    "name = 'T3.json'\n",
    "o = 0\n",
    "for i in range(15, 20):\n",
    "    l = list(range(i)) ### lista | type()==list\n",
    "    # print(l)\n",
    "    collect_json(name, l)\n",
    "    if 0%2==0:\n",
    "        collect_json(name, l)\n",
    "    else:\n",
    "        collect_json(name, l)\n",
    "        # collect_json(name, l)"
   ]
  },
  {
   "cell_type": "code",
   "execution_count": 180,
   "metadata": {},
   "outputs": [],
   "source": [
    "def get_last_kline(namefile):\n",
    "    try:\n",
    "        data = open(namefile)\n",
    "        info = data.readlines()\n",
    "        data.close()\n",
    "        if len(info)>0:\n",
    "            inf = info[0]#.replace('\"', '')\n",
    "            lista_values = json.loads(inf)\n",
    "            # print(lista_values)\n",
    "            return lista_values#[-1]\n",
    "        else:\n",
    "            return []\n",
    "    except:\n",
    "        return []"
   ]
  },
  {
   "cell_type": "code",
   "execution_count": 196,
   "metadata": {},
   "outputs": [
    {
     "data": {
      "text/plain": [
       "[[0, 1, 2, 3, 4, 5, 6, 7, 8, 9, 10, 11, 12, 13, 14],\n",
       " [0, 1, 2, 3, 4, 5, 6, 7, 8, 9, 10, 11, 12, 13, 14],\n",
       " [0, 1, 2, 3, 4, 5, 6, 7, 8, 9, 10, 11, 12, 13, 14, 15],\n",
       " [0, 1, 2, 3, 4, 5, 6, 7, 8, 9, 10, 11, 12, 13, 14, 15],\n",
       " [0, 1, 2, 3, 4, 5, 6, 7, 8, 9, 10, 11, 12, 13, 14, 15, 16],\n",
       " [0, 1, 2, 3, 4, 5, 6, 7, 8, 9, 10, 11, 12, 13, 14, 15, 16],\n",
       " [0, 1, 2, 3, 4, 5, 6, 7, 8, 9, 10, 11, 12, 13, 14, 15, 16, 17],\n",
       " [0, 1, 2, 3, 4, 5, 6, 7, 8, 9, 10, 11, 12, 13, 14, 15, 16, 17],\n",
       " [0, 1, 2, 3, 4, 5, 6, 7, 8, 9, 10, 11, 12, 13, 14, 15, 16, 17, 18],\n",
       " [0, 1, 2, 3, 4, 5, 6, 7, 8, 9, 10, 11, 12, 13, 14, 15, 16, 17, 18]]"
      ]
     },
     "execution_count": 196,
     "metadata": {},
     "output_type": "execute_result"
    }
   ],
   "source": [
    "lista_k = get_last_kline('T3.json')\n",
    "# lista_str = [','.join(list(np.array(i, dtype=np.str_))) for i in lista_k]\n",
    "lista_k\n",
    "# lista_str"
   ]
  },
  {
   "cell_type": "code",
   "execution_count": 215,
   "metadata": {},
   "outputs": [],
   "source": [
    "def get_kline(namefile):\n",
    "    try:\n",
    "        lista_k = get_last_kline(namefile)\n",
    "        WW = {}\n",
    "        for l in lista_k:\n",
    "            long = lista_k.count(l)\n",
    "            if long not in WW:\n",
    "                WW[long] = [l]\n",
    "            else:\n",
    "                WW[long].append(l)\n",
    "        lens = list(WW.keys())\n",
    "        lens.sort()\n",
    "        minimo = lens[0]\n",
    "        list_w = WW[minimo]\n",
    "        wes = []\n",
    "        for i in list_w:\n",
    "            wes.append([len(i), i])\n",
    "        wes.sort()\n",
    "        kline_selection = wes[0][-1]\n",
    "        return kline_selection\n",
    "    except:\n",
    "        return []"
   ]
  },
  {
   "cell_type": "code",
   "execution_count": 216,
   "metadata": {},
   "outputs": [
    {
     "data": {
      "text/plain": [
       "[0, 1, 2, 3, 4, 5, 6, 7, 8, 9, 10, 11, 12, 13, 14]"
      ]
     },
     "execution_count": 216,
     "metadata": {},
     "output_type": "execute_result"
    }
   ],
   "source": [
    "get_kline('T3.json')"
   ]
  },
  {
   "cell_type": "code",
   "execution_count": null,
   "metadata": {},
   "outputs": [],
   "source": []
  },
  {
   "cell_type": "code",
   "execution_count": 213,
   "metadata": {},
   "outputs": [
    {
     "ename": "TypeError",
     "evalue": "unsupported operand type(s) for +: 'NoneType' and 'NoneType'",
     "output_type": "error",
     "traceback": [
      "\u001b[1;31m---------------------------------------------------------------------------\u001b[0m",
      "\u001b[1;31mTypeError\u001b[0m                                 Traceback (most recent call last)",
      "\u001b[1;32m<ipython-input-213-d101c1f71377>\u001b[0m in \u001b[0;36m<module>\u001b[1;34m\u001b[0m\n\u001b[1;32m----> 1\u001b[1;33m \u001b[1;32mNone\u001b[0m\u001b[1;33m+\u001b[0m\u001b[1;32mNone\u001b[0m\u001b[1;33m\u001b[0m\u001b[1;33m\u001b[0m\u001b[0m\n\u001b[0m",
      "\u001b[1;31mTypeError\u001b[0m: unsupported operand type(s) for +: 'NoneType' and 'NoneType'"
     ]
    }
   ],
   "source": [
    "None+None"
   ]
  },
  {
   "cell_type": "code",
   "execution_count": 206,
   "metadata": {},
   "outputs": [
    {
     "data": {
      "text/plain": [
       "[0, 1, 2, 3, 4, 5, 6, 7, 8, 9, 10, 11, 12, 13, 14]"
      ]
     },
     "execution_count": 206,
     "metadata": {},
     "output_type": "execute_result"
    }
   ],
   "source": [
    "lista_k = get_last_kline('T3.json')\n",
    "WW = {}\n",
    "for l in lista_k:\n",
    "    long = lista_k.count(l)\n",
    "    if long not in WW:\n",
    "        WW[long] = [l]\n",
    "    else:\n",
    "        WW[long].append(l)\n",
    "lens = list(WW.keys())\n",
    "lens.sort()\n",
    "minimo = lens[0]\n",
    "list_w = WW[minimo]\n",
    "wes = []\n",
    "for i in list_w:\n",
    "    wes.append([len(i), i])\n",
    "wes.sort()\n",
    "kline_selection = wes[0][-1]\n",
    "kline_selection"
   ]
  },
  {
   "cell_type": "code",
   "execution_count": null,
   "metadata": {},
   "outputs": [],
   "source": []
  },
  {
   "cell_type": "code",
   "execution_count": null,
   "metadata": {},
   "outputs": [],
   "source": []
  },
  {
   "cell_type": "code",
   "execution_count": 109,
   "metadata": {},
   "outputs": [
    {
     "name": "stdout",
     "output_type": "stream",
     "text": [
      "[[0, 1, 2, 3, 4, 5, 6, 7, 8, 9, 10, 11, 12, 13, 14], [[0, 1, 2, 3, 4, 5, 6, 7, 8, 9, 10, 11, 12, 13, 14, 15]], [[0, 1, 2, 3, 4, 5, 6, 7, 8, 9, 10, 11, 12, 13, 14, 15, 16]], [[0, 1, 2, 3, 4, 5, 6, 7, 8, 9, 10, 11, 12, 13, 14, 15, 16, 17]], [[0, 1, 2, 3, 4, 5, 6, 7, 8, 9, 10, 11, 12, 13, 14, 15, 16, 17, 18]]]\n"
     ]
    }
   ],
   "source": [
    "name = 'A.json'\n",
    "data = open(name)\n",
    "info = data.readlines()\n",
    "if len(info)>0:\n",
    "    inf = info[0]#.replace('\"', '')\n",
    "    lista_values = json.loads(inf)\n",
    "    print(lista_values)\n",
    "data.close()"
   ]
  },
  {
   "cell_type": "code",
   "execution_count": 198,
   "metadata": {},
   "outputs": [
    {
     "data": {
      "text/plain": [
       "[1, 2, 3, 4, 5]"
      ]
     },
     "execution_count": 198,
     "metadata": {},
     "output_type": "execute_result"
    }
   ],
   "source": [
    "t = [3, 2, 4, 1, 5]\n",
    "t.sort()\n",
    "t"
   ]
  },
  {
   "cell_type": "code",
   "execution_count": null,
   "metadata": {},
   "outputs": [],
   "source": []
  },
  {
   "cell_type": "code",
   "execution_count": 285,
   "metadata": {},
   "outputs": [
    {
     "data": {
      "text/plain": [
       "['coin_2569526.txt']"
      ]
     },
     "execution_count": 285,
     "metadata": {},
     "output_type": "execute_result"
    }
   ],
   "source": [
    "glob(\"coin*\")"
   ]
  },
  {
   "cell_type": "code",
   "execution_count": 6,
   "metadata": {},
   "outputs": [],
   "source": [
    "ejemplo = open(\"coin_2569526.txt\", \"r\")\n",
    "lineas = ejemplo.readlines()\n",
    "ejemplo.close()"
   ]
  },
  {
   "cell_type": "code",
   "execution_count": 309,
   "metadata": {},
   "outputs": [
    {
     "data": {
      "text/plain": [
       "{'sell': {1: [1]}, 'buy': {}}"
      ]
     },
     "execution_count": 309,
     "metadata": {},
     "output_type": "execute_result"
    }
   ],
   "source": [
    "D['sell'][1] = [1]\n",
    "D"
   ]
  },
  {
   "cell_type": "code",
   "execution_count": null,
   "metadata": {},
   "outputs": [],
   "source": []
  },
  {
   "cell_type": "code",
   "execution_count": 52,
   "metadata": {},
   "outputs": [],
   "source": [
    "s = open('testep.txt', 'a+')\n",
    "s.close()"
   ]
  },
  {
   "cell_type": "code",
   "execution_count": 55,
   "metadata": {},
   "outputs": [],
   "source": [
    "s2 = open('testep.txt', 'r')\n",
    "lineas = s2.readlines()\n",
    "s2.close()"
   ]
  },
  {
   "cell_type": "code",
   "execution_count": 56,
   "metadata": {},
   "outputs": [
    {
     "data": {
      "text/plain": [
       "[]"
      ]
     },
     "execution_count": 56,
     "metadata": {},
     "output_type": "execute_result"
    }
   ],
   "source": [
    "lineas"
   ]
  },
  {
   "cell_type": "code",
   "execution_count": 81,
   "metadata": {},
   "outputs": [
    {
     "name": "stdout",
     "output_type": "stream",
     "text": [
      "[]\n"
     ]
    },
    {
     "data": {
      "text/plain": [
       "[]"
      ]
     },
     "execution_count": 81,
     "metadata": {},
     "output_type": "execute_result"
    }
   ],
   "source": [
    "get_buy_info('testep.txt')"
   ]
  },
  {
   "cell_type": "code",
   "execution_count": 96,
   "metadata": {},
   "outputs": [
    {
     "name": "stdout",
     "output_type": "stream",
     "text": [
      "1.18 ms ± 106 µs per loop (mean ± std. dev. of 7 runs, 1000 loops each)\n"
     ]
    }
   ],
   "source": [
    "%%timeit\n",
    "ypreds, longitud, buy_mean = get_buy_info('dogetest.txt')\n",
    "# ypreds, longitud, buy_mean"
   ]
  },
  {
   "cell_type": "code",
   "execution_count": 214,
   "metadata": {},
   "outputs": [
    {
     "data": {
      "text/plain": [
       "(30, 33, 95.43333333333334)"
      ]
     },
     "execution_count": 214,
     "metadata": {},
     "output_type": "execute_result"
    }
   ],
   "source": [
    "ypreds, longitud, buy_mean = get_buy_info('dogetest.txt')\n",
    "ypreds, longitud, buy_mean"
   ]
  },
  {
   "cell_type": "code",
   "execution_count": null,
   "metadata": {},
   "outputs": [],
   "source": []
  },
  {
   "cell_type": "code",
   "execution_count": 94,
   "metadata": {},
   "outputs": [],
   "source": [
    "def get_buy_info(filename):\n",
    "    try:\n",
    "        ejemplo = open(filename, \"r\")\n",
    "        lineas = ejemplo.readlines()\n",
    "        ejemplo.close()\n",
    "\n",
    "        D = {'sell':{}, 'buy':{}}\n",
    "        if len(lineas)>0:\n",
    "            for linea in lineas:\n",
    "                linea_div = linea.strip().split(\"|\")\n",
    "                linea_div = [zx for zx in linea_div if zx!='']\n",
    "                klines_n = json.loads(linea_div[2])\n",
    "                probs = linea_div[3:]\n",
    "                for i in range(len(klines_n)):\n",
    "                    kn = klines_n[i]\n",
    "                    sid_e, p_rob = probs[i].strip()[:-1].split(\": \")\n",
    "                    p_rob = float(p_rob)\n",
    "                    sid_e = sid_e.lower()\n",
    "                    if kn not in D[sid_e]:\n",
    "                        D[sid_e][kn] = [p_rob]\n",
    "                    else:\n",
    "                        D[sid_e][kn].append(p_rob)\n",
    "        d_buy = {}\n",
    "        for leng in D['buy']:\n",
    "            list_l = D['buy'][leng]\n",
    "            d_buy[leng] = [len(list_l), leng, np.array(list_l).mean()]\n",
    "        arr_buy = [i for i in d_buy.values()]\n",
    "        # print(arr_buy)\n",
    "        if len(arr_buy)>0:\n",
    "            arr_buy.sort()\n",
    "            # print(arr_buy)\n",
    "            buy_info = arr_buy[0]\n",
    "            return buy_info\n",
    "        else:\n",
    "            return [None, None, None]\n",
    "    except:\n",
    "        return [None, None, None]"
   ]
  },
  {
   "cell_type": "code",
   "execution_count": null,
   "metadata": {},
   "outputs": [],
   "source": []
  },
  {
   "cell_type": "code",
   "execution_count": 70,
   "metadata": {},
   "outputs": [],
   "source": [
    "def get_buy_info(filename):\n",
    "    ejemplo = open(filename, \"r\")\n",
    "    lineas = ejemplo.readlines()\n",
    "    ejemplo.close()\n",
    "\n",
    "    D = {'sell':{}, 'buy':{}}\n",
    "    if len(lineas)>0:\n",
    "        for linea in lineas:\n",
    "            linea_div = linea.strip().split(\"|\")\n",
    "            linea_div = [zx for zx in linea_div if zx!='']\n",
    "            klines_n = json.loads(linea_div[2])\n",
    "            probs = linea_div[3:]\n",
    "            for i in range(len(klines_n)):\n",
    "                kn = klines_n[i]\n",
    "                sid_e, p_rob = probs[i].strip()[:-1].split(\": \")\n",
    "                p_rob = float(p_rob)\n",
    "                sid_e = sid_e.lower()\n",
    "                if kn not in D[sid_e]:\n",
    "                    D[sid_e][kn] = [p_rob]\n",
    "                else:\n",
    "                    D[sid_e][kn].append(p_rob)\n",
    "    \n",
    "#     d_sell = {}\n",
    "#     for leng in D['sell']:\n",
    "#         list_l = D['sell'][leng]\n",
    "#         d_sell[leng] = [len(list_l), leng, np.array(list_l).mean()]\n",
    "#     arr_sell = [i for i in d_sell.values()]\n",
    "#     print(arr_sell)\n",
    "#     if len(arr_sell)>0:\n",
    "#         arr_sell.sort()\n",
    "#         sell_info = arr_sell[-1]\n",
    "#         print(sell_info)\n",
    "    \n",
    "    d_buy = {}\n",
    "    for leng in D['buy']:\n",
    "        list_l = D['buy'][leng]\n",
    "        d_buy[leng] = [len(list_l), leng, np.array(list_l).mean()]\n",
    "    arr_buy = [i for i in d_buy.values()]\n",
    "    print(arr_buy)\n",
    "    if len(arr_buy)>0:\n",
    "        arr_buy.sort()\n",
    "        buy_info = arr_buy[-1]\n",
    "        return buy_info\n",
    "        # print(buy_info)\n",
    "    else:\n",
    "        return []"
   ]
  },
  {
   "cell_type": "code",
   "execution_count": 63,
   "metadata": {},
   "outputs": [
    {
     "data": {
      "text/plain": [
       "{'sell': {}, 'buy': {}}"
      ]
     },
     "execution_count": 63,
     "metadata": {},
     "output_type": "execute_result"
    }
   ],
   "source": [
    "ejemplo = open(\"testep.txt\", \"r\")\n",
    "lineas = ejemplo.readlines()\n",
    "ejemplo.close()\n",
    "\n",
    "D = {'sell':{}, 'buy':{}}\n",
    "if len(lineas)>0:\n",
    "    for linea in lineas:\n",
    "        linea_div = linea.strip().split(\"|\")\n",
    "        linea_div = [zx for zx in linea_div if zx!='']\n",
    "        klines_n = json.loads(linea_div[2])\n",
    "        probs = linea_div[3:]\n",
    "        for i in range(len(klines_n)):\n",
    "            kn = klines_n[i]\n",
    "            sid_e, p_rob = probs[i].strip()[:-1].split(\": \")\n",
    "            p_rob = float(p_rob)\n",
    "            sid_e = sid_e.lower()\n",
    "            if kn not in D[sid_e]:\n",
    "                D[sid_e][kn] = [p_rob]\n",
    "            else:\n",
    "                D[sid_e][kn].append(p_rob)\n",
    "D"
   ]
  },
  {
   "cell_type": "code",
   "execution_count": 69,
   "metadata": {},
   "outputs": [
    {
     "name": "stdout",
     "output_type": "stream",
     "text": [
      "[]\n"
     ]
    }
   ],
   "source": [
    "d_buy = {}\n",
    "for leng in D['buy']:\n",
    "    list_l = D['buy'][leng]\n",
    "    d_buy[leng] = [len(list_l), leng, np.array(list_l).mean()]\n",
    "arr_buy = [i for i in d_buy.values()]\n",
    "print(arr_buy)\n",
    "if len(arr_buy)>0:\n",
    "    arr_buy.sort()\n",
    "    buy_info = arr_buy[-1]\n",
    "    # print(buy_info)"
   ]
  },
  {
   "cell_type": "code",
   "execution_count": 65,
   "metadata": {},
   "outputs": [
    {
     "name": "stdout",
     "output_type": "stream",
     "text": [
      "[]\n"
     ]
    }
   ],
   "source": [
    "d_sell = {}\n",
    "for leng in D['sell']:\n",
    "    list_l = D['sell'][leng]\n",
    "    d_sell[leng] = [len(list_l), leng, np.array(list_l).mean()]\n",
    "arr_sell = [i for i in d_sell.values()]\n",
    "print(arr_sell)\n",
    "if len(arr_sell)>0:\n",
    "    arr_sell.sort()\n",
    "    sell_info = arr_sell[-1]\n",
    "    print(sell_info)"
   ]
  },
  {
   "cell_type": "code",
   "execution_count": 66,
   "metadata": {},
   "outputs": [
    {
     "data": {
      "text/plain": [
       "{}"
      ]
     },
     "execution_count": 66,
     "metadata": {},
     "output_type": "execute_result"
    }
   ],
   "source": [
    "d_buy"
   ]
  },
  {
   "cell_type": "code",
   "execution_count": 67,
   "metadata": {},
   "outputs": [
    {
     "data": {
      "text/plain": [
       "{}"
      ]
     },
     "execution_count": 67,
     "metadata": {},
     "output_type": "execute_result"
    }
   ],
   "source": [
    "d_sell"
   ]
  },
  {
   "cell_type": "code",
   "execution_count": null,
   "metadata": {},
   "outputs": [],
   "source": []
  },
  {
   "cell_type": "code",
   "execution_count": 12,
   "metadata": {},
   "outputs": [
    {
     "data": {
      "text/plain": [
       "4"
      ]
     },
     "execution_count": 12,
     "metadata": {},
     "output_type": "execute_result"
    }
   ],
   "source": [
    "sells = 0\n",
    "for leng in D['sell']:\n",
    "    s_vs = D['sell'][leng]\n",
    "    sells+=len(s_vs)\n",
    "sells"
   ]
  },
  {
   "cell_type": "code",
   "execution_count": 13,
   "metadata": {},
   "outputs": [
    {
     "data": {
      "text/plain": [
       "135"
      ]
     },
     "execution_count": 13,
     "metadata": {},
     "output_type": "execute_result"
    }
   ],
   "source": [
    "buys = 0\n",
    "for leng in D['buy']:\n",
    "    b_vs = D['buy'][leng]\n",
    "    buys+=len(b_vs)\n",
    "buys"
   ]
  },
  {
   "cell_type": "code",
   "execution_count": null,
   "metadata": {},
   "outputs": [],
   "source": []
  },
  {
   "cell_type": "code",
   "execution_count": 331,
   "metadata": {},
   "outputs": [
    {
     "data": {
      "text/plain": [
       "dict_values([[51.0, 51.0, 51.0], [51.0]])"
      ]
     },
     "execution_count": 331,
     "metadata": {},
     "output_type": "execute_result"
    }
   ],
   "source": [
    "k_sell = 0\n",
    "AD['sell'].values()"
   ]
  },
  {
   "cell_type": "code",
   "execution_count": 321,
   "metadata": {},
   "outputs": [
    {
     "data": {
      "text/plain": [
       "{98: [56.99999999999999,\n",
       "  57.99999999999999,\n",
       "  56.00000000000001,\n",
       "  56.99999999999999,\n",
       "  56.00000000000001,\n",
       "  56.00000000000001,\n",
       "  56.00000000000001,\n",
       "  56.99999999999999,\n",
       "  56.99999999999999,\n",
       "  56.00000000000001,\n",
       "  56.99999999999999,\n",
       "  56.99999999999999,\n",
       "  56.00000000000001,\n",
       "  56.00000000000001,\n",
       "  55.00000000000001,\n",
       "  56.00000000000001,\n",
       "  55.00000000000001,\n",
       "  55.00000000000001,\n",
       "  55.00000000000001,\n",
       "  56.99999999999999,\n",
       "  56.00000000000001,\n",
       "  56.00000000000001,\n",
       "  56.00000000000001,\n",
       "  56.00000000000001,\n",
       "  55.00000000000001],\n",
       " 99: [56.99999999999999,\n",
       "  57.99999999999999,\n",
       "  56.00000000000001,\n",
       "  56.99999999999999,\n",
       "  56.00000000000001,\n",
       "  56.00000000000001,\n",
       "  56.00000000000001,\n",
       "  56.99999999999999,\n",
       "  56.99999999999999,\n",
       "  56.00000000000001,\n",
       "  56.99999999999999,\n",
       "  56.99999999999999,\n",
       "  56.00000000000001,\n",
       "  56.00000000000001,\n",
       "  55.00000000000001,\n",
       "  56.00000000000001,\n",
       "  55.00000000000001,\n",
       "  55.00000000000001,\n",
       "  55.00000000000001,\n",
       "  56.99999999999999,\n",
       "  56.00000000000001,\n",
       "  56.00000000000001,\n",
       "  56.00000000000001,\n",
       "  56.00000000000001,\n",
       "  56.00000000000001,\n",
       "  56.00000000000001,\n",
       "  55.00000000000001],\n",
       " 100: [53.0,\n",
       "  54.0,\n",
       "  53.0,\n",
       "  52.0,\n",
       "  52.0,\n",
       "  52.0,\n",
       "  53.0,\n",
       "  53.0,\n",
       "  51.0,\n",
       "  53.0,\n",
       "  53.0,\n",
       "  52.0,\n",
       "  52.0],\n",
       " 103: [52.0,\n",
       "  53.0,\n",
       "  51.0,\n",
       "  52.0,\n",
       "  51.0,\n",
       "  51.0,\n",
       "  51.0,\n",
       "  52.0,\n",
       "  52.0,\n",
       "  50.0,\n",
       "  52.0,\n",
       "  52.0,\n",
       "  51.0,\n",
       "  51.0,\n",
       "  50.0,\n",
       "  51.0,\n",
       "  50.0,\n",
       "  50.0,\n",
       "  50.0,\n",
       "  51.0,\n",
       "  50.0,\n",
       "  50.0,\n",
       "  50.0,\n",
       "  50.0,\n",
       "  50.0,\n",
       "  50.0,\n",
       "  50.0,\n",
       "  50.0,\n",
       "  50.0,\n",
       "  50.0,\n",
       "  50.0,\n",
       "  50.0],\n",
       " 105: [52.0,\n",
       "  53.0,\n",
       "  51.0,\n",
       "  52.0,\n",
       "  51.0,\n",
       "  51.0,\n",
       "  51.0,\n",
       "  52.0,\n",
       "  52.0,\n",
       "  50.0,\n",
       "  52.0,\n",
       "  52.0,\n",
       "  51.0,\n",
       "  51.0,\n",
       "  50.0,\n",
       "  51.0,\n",
       "  50.0,\n",
       "  50.0,\n",
       "  50.0,\n",
       "  51.0,\n",
       "  50.0,\n",
       "  50.0,\n",
       "  50.0,\n",
       "  50.0,\n",
       "  50.0,\n",
       "  50.0],\n",
       " 102: [52.0, 53.0, 53.0, 51.0, 53.0, 53.0],\n",
       " 104: [51.0, 52.0, 52.0, 50.0, 52.0, 52.0]}"
      ]
     },
     "execution_count": 321,
     "metadata": {},
     "output_type": "execute_result"
    }
   ],
   "source": [
    "D['buy']"
   ]
  },
  {
   "cell_type": "code",
   "execution_count": null,
   "metadata": {},
   "outputs": [],
   "source": []
  },
  {
   "cell_type": "code",
   "execution_count": null,
   "metadata": {},
   "outputs": [],
   "source": []
  },
  {
   "cell_type": "code",
   "execution_count": 289,
   "metadata": {
    "scrolled": true
   },
   "outputs": [
    {
     "data": {
      "text/plain": [
       "['Thu Dec 2 21:48:01 2021 | 5 | [98, 99, 100, 103, 105] | Buy: 56.99999999999999% | Buy: 56.99999999999999% | Buy: 53.0% | Buy: 52.0% | Buy: 52.0% | \\n',\n",
       " 'Thu Dec 2 21:48:02 2021 | 5 | [98, 99, 100, 103, 105] | Buy: 57.99999999999999% | Buy: 57.99999999999999% | Buy: 54.0% | Buy: 53.0% | Buy: 53.0% | \\n',\n",
       " 'Thu Dec 2 21:48:04 2021 | 4 | [98, 99, 103, 105] | Buy: 56.00000000000001% | Buy: 56.00000000000001% | Buy: 51.0% | Buy: 51.0% | \\n',\n",
       " 'Thu Dec 2 21:48:05 2021 | 5 | [98, 99, 100, 103, 105] | Buy: 56.99999999999999% | Buy: 56.99999999999999% | Buy: 53.0% | Buy: 52.0% | Buy: 52.0% | \\n',\n",
       " 'Thu Dec 2 21:48:07 2021 | 5 | [98, 99, 100, 103, 105] | Buy: 56.00000000000001% | Buy: 56.00000000000001% | Buy: 52.0% | Buy: 51.0% | Buy: 51.0% | \\n',\n",
       " 'Thu Dec 2 21:48:09 2021 | 5 | [98, 99, 100, 103, 105] | Buy: 56.00000000000001% | Buy: 56.00000000000001% | Buy: 52.0% | Buy: 51.0% | Buy: 51.0% | \\n',\n",
       " 'Thu Dec 2 21:48:11 2021 | 7 | [98, 99, 100, 102, 103, 104, 105] | Buy: 56.00000000000001% | Buy: 56.00000000000001% | Buy: 52.0% | Buy: 52.0% | Buy: 51.0% | Buy: 51.0% | Buy: 51.0% | \\n',\n",
       " 'Thu Dec 2 21:48:13 2021 | 7 | [98, 99, 100, 102, 103, 104, 105] | Buy: 56.99999999999999% | Buy: 56.99999999999999% | Buy: 53.0% | Buy: 53.0% | Buy: 52.0% | Buy: 52.0% | Buy: 52.0% | \\n',\n",
       " 'Thu Dec 2 21:48:15 2021 | 7 | [98, 99, 100, 102, 103, 104, 105] | Buy: 56.99999999999999% | Buy: 56.99999999999999% | Buy: 53.0% | Buy: 53.0% | Buy: 52.0% | Buy: 52.0% | Buy: 52.0% | \\n',\n",
       " 'Thu Dec 2 21:48:16 2021 | 7 | [98, 99, 100, 102, 103, 104, 105] | Buy: 56.00000000000001% | Buy: 56.00000000000001% | Buy: 51.0% | Buy: 51.0% | Buy: 50.0% | Buy: 50.0% | Buy: 50.0% | \\n',\n",
       " 'Thu Dec 2 21:48:18 2021 | 7 | [98, 99, 100, 102, 103, 104, 105] | Buy: 56.99999999999999% | Buy: 56.99999999999999% | Buy: 53.0% | Buy: 53.0% | Buy: 52.0% | Buy: 52.0% | Buy: 52.0% | \\n',\n",
       " 'Thu Dec 2 21:48:20 2021 | 7 | [98, 99, 100, 102, 103, 104, 105] | Buy: 56.99999999999999% | Buy: 56.99999999999999% | Buy: 53.0% | Buy: 53.0% | Buy: 52.0% | Buy: 52.0% | Buy: 52.0% | \\n',\n",
       " 'Thu Dec 2 21:48:22 2021 | 5 | [98, 99, 100, 103, 105] | Buy: 56.00000000000001% | Buy: 56.00000000000001% | Buy: 52.0% | Buy: 51.0% | Buy: 51.0% | \\n',\n",
       " 'Thu Dec 2 21:48:24 2021 | 5 | [98, 99, 100, 103, 105] | Buy: 56.00000000000001% | Buy: 56.00000000000001% | Buy: 52.0% | Buy: 51.0% | Buy: 51.0% | \\n',\n",
       " 'Thu Dec 2 21:48:26 2021 | 4 | [98, 99, 103, 105] | Buy: 55.00000000000001% | Buy: 55.00000000000001% | Buy: 50.0% | Buy: 50.0% | \\n',\n",
       " 'Thu Dec 2 21:48:28 2021 | 4 | [98, 99, 103, 105] | Buy: 56.00000000000001% | Buy: 56.00000000000001% | Buy: 51.0% | Buy: 51.0% | \\n',\n",
       " 'Thu Dec 2 21:48:30 2021 | 4 | [98, 99, 103, 105] | Buy: 55.00000000000001% | Buy: 55.00000000000001% | Buy: 50.0% | Buy: 50.0% | \\n',\n",
       " 'Thu Dec 2 21:48:32 2021 | 4 | [98, 99, 103, 105] | Buy: 55.00000000000001% | Buy: 55.00000000000001% | Buy: 50.0% | Buy: 50.0% | \\n',\n",
       " 'Thu Dec 2 21:48:34 2021 | 4 | [98, 99, 103, 105] | Buy: 55.00000000000001% | Buy: 55.00000000000001% | Buy: 50.0% | Buy: 50.0% | \\n',\n",
       " 'Thu Dec 2 21:48:36 2021 | 4 | [98, 99, 103, 105] | Buy: 56.99999999999999% | Buy: 56.99999999999999% | Buy: 51.0% | Buy: 51.0% | \\n',\n",
       " 'Thu Dec 2 21:48:37 2021 | 3 | [99, 103, 105] | Buy: 56.00000000000001% | Buy: 50.0% | Buy: 50.0% | \\n',\n",
       " 'Thu Dec 2 21:48:39 2021 | 3 | [99, 103, 105] | Buy: 56.00000000000001% | Buy: 50.0% | Buy: 50.0% | \\n',\n",
       " 'Thu Dec 2 21:48:40 2021 | 1 | [103] | Buy: 50.0% | \\n',\n",
       " 'Thu Dec 2 21:48:42 2021 | 1 | [103] | Buy: 50.0% | \\n',\n",
       " 'Thu Dec 2 21:48:44 2021 | 1 | [103] | Buy: 50.0% | \\n',\n",
       " 'Thu Dec 2 21:48:45 2021 | 1 | [103] | Buy: 50.0% | \\n',\n",
       " 'Thu Dec 2 21:48:47 2021 | 4 | [98, 99, 103, 105] | Buy: 56.00000000000001% | Buy: 56.00000000000001% | Buy: 50.0% | Buy: 50.0% | \\n',\n",
       " 'Thu Dec 2 21:48:48 2021 | 4 | [98, 99, 103, 105] | Buy: 56.00000000000001% | Buy: 56.00000000000001% | Buy: 50.0% | Buy: 50.0% | \\n',\n",
       " 'Thu Dec 2 21:48:50 2021 | 4 | [98, 99, 103, 105] | Buy: 56.00000000000001% | Buy: 56.00000000000001% | Buy: 50.0% | Buy: 50.0% | \\n',\n",
       " 'Thu Dec 2 21:48:51 2021 | 4 | [98, 99, 103, 105] | Buy: 56.00000000000001% | Buy: 56.00000000000001% | Buy: 50.0% | Buy: 50.0% | \\n',\n",
       " 'Thu Dec 2 21:48:53 2021 | 4 | [98, 99, 103, 105] | Buy: 55.00000000000001% | Buy: 55.00000000000001% | Sell: 51.0% | Sell: 51.0% | \\n',\n",
       " 'Thu Dec 2 21:48:54 2021 | 1 | [103] | Buy: 50.0% | \\n',\n",
       " 'Thu Dec 2 21:48:56 2021 | 1 | [103] | Sell: 51.0% | \\n',\n",
       " 'Thu Dec 2 21:48:58 2021 | 1 | [103] | Sell: 51.0% | \\n',\n",
       " 'Thu Dec 2 21:48:59 2021 | 1 | [103] | Buy: 50.0% | ']"
      ]
     },
     "execution_count": 289,
     "metadata": {},
     "output_type": "execute_result"
    }
   ],
   "source": [
    "D = {}\n",
    "for linea in lineas:\n",
    "    linea_div = linea.strip().split(\"|\")\n",
    "    klines_n = linea_div[2]\n",
    "    probs = linea_div[3:]\n",
    "    print(probs)"
   ]
  },
  {
   "cell_type": "code",
   "execution_count": null,
   "metadata": {},
   "outputs": [],
   "source": []
  },
  {
   "cell_type": "code",
   "execution_count": null,
   "metadata": {},
   "outputs": [],
   "source": []
  },
  {
   "cell_type": "code",
   "execution_count": 118,
   "metadata": {},
   "outputs": [
    {
     "name": "stdout",
     "output_type": "stream",
     "text": [
      "1482244499000.0\n"
     ]
    }
   ],
   "source": [
    "dt_obj = datetime.datetime.strptime('20.12.2016 09:34:59',\n",
    "                           '%d.%m.%Y %H:%M:%S')\n",
    "millisec = dt_obj.timestamp() * 1000\n",
    "\n",
    "print(millisec)"
   ]
  },
  {
   "cell_type": "code",
   "execution_count": 117,
   "metadata": {},
   "outputs": [
    {
     "name": "stdout",
     "output_type": "stream",
     "text": [
      "1482244500000.0\n"
     ]
    }
   ],
   "source": [
    "dt_obj = datetime.datetime.strptime('20.12.2016 09:35:00',\n",
    "                           '%d.%m.%Y %H:%M:%S')\n",
    "millisec = dt_obj.timestamp() * 1000\n",
    "\n",
    "print(millisec)"
   ]
  },
  {
   "cell_type": "code",
   "execution_count": 115,
   "metadata": {},
   "outputs": [
    {
     "name": "stdout",
     "output_type": "stream",
     "text": [
      "1482244679000.0\n"
     ]
    }
   ],
   "source": [
    "dt_obj = datetime.datetime.strptime('20.12.2016 09:37:59',\n",
    "                           '%d.%m.%Y %H:%M:%S')\n",
    "millisec = dt_obj.timestamp() * 1000\n",
    "\n",
    "print(millisec)"
   ]
  },
  {
   "cell_type": "code",
   "execution_count": 114,
   "metadata": {},
   "outputs": [
    {
     "name": "stdout",
     "output_type": "stream",
     "text": [
      "1482244680000.0\n"
     ]
    }
   ],
   "source": [
    "dt_obj = datetime.datetime.strptime('20.12.2016 09:38:00',\n",
    "                           '%d.%m.%Y %H:%M:%S')\n",
    "millisec = dt_obj.timestamp() * 1000\n",
    "\n",
    "print(millisec)"
   ]
  },
  {
   "cell_type": "code",
   "execution_count": 116,
   "metadata": {},
   "outputs": [
    {
     "name": "stdout",
     "output_type": "stream",
     "text": [
      "1482244800000.0\n"
     ]
    }
   ],
   "source": [
    "dt_obj = datetime.datetime.strptime('20.12.2016 09:40:00',\n",
    "                           '%d.%m.%Y %H:%M:%S')\n",
    "millisec = dt_obj.timestamp() * 1000\n",
    "\n",
    "print(millisec)"
   ]
  },
  {
   "cell_type": "code",
   "execution_count": null,
   "metadata": {},
   "outputs": [],
   "source": [
    "### 09:35:00  |    09:37:59 | 09:38:00  | 09:40:00\n",
    "1482244500000, 1482244679000, 1482244680000, 1482244800000"
   ]
  },
  {
   "cell_type": "code",
   "execution_count": 119,
   "metadata": {},
   "outputs": [
    {
     "data": {
      "text/plain": [
       "1482244800000"
      ]
     },
     "execution_count": 119,
     "metadata": {},
     "output_type": "execute_result"
    }
   ],
   "source": [
    "1482244499000\n",
    "1482244500000\n",
    "1482244679000\n",
    "1482244680000\n",
    "1482244800000"
   ]
  },
  {
   "cell_type": "code",
   "execution_count": null,
   "metadata": {},
   "outputs": [],
   "source": []
  },
  {
   "cell_type": "code",
   "execution_count": null,
   "metadata": {},
   "outputs": [],
   "source": [
    "### ENCENDIDO & APAGADO"
   ]
  },
  {
   "cell_type": "code",
   "execution_count": null,
   "metadata": {},
   "outputs": [],
   "source": []
  },
  {
   "cell_type": "code",
   "execution_count": 111,
   "metadata": {
    "scrolled": true
   },
   "outputs": [
    {
     "data": {
      "image/png": "[encoded data removed]",
      "text/plain": [
       "<Figure size 1080x288 with 1 Axes>"
      ]
     },
     "metadata": {
      "needs_background": "light"
     },
     "output_type": "display_data"
    }
   ],
   "source": [
    "ext_mean = np.mean([S[0], S[-1]])\n",
    "plt.figure(figsize=(15, 4))\n",
    "plt.plot(index, S)\n",
    "plt.plot(index, [S[-1] for i in range(len(S))])\n",
    "plt.plot(index, [ext_mean for i in range(len(S))])\n",
    "plt.grid()"
   ]
  },
  {
   "cell_type": "code",
   "execution_count": 12,
   "metadata": {},
   "outputs": [
    {
     "data": {
      "text/plain": [
       "(0.20913, 0.20979)"
      ]
     },
     "execution_count": 12,
     "metadata": {},
     "output_type": "execute_result"
    }
   ],
   "source": [
    "S[0], S[-1]"
   ]
  },
  {
   "cell_type": "code",
   "execution_count": 198,
   "metadata": {},
   "outputs": [
    {
     "data": {
      "text/plain": [
       "40.2"
      ]
     },
     "execution_count": 198,
     "metadata": {},
     "output_type": "execute_result"
    }
   ],
   "source": [
    "len(S)/5"
   ]
  },
  {
   "cell_type": "code",
   "execution_count": 91,
   "metadata": {},
   "outputs": [
    {
     "name": "stdout",
     "output_type": "stream",
     "text": [
      "[4, 29] 4/35 0.11428571428571428\n"
     ]
    },
    {
     "data": {
      "text/plain": [
       "(0,\n",
       " array([0.20914, 0.20912, 0.20951, 0.2099 , 0.21004, 0.21007, 0.21055,\n",
       "        0.21023, 0.20986, 0.21011, 0.21149, 0.21065, 0.21052, 0.21166,\n",
       "        0.21128, 0.21056, 0.21141, 0.21138, 0.21188, 0.21138, 0.21161,\n",
       "        0.21133, 0.21093, 0.21188, 0.21172, 0.21114, 0.21112, 0.21115,\n",
       "        0.21114, 0.2112 , 0.2111 , 0.21082, 0.21091, 0.21088, 0.2099 ]),\n",
       " 'up')"
      ]
     },
     "execution_count": 91,
     "metadata": {},
     "output_type": "execute_result"
    }
   ],
   "source": [
    "test_serie(S) #18:03"
   ]
  },
  {
   "cell_type": "code",
   "execution_count": 96,
   "metadata": {},
   "outputs": [
    {
     "name": "stdout",
     "output_type": "stream",
     "text": [
      "[6, 30] 6/37 0.16216216216216217\n"
     ]
    },
    {
     "data": {
      "text/plain": [
       "(0,\n",
       " array([0.20914, 0.20912, 0.20951, 0.2099 , 0.21004, 0.21007, 0.21055,\n",
       "        0.21023, 0.20986, 0.21011, 0.21149, 0.21065, 0.21052, 0.21166,\n",
       "        0.21128, 0.21056, 0.21141, 0.21138, 0.21188, 0.21138, 0.21161,\n",
       "        0.21133, 0.21093, 0.21188, 0.21172, 0.21114, 0.21112, 0.21115,\n",
       "        0.21114, 0.2112 , 0.2111 , 0.21082, 0.21091, 0.21088, 0.2099 ,\n",
       "        0.21029, 0.20998]),\n",
       " 'up')"
      ]
     },
     "execution_count": 96,
     "metadata": {},
     "output_type": "execute_result"
    }
   ],
   "source": [
    "test_serie(S) #18:13"
   ]
  },
  {
   "cell_type": "code",
   "execution_count": 103,
   "metadata": {},
   "outputs": [
    {
     "name": "stdout",
     "output_type": "stream",
     "text": [
      "[0, 35] 0/36 0.0\n"
     ]
    },
    {
     "data": {
      "text/plain": [
       "(1,\n",
       " array([0.20951, 0.2099 , 0.21004, 0.21007, 0.21055, 0.21023, 0.20986,\n",
       "        0.21011, 0.21149, 0.21065, 0.21052, 0.21166, 0.21128, 0.21056,\n",
       "        0.21141, 0.21138, 0.21188, 0.21138, 0.21161, 0.21133, 0.21093,\n",
       "        0.21188, 0.21172, 0.21114, 0.21112, 0.21115, 0.21114, 0.2112 ,\n",
       "        0.2111 , 0.21082, 0.21091, 0.21088, 0.2099 , 0.21029, 0.20998,\n",
       "        0.20914]),\n",
       " 'up')"
      ]
     },
     "execution_count": 103,
     "metadata": {},
     "output_type": "execute_result"
    }
   ],
   "source": [
    "test_serie(S) #18:18"
   ]
  },
  {
   "cell_type": "code",
   "execution_count": 109,
   "metadata": {},
   "outputs": [
    {
     "name": "stdout",
     "output_type": "stream",
     "text": [
      "[2, 36] 2/40 0.05\n"
     ]
    },
    {
     "data": {
      "text/plain": [
       "(1,\n",
       " array([0.20797, 0.2092 , 0.20914, 0.20912, 0.20951, 0.2099 , 0.21004,\n",
       "        0.21007, 0.21055, 0.21023, 0.20986, 0.21011, 0.21149, 0.21065,\n",
       "        0.21052, 0.21166, 0.21128, 0.21056, 0.21141, 0.21138, 0.21188,\n",
       "        0.21138, 0.21161, 0.21133, 0.21093, 0.21188, 0.21172, 0.21114,\n",
       "        0.21112, 0.21115, 0.21114, 0.2112 , 0.2111 , 0.21082, 0.21091,\n",
       "        0.21088, 0.2099 , 0.21029, 0.20998, 0.20914]),\n",
       " 'up')"
      ]
     },
     "execution_count": 109,
     "metadata": {},
     "output_type": "execute_result"
    }
   ],
   "source": [
    "test_serie(S) #18:18 | 41"
   ]
  },
  {
   "cell_type": "code",
   "execution_count": null,
   "metadata": {},
   "outputs": [],
   "source": []
  },
  {
   "cell_type": "code",
   "execution_count": 83,
   "metadata": {},
   "outputs": [
    {
     "name": "stdout",
     "output_type": "stream",
     "text": [
      "[5, 35] 5/41 0.12195121951219512\n"
     ]
    },
    {
     "data": {
      "text/plain": [
       "(0,\n",
       " array([0.20912, 0.20951, 0.2099 , 0.21004, 0.21007, 0.21055, 0.21023,\n",
       "        0.20986, 0.21011, 0.21149, 0.21065, 0.21052, 0.21166, 0.21128,\n",
       "        0.21056, 0.21141, 0.21138, 0.21188, 0.21138, 0.21161, 0.21133,\n",
       "        0.21093, 0.21188, 0.21172, 0.21114, 0.21112, 0.21115, 0.21114,\n",
       "        0.2112 , 0.2111 , 0.21082, 0.21091, 0.21088, 0.2099 , 0.21029,\n",
       "        0.20998, 0.20914, 0.20908, 0.20917, 0.2098 , 0.20965]),\n",
       " 'up')"
      ]
     },
     "execution_count": 83,
     "metadata": {},
     "output_type": "execute_result"
    }
   ],
   "source": [
    "test_serie(S)"
   ]
  },
  {
   "cell_type": "code",
   "execution_count": 81,
   "metadata": {},
   "outputs": [
    {
     "name": "stdout",
     "output_type": "stream",
     "text": [
      "[4, 37] 4/41 0.0975609756097561\n"
     ]
    },
    {
     "data": {
      "text/plain": [
       "(1,\n",
       " array([0.20912, 0.20951, 0.2099 , 0.21004, 0.21007, 0.21055, 0.21023,\n",
       "        0.20986, 0.21011, 0.21149, 0.21065, 0.21052, 0.21166, 0.21128,\n",
       "        0.21056, 0.21141, 0.21138, 0.21188, 0.21138, 0.21161, 0.21133,\n",
       "        0.21093, 0.21188, 0.21172, 0.21114, 0.21112, 0.21115, 0.21114,\n",
       "        0.2112 , 0.2111 , 0.21082, 0.21091, 0.21088, 0.2099 , 0.21029,\n",
       "        0.20998, 0.20914, 0.20908, 0.20917, 0.2098 , 0.20965]),\n",
       " 'up')"
      ]
     },
     "execution_count": 81,
     "metadata": {},
     "output_type": "execute_result"
    }
   ],
   "source": [
    "test_serie(S)"
   ]
  },
  {
   "cell_type": "code",
   "execution_count": null,
   "metadata": {},
   "outputs": [],
   "source": []
  },
  {
   "cell_type": "code",
   "execution_count": 174,
   "metadata": {},
   "outputs": [
    {
     "name": "stdout",
     "output_type": "stream",
     "text": [
      "25/201\n"
     ]
    },
    {
     "data": {
      "text/plain": [
       "0.12437810945273632"
      ]
     },
     "execution_count": 174,
     "metadata": {},
     "output_type": "execute_result"
    }
   ],
   "source": [
    "ext_mean = np.mean([S[0], S[-1]])\n",
    "min_vals = S[S<ext_mean]\n",
    "max_vals = S[S>ext_mean]\n",
    "balance = [min_vals.shape[0], max_vals.shape[0]]\n",
    "evaluar = f\"{min_vals.shape[0]}/{S.shape[0]}\"\n",
    "print(evaluar)\n",
    "metrica = eval(evaluar)\n",
    "metrica"
   ]
  },
  {
   "cell_type": "code",
   "execution_count": 110,
   "metadata": {},
   "outputs": [
    {
     "name": "stdout",
     "output_type": "stream",
     "text": [
      "1/40\n"
     ]
    },
    {
     "data": {
      "text/plain": [
       "0.025"
      ]
     },
     "execution_count": 110,
     "metadata": {},
     "output_type": "execute_result"
    }
   ],
   "source": [
    "ext_mean = np.mean([S[0], S[-1]])\n",
    "min_vals = S[S<ext_mean]\n",
    "max_vals = S[S>ext_mean]\n",
    "balance = [min_vals.shape[0], max_vals.shape[0]]\n",
    "evaluar = f\"{min_vals.shape[0]}/{S.shape[0]}\"\n",
    "print(evaluar)\n",
    "metrica = eval(evaluar)\n",
    "metrica"
   ]
  },
  {
   "cell_type": "code",
   "execution_count": 160,
   "metadata": {},
   "outputs": [
    {
     "data": {
      "text/plain": [
       "0.12437810945273632"
      ]
     },
     "execution_count": 160,
     "metadata": {},
     "output_type": "execute_result"
    }
   ],
   "source": [
    "metrica"
   ]
  },
  {
   "cell_type": "code",
   "execution_count": null,
   "metadata": {},
   "outputs": [],
   "source": []
  }
 ],
 "metadata": {
  "kernelspec": {
   "display_name": "Python 3",
   "language": "python",
   "name": "python3"
  },
  "language_info": {
   "codemirror_mode": {
    "name": "ipython",
    "version": 3
   },
   "file_extension": ".py",
   "mimetype": "text/x-python",
   "name": "python",
   "nbconvert_exporter": "python",
   "pygments_lexer": "ipython3",
   "version": "3.8.5"
  }
 },
 "nbformat": 4,
 "nbformat_minor": 4
}
